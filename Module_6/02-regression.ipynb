{
 "cells": [
  {
   "cell_type": "markdown",
   "id": "constant-nation",
   "metadata": {},
   "source": [
    "(regression)=\n",
    "# Linear regression"
   ]
  },
  {
   "cell_type": "markdown",
   "id": "34ea410f",
   "metadata": {},
   "source": [
    "\n",
    "\n",
    "The goal in this chapter is to introduce **_linear regression_**. Stripped to its bare essentials, linear regression models are basically a slightly fancier version of the [Pearson correlation](correl), though as we'll see, regression models are much more powerful tools."
   ]
  },
  {
   "cell_type": "markdown",
   "id": "e7971302",
   "metadata": {},
   "source": [
    "Since the basic ideas in regression are closely tied to correlation, we'll return to the `parenthood.csv` file that we were using to illustrate how correlations work. Recall that, in this data set, we were trying to find out why Dan is so very grumpy all the time, and our working hypothesis was that I'm not getting enough sleep. "
   ]
  },
  {
   "cell_type": "code",
   "execution_count": 1,
   "id": "fdd73e11",
   "metadata": {},
   "outputs": [],
   "source": [
    "# conditional install pingouin in Google Colab since we're going to use it later\n",
    "try:\n",
    "  import pingouin as pg\n",
    "except ModuleNotFoundError:\n",
    "  if 'google.colab' in str(get_ipython()):\n",
    "    %pip uninstall scipy -y\n",
    "    %pip uninstall statsmodels -y\n",
    "    %pip install pingouin"
   ]
  },
  {
   "cell_type": "code",
   "execution_count": 2,
   "id": "56714750",
   "metadata": {},
   "outputs": [
    {
     "data": {
      "text/html": [
       "<div>\n",
       "<style scoped>\n",
       "    .dataframe tbody tr th:only-of-type {\n",
       "        vertical-align: middle;\n",
       "    }\n",
       "\n",
       "    .dataframe tbody tr th {\n",
       "        vertical-align: top;\n",
       "    }\n",
       "\n",
       "    .dataframe thead th {\n",
       "        text-align: right;\n",
       "    }\n",
       "</style>\n",
       "<table border=\"1\" class=\"dataframe\">\n",
       "  <thead>\n",
       "    <tr style=\"text-align: right;\">\n",
       "      <th></th>\n",
       "      <th>dan_sleep</th>\n",
       "      <th>baby_sleep</th>\n",
       "      <th>dan_grump</th>\n",
       "      <th>day</th>\n",
       "    </tr>\n",
       "  </thead>\n",
       "  <tbody>\n",
       "    <tr>\n",
       "      <th>0</th>\n",
       "      <td>7.59</td>\n",
       "      <td>10.18</td>\n",
       "      <td>56</td>\n",
       "      <td>1</td>\n",
       "    </tr>\n",
       "    <tr>\n",
       "      <th>1</th>\n",
       "      <td>7.91</td>\n",
       "      <td>11.66</td>\n",
       "      <td>60</td>\n",
       "      <td>2</td>\n",
       "    </tr>\n",
       "    <tr>\n",
       "      <th>2</th>\n",
       "      <td>5.14</td>\n",
       "      <td>7.92</td>\n",
       "      <td>82</td>\n",
       "      <td>3</td>\n",
       "    </tr>\n",
       "    <tr>\n",
       "      <th>3</th>\n",
       "      <td>7.71</td>\n",
       "      <td>9.61</td>\n",
       "      <td>55</td>\n",
       "      <td>4</td>\n",
       "    </tr>\n",
       "    <tr>\n",
       "      <th>4</th>\n",
       "      <td>6.68</td>\n",
       "      <td>9.75</td>\n",
       "      <td>67</td>\n",
       "      <td>5</td>\n",
       "    </tr>\n",
       "  </tbody>\n",
       "</table>\n",
       "</div>"
      ],
      "text/plain": [
       "   dan_sleep  baby_sleep  dan_grump  day\n",
       "0       7.59       10.18         56    1\n",
       "1       7.91       11.66         60    2\n",
       "2       5.14        7.92         82    3\n",
       "3       7.71        9.61         55    4\n",
       "4       6.68        9.75         67    5"
      ]
     },
     "execution_count": 2,
     "metadata": {},
     "output_type": "execute_result"
    }
   ],
   "source": [
    "import pandas as pd\n",
    "\n",
    "file = 'https://raw.githubusercontent.com/ethanweed/pythonbook/main/Data/parenthood.csv'\n",
    "df = pd.read_csv(file)\n",
    "\n",
    "df.head()"
   ]
  },
  {
   "cell_type": "markdown",
   "id": "d75e9ab0",
   "metadata": {},
   "source": [
    "We drew some scatterplots to help us examine the relationship between the amount of sleep I get, and my grumpiness the following day. "
   ]
  },
  {
   "cell_type": "code",
   "execution_count": 3,
   "id": "b8cd9bbd",
   "metadata": {
    "tags": [
     "hide-input"
    ]
   },
   "outputs": [
    {
     "data": {
      "image/png": "[encoded data removed]",
      "text/plain": [
       "<Figure size 432x288 with 1 Axes>"
      ]
     },
     "metadata": {
      "needs_background": "light"
     },
     "output_type": "display_data"
    }
   ],
   "source": [
    "from matplotlib import pyplot as plt\n",
    "import seaborn as sns\n",
    "\n",
    "fig = plt.figure()\n",
    "\n",
    "ax = sns.scatterplot(data = df,\n",
    "                x = 'dan_sleep', \n",
    "                y = 'dan_grump')\n",
    "ax.set(title = 'Grumpiness and sleep', ylabel = 'My grumpiness (0-100)', xlabel='My sleep (hours)')\n",
    "sns.despine()\n",
    "\n",
    "plt.show()"
   ]
  },
  {
   "cell_type": "markdown",
   "id": "eea7dea4",
   "metadata": {},
   "source": [
    " ```{glue:figure} sleepycorrelation-fig\n",
    ":figwidth: 600px\n",
    ":name: fig-sleepycorrelation\n",
    "\n",
    "Scatterplot showing grumpiness as a function of hours slept.\n",
    "\n",
    "```\n"
   ]
  },
  {
   "cell_type": "markdown",
   "id": "75808a56",
   "metadata": {},
   "source": [
    "The actual scatterplot that we draw is the one shown in {numref}`fig-sleepycorrelation`, and as we saw previously this corresponds to a correlation of $r=-.90$, but what we find ourselves secretly imagining is something that looks closer to the left panel in {numref}`fig-sleep_regressions_1`. That is, we mentally draw a straight line through the middle of the data. In statistics, this line that we're drawing is called a **_regression line_**. Notice that -- since we're not idiots -- the regression line goes through the middle of the data. We don't find ourselves imagining anything like the rather silly plot shown in the right panel in {numref}`fig-sleep_regressions_1`. "
   ]
  },
  {
   "cell_type": "code",
   "execution_count": 4,
   "id": "74508823",
   "metadata": {
    "tags": [
     "hide-input"
    ]
   },
   "outputs": [
    {
     "data": {
      "image/png": "[encoded data removed]",
      "text/plain": [
       "<Figure size 720x360 with 2 Axes>"
      ]
     },
     "metadata": {
      "needs_background": "light"
     },
     "output_type": "display_data"
    }
   ],
   "source": [
    "import numpy as np \n",
    "import matplotlib.pyplot as plt\n",
    "import statsmodels.formula.api as smf\n",
    "\n",
    "# find the regression coefficients to allow manually plotting the line\n",
    "model = smf.ols(formula=\"dan_grump ~ dan_sleep\", data=df).fit()\n",
    "intercept = model.params.Intercept\n",
    "slope = model.params.dan_sleep\n",
    "\n",
    "\n",
    "fig, axes = plt.subplots(1, 2, figsize=(10, 5), sharey=True)\n",
    "\n",
    "x = np.linspace(4,10)\n",
    "\n",
    "\n",
    "sns.scatterplot(data = df, x = 'dan_sleep', y = 'dan_grump', ax = axes[0])\n",
    "fig.axes[0].set_title(\"The best-fitting regression line\")\n",
    "fig.axes[0].set_xlabel(\"My sleep (hours)\")\n",
    "fig.axes[0].set_ylabel(\"My grumpiness (0-10)\")\n",
    "fig.axes[0].plot(x,slope*x+intercept)\n",
    "\n",
    "sns.scatterplot(data = df, x = 'dan_sleep', y = 'dan_grump', ax = axes[1])\n",
    "fig.axes[1].set_title(\"Not the best-fitting regression line!\")\n",
    "fig.axes[1].set_xlabel(\"My sleep (hours)\")\n",
    "fig.axes[1].set_ylabel(\"My grumpiness (0-10)\")\n",
    "fig.axes[1].plot(x,-3*x+80)\n",
    "\n",
    "sns.despine()\n",
    "\n",
    "plt.show()\n"
   ]
  },
  {
   "cell_type": "markdown",
   "id": "2ee1dcd1",
   "metadata": {},
   "source": [
    " ```{glue:figure} sleep_regressions_1-fig\n",
    ":figwidth: 600px\n",
    ":name: fig-sleep_regressions_1\n",
    "\n",
    "The panel to the left shows the sleep-grumpiness scatterplot from {numref}`fig-sleepycorrelation` with the best fitting regression line drawn over the top. Not surprisingly, the line goes through the middle of the data. In contrast, the panel to the right shows the same data, but with a very poor choice of regression line drawn over the top.\n",
    "\n",
    "```\n"
   ]
  },
  {
   "cell_type": "markdown",
   "id": "69a143d7",
   "metadata": {},
   "source": [
    "This is not highly surprising: the line that I've drawn in panel to the right doesn't \"fit\" the data very well, so it doesn't make a lot of sense to propose it as a way of summarising the data, right? This is a very simple observation to make, but it turns out to be very powerful when we start trying to wrap just a little bit of maths around it. To do so, let's start with a refresher of some high school maths. The formula for a straight line is usually written like this:\n",
    "\n",
    "$$\n",
    "y = mx + c\n",
    "$$ \n",
    "\n",
    "\n",
    "Or, at least, that's what it was when I went to high school all those years ago.[^americanhighschool] The two *variables* are $x$ and $y$, and we have two *coefficients*, $m$ and $c$. The coefficient $m$ represents the *slope* of the line, and the coefficient $c$ represents the *$y$-intercept* of the line. Digging further back into our decaying memories of high school (sorry, for some of us high school was a long time ago), we remember that the intercept is interpreted as \"the value of $y$ that you get when $x=0$\". Similarly, a slope of $m$ means that if you increase the $x$-value by 1 unit, then the $y$-value goes up by $m$ units; a negative slope means that the $y$-value would go down rather than up. Ah yes, it's all coming back to me now. \n",
    "\n",
    "Now that we've remembered that, it should come as no surprise to discover that we use the exact same formula to describe a regression line. If $Y$ is the outcome variable (the DV) and $X$ is the predictor variable (the IV), then the formula that describes our regression is written like this:\n",
    "\n",
    "$$\n",
    "\\hat{Y_i} = b_1 X_i + b_0\n",
    "$$\n",
    "\n",
    "Hm. Looks like the same formula, but there's some extra frilly bits in this version. Let's make sure we understand them. Firstly, notice that I've written $X_i$ and $Y_i$ rather than just plain old $X$ and $Y$. This is because we want to remember that we're dealing with actual data. In this equation, $X_i$ is the value of predictor variable for the $i$th observation (i.e., the number of hours of sleep that I got on day $i$ of my little study), and $Y_i$ is the corresponding value of the outcome variable (i.e., my grumpiness on that day). And although I haven't said so explicitly in the equation, what we're assuming is that this formula works for all observations in the data set (i.e., for all $i$). Secondly, notice that I wrote $\\hat{Y}_i$ and not $Y_i$. This is because we want to make the distinction between the *actual data* $Y_i$, and the *estimate* $\\hat{Y}_i$ (i.e., the prediction that our regression line is making). Thirdly, I changed the letters used to describe the coefficients from $m$ and $c$ to $b_1$ and $b_0$. That's just the way that statisticians like to refer to the coefficients in a regression model. I've no idea why they chose $b$, but that's what they did. In any case $b_0$ always refers to the intercept term, and $b_1$ refers to the slope.\n",
    "\n",
    "\n",
    "Excellent, excellent. Next, I can't help but notice that -- regardless of whether we're talking about the good regression line or the bad one -- the data don't fall perfectly on the line. Or, to say it another way, the data $Y_i$ are not identical to the predictions of the regression model $\\hat{Y_i}$. Since statisticians love to attach letters, names and numbers to everything, let's refer to the difference between the model prediction and that actual data point as a *residual*, and we'll refer to it as $\\epsilon_i$.[^noteepsilon] Written using mathematics, the residuals are defined as:\n",
    "\n",
    "$$\n",
    "\\epsilon_i = Y_i - \\hat{Y}_i\n",
    "$$\n",
    "\n",
    "which in turn means that we can write down the complete linear regression model as:\n",
    "\n",
    "$$\n",
    "Y_i = b_1 X_i + b_0 + \\epsilon_i\n",
    "$$\n",
    "\n",
    "[^noteepsilon]: The $\\epsilon$ symbol is the Greek letter epsilon. It's traditional to use $\\epsilon_i$ or $e_i$ to denote a residual.\n",
    "\n",
    "[^americanhighschool]: Translator's note: and when _I_ went to high school in the United States ca. [1990](https://en.wikipedia.org/wiki/1990) [CE](https://en.wikipedia.org/wiki/Common_Era)  we learned this as $y=ax+b$. Why? Who decides whether it is $a$ or $m$? $c$ or $b$? I truly have no idea, but either way, it represents the same idea."
   ]
  },
  {
   "cell_type": "markdown",
   "id": "c247ec1d",
   "metadata": {},
   "source": [
    "(regressionestimation)=\n",
    "## Estimating a linear regression model\n",
    "\n",
    "\n",
    "Okay, now let's redraw our pictures, but this time I'll add some lines to show the size of the residual for all observations. When the regression line is good, our residuals (the lengths of the solid black lines) all look pretty small, as shown in the left panel of {numref}`fig-sleep_regressions_2`, but when the regression line is a bad one, the residuals are a lot larger, as you can see from looking at the right panel of {numref}`fig-sleep_regressions_2`. Hm. Maybe what we \"want\" in a regression model is *small* residuals. Yes, that does seem to make sense. In fact, I think I'll go so far as to say that the \"best fitting\" regression line is the one that has the smallest residuals. Or, better yet, since statisticians seem to like to take squares of everything why not say that ...\n",
    "\n",
    "> The estimated regression coefficients, $\\hat{b}_0$ and $\\hat{b}_1$ are those that minimise the sum of the squared residuals, which we could either write as $\\sum_i (Y_i - \\hat{Y}_i)^2$ or as $\\sum_i {\\epsilon_i}^2$.\n",
    "\n",
    "Yes, yes that sounds even better. And since I've indented it like that, it probably means that this is the right answer. And since this is the right answer, it's probably worth making a note of the fact that our regression coefficients are *estimates* (we're trying to guess the parameters that describe a population!), which is why I've added the little hats, so that we get $\\hat{b}_0$ and $\\hat{b}_1$ rather than $b_0$ and $b_1$. Finally, I should also note that -- since there's actually more than one way to estimate a regression model -- the more technical name for this estimation process is **_ordinary least squares (OLS) regression_**.  \n",
    "\n",
    "At this point, we now have a concrete definition for what counts as our \"best\" choice of regression coefficients, $\\hat{b}_0$ and $\\hat{b}_1$. The natural question to ask next is,  if our optimal regression coefficients are those that minimise the sum squared residuals, how do we *find* these wonderful numbers? The actual answer to this question is complicated, and it doesn't help you understand the logic of regression.[^notekungfu] As a result, this time I'm going to let you off the hook. Instead of showing you how to do it the long and tedious way first, and then \"revealing\" the wonderful shortcut that Python provides you with, let's cut straight to the chase... and use Python to do all the heavy lifting. \n",
    "\n",
    "\n",
    "[^notekungfu]: Or at least, I'm assuming that it doesn't help most people. But on the off chance that someone reading this is a proper kung fu master of linear algebra (and to be fair, I always have a few of these people in my intro stats class), it *will* help *you* to know that the solution to the estimation problem turns out to be $\\hat{b} = (X^TX)^{-1} X^T y$, where $\\hat{b}$ is a vector containing the estimated regression coefficients,  $X$ is the \"design matrix\" that contains the predictor variables (plus an additional column containing all ones; strictly $X$ is a matrix of the regressors, but I haven't discussed the distinction yet), and $y$ is a vector containing the outcome variable. For everyone else, this isn't exactly helpful, and can be downright scary. However, since quite a few things in linear regression can be written in linear algebra terms, you'll see a bunch of footnotes like this one in this chapter. If you can follow the maths in them, great. If not, ignore it."
   ]
  },
  {
   "cell_type": "code",
   "execution_count": 5,
   "id": "ffd9dca1",
   "metadata": {
    "tags": [
     "hide-input"
    ]
   },
   "outputs": [
    {
     "data": {
      "image/png": "[encoded data removed]",
      "text/plain": [
       "<Figure size 1080x360 with 2 Axes>"
      ]
     },
     "metadata": {
      "needs_background": "light"
     },
     "output_type": "display_data"
    }
   ],
   "source": [
    "import numpy, scipy, matplotlib\n",
    "import matplotlib.pyplot as plt\n",
    "from scipy.optimize import curve_fit\n",
    "\n",
    "xData = df['dan_sleep']\n",
    "yData = numpy.array(df['dan_grump'])\n",
    "\n",
    "# (the solution to this figure stolen shamelessly from this stack-overflow answer by James Phillips:\n",
    "# https://stackoverflow.com/questions/53779773/python-linear-regression-best-fit-line-with-residuals)\n",
    "\n",
    "# fit linear regression model and save parameters\n",
    "def func(x, a, b):\n",
    "    return a * x + b\n",
    "\n",
    "initialParameters = numpy.array([1.0, 1.0])\n",
    "\n",
    "fittedParameters, pcov = curve_fit(func, xData, yData, initialParameters)\n",
    "\n",
    "modelPredictions = func(xData, *fittedParameters) \n",
    "\n",
    "data = pd.DataFrame({'x': xData,\n",
    "                     'y': yData})\n",
    "\n",
    "# plot data points\n",
    "fig, axes = plt.subplots(1, 2, figsize=(15, 5), sharey=True)\n",
    "sns.scatterplot(data = data, x = 'x', y = 'y', ax = axes[0])\n",
    "fig.axes[0].set_title(\"The best-fitting regression line!\")\n",
    "fig.axes[0].set_xlabel(\"My sleep (hours)\")\n",
    "fig.axes[0].set_ylabel(\"My grumpiness (0-10)\")\n",
    "\n",
    "# add regression line\n",
    "xModel = numpy.linspace(min(xData), max(xData))\n",
    "yModel = func(xModel, *fittedParameters)\n",
    "\n",
    "axes[0].plot(xModel, yModel)\n",
    "\n",
    "# add drop lines\n",
    "for i in range(len(xData)):\n",
    "    lineXdata = (xData[i], xData[i]) # same X\n",
    "    lineYdata = (yData[i], modelPredictions[i]) # different Y\n",
    "    axes[0].plot(lineXdata, lineYdata)\n",
    "\n",
    "    \n",
    "#####\n",
    "\n",
    "# create poor-fitting model\n",
    "badParameters = np.array([-3, 80])\n",
    "badPredictions = func(xData, *badParameters) \n",
    "\n",
    "bad_xModel = numpy.linspace(min(xData), max(xData))\n",
    "bad_yModel = func(bad_xModel, *badParameters)\n",
    "\n",
    "# plot data with poor-fitting model\n",
    "sns.scatterplot(data = data, x = 'x', y = 'y', ax = axes[1])\n",
    "fig.axes[1].set_title(\"Not the best-fitting regression line!\")\n",
    "fig.axes[1].set_xlabel(\"My sleep (hours)\")\n",
    "fig.axes[1].set_ylabel(\"My grumpiness (0-10)\")\n",
    "fig.axes[1].plot(bad_xModel, bad_yModel)  \n",
    "\n",
    "# add drop lines\n",
    "for i in range(len(xData)):\n",
    "    lineXdata = (xData[i], xData[i]) \n",
    "    lineYdata = (yData[i], badPredictions[i]) \n",
    "    axes[1].plot(lineXdata, lineYdata)\n",
    "  \n",
    "    \n",
    "sns.despine()\n",
    "\n",
    "plt.show()\n",
    "\n"
   ]
  },
  {
   "cell_type": "markdown",
   "id": "72ceba5b",
   "metadata": {},
   "source": [
    " ```{glue:figure} sleep_regressions_2-fig\n",
    ":figwidth: 600px\n",
    ":name: fig-sleep_regressions_2\n",
    "\n",
    "A depiction of the residuals associated with the best fitting regression line (left panel), and the residuals associated with a poor regression line (right panel). The residuals are much smaller for the good regression line. Again, this is no surprise given that the good line is the one that goes right through the middle of the data.\n",
    "\n",
    "```"
   ]
  },
  {
   "cell_type": "markdown",
   "id": "17e9c720",
   "metadata": {},
   "source": [
    "(pingouinregression)=\n",
    "## Linear Regression with Python\n",
    "\n",
    "As always, there are several different ways we could go about calculating a linear regression in Python, but we'll stick with `pingouin`[^drink], which for my money is one of the simplest and easiest packages to use. The `pingouin` command for linear regression is, well, `linear_regression`, so that couldn't be much more straightforward. After that, we just need to tell `pinguoin` which variable we want to use as a predictor variable (independent variable), and which one we want to use as the outcome variable (dependent variable). `pingouin` wants the predictor variable first, so, since we want to model my grumpiness as a function of my sleep, we write:\n",
    "\n",
    "[^drink]: You saw that coming, didn't you? If not, then I bet you haven't read the sections on [t-tests](ttest) or [ANOVA](ANOVA) yet, have you? I'm such a shill for `pingouin`. "
   ]
  },
  {
   "cell_type": "code",
   "execution_count": 6,
   "id": "solved-yesterday",
   "metadata": {},
   "outputs": [],
   "source": [
    "import pingouin as pg\n",
    "\n",
    "mod1 = pg.linear_regression(df['dan_sleep'], df['dan_grump'])"
   ]
  },
  {
   "cell_type": "code",
   "execution_count": 7,
   "id": "lined-recommendation",
   "metadata": {},
   "outputs": [
    {
     "data": {
      "text/html": [
       "<div>\n",
       "<style scoped>\n",
       "    .dataframe tbody tr th:only-of-type {\n",
       "        vertical-align: middle;\n",
       "    }\n",
       "\n",
       "    .dataframe tbody tr th {\n",
       "        vertical-align: top;\n",
       "    }\n",
       "\n",
       "    .dataframe thead th {\n",
       "        text-align: right;\n",
       "    }\n",
       "</style>\n",
       "<table border=\"1\" class=\"dataframe\">\n",
       "  <thead>\n",
       "    <tr style=\"text-align: right;\">\n",
       "      <th></th>\n",
       "      <th>names</th>\n",
       "      <th>coef</th>\n",
       "      <th>se</th>\n",
       "      <th>T</th>\n",
       "      <th>pval</th>\n",
       "      <th>r2</th>\n",
       "      <th>adj_r2</th>\n",
       "      <th>CI[2.5%]</th>\n",
       "      <th>CI[97.5%]</th>\n",
       "    </tr>\n",
       "  </thead>\n",
       "  <tbody>\n",
       "    <tr>\n",
       "      <th>0</th>\n",
       "      <td>Intercept</td>\n",
       "      <td>125.96</td>\n",
       "      <td>3.02</td>\n",
       "      <td>41.76</td>\n",
       "      <td>0.0</td>\n",
       "      <td>0.82</td>\n",
       "      <td>0.81</td>\n",
       "      <td>119.97</td>\n",
       "      <td>131.94</td>\n",
       "    </tr>\n",
       "    <tr>\n",
       "      <th>1</th>\n",
       "      <td>dan_sleep</td>\n",
       "      <td>-8.94</td>\n",
       "      <td>0.43</td>\n",
       "      <td>-20.85</td>\n",
       "      <td>0.0</td>\n",
       "      <td>0.82</td>\n",
       "      <td>0.81</td>\n",
       "      <td>-9.79</td>\n",
       "      <td>-8.09</td>\n",
       "    </tr>\n",
       "  </tbody>\n",
       "</table>\n",
       "</div>"
      ],
      "text/plain": [
       "       names    coef    se      T  pval    r2  adj_r2  CI[2.5%]  CI[97.5%]\n",
       "0  Intercept  125.96  3.02  41.76   0.0  0.82    0.81    119.97     131.94\n",
       "1  dan_sleep   -8.94  0.43 -20.85   0.0  0.82    0.81     -9.79      -8.09"
      ]
     },
     "execution_count": 7,
     "metadata": {},
     "output_type": "execute_result"
    }
   ],
   "source": [
    "# Display results, rounded to two decimal places.\n",
    "mod1.round(2)"
   ]
  },
  {
   "cell_type": "markdown",
   "id": "09bbc1ca",
   "metadata": {},
   "source": [
    "As is its way, `pingouin` gives us a nice simple table, with a lot of information. Most importantly for now, we can see that `pingouin` has caclulated the intercept $\\hat{b}_0 = 125.96$ and the slope $\\hat{b}_1 = -8.94$. In other words, the best-fitting regression line that I plotted in {numref}`fig-sleep_regressions_1` has this formula: \n",
    "\n",
    "$$\n",
    "\\hat{Y}_i = -8.94 \\ X_i + 125.96\n",
    "$$ "
   ]
  },
  {
   "cell_type": "markdown",
   "id": "7fdd35c3",
   "metadata": {},
   "source": [
    "### Warning!!!\n",
    "\n",
    "Remember, it's critical that you put the variables in the right order. If you reverse the predictor and outcome variables, `pinguoin` will happily calculate a result for you, but it will not be the one you are looking for. If instead, we had written `pg.linear_regression(df['dan_grump'], df['dan_sleep'])`, we would get the following:"
   ]
  },
  {
   "cell_type": "code",
   "execution_count": 8,
   "id": "f27c3f32",
   "metadata": {},
   "outputs": [
    {
     "data": {
      "text/html": [
       "<div>\n",
       "<style scoped>\n",
       "    .dataframe tbody tr th:only-of-type {\n",
       "        vertical-align: middle;\n",
       "    }\n",
       "\n",
       "    .dataframe tbody tr th {\n",
       "        vertical-align: top;\n",
       "    }\n",
       "\n",
       "    .dataframe thead th {\n",
       "        text-align: right;\n",
       "    }\n",
       "</style>\n",
       "<table border=\"1\" class=\"dataframe\">\n",
       "  <thead>\n",
       "    <tr style=\"text-align: right;\">\n",
       "      <th></th>\n",
       "      <th>names</th>\n",
       "      <th>coef</th>\n",
       "      <th>se</th>\n",
       "      <th>T</th>\n",
       "      <th>pval</th>\n",
       "      <th>r2</th>\n",
       "      <th>adj_r2</th>\n",
       "      <th>CI[2.5%]</th>\n",
       "      <th>CI[97.5%]</th>\n",
       "    </tr>\n",
       "  </thead>\n",
       "  <tbody>\n",
       "    <tr>\n",
       "      <th>0</th>\n",
       "      <td>Intercept</td>\n",
       "      <td>12.78</td>\n",
       "      <td>0.28</td>\n",
       "      <td>45.27</td>\n",
       "      <td>0.0</td>\n",
       "      <td>0.82</td>\n",
       "      <td>0.81</td>\n",
       "      <td>12.22</td>\n",
       "      <td>13.34</td>\n",
       "    </tr>\n",
       "    <tr>\n",
       "      <th>1</th>\n",
       "      <td>dan_grump</td>\n",
       "      <td>-0.09</td>\n",
       "      <td>0.00</td>\n",
       "      <td>-20.85</td>\n",
       "      <td>0.0</td>\n",
       "      <td>0.82</td>\n",
       "      <td>0.81</td>\n",
       "      <td>-0.10</td>\n",
       "      <td>-0.08</td>\n",
       "    </tr>\n",
       "  </tbody>\n",
       "</table>\n",
       "</div>"
      ],
      "text/plain": [
       "       names   coef    se      T  pval    r2  adj_r2  CI[2.5%]  CI[97.5%]\n",
       "0  Intercept  12.78  0.28  45.27   0.0  0.82    0.81     12.22      13.34\n",
       "1  dan_grump  -0.09  0.00 -20.85   0.0  0.82    0.81     -0.10      -0.08"
      ]
     },
     "execution_count": 8,
     "metadata": {},
     "output_type": "execute_result"
    }
   ],
   "source": [
    "modx = pg.linear_regression(df['dan_grump'], df['dan_sleep'])\n",
    "modx.round(2)"
   ]
  },
  {
   "cell_type": "markdown",
   "id": "ccc72aef",
   "metadata": {},
   "source": [
    "The output looks valid enough on the face of it, and it is even statistically significant. But in this model, we just predicted my son's sleepiness as a function of my grumpiness, which is madness! Reversing the direction of causality would make a great scifi movie[^noteNolan], but it's no good in statistics. So remember, predictor first, outcome second[^noteformula]\n",
    "\n",
    "[^noteNolan]: Christopher Nolan, have your people call my people if you're interested, we'll do lunch!\n",
    "[^noteformula]: This is extra confusing if you happen to have come from the world of R, where this sort of model is usually defined with a formula, in which the outcome measure comes first, followed by the predictor(s), or even if you have used `statsmodels`, which also preserves the R-style formula notation."
   ]
  },
  {
   "cell_type": "markdown",
   "id": "31c60fc0",
   "metadata": {},
   "source": [
    "### Interpreting the estimated model\n",
    "\n",
    "The most important thing to be able to understand is how to interpret these coefficients. Let's start with $\\hat{b}_1$, the slope. If we remember the definition of the slope, a regression coefficient of $\\hat{b}_1 = -8.94$ means that if I increase $X_i$ by 1, then I'm decreasing $Y_i$ by 8.94. That is, each additional hour of sleep that I gain will improve my mood, reducing my grumpiness by 8.94 grumpiness points. What about the intercept? Well, since $\\hat{b}_0$ corresponds to \"the expected value of $Y_i$ when $X_i$ equals 0\", it's pretty straightforward. It implies that if I get zero hours of sleep ($X_i =0$) then my grumpiness will go off the scale, to an insane value of ($Y_i = 125.96$). Best to be avoided, I think.\n"
   ]
  },
  {
   "cell_type": "markdown",
   "id": "ef122d96",
   "metadata": {},
   "source": [
    "(multipleregression)=\n",
    "## Multiple linear regression\n",
    "\n",
    "The simple linear regression model that we've discussed up to this point assumes that there's a single predictor variable that you're interested in, in this case `dan_sleep`. In fact, up to this point, *every* statistical tool that we've talked about has assumed that your analysis uses one predictor variable and one outcome variable. However, in many (perhaps most) research projects you actually have multiple predictors that you want to examine. If so, it would be nice to be able to extend the linear regression framework to be able to include multiple predictors. Perhaps some kind of **_multiple regression_** model would be in order?\n",
    "\n",
    "Multiple regression is conceptually very simple. All we do is add more terms to our regression equation. Let's suppose that we've got two variables that we're interested in; perhaps we want to use both `dan_sleep` and `baby_sleep` to predict the `dan_grump` variable. As before, we let $Y_i$ refer to my grumpiness on the $i$-th day. But now we have two $X$ variables: the first corresponding to the amount of sleep I got and the second corresponding to the amount of sleep my son got. So we'll let $X_{i1}$ refer to the hours I slept on the $i$-th day, and $X_{i2}$ refers to the hours that the baby slept on that day. If so, then we can write our regression model like this:\n",
    "\n",
    "$$\n",
    "Y_i = b_2 X_{i2} + b_1 X_{i1} + b_0 + \\epsilon_i\n",
    "$$"
   ]
  },
  {
   "cell_type": "markdown",
   "id": "8d98bead",
   "metadata": {},
   "source": [
    "As before, $\\epsilon_i$ is the residual associated with the $i$-th observation, $\\epsilon_i = {Y}_i - \\hat{Y}_i$. In this model, we now have three coefficients that need to be estimated: $b_0$ is the intercept, $b_1$ is the coefficient associated with my sleep, and $b_2$ is the coefficient associated with my son's sleep. However, although the number of coefficients that need to be estimated has changed, the basic idea of how the estimation works is unchanged: our estimated coefficients $\\hat{b}_0$, $\\hat{b}_1$ and $\\hat{b}_2$ are those that minimise the sum squared residuals. "
   ]
  },
  {
   "cell_type": "markdown",
   "id": "ad3ad281",
   "metadata": {},
   "source": [
    "(pingouinmultiplelinearregression)=\n",
    "## Multiple Linear Regression in Python\n",
    "\n",
    "Doing mulitiple linear regression in `pingouin` is just as easy as adding some more predictor variables, like this:"
   ]
  },
  {
   "cell_type": "code",
   "execution_count": 9,
   "id": "f9c9eddf",
   "metadata": {},
   "outputs": [],
   "source": [
    " mod2 = pg.linear_regression(df[['dan_sleep', 'baby_sleep']], df['dan_grump'])"
   ]
  },
  {
   "cell_type": "markdown",
   "id": "8a117839",
   "metadata": {},
   "source": [
    "Still, there is one thing to watch out for. If you look carefully at the command above, you will notice that not only have we added a new predictor (`baby_sleep`), we have also added some extra brackets. While before our predictor variable was `['dan_sleep']`, now we have `[['dan_sleep', 'baby_sleep']]`. Why the extra set of `[]`?\n",
    "\n",
    "This is because we are using the brackets in two different ways. When we wrote `['dan_sleep']`, the square brackets meant \"select the column in the `pandas` dataframe with the header 'dan_sleep'\". But now we are giving `pingouin` a _list_ of columns to select, and `list` objects are _also_ defined by square brackets in Python. To keep things clear, another way to achieve the same result would be to define the list of predictor variables outside the call to `pingouin`:"
   ]
  },
  {
   "cell_type": "code",
   "execution_count": 10,
   "id": "49eff9c6",
   "metadata": {},
   "outputs": [],
   "source": [
    "predictors = ['dan_sleep', 'baby_sleep']\n",
    "outcome = 'dan_grump'\n",
    "\n",
    "mod2 = pg.linear_regression(df[predictors], df[outcome])"
   ]
  },
  {
   "cell_type": "markdown",
   "id": "fa7a4ce3",
   "metadata": {},
   "source": [
    "You could even do all the work outside of `pinguoin`, like this:"
   ]
  },
  {
   "cell_type": "code",
   "execution_count": 11,
   "id": "b3dddf41",
   "metadata": {},
   "outputs": [],
   "source": [
    "predictors = df[['dan_sleep', 'baby_sleep']]\n",
    "outcome = df['dan_grump']\n",
    "\n",
    "mod2 = pg.linear_regression(predictors, outcome)"
   ]
  },
  {
   "cell_type": "markdown",
   "id": "d6650a32",
   "metadata": {},
   "source": [
    "All three of these will give the same result, so it's up to you choose what makes most sense to you. But now it's time to take a look at the results:"
   ]
  },
  {
   "cell_type": "code",
   "execution_count": 12,
   "id": "3acaa6b8",
   "metadata": {},
   "outputs": [
    {
     "data": {
      "text/html": [
       "<div>\n",
       "<style scoped>\n",
       "    .dataframe tbody tr th:only-of-type {\n",
       "        vertical-align: middle;\n",
       "    }\n",
       "\n",
       "    .dataframe tbody tr th {\n",
       "        vertical-align: top;\n",
       "    }\n",
       "\n",
       "    .dataframe thead th {\n",
       "        text-align: right;\n",
       "    }\n",
       "</style>\n",
       "<table border=\"1\" class=\"dataframe\">\n",
       "  <thead>\n",
       "    <tr style=\"text-align: right;\">\n",
       "      <th></th>\n",
       "      <th>names</th>\n",
       "      <th>coef</th>\n",
       "      <th>se</th>\n",
       "      <th>T</th>\n",
       "      <th>pval</th>\n",
       "      <th>r2</th>\n",
       "      <th>adj_r2</th>\n",
       "      <th>CI[2.5%]</th>\n",
       "      <th>CI[97.5%]</th>\n",
       "    </tr>\n",
       "  </thead>\n",
       "  <tbody>\n",
       "    <tr>\n",
       "      <th>0</th>\n",
       "      <td>Intercept</td>\n",
       "      <td>125.97</td>\n",
       "      <td>3.04</td>\n",
       "      <td>41.42</td>\n",
       "      <td>0.00</td>\n",
       "      <td>0.82</td>\n",
       "      <td>0.81</td>\n",
       "      <td>119.93</td>\n",
       "      <td>132.00</td>\n",
       "    </tr>\n",
       "    <tr>\n",
       "      <th>1</th>\n",
       "      <td>dan_sleep</td>\n",
       "      <td>-8.95</td>\n",
       "      <td>0.55</td>\n",
       "      <td>-16.17</td>\n",
       "      <td>0.00</td>\n",
       "      <td>0.82</td>\n",
       "      <td>0.81</td>\n",
       "      <td>-10.05</td>\n",
       "      <td>-7.85</td>\n",
       "    </tr>\n",
       "    <tr>\n",
       "      <th>2</th>\n",
       "      <td>baby_sleep</td>\n",
       "      <td>0.01</td>\n",
       "      <td>0.27</td>\n",
       "      <td>0.04</td>\n",
       "      <td>0.97</td>\n",
       "      <td>0.82</td>\n",
       "      <td>0.81</td>\n",
       "      <td>-0.53</td>\n",
       "      <td>0.55</td>\n",
       "    </tr>\n",
       "  </tbody>\n",
       "</table>\n",
       "</div>"
      ],
      "text/plain": [
       "        names    coef    se      T  pval    r2  adj_r2  CI[2.5%]  CI[97.5%]\n",
       "0   Intercept  125.97  3.04  41.42  0.00  0.82    0.81    119.93     132.00\n",
       "1   dan_sleep   -8.95  0.55 -16.17  0.00  0.82    0.81    -10.05      -7.85\n",
       "2  baby_sleep    0.01  0.27   0.04  0.97  0.82    0.81     -0.53       0.55"
      ]
     },
     "execution_count": 12,
     "metadata": {},
     "output_type": "execute_result"
    }
   ],
   "source": [
    "mod2.round(2)"
   ]
  },
  {
   "cell_type": "markdown",
   "id": "5d1e86a2",
   "metadata": {},
   "source": [
    "The coefficient associated with dan_sleep is quite large, suggesting that every hour of sleep I lose makes me a lot grumpier. However, the coefficient for baby_sleep is very small, suggesting that it doesn’t really matter how much sleep my son gets, not really. What matters as far as my grumpiness goes is how much sleep _I_ get. Although conceptually similar, multiple linear regressions are much harder to visualize than a simple linear regression with only one predictor. To get a sense of what this multiple regression model with two predictors looks like, {numref}`fig-sleep_regressions_3d` shows a 3D plot that plots all three variables, along with the regression model itself."
   ]
  },
  {
   "cell_type": "code",
   "execution_count": 13,
   "id": "4757a6d2",
   "metadata": {
    "tags": [
     "hide-input"
    ]
   },
   "outputs": [
    {
     "data": {
      "image/png": "[encoded data removed]",
      "text/plain": [
       "<Figure size 1800x720 with 1 Axes>"
      ]
     },
     "metadata": {},
     "output_type": "display_data"
    }
   ],
   "source": [
    "import matplotlib.pyplot as plt\n",
    "import pandas as pd\n",
    "import seaborn as sns\n",
    "from mpl_toolkits.mplot3d import Axes3D\n",
    "\n",
    "# style the plot\n",
    "sns.set_style(\"whitegrid\")\n",
    "\n",
    "# construct 3d plot space\n",
    "fig = plt.figure(figsize=(25, 10)) \n",
    "ax = fig.add_subplot(111, projection = '3d')\n",
    "\n",
    "# define axes\n",
    "x = df['dan_sleep']\n",
    "y = df['baby_sleep']\n",
    "z = df['dan_grump']\n",
    "\n",
    "# set axis labels\n",
    "ax.set_xlabel(\"dan_sleep\")\n",
    "ax.set_ylabel(\"baby_sleep\")\n",
    "ax.set_zlabel(\"dan_grump\")\n",
    "\n",
    "\n",
    "# get intercept and regression coefficients from the lmm model\n",
    "coefs = list(mod2['coef'][1:])\n",
    "intercept = mod2['coef'][0]\n",
    "\n",
    "# create a 3d plane representation of the lmm predictions\n",
    "xs = np.tile(np.arange(12), (12,1))\n",
    "ys = np.tile(np.arange(12), (12,1)).T\n",
    "zs = xs*coefs[0]+ys*coefs[1]+intercept\n",
    "ax.plot_surface(xs,ys,zs, alpha=0.5)\n",
    "\n",
    "# plot the data and plane\n",
    "ax.plot_surface(xs,ys,zs, alpha=0.01)\n",
    "ax.scatter(x, y, z, color = 'blue')\n",
    "\n",
    "# adjust the viewing angle\n",
    "ax.view_init(11,97)\n",
    "\n",
    "plt.show()\n",
    "\n"
   ]
  },
  {
   "cell_type": "markdown",
   "id": "db5e9ad1",
   "metadata": {},
   "source": [
    " ```{glue:figure} sleep_regressions_3d-fig\n",
    ":figwidth: 600px\n",
    ":name: fig-sleep_regressions_3d\n",
    "\n",
    "A 3D visualisation of a multiple regression model. There are two predictors in the model, `dan_sleep` and `baby_sleep`; the outcome variable is `dan.grump`. Together, these three variables form a 3D space: each observation (blue dots) is a point in this space. In much the same way that a simple linear regression model forms a line in 2D space, this multiple regression model forms a plane in 3D space. When we estimate the regression coefficients, what we're trying to do is find a plane that is as close to all the blue dots as possible.\n",
    "\n",
    "```"
   ]
  },
  {
   "cell_type": "markdown",
   "id": "67bddbf7",
   "metadata": {},
   "source": [
    "### Formula for the general case\n",
    "\n",
    "The equation that I gave above shows you what a multiple regression model looks like when you include two predictors. Not surprisingly, then, if you want more than two predictors, all you have to do is add more $X$ terms and more $b$ coefficients. In other words, if you have $K$ predictor variables in the model then the regression equation looks like this:\n",
    "\n",
    "$$\n",
    "Y_i = \\left( \\sum_{k=1}^K b_{k} X_{ik} \\right) + b_0 + \\epsilon_i\n",
    "$$"
   ]
  },
  {
   "cell_type": "markdown",
   "id": "3689e030",
   "metadata": {},
   "source": [
    "(r2)=\n",
    "## Quantifying the fit of the regression model\n",
    "\n",
    "So we now know how to estimate the coefficients of a linear regression model. The problem is, we don't yet know if this regression model is any good. For example, our multiple linear regression model `mod2` *claims* that every hour of sleep will improve my mood by quite a lot, but it might just be rubbish. Remember, the regression model only produces a prediction $\\hat{Y}_i$ about what my mood is like: my actual mood is $Y_i$. If these two are very close, then the regression model has done a good job. If they are very different, then it has done a bad job. "
   ]
  },
  {
   "cell_type": "markdown",
   "id": "c4d35773",
   "metadata": {},
   "source": [
    "### The $R^2$ value\n",
    "\n",
    "Once again, let's wrap a little bit of mathematics around this. First, we've got the sum of the squared residuals:\n",
    "\n",
    "$$\n",
    "\\mbox{SS}_{res} = \\sum_i (Y_i - \\hat{Y}_i)^2\n",
    "$$"
   ]
  },
  {
   "cell_type": "markdown",
   "id": "f19b18b6",
   "metadata": {},
   "source": [
    "which we would hope to be pretty small. Specifically, what we'd like is for it to be very small in comparison to the total variability in the outcome variable, \n",
    "\n",
    "$$\n",
    "\\mbox{SS}_{tot} = \\sum_i (Y_i - \\bar{Y})^2\n",
    "$$"
   ]
  },
  {
   "cell_type": "markdown",
   "id": "2ad3aed6",
   "metadata": {},
   "source": [
    "While we're here, let's calculate these values in Python. Just to make my Python commands look a bit more similar to the mathematical equations, I'll create variables `X` and `Y`:"
   ]
  },
  {
   "cell_type": "code",
   "execution_count": 14,
   "id": "4d5fe885",
   "metadata": {},
   "outputs": [],
   "source": [
    "X = df['dan_sleep'] # the predictor\n",
    "Y = df['dan_grump'] # the outcome"
   ]
  },
  {
   "cell_type": "markdown",
   "id": "c6aa9b62",
   "metadata": {},
   "source": [
    "First, lets just examine the output for the simple model that uses only a single predictor:"
   ]
  },
  {
   "cell_type": "code",
   "execution_count": 15,
   "id": "3c11290e",
   "metadata": {},
   "outputs": [
    {
     "data": {
      "text/html": [
       "<div>\n",
       "<style scoped>\n",
       "    .dataframe tbody tr th:only-of-type {\n",
       "        vertical-align: middle;\n",
       "    }\n",
       "\n",
       "    .dataframe tbody tr th {\n",
       "        vertical-align: top;\n",
       "    }\n",
       "\n",
       "    .dataframe thead th {\n",
       "        text-align: right;\n",
       "    }\n",
       "</style>\n",
       "<table border=\"1\" class=\"dataframe\">\n",
       "  <thead>\n",
       "    <tr style=\"text-align: right;\">\n",
       "      <th></th>\n",
       "      <th>names</th>\n",
       "      <th>coef</th>\n",
       "      <th>se</th>\n",
       "      <th>T</th>\n",
       "      <th>pval</th>\n",
       "      <th>r2</th>\n",
       "      <th>adj_r2</th>\n",
       "      <th>CI[2.5%]</th>\n",
       "      <th>CI[97.5%]</th>\n",
       "    </tr>\n",
       "  </thead>\n",
       "  <tbody>\n",
       "    <tr>\n",
       "      <th>0</th>\n",
       "      <td>Intercept</td>\n",
       "      <td>125.96</td>\n",
       "      <td>3.02</td>\n",
       "      <td>41.76</td>\n",
       "      <td>0.0</td>\n",
       "      <td>0.82</td>\n",
       "      <td>0.81</td>\n",
       "      <td>119.97</td>\n",
       "      <td>131.94</td>\n",
       "    </tr>\n",
       "    <tr>\n",
       "      <th>1</th>\n",
       "      <td>dan_sleep</td>\n",
       "      <td>-8.94</td>\n",
       "      <td>0.43</td>\n",
       "      <td>-20.85</td>\n",
       "      <td>0.0</td>\n",
       "      <td>0.82</td>\n",
       "      <td>0.81</td>\n",
       "      <td>-9.79</td>\n",
       "      <td>-8.09</td>\n",
       "    </tr>\n",
       "  </tbody>\n",
       "</table>\n",
       "</div>"
      ],
      "text/plain": [
       "       names    coef    se      T  pval    r2  adj_r2  CI[2.5%]  CI[97.5%]\n",
       "0  Intercept  125.96  3.02  41.76   0.0  0.82    0.81    119.97     131.94\n",
       "1  dan_sleep   -8.94  0.43 -20.85   0.0  0.82    0.81     -9.79      -8.09"
      ]
     },
     "execution_count": 15,
     "metadata": {},
     "output_type": "execute_result"
    }
   ],
   "source": [
    "mod1 = pg.linear_regression(X, Y)\n",
    "mod1.round(2)"
   ]
  },
  {
   "cell_type": "markdown",
   "id": "fe76ae05",
   "metadata": {},
   "source": [
    "In this output, we can see that Python has calculated an intercept of 125.96 and a regression coefficient ($beta$) of -8.94. So for every hour of sleep I get, the model estimates that this will correspond to a decrease in grumpiness of about 9 on my incredibly scientific grumpiness scale. We can use this information to calculate $\\hat{Y}$, that is, the values that the model _predicts_ for the outcome measure, as opposed to $Y$, which are the actual data we observed. So, for each value of the predictor variable X, we multiply that value by the regression coefficient -8.84, and add the intercept 125.97:"
   ]
  },
  {
   "cell_type": "code",
   "execution_count": 16,
   "id": "6f66d0de",
   "metadata": {},
   "outputs": [],
   "source": [
    "\n",
    "Y_pred = -8.94 * X + 125.97"
   ]
  },
  {
   "cell_type": "markdown",
   "id": "654af8d9",
   "metadata": {},
   "source": [
    "Okay, now that we've got a variable which stores the regression model predictions for how grumpy I will be on any given day, let's calculate our sum of squared residuals. We would do that using the following command:"
   ]
  },
  {
   "cell_type": "code",
   "execution_count": 17,
   "id": "bcce8ffe",
   "metadata": {},
   "outputs": [
    {
     "data": {
      "text/plain": [
       "1838.7224883200004"
      ]
     },
     "execution_count": 17,
     "metadata": {},
     "output_type": "execute_result"
    }
   ],
   "source": [
    "SS_resid = sum( (Y - Y_pred)**2 )\n",
    "SS_resid"
   ]
  },
  {
   "cell_type": "markdown",
   "id": "1f8403ba",
   "metadata": {},
   "source": [
    "Wonderful. A big number that doesn't mean very much. Still, let's forge boldly onwards anyway, and calculate the total sum of squares as well. That's also pretty simple:"
   ]
  },
  {
   "cell_type": "code",
   "execution_count": 18,
   "id": "738f942e",
   "metadata": {},
   "outputs": [
    {
     "data": {
      "text/plain": [
       "9998.590000000002"
      ]
     },
     "execution_count": 18,
     "metadata": {},
     "output_type": "execute_result"
    }
   ],
   "source": [
    "import numpy as np\n",
    "SS_tot = sum( (Y - np.mean(Y))**2 )\n",
    "SS_tot"
   ]
  },
  {
   "cell_type": "markdown",
   "id": "a4671c01",
   "metadata": {},
   "source": [
    "\n",
    "Hm. Well, it's a much bigger number than the last one, so this does suggest that our regression model was making good predictions. But it's not very interpretable. \n",
    "\n",
    "Perhaps we can fix this. What we'd like to do is to convert these two fairly meaningless numbers into one number. A nice, interpretable number, which for no particular reason we'll call $R^2$. What we would like is for the value of $R^2$ to be equal to 1 if the regression model makes no errors in predicting the data. In other words, if it turns out that the residual errors are zero, that is, if $\\mbox{SS}_{res} = 0$, then we expect $R^2 = 1$. Similarly, if the model is completely useless, we would like $R^2$ to be equal to 0. What do I mean by \"useless\"? Tempting as it is demand that the regression model move out of the house, cut its hair and get a real job, I'm probably going to have to pick a more practical definition: in this case, all I mean is that the residual sum of squares is no smaller than the total sum of squares, $\\mbox{SS}_{res} = \\mbox{SS}_{tot}$. Wait, why don't we do exactly that? In fact, the formula that provides us with our $R^2$ value is pretty simple to write down,\n",
    "\n",
    "$$\n",
    "R^2 = 1 - \\frac{\\mbox{SS}_{res}}{\\mbox{SS}_{tot}}\n",
    "$$"
   ]
  },
  {
   "cell_type": "markdown",
   "id": "cc472da0",
   "metadata": {},
   "source": [
    "and equally simple to calculate in Python:"
   ]
  },
  {
   "cell_type": "code",
   "execution_count": 19,
   "id": "a0ddbf1a",
   "metadata": {},
   "outputs": [
    {
     "data": {
      "text/plain": [
       "0.816101821524835"
      ]
     },
     "execution_count": 19,
     "metadata": {},
     "output_type": "execute_result"
    }
   ],
   "source": [
    "R2 = 1- (SS_resid / SS_tot)\n",
    "R2"
   ]
  },
  {
   "cell_type": "markdown",
   "id": "f83a76ce",
   "metadata": {},
   "source": [
    "The $R^2$ value, sometimes called the **_coefficient of determination_**[^notenever] has a simple interpretation: it is the *proportion* of the variance in the outcome variable that can be accounted for by the predictor. So in this case, the fact that we have obtained $R^2 = .816$ means that the predictor (`my_sleep`) explains 81.6\\% of the variance in the outcome (`my_grump`). \n",
    "\n",
    "Naturally, you don't actually need to type in all these commands yourself if you want to obtain the $R^2$ value for your regression model. And as you have probably already noticed, `pingouin` calculates $R^2$  for us without even being asked to. But there's another property of $R^2$ that I want to point out. \n",
    "\n",
    "[^notenever]: And by \"sometimes\" I mean \"almost never\". In practice everyone just calls it \"$R$-squared\"."
   ]
  },
  {
   "cell_type": "markdown",
   "id": "12c7087b",
   "metadata": {},
   "source": [
    "### The relationship between regression and correlation\n",
    "\n",
    "At this point we can revisit my earlier claim that regression, in this very simple form that I've discussed so far, is basically the same thing as a correlation. Previously, we used the symbol $r$ to denote a Pearson correlation. Might there be some relationship between the value of the correlation coefficient $r$ and the $R^2$ value from linear regression? Of course there is: the squared correlation $r^2$ is identical to the $R^2$ value for a linear regression with only a single predictor. To illustrate this, here's the squared correlation:"
   ]
  },
  {
   "cell_type": "code",
   "execution_count": 20,
   "id": "ce50df54",
   "metadata": {},
   "outputs": [
    {
     "data": {
      "text/plain": [
       "0.8161027191478786"
      ]
     },
     "execution_count": 20,
     "metadata": {},
     "output_type": "execute_result"
    }
   ],
   "source": [
    "r = X.corr(Y)  # calculate the correlation\n",
    "r**2    # print the squared correlation"
   ]
  },
  {
   "cell_type": "markdown",
   "id": "2805acd4",
   "metadata": {},
   "source": [
    "\n",
    "Yep, same number. In other words, running a Pearson correlation is more or less equivalent to running a linear regression model that uses only one predictor variable.\n",
    "\n",
    "### The adjusted $R^2$ value\n",
    "\n",
    "One final thing to point out before moving on. It's quite common for people to report a slightly different measure of model performance, known as \"adjusted $R^2$\". The motivation behind calculating the adjusted $R^2$ value is the observation that adding more predictors into the model will *always* cause the $R^2$ value to increase (or at least not decrease). The adjusted $R^2$ value introduces a slight change to the calculation, as follows. For a regression model with $K$ predictors, fit to a data set containing $N$ observations, the adjusted $R^2$ is:\n",
    "\n",
    "$$\n",
    "\\mbox{adj. } R^2 = 1 - \\left(\\frac{\\mbox{SS}_{res}}{\\mbox{SS}_{tot}} \\times \\frac{N-1}{N-K-1} \\right)\n",
    "$$"
   ]
  },
  {
   "cell_type": "markdown",
   "id": "b1291af5",
   "metadata": {},
   "source": [
    "This adjustment is an attempt to take the degrees of freedom into account. The big advantage of the adjusted $R^2$ value is that when you add more predictors to the model, the adjusted $R^2$ value will only increase if the new variables improve the model performance more than you'd expect by chance. The big disadvantage is that the adjusted $R^2$ value *can't* be interpreted in the elegant way that $R^2$ can. $R^2$ has a simple interpretation as the proportion of variance in the outcome variable that is explained by the regression model; to my knowledge, no equivalent interpretation exists for adjusted $R^2$. \n",
    "\n",
    "An obvious question then, is whether you should report $R^2$ or adjusted $R^2$. This is probably a matter of personal preference. If you care more about interpretability, then $R^2$ is better. If you care more about correcting for bias, then adjusted $R^2$ is probably better. Speaking just for myself, I prefer $R^2$: my feeling is that it's more important to be able to interpret your measure of model performance. Besides, as we'll soon see in the upcoming section on hypothesis tests for regression models, which I am going to link to even though it is [literally the next section in this book](regressiontests), if you're worried that the improvement in $R^2$ that you get by adding a predictor is just due to chance and not because it's a better model, well, we've got hypothesis tests for that. "
   ]
  },
  {
   "cell_type": "markdown",
   "id": "fd5caab6",
   "metadata": {},
   "source": [
    "(regressiontests)=\n",
    "## Hypothesis tests for regression models\n",
    "\n",
    "So far we've talked about what a regression model is, how the coefficients of a regression model are estimated, and how we quantify the performance of the model (the last of these, incidentally, is basically our measure of effect size). The next thing we need to talk about is hypothesis tests. There are two different (but related) kinds of hypothesis tests that we need to talk about: those in which we test whether the regression model as a whole is performing significantly better than a null model; and those in which we test whether a particular regression coefficient is significantly different from zero. \n",
    "\n",
    "At this point, you're probably groaning internally, thinking that I'm going to introduce a whole new collection of tests. You're probably sick of hypothesis tests by now, and don't want to learn any new ones. Me too. I'm so sick of hypothesis tests that I'm going to shamelessly reuse the $F$-test from the [chapter on ANOVAs](anova) and the $t$-test from [the chapter on t-tests](ttest). In fact, all I'm going to do in this section is show you how those tests are imported wholesale into the regression framework.  "
   ]
  },
  {
   "cell_type": "markdown",
   "id": "6c435d23",
   "metadata": {},
   "source": [
    "### Testing the model as a whole\n",
    "\n",
    "Okay, suppose you've estimated your regression model. The first hypothesis test you might want to try is one in which the null hypothesis that there is *no relationship* between the predictors and the outcome, and the alternative hypothesis is that *the data are distributed in exactly the way that the regression model predicts*. Formally, our \"null model\" corresponds to the fairly trivial \"regression\" model in which we include 0 predictors, and only include the intercept term $b_0$\n",
    "\n",
    "$$\n",
    "H_0: Y_i = b_0 + \\epsilon_i\n",
    "$$"
   ]
  },
  {
   "cell_type": "markdown",
   "id": "5c500ec4",
   "metadata": {},
   "source": [
    "If our regression model has $K$ predictors, the \"alternative model\" is described using the usual formula for a multiple regression model:\n",
    "\n",
    "$$\n",
    "H_1: Y_i = \\left( \\sum_{k=1}^K b_{k} X_{ik} \\right) + b_0 + \\epsilon_i\n",
    "$$"
   ]
  },
  {
   "cell_type": "markdown",
   "id": "53f575d7",
   "metadata": {},
   "source": [
    "How can we test these two hypotheses against each other? The trick is to understand that just like we did with ANOVA, it's possible to divide up the total variance $\\mbox{SS}_{tot}$ into the sum of the residual variance $\\mbox{SS}_{res}$ and the regression model variance $\\mbox{SS}_{mod}$. I'll skip over the technicalities, since we covered most of them in the [ANOVA chapter](anova), and just note that:\n",
    "\n",
    "$$\n",
    "\\mbox{SS}_{mod} = \\mbox{SS}_{tot} - \\mbox{SS}_{res}\n",
    "$$"
   ]
  },
  {
   "cell_type": "markdown",
   "id": "e1306fd7",
   "metadata": {},
   "source": [
    "And, just like we did with the ANOVA, we can convert the sums of squares into mean squares by dividing by the degrees of freedom. \n",
    "\n",
    "$$\n",
    "\\begin{array}{rcl}\n",
    "\\mbox{MS}_{mod} &=& \\displaystyle\\frac{\\mbox{SS}_{mod} }{df_{mod}} \\\\ \\\\\n",
    "\\mbox{MS}_{res} &=& \\displaystyle\\frac{\\mbox{SS}_{res} }{df_{res} }\n",
    "\\end{array}\n",
    "$$"
   ]
  },
  {
   "cell_type": "markdown",
   "id": "db91e296",
   "metadata": {},
   "source": [
    "So, how many degrees of freedom do we have? As you might expect, the $df$ associated with the model is closely tied to the number of predictors that we've included. In fact, it turns out that $df_{mod} = K$. For the residuals, the total degrees of freedom is $df_{res} = N -K - 1$. \n",
    "\n",
    "Now that we've got our mean square values, you're probably going to be entirely unsurprised (possibly even bored) to discover that we can calculate an $F$-statistic like this:\n",
    "\n",
    "$$\n",
    "F =  \\frac{\\mbox{MS}_{mod}}{\\mbox{MS}_{res}}\n",
    "$$"
   ]
  },
  {
   "cell_type": "markdown",
   "id": "63692822",
   "metadata": {},
   "source": [
    "and the degrees of freedom associated with this are $K$ and $N-K-1$. This $F$ statistic has exactly the same interpretation as the one we introduced [when learning about ANOVAs](anova). Large $F$ values indicate that the null hypothesis is performing poorly in comparison to the alternative hypothesis."
   ]
  },
  {
   "cell_type": "markdown",
   "id": "9e9a64e9",
   "metadata": {},
   "source": [
    "\"Ok, this is fine\", I hear you say, \"but now show me the easy way! Show me how easy it is to get an $F$ statistic from `pingouin`! `pingouin` makes everything so much easier! Surely `pingouin` does this for me as well?\"\n",
    "\n",
    "Yeah. About that... actually, as of the time of writing (Tuesday the 17th of May, 2022), `pingouin` does _not_ automatically calculate the $F$ statistic for the model for you. This seems like kind of a strange omission to me, since it is pretty normal to report overall $F$ and $p$ values for a model, and `pingouin` seems to be all about making the normal things easy. So, I can only assume this will get added at some point, but for now, sadly, we are left to ourselves on this one. \n",
    "\n",
    "I should mention that there are other statistics packages for Python that will do this for you. [statsmodels](https://www.statsmodels.org/stable/regression.html) comes to mind, for instance. But this is opening a whole new can of worms that I'd rather avoid for now, so instead I provide you with code to calculate the $F$ statistic and $p$-value for the model \"manually\" below:"
   ]
  },
  {
   "cell_type": "code",
   "execution_count": 21,
   "id": "eb455782",
   "metadata": {},
   "outputs": [
    {
     "name": "stdout",
     "output_type": "stream",
     "text": [
      "F= 215.23828653684436 p= 2.145730016320891e-36\n"
     ]
    }
   ],
   "source": [
    "import numpy as np\n",
    "from scipy import stats as st\n",
    "\n",
    "# your predictor and outcome variables (aka, \"the data\")\n",
    "predictors = df[['dan_sleep', 'baby_sleep']]\n",
    "outcome = df['dan_grump']\n",
    "\n",
    "# model the data, and store the model information in a variable called \"mod\"\n",
    "mod = pg.linear_regression(predictors, outcome)\n",
    "\n",
    "\n",
    "# call the outcome data \"Y\", just for the sake of generalizability\n",
    "Y = outcome\n",
    "\n",
    "# get the model residuals from the model object\n",
    "res = mod.residuals_\n",
    "\n",
    "# calculate the residual, the model, and the total sums of squares\n",
    "SS_res = np.sum(np.square(res))\n",
    "SS_tot = sum( (Y - np.mean(Y))**2 )\n",
    "SS_mod = SS_tot - SS_res\n",
    "\n",
    "# get the degrees of freedom for the model and the residuals\n",
    "df_mod = mod.df_model_\n",
    "df_res = mod.df_resid_\n",
    "\n",
    "# caluculate the mean squares for the model and the residuals\n",
    "MS_mod = SS_mod / df_mod\n",
    "MS_res = SS_res / df_res\n",
    "\n",
    "# calculate the F-statistic\n",
    "F = MS_mod / MS_res\n",
    "\n",
    "# estimate the p-value\n",
    "p = st.f.sf(F, df_mod, df_res)\n",
    "\n",
    "# display the results\n",
    "print(\"F=\",F, \"p=\", p)\n"
   ]
  },
  {
   "cell_type": "markdown",
   "id": "e29bbba8",
   "metadata": {},
   "source": [
    "(ftestfunction)=\n",
    "### An F-test function\n",
    "\n",
    "A more compact way to do this would be to take everything I have done above and put it inside a [function](functions). I've done this below, not least so that I will be able to copy/paste from it myself at some later date. Here is a function called `regression_f` that takes as its arguments a list of predictors, and an outcome variable, and spits out the $F$ and $p$ values."
   ]
  },
  {
   "cell_type": "code",
   "execution_count": 22,
   "id": "387b7ea4",
   "metadata": {},
   "outputs": [],
   "source": [
    "def regression_f(predictors, outcome):\n",
    "    mod = pg.linear_regression(predictors, outcome)\n",
    "    Y = outcome\n",
    "    res = mod.residuals_\n",
    "    SS_res = np.sum(np.square(res))\n",
    "    SS_tot = sum( (Y - np.mean(Y))**2 )\n",
    "    SS_mod = SS_tot - SS_res\n",
    "    df_mod = mod.df_model_\n",
    "    df_res = mod.df_resid_\n",
    "    MS_mod = SS_mod / df_mod\n",
    "    MS_res = SS_res / df_res\n",
    "    F = MS_mod / MS_res\n",
    "    p = st.f.sf(F, df_mod, df_res)\n",
    "    return(F, p)"
   ]
  },
  {
   "cell_type": "markdown",
   "id": "9120a43b",
   "metadata": {},
   "source": [
    "Once we have run the function, all we need to do is plug in our values, and `regression_f` does the rest:"
   ]
  },
  {
   "cell_type": "code",
   "execution_count": 23,
   "id": "50ffea08",
   "metadata": {},
   "outputs": [
    {
     "data": {
      "text/plain": [
       "(215.23828653684436, 2.145730016320891e-36)"
      ]
     },
     "execution_count": 23,
     "metadata": {},
     "output_type": "execute_result"
    }
   ],
   "source": [
    "predictors = df[['dan_sleep', 'baby_sleep']]\n",
    "outcome = df['dan_grump']\n",
    "\n",
    "regression_f(predictors, outcome)"
   ]
  },
  {
   "cell_type": "markdown",
   "id": "6c23c6a4",
   "metadata": {},
   "source": [
    "### Tests for individual coefficients\n",
    "\n",
    "The $F$-test that we've just introduced is useful for checking that the model as a whole is performing better than chance. This is important: if your regression model doesn't produce a significant result for the $F$-test then you probably don't have a very good regression model (or, quite possibly, you don't have very good data). However, while failing this test is a pretty strong indicator that the model has problems, *passing* the test (i.e., rejecting the null) doesn't imply that the model is good! Why is that, you might be wondering? The answer to that can be found by looking at the coefficients for the multiple linear regression model we calculated earlier:"
   ]
  },
  {
   "cell_type": "code",
   "execution_count": 24,
   "id": "5fc70431",
   "metadata": {},
   "outputs": [
    {
     "data": {
      "text/html": [
       "<div>\n",
       "<style scoped>\n",
       "    .dataframe tbody tr th:only-of-type {\n",
       "        vertical-align: middle;\n",
       "    }\n",
       "\n",
       "    .dataframe tbody tr th {\n",
       "        vertical-align: top;\n",
       "    }\n",
       "\n",
       "    .dataframe thead th {\n",
       "        text-align: right;\n",
       "    }\n",
       "</style>\n",
       "<table border=\"1\" class=\"dataframe\">\n",
       "  <thead>\n",
       "    <tr style=\"text-align: right;\">\n",
       "      <th></th>\n",
       "      <th>names</th>\n",
       "      <th>coef</th>\n",
       "      <th>se</th>\n",
       "      <th>T</th>\n",
       "      <th>pval</th>\n",
       "      <th>r2</th>\n",
       "      <th>adj_r2</th>\n",
       "      <th>CI[2.5%]</th>\n",
       "      <th>CI[97.5%]</th>\n",
       "    </tr>\n",
       "  </thead>\n",
       "  <tbody>\n",
       "    <tr>\n",
       "      <th>0</th>\n",
       "      <td>Intercept</td>\n",
       "      <td>125.97</td>\n",
       "      <td>3.04</td>\n",
       "      <td>41.42</td>\n",
       "      <td>0.00</td>\n",
       "      <td>0.82</td>\n",
       "      <td>0.81</td>\n",
       "      <td>119.93</td>\n",
       "      <td>132.00</td>\n",
       "    </tr>\n",
       "    <tr>\n",
       "      <th>1</th>\n",
       "      <td>dan_sleep</td>\n",
       "      <td>-8.95</td>\n",
       "      <td>0.55</td>\n",
       "      <td>-16.17</td>\n",
       "      <td>0.00</td>\n",
       "      <td>0.82</td>\n",
       "      <td>0.81</td>\n",
       "      <td>-10.05</td>\n",
       "      <td>-7.85</td>\n",
       "    </tr>\n",
       "    <tr>\n",
       "      <th>2</th>\n",
       "      <td>baby_sleep</td>\n",
       "      <td>0.01</td>\n",
       "      <td>0.27</td>\n",
       "      <td>0.04</td>\n",
       "      <td>0.97</td>\n",
       "      <td>0.82</td>\n",
       "      <td>0.81</td>\n",
       "      <td>-0.53</td>\n",
       "      <td>0.55</td>\n",
       "    </tr>\n",
       "  </tbody>\n",
       "</table>\n",
       "</div>"
      ],
      "text/plain": [
       "        names    coef    se      T  pval    r2  adj_r2  CI[2.5%]  CI[97.5%]\n",
       "0   Intercept  125.97  3.04  41.42  0.00  0.82    0.81    119.93     132.00\n",
       "1   dan_sleep   -8.95  0.55 -16.17  0.00  0.82    0.81    -10.05      -7.85\n",
       "2  baby_sleep    0.01  0.27   0.04  0.97  0.82    0.81     -0.53       0.55"
      ]
     },
     "execution_count": 24,
     "metadata": {},
     "output_type": "execute_result"
    }
   ],
   "source": [
    "predictors = df[['dan_sleep', 'baby_sleep']]\n",
    "outcome = df['dan_grump']\n",
    "\n",
    "mod2 = pg.linear_regression(predictors, outcome)\n",
    "mod2.round(2)"
   ]
  },
  {
   "cell_type": "markdown",
   "id": "67c75cc1",
   "metadata": {},
   "source": [
    "\n",
    "I can't help but notice that the estimated regression coefficient for the `baby_sleep` variable is tiny (0.01), relative to the value that we get for `dan_sleep` (-8.95). Given that these two variables are absolutely on the same scale (they're both measured in \"hours slept\"), I find this suspicious. In fact, I'm beginning to suspect that it's really only the amount of sleep that *I* get that matters in order to predict my grumpiness.\n",
    "\n",
    "Once again, we can reuse a hypothesis test that we discussed earlier, this time the $t$-test. The test that we're interested has a null hypothesis that the true regression coefficient is zero ($b = 0$), which is to be tested against the alternative hypothesis that it isn't ($b \\neq 0$). That is:\n",
    "\n",
    "$$\n",
    "\\begin{array}{rl}\n",
    "H_0: & b = 0 \\\\\n",
    "H_1: & b \\neq 0 \n",
    "\\end{array}\n",
    "$$"
   ]
  },
  {
   "cell_type": "markdown",
   "id": "59650808",
   "metadata": {},
   "source": [
    "How can we test this? Well, if the [central limit theorem](clt) is kind to us, we might be able to guess that the sampling distribution of $\\hat{b}$, the estimated regression coefficient, is a normal distribution with mean centred on $b$. What that would mean is that if the null hypothesis were true, then the sampling distribution of $\\hat{b}$ has mean zero and unknown standard deviation. Assuming that we can come up with a good estimate for the [standard error](clt) of the regression coefficient, $\\mbox{SE}({\\hat{b}})$, then we're in luck. That's *exactly* the situation for which we introduced the one-sample $t$ way back in [the chapter on t-tests](ttest). So let's define a $t$-statistic like this,\n",
    "\n",
    "$$\n",
    "t = \\frac{\\hat{b}}{\\mbox{SE}({\\hat{b})}}\n",
    "$$"
   ]
  },
  {
   "cell_type": "markdown",
   "id": "829f64ab",
   "metadata": {},
   "source": [
    "I'll skip over the reasons why, but our degrees of freedom in this case are $df = N- K- 1$. Irritatingly, the estimate of the standard error of the regression coefficient, $\\mbox{SE}({\\hat{b}})$, is not as easy to calculate as the standard error of the mean that we used for the simpler $t$-tests [earlier](ttest). In fact, the formula is somewhat ugly, and not terribly helpful to look at. For our purposes it's sufficient to point out that the standard error of the  estimated regression coefficient depends on both the predictor and outcome variables, and is somewhat sensitive to violations of the homogeneity of variance assumption (discussed shortly). \n",
    "\n",
    "In any case, this $t$-statistic can be interpreted in the same way as the $t$-statistics that we discussed [earlier](ttest). Assuming that you have a two-sided alternative (i.e., you don't really care if $b >0$ or $b < 0$), then it's the extreme values of $t$ (i.e., a lot less than zero or a lot greater than zero) that suggest that you should reject the null hypothesis. "
   ]
  },
  {
   "cell_type": "markdown",
   "id": "3c306575",
   "metadata": {},
   "source": [
    "Now we are in a position to understand all the values in the multiple regression table provided by `pingouin`:"
   ]
  },
  {
   "cell_type": "code",
   "execution_count": 25,
   "id": "782d33f1",
   "metadata": {},
   "outputs": [
    {
     "data": {
      "text/html": [
       "<div>\n",
       "<style scoped>\n",
       "    .dataframe tbody tr th:only-of-type {\n",
       "        vertical-align: middle;\n",
       "    }\n",
       "\n",
       "    .dataframe tbody tr th {\n",
       "        vertical-align: top;\n",
       "    }\n",
       "\n",
       "    .dataframe thead th {\n",
       "        text-align: right;\n",
       "    }\n",
       "</style>\n",
       "<table border=\"1\" class=\"dataframe\">\n",
       "  <thead>\n",
       "    <tr style=\"text-align: right;\">\n",
       "      <th></th>\n",
       "      <th>names</th>\n",
       "      <th>coef</th>\n",
       "      <th>se</th>\n",
       "      <th>T</th>\n",
       "      <th>pval</th>\n",
       "      <th>r2</th>\n",
       "      <th>adj_r2</th>\n",
       "      <th>CI[2.5%]</th>\n",
       "      <th>CI[97.5%]</th>\n",
       "    </tr>\n",
       "  </thead>\n",
       "  <tbody>\n",
       "    <tr>\n",
       "      <th>0</th>\n",
       "      <td>Intercept</td>\n",
       "      <td>125.97</td>\n",
       "      <td>3.04</td>\n",
       "      <td>41.42</td>\n",
       "      <td>0.00</td>\n",
       "      <td>0.82</td>\n",
       "      <td>0.81</td>\n",
       "      <td>119.93</td>\n",
       "      <td>132.00</td>\n",
       "    </tr>\n",
       "    <tr>\n",
       "      <th>1</th>\n",
       "      <td>dan_sleep</td>\n",
       "      <td>-8.95</td>\n",
       "      <td>0.55</td>\n",
       "      <td>-16.17</td>\n",
       "      <td>0.00</td>\n",
       "      <td>0.82</td>\n",
       "      <td>0.81</td>\n",
       "      <td>-10.05</td>\n",
       "      <td>-7.85</td>\n",
       "    </tr>\n",
       "    <tr>\n",
       "      <th>2</th>\n",
       "      <td>baby_sleep</td>\n",
       "      <td>0.01</td>\n",
       "      <td>0.27</td>\n",
       "      <td>0.04</td>\n",
       "      <td>0.97</td>\n",
       "      <td>0.82</td>\n",
       "      <td>0.81</td>\n",
       "      <td>-0.53</td>\n",
       "      <td>0.55</td>\n",
       "    </tr>\n",
       "  </tbody>\n",
       "</table>\n",
       "</div>"
      ],
      "text/plain": [
       "        names    coef    se      T  pval    r2  adj_r2  CI[2.5%]  CI[97.5%]\n",
       "0   Intercept  125.97  3.04  41.42  0.00  0.82    0.81    119.93     132.00\n",
       "1   dan_sleep   -8.95  0.55 -16.17  0.00  0.82    0.81    -10.05      -7.85\n",
       "2  baby_sleep    0.01  0.27   0.04  0.97  0.82    0.81     -0.53       0.55"
      ]
     },
     "execution_count": 25,
     "metadata": {},
     "output_type": "execute_result"
    }
   ],
   "source": [
    "mod2.round(2)"
   ]
  },
  {
   "cell_type": "markdown",
   "id": "21e8af68",
   "metadata": {},
   "source": [
    "Each row in this table refers to one of the coefficients in the regression model. The first row is the intercept term, and the later ones look at each of the predictors. The columns give you all of the relevant information. The `coef` column is the actual estimate of $b$ (e.g., 125.96 for the intercept, -8.9 for the `dan_sleep` predictor, and 0.01 for the `baby_sleep` predictor). The `se` column is the standard error estimate $\\hat\\sigma_b$. The `T` column gives you the $t$-statistic, and it's worth noticing that in this table $t= \\hat{b}/\\mbox{SE}({\\hat{b}})$ every time. The `pval` column gives you the actual $p$ value for each of these tests.[^notecorrection] The `r2`and àdj_r2` columns give the $R^2$ value and the adjusted $R^2$ for the model, and the last two columns give us the upper and lower [confidence interval](ci) bounds for each estimate.\n",
    "\n",
    "[^notecorrection]: Note that, although `pingouin` has done multiple tests here, it hasn't done a Bonferroni correction or anything. These are standard one-sample $t$-tests with a two-sided alternative. If you want to make corrections for multiple tests, you need to do that yourself."
   ]
  },
  {
   "cell_type": "markdown",
   "id": "ac9e50c0",
   "metadata": {},
   "source": [
    "If we add our [F-test results](ftestfunction) to the mix:"
   ]
  },
  {
   "cell_type": "code",
   "execution_count": 26,
   "id": "1e7e0a09",
   "metadata": {},
   "outputs": [
    {
     "name": "stdout",
     "output_type": "stream",
     "text": [
      "F: 215.24 p: 2.145730016320891e-36\n"
     ]
    }
   ],
   "source": [
    "f = regression_f(predictors, outcome)\n",
    "print(\"F:\", f[0].round(2), \"p:\", f[1])"
   ]
  },
  {
   "cell_type": "markdown",
   "id": "50523e3b",
   "metadata": {},
   "source": [
    "we have everything we need to evaluate our model. In this case, the model performs significantly better than you'd expect by chance ($F(2,97) = 215.2$, $p<.001$), which isn't all that surprising: the $R^2 = .812$ value indicate that the regression model accounts for 81.2\\% of the variability in the outcome measure. However, when we look back up at the $t$-tests for each of the individual coefficients, we have pretty strong evidence that the `baby_sleep` variable has no significant effect; all the work is being done by the `dan_sleep` variable. Taken together, these results suggest that `mod2` is actually the wrong model for the data: you'd probably be better off dropping the `baby_sleep` predictor entirely. In other words, the `mod1` model that we started with is the better model. "
   ]
  },
  {
   "cell_type": "markdown",
   "id": "cc471f67",
   "metadata": {},
   "source": [
    "(corrhyp)=\n",
    "## Testing the significance of a correlation\n",
    "\n",
    "\n",
    "### Hypothesis tests for a single correlation\n",
    "\n",
    "I don't want to spend too much time on this, but it's worth very briefly returning to the point I made earlier, that Pearson correlations are basically the same thing as linear regressions with only a single predictor added to the model. What this means is that the hypothesis tests that I just described in a regression context can also be applied to correlation coefficients. To see this, let's just revist our `mod1` model:"
   ]
  },
  {
   "cell_type": "code",
   "execution_count": 27,
   "id": "dbac25b8",
   "metadata": {},
   "outputs": [
    {
     "data": {
      "text/html": [
       "<div>\n",
       "<style scoped>\n",
       "    .dataframe tbody tr th:only-of-type {\n",
       "        vertical-align: middle;\n",
       "    }\n",
       "\n",
       "    .dataframe tbody tr th {\n",
       "        vertical-align: top;\n",
       "    }\n",
       "\n",
       "    .dataframe thead th {\n",
       "        text-align: right;\n",
       "    }\n",
       "</style>\n",
       "<table border=\"1\" class=\"dataframe\">\n",
       "  <thead>\n",
       "    <tr style=\"text-align: right;\">\n",
       "      <th></th>\n",
       "      <th>names</th>\n",
       "      <th>coef</th>\n",
       "      <th>se</th>\n",
       "      <th>T</th>\n",
       "      <th>pval</th>\n",
       "      <th>r2</th>\n",
       "      <th>adj_r2</th>\n",
       "      <th>CI[2.5%]</th>\n",
       "      <th>CI[97.5%]</th>\n",
       "    </tr>\n",
       "  </thead>\n",
       "  <tbody>\n",
       "    <tr>\n",
       "      <th>0</th>\n",
       "      <td>Intercept</td>\n",
       "      <td>125.96</td>\n",
       "      <td>3.02</td>\n",
       "      <td>41.76</td>\n",
       "      <td>0.0</td>\n",
       "      <td>0.82</td>\n",
       "      <td>0.81</td>\n",
       "      <td>119.97</td>\n",
       "      <td>131.94</td>\n",
       "    </tr>\n",
       "    <tr>\n",
       "      <th>1</th>\n",
       "      <td>dan_sleep</td>\n",
       "      <td>-8.94</td>\n",
       "      <td>0.43</td>\n",
       "      <td>-20.85</td>\n",
       "      <td>0.0</td>\n",
       "      <td>0.82</td>\n",
       "      <td>0.81</td>\n",
       "      <td>-9.79</td>\n",
       "      <td>-8.09</td>\n",
       "    </tr>\n",
       "  </tbody>\n",
       "</table>\n",
       "</div>"
      ],
      "text/plain": [
       "       names    coef    se      T  pval    r2  adj_r2  CI[2.5%]  CI[97.5%]\n",
       "0  Intercept  125.96  3.02  41.76   0.0  0.82    0.81    119.97     131.94\n",
       "1  dan_sleep   -8.94  0.43 -20.85   0.0  0.82    0.81     -9.79      -8.09"
      ]
     },
     "execution_count": 27,
     "metadata": {},
     "output_type": "execute_result"
    }
   ],
   "source": [
    "X = df['dan_sleep'] # the predictor\n",
    "Y = df['dan_grump'] # the outcome\n",
    "mod1 = pg.linear_regression(X, Y)\n",
    "mod1.round(2)"
   ]
  },
  {
   "cell_type": "markdown",
   "id": "e0987de1",
   "metadata": {},
   "source": [
    "The important thing to note here is the $t$ test associated with the predictor, in which we get a result of $t(98) = -20.85$, $p<.001$. Now let's compare this to the output of the `corr` function from `pinguoin`, which runs a hypothesis test to see if the observed correlation between two variables is significantly different from 0. "
   ]
  },
  {
   "cell_type": "code",
   "execution_count": 28,
   "id": "77497fa4",
   "metadata": {},
   "outputs": [
    {
     "data": {
      "text/html": [
       "<div>\n",
       "<style scoped>\n",
       "    .dataframe tbody tr th:only-of-type {\n",
       "        vertical-align: middle;\n",
       "    }\n",
       "\n",
       "    .dataframe tbody tr th {\n",
       "        vertical-align: top;\n",
       "    }\n",
       "\n",
       "    .dataframe thead th {\n",
       "        text-align: right;\n",
       "    }\n",
       "</style>\n",
       "<table border=\"1\" class=\"dataframe\">\n",
       "  <thead>\n",
       "    <tr style=\"text-align: right;\">\n",
       "      <th></th>\n",
       "      <th>n</th>\n",
       "      <th>r</th>\n",
       "      <th>CI95%</th>\n",
       "      <th>p-val</th>\n",
       "      <th>BF10</th>\n",
       "      <th>power</th>\n",
       "    </tr>\n",
       "  </thead>\n",
       "  <tbody>\n",
       "    <tr>\n",
       "      <th>pearson</th>\n",
       "      <td>100</td>\n",
       "      <td>-0.903384</td>\n",
       "      <td>[-0.93, -0.86]</td>\n",
       "      <td>8.176426e-38</td>\n",
       "      <td>2.591e+34</td>\n",
       "      <td>1.0</td>\n",
       "    </tr>\n",
       "  </tbody>\n",
       "</table>\n",
       "</div>"
      ],
      "text/plain": [
       "           n         r           CI95%         p-val       BF10  power\n",
       "pearson  100 -0.903384  [-0.93, -0.86]  8.176426e-38  2.591e+34    1.0"
      ]
     },
     "execution_count": 28,
     "metadata": {},
     "output_type": "execute_result"
    }
   ],
   "source": [
    "pg.corr(X,Y)"
   ]
  },
  {
   "cell_type": "markdown",
   "id": "466ae212",
   "metadata": {},
   "source": [
    "Now, just like the $F$-test from earlier, `pingouin` unfortunately doesn't calculate a $t$-statistic for us automatically when running a correlation. But the formula for the $t$-statistic of a Pearson correlation is just\n",
    "\n",
    "\n",
    "$$\n",
    "t = r\\sqrt{\\frac{n-2}{1-r^2}}\n",
    "$$\n",
    "\n",
    "so, with the output from `pg.corr(X,Y)` above, it's not too difficult to find $t$:"
   ]
  },
  {
   "cell_type": "code",
   "execution_count": 29,
   "id": "d4567e48",
   "metadata": {},
   "outputs": [
    {
     "data": {
      "text/plain": [
       "-20.85439996017091"
      ]
     },
     "execution_count": 29,
     "metadata": {},
     "output_type": "execute_result"
    }
   ],
   "source": [
    "from math import sqrt\n",
    "\n",
    "t = -0.903384*sqrt((100-2) / (1-(-0.903384)**2))\n",
    "t"
   ]
  },
  {
   "cell_type": "markdown",
   "id": "cd2e26bc",
   "metadata": {},
   "source": [
    "Look familiar? -20.85 was the same $t$-value that we got when we ran the regression model. That's because the test for the significance of a correlation is identical to the $t$ test that we run on a coefficient in a regression model. "
   ]
  },
  {
   "cell_type": "markdown",
   "id": "319fae53",
   "metadata": {},
   "source": [
    "(corrhyp2)=\n",
    "### Hypothesis tests for all pairwise correlations\n",
    "\n",
    "Okay, one more digression before I return to regression properly. In the previous section I talked about you can run a hypothesis test on a single correlation. But we aren't restricted to computing a single correlation: you can compute *all* pairwise correlations among the variables in your data set. This leads people to the natural question: can we also run hypothesis tests on all of the pairwise correlations in our data using `pg.corr`?\n",
    "\n",
    "The answer is no, and there's a very good reason for this. Testing a single correlation is fine: if you've got some reason to be asking \"is A related to B?\", then you should absolutely run a test to see if there's a significant correlation. But if you've got variables A, B, C, D and E and you're thinking about testing the correlations among all possible pairs of these, a statistician would want to ask: what's your hypothesis? If you're in the position of wanting to test all possible pairs of variables, then you're pretty clearly on a fishing expedition, hunting around in search of significant effects when you don't actually have a clear research hypothesis in mind. This is *dangerous*, and perhaps the authors of the `corr` function didn't want to endorse this sort of behavior. `corr` does have the nice feature that you can call it as an attribute of your dataframe, so for our parenthood data, if we want to see all the parwise correlations in the data, you can simply write"
   ]
  },
  {
   "cell_type": "code",
   "execution_count": 30,
   "id": "03a9c5b8",
   "metadata": {},
   "outputs": [
    {
     "data": {
      "text/html": [
       "<div>\n",
       "<style scoped>\n",
       "    .dataframe tbody tr th:only-of-type {\n",
       "        vertical-align: middle;\n",
       "    }\n",
       "\n",
       "    .dataframe tbody tr th {\n",
       "        vertical-align: top;\n",
       "    }\n",
       "\n",
       "    .dataframe thead th {\n",
       "        text-align: right;\n",
       "    }\n",
       "</style>\n",
       "<table border=\"1\" class=\"dataframe\">\n",
       "  <thead>\n",
       "    <tr style=\"text-align: right;\">\n",
       "      <th></th>\n",
       "      <th>dan_sleep</th>\n",
       "      <th>baby_sleep</th>\n",
       "      <th>dan_grump</th>\n",
       "      <th>day</th>\n",
       "    </tr>\n",
       "  </thead>\n",
       "  <tbody>\n",
       "    <tr>\n",
       "      <th>dan_sleep</th>\n",
       "      <td>1.000000</td>\n",
       "      <td>0.627949</td>\n",
       "      <td>-0.903384</td>\n",
       "      <td>-0.098408</td>\n",
       "    </tr>\n",
       "    <tr>\n",
       "      <th>baby_sleep</th>\n",
       "      <td>0.627949</td>\n",
       "      <td>1.000000</td>\n",
       "      <td>-0.565964</td>\n",
       "      <td>-0.010434</td>\n",
       "    </tr>\n",
       "    <tr>\n",
       "      <th>dan_grump</th>\n",
       "      <td>-0.903384</td>\n",
       "      <td>-0.565964</td>\n",
       "      <td>1.000000</td>\n",
       "      <td>0.076479</td>\n",
       "    </tr>\n",
       "    <tr>\n",
       "      <th>day</th>\n",
       "      <td>-0.098408</td>\n",
       "      <td>-0.010434</td>\n",
       "      <td>0.076479</td>\n",
       "      <td>1.000000</td>\n",
       "    </tr>\n",
       "  </tbody>\n",
       "</table>\n",
       "</div>"
      ],
      "text/plain": [
       "            dan_sleep  baby_sleep  dan_grump       day\n",
       "dan_sleep    1.000000    0.627949  -0.903384 -0.098408\n",
       "baby_sleep   0.627949    1.000000  -0.565964 -0.010434\n",
       "dan_grump   -0.903384   -0.565964   1.000000  0.076479\n",
       "day         -0.098408   -0.010434   0.076479  1.000000"
      ]
     },
     "execution_count": 30,
     "metadata": {},
     "output_type": "execute_result"
    }
   ],
   "source": [
    "df.corr()"
   ]
  },
  {
   "cell_type": "markdown",
   "id": "06550355",
   "metadata": {},
   "source": [
    "and you get a nice correlation matrix, but no p-values.\n",
    "\n",
    "On the other hand... a somewhat less hardline view might be to argue we've encountered this situation before, back when we talked about *post hoc tests* in ANOVA. When running post hoc tests, we didn't have any specific comparisons in mind, so what we did was apply a correction (e.g., Bonferroni, Holm, etc) in order to avoid the possibility of an inflated Type I error rate. From this perspective, it's okay to run hypothesis tests on all your pairwise correlations, but you must treat them as post hoc analyses, and if so you need to apply a correction for multiple comparisons. `rcorr`, also from `pingouin`, lets you do this. You can use the `padjust` argument to specify what kind of correction you would like to apply; here I have chosen a Bonferroni correction:"
   ]
  },
  {
   "cell_type": "code",
   "execution_count": 31,
   "id": "c1d4b47d",
   "metadata": {},
   "outputs": [
    {
     "data": {
      "text/html": [
       "<div>\n",
       "<style scoped>\n",
       "    .dataframe tbody tr th:only-of-type {\n",
       "        vertical-align: middle;\n",
       "    }\n",
       "\n",
       "    .dataframe tbody tr th {\n",
       "        vertical-align: top;\n",
       "    }\n",
       "\n",
       "    .dataframe thead th {\n",
       "        text-align: right;\n",
       "    }\n",
       "</style>\n",
       "<table border=\"1\" class=\"dataframe\">\n",
       "  <thead>\n",
       "    <tr style=\"text-align: right;\">\n",
       "      <th></th>\n",
       "      <th>dan_sleep</th>\n",
       "      <th>baby_sleep</th>\n",
       "      <th>dan_grump</th>\n",
       "      <th>day</th>\n",
       "    </tr>\n",
       "  </thead>\n",
       "  <tbody>\n",
       "    <tr>\n",
       "      <th>dan_sleep</th>\n",
       "      <td>-</td>\n",
       "      <td>***</td>\n",
       "      <td>***</td>\n",
       "      <td></td>\n",
       "    </tr>\n",
       "    <tr>\n",
       "      <th>baby_sleep</th>\n",
       "      <td>0.628</td>\n",
       "      <td>-</td>\n",
       "      <td>***</td>\n",
       "      <td></td>\n",
       "    </tr>\n",
       "    <tr>\n",
       "      <th>dan_grump</th>\n",
       "      <td>-0.903</td>\n",
       "      <td>-0.566</td>\n",
       "      <td>-</td>\n",
       "      <td></td>\n",
       "    </tr>\n",
       "    <tr>\n",
       "      <th>day</th>\n",
       "      <td>-0.098</td>\n",
       "      <td>-0.01</td>\n",
       "      <td>0.076</td>\n",
       "      <td>-</td>\n",
       "    </tr>\n",
       "  </tbody>\n",
       "</table>\n",
       "</div>"
      ],
      "text/plain": [
       "           dan_sleep baby_sleep dan_grump day\n",
       "dan_sleep          -        ***       ***    \n",
       "baby_sleep     0.628          -       ***    \n",
       "dan_grump     -0.903     -0.566         -    \n",
       "day           -0.098      -0.01     0.076   -"
      ]
     },
     "execution_count": 31,
     "metadata": {},
     "output_type": "execute_result"
    }
   ],
   "source": [
    "df.rcorr(padjust = 'bonf')"
   ]
  },
  {
   "cell_type": "markdown",
   "id": "7e7bcec5",
   "metadata": {},
   "source": [
    "The little stars indicate the \"significance level\": one star for $p<0.05$, two stars for $p<0.01$, and three stars for $p<0.001$.\n",
    "\n",
    "So there you have it. If you really desperately want to do pairwise hypothesis tests on your correlations, the `rcorr` function will let you do it. But please, **please** be careful. I can't count the number of times I've had a student panicking in my office because they've run these pairwise correlation tests, and they get one or two significant results that don't make any sense. For some reason, the moment people see those little significance stars appear, they feel compelled to throw away all common sense and assume that the results must correspond to something real that requires an explanation. In most such cases, my experience has been that the right answer is \"it's a Type I error\". Remember when we talked about the [family-wise error rate](fwer)? The more tests you do on the same data, the greater your chances of finding statistically significant results just by, uh, chance."
   ]
  },
  {
   "cell_type": "markdown",
   "id": "1329623c",
   "metadata": {},
   "source": [
    "(regressioncoefs)=\n",
    "### Calculating standardised regression coefficients\n",
    "\n",
    "One more thing that you might want to do is to calculate \"standardised\" regression coefficients, often denoted $\\beta$. The rationale behind standardised coefficients goes like this. In a lot of situations, your variables are on fundamentally different scales. Suppose, for example, my regression model aims to predict people's IQ scores, using their educational attainment (number of years of education) and their income as predictors. Obviously, educational attainment and income are not on the same scales: the number of years of schooling can only vary by 10s of years, whereas income would vary by 10,000s of dollars (or more). The units of measurement have a big influence on the regression coefficients: the $b$ coefficients only make sense when interpreted in light of the units, both of the predictor variables and the outcome variable. This makes it very difficult to compare the coefficients of different predictors. Yet there are situations where you really do want to make comparisons between different coefficients. Specifically, you might want some kind of standard measure of which predictors have the strongest relationship to the outcome. This is what **_standardised coefficients_** aim to do. "
   ]
  },
  {
   "cell_type": "markdown",
   "id": "ccd35c64",
   "metadata": {},
   "source": [
    "The basic idea is quite simple: the standardised coefficients are the coefficients that you would have obtained if you'd converted all the variables to [standard scores](zscores) $z$-scores before running the regression.[^noteregressors]  The idea here is that, by converting all the predictors to $z$-scores, they all go into the regression on the same scale, thereby removing the problem of having variables on different scales. Regardless of what the original variables were, a $\\beta$ value of 1 means that an increase in the predictor of 1 standard deviation will produce a corresponding 1 standard deviation increase in the outcome variable. Therefore, if variable A has a larger absolute value of $\\beta$ than variable B, it is deemed to have a stronger relationship with the outcome. Or at least that's the idea: it's worth being a little cautious here, since this does rely very heavily on the assumption that \"a 1 standard deviation change\" is fundamentally the same kind of thing for all variables. It's not always obvious that this is true. \n",
    "\n",
    "[^noteregressors]: Strictly, you standardise all the *regressors*: that is, every \"thing\" that has a regression coefficient associated with it in the model. For the regression models that I've talked about so far, each predictor variable maps onto exactly one regressor, and vice versa. However, that's not actually true in general: we'll see some examples of this when we learn about [factorial ANOVA](anova2). But for now, we don't need to care too much about this distinction."
   ]
  },
  {
   "cell_type": "markdown",
   "id": "229e5c52",
   "metadata": {},
   "source": [
    "Still, let's give it a try on the `parenthood` data.\n",
    "\n"
   ]
  },
  {
   "cell_type": "code",
   "execution_count": 32,
   "id": "82d6568e",
   "metadata": {},
   "outputs": [
    {
     "data": {
      "text/html": [
       "<div>\n",
       "<style scoped>\n",
       "    .dataframe tbody tr th:only-of-type {\n",
       "        vertical-align: middle;\n",
       "    }\n",
       "\n",
       "    .dataframe tbody tr th {\n",
       "        vertical-align: top;\n",
       "    }\n",
       "\n",
       "    .dataframe thead th {\n",
       "        text-align: right;\n",
       "    }\n",
       "</style>\n",
       "<table border=\"1\" class=\"dataframe\">\n",
       "  <thead>\n",
       "    <tr style=\"text-align: right;\">\n",
       "      <th></th>\n",
       "      <th>names</th>\n",
       "      <th>coef</th>\n",
       "      <th>se</th>\n",
       "      <th>T</th>\n",
       "      <th>pval</th>\n",
       "      <th>r2</th>\n",
       "      <th>adj_r2</th>\n",
       "      <th>CI[2.5%]</th>\n",
       "      <th>CI[97.5%]</th>\n",
       "    </tr>\n",
       "  </thead>\n",
       "  <tbody>\n",
       "    <tr>\n",
       "      <th>0</th>\n",
       "      <td>Intercept</td>\n",
       "      <td>-0.0000</td>\n",
       "      <td>0.0435</td>\n",
       "      <td>-0.0000</td>\n",
       "      <td>1.0000</td>\n",
       "      <td>0.8161</td>\n",
       "      <td>0.8123</td>\n",
       "      <td>-0.0864</td>\n",
       "      <td>0.0864</td>\n",
       "    </tr>\n",
       "    <tr>\n",
       "      <th>1</th>\n",
       "      <td>dan_sleep_standard</td>\n",
       "      <td>-0.9047</td>\n",
       "      <td>0.0559</td>\n",
       "      <td>-16.1715</td>\n",
       "      <td>0.0000</td>\n",
       "      <td>0.8161</td>\n",
       "      <td>0.8123</td>\n",
       "      <td>-1.0158</td>\n",
       "      <td>-0.7937</td>\n",
       "    </tr>\n",
       "    <tr>\n",
       "      <th>2</th>\n",
       "      <td>baby_sleep_standard</td>\n",
       "      <td>0.0022</td>\n",
       "      <td>0.0559</td>\n",
       "      <td>0.0388</td>\n",
       "      <td>0.9691</td>\n",
       "      <td>0.8161</td>\n",
       "      <td>0.8123</td>\n",
       "      <td>-0.1089</td>\n",
       "      <td>0.1132</td>\n",
       "    </tr>\n",
       "  </tbody>\n",
       "</table>\n",
       "</div>"
      ],
      "text/plain": [
       "                 names    coef      se        T    pval      r2  adj_r2  \\\n",
       "0            Intercept -0.0000  0.0435  -0.0000  1.0000  0.8161  0.8123   \n",
       "1   dan_sleep_standard -0.9047  0.0559 -16.1715  0.0000  0.8161  0.8123   \n",
       "2  baby_sleep_standard  0.0022  0.0559   0.0388  0.9691  0.8161  0.8123   \n",
       "\n",
       "   CI[2.5%]  CI[97.5%]  \n",
       "0   -0.0864     0.0864  \n",
       "1   -1.0158    -0.7937  \n",
       "2   -0.1089     0.1132  "
      ]
     },
     "execution_count": 32,
     "metadata": {},
     "output_type": "execute_result"
    }
   ],
   "source": [
    "from scipy import stats\n",
    "import pingouin as pg\n",
    "\n",
    "df['dan_sleep_standard'] = stats.zscore(df['dan_sleep'])\n",
    "df['baby_sleep_standard'] = stats.zscore(df['baby_sleep'])\n",
    "df['dan_grump'] = stats.zscore(df['dan_grump'])\n",
    "\n",
    "\n",
    "predictors = df[['dan_sleep_standard', 'baby_sleep_standard']]\n",
    "outcome = df['dan_grump']\n",
    "\n",
    "mod3 = pg.linear_regression(predictors, outcome)\n",
    "mod3.round(4)\n"
   ]
  },
  {
   "cell_type": "markdown",
   "id": "63cc2cde",
   "metadata": {},
   "source": [
    "This clearly shows that the `dan_sleep` variable has a much stronger effect than the `baby_sleep` variable. However, this is a perfect example of a situation where it would probably make sense to use the original coefficients $b$ rather than the standardised coefficients $\\beta$. After all, my sleep and the baby's sleep are *already* on the same scale: number of hours slept. Why complicate matters by converting these to $z$-scores?"
   ]
  },
  {
   "cell_type": "markdown",
   "id": "ab779f4e",
   "metadata": {},
   "source": [
    "(regressionassumptions)=\n",
    "\n",
    "## Assumptions of regression\n",
    "\n",
    "The linear regression model that I've been discussing relies on several assumptions. In the section on [regression diagnostics](regressiondiagnostics) we'll talk a lot more about how to check that these assumptions are being met, but first, let's have a look at each of them.\n",
    "\n",
    "\n",
    "- *Normality*. Like half the models in statistics, standard linear regression relies on an assumption of normality. Specifically, it assumes that the *residuals* are normally distributed. It's actually okay if the predictors $X$ and the outcome $Y$ are non-normal, so long as the residuals $\\epsilon$ are normal. See [](regressionnormality).\n",
    "- *Linearity*. A pretty fundamental assumption of the linear regression model is that relationship between $X$ and $Y$ actually be linear! Regardless of whether it's a simple regression or a multiple regression, we assume that the relatiships involved are linear. See [](regressionlinearity).\n",
    "- *Homogeneity of variance*. Strictly speaking, the regression model assumes that each residual $\\epsilon_i$ is generated from a normal distribution with mean 0, and (more importantly for the current purposes) with a standard deviation $\\sigma$ that is the same for every single residual. In practice, it's impossible to test the assumption that every residual is identically distributed. Instead, what we care about is that the standard deviation of the residual is the same for all values of $\\hat{Y}$, and (if we're being especially paranoid) all values of every predictor $X$ in the model. See [](regressionhomogeneity).\n",
    "- *Uncorrelated predictors*. The idea here is that, is a multiple regression model, you don't want your predictors to be too strongly correlated with each other. This isn't  \"technically\" an assumption of the regression model, but in practice it's required. Predictors that are too strongly correlated with each other (referred to as \"collinearity\") can cause problems when evaluating the model. See [](regressioncollinearity)\n",
    "- *Residuals are independent of each other*. This is really just a \"catch all\" assumption, to the effect that \"there's nothing else funny going on in the residuals\". If there is something weird (e.g., the residuals all depend heavily on some other unmeasured variable) going on, it might screw things up.\n",
    "- *No \"bad\" outliers*. Again, not actually a technical assumption of the model (or rather, it's sort of implied by all the others), but there is an implicit assumption that your regression model isn't being too strongly influenced by one or two anomalous data points; since this raises questions about the adequacy of the model, and the trustworthiness of the data in some cases. See [](regressionoutliers).\n",
    "\n"
   ]
  },
  {
   "cell_type": "markdown",
   "id": "00528a88",
   "metadata": {},
   "source": [
    "(regressiondiagnostics)=\n",
    "## Model checking\n",
    "\n",
    "The main focus of this section is **_regression diagnostics_**, a term that refers to the art of checking that the assumptions of your regression model have been met, figuring out how to fix the model if the assumptions are violated, and generally to check that nothing \"funny\" is going on. I refer to this as the \"art\" of model checking with good reason: it's not easy, and while there are a lot of fairly standardised tools that you can use to diagnose and maybe even cure the problems that ail your model (if there are any, that is!), you really do need to exercise a certain amount of judgment when doing this. It's easy to get lost in all the details of checking this thing or that thing, and it's quite exhausting to try to remember what all the different things are. This has the very nasty side effect that a lot of people get frustrated when trying to learn *all* the tools, so instead they decide not to do *any* model checking. This is a bit of a worry! \n",
    "\n",
    "In this section, I describe several different things you can do to check that your regression model is doing what it's supposed to. It doesn't cover the full range of things you could do, but it's still much more detailed than what I see a lot of people doing in practice; and I don't usually cover all of this in my intro stats class myself. However, I do think it's important that you get a sense of what tools are at your disposal, so I'll try to introduce a bunch of them here. \n",
    "\n",
    "\n",
    "### Three kinds of residuals\n",
    "\n",
    "The majority of regression diagnostics revolve around looking at the residuals, and by now you've probably formed a sufficiently pessimistic theory of statistics to be able to guess that -- precisely *because* of the fact that we care a lot about the residuals -- there are several different kinds of  residual that we might consider. In particular, the following three kinds of residual are referred to in this section: \"ordinary residuals\", \"standardised residuals\", and \"Studentised residuals\". There is a fourth kind that you'll see referred to in some of the figures, and that's the \"Pearson residual\": however, for the models that we're talking about in this chapter, the Pearson residual is identical to the ordinary residual. \n",
    "\n",
    "The first and simplest kind of residuals that we care about are **_ordinary residuals_**. These are the actual, raw residuals that I've been talking about throughout this chapter. The ordinary residual is just the difference between the fitted value $\\hat{Y}_i$ and the observed value $Y_i$. I've been using the notation $\\epsilon_i$ to refer to the $i$-th ordinary residual, and by gum I'm going to stick to it. With this in mind, we have the very simple equation\n",
    "\n",
    "$$\n",
    "\\epsilon_i = Y_i - \\hat{Y}_i\n",
    "$$"
   ]
  },
  {
   "cell_type": "markdown",
   "id": "42eb1e52",
   "metadata": {},
   "source": [
    "This is of course what we saw earlier, and unless I specifically refer to some other kind of residual, this is the one I'm talking about. So there's nothing new here: I just wanted to repeat myself. In any case, if you have run your regression model using `pingouin`, you can access the residuals from your model (in our case, our `mod2`)like this:"
   ]
  },
  {
   "cell_type": "code",
   "execution_count": 33,
   "id": "3742285c",
   "metadata": {},
   "outputs": [],
   "source": [
    "res = mod2.residuals_"
   ]
  },
  {
   "cell_type": "markdown",
   "id": "7a19efa9",
   "metadata": {},
   "source": [
    "One drawback to using ordinary residuals is that they're always on a different scale, depending on what the outcome variable is and how good the regression model is. That is, unless you've decided to run a regression model without an intercept term, the ordinary residuals will have mean 0; but the variance is different for every regression. In a lot of contexts, especially where you're only interested in the *pattern* of the residuals and not their actual values, it's convenient to estimate the **_standardised residuals_**, which are normalised in such a way as to have standard deviation 1. The way we calculate these is to divide the ordinary residual by an estimate of the (population) standard deviation of these residuals. For technical reasons, mumble mumble, the formula for this is:\n",
    "\n",
    "$$\n",
    "\\epsilon_{i}^\\prime = \\frac{\\epsilon_i}{\\hat{\\sigma} \\sqrt{1-h_i}}\n",
    "$$"
   ]
  },
  {
   "cell_type": "markdown",
   "id": "efea5e30",
   "metadata": {},
   "source": [
    "where $\\hat\\sigma$ in this context is the estimated population standard deviation of the ordinary residuals, and $h_i$ is the \"hat value\" of the $i$th observation. I haven't explained hat values to you yet (but have no fear,[^notehope] it's coming shortly), so this won't make a lot of sense. For now, it's enough to interpret the standardised residuals as if we'd converted the ordinary residuals to $z$-scores. In fact, that is more or less the truth, it's just that we're being a bit fancier. Now, unfortunately, `pingouin` does not provide standardized residuals, so if we want to inspect these, the best option is probably `statsmodels`:\n",
    "\n",
    "[^notehope]: Or have no hope, as the case may be."
   ]
  },
  {
   "cell_type": "code",
   "execution_count": 34,
   "id": "930915eb",
   "metadata": {},
   "outputs": [],
   "source": [
    "import statsmodels.api as sm\n",
    "\n",
    "predictors = df[['dan_sleep', 'baby_sleep']]\n",
    "outcome = df['dan_grump']\n",
    "\n",
    "## fit regression model\n",
    "predictors = sm.add_constant(predictors)\n",
    "mod = sm.OLS(outcome, predictors)\n",
    "est = mod.fit()\n",
    "\n",
    "#obtain standardized residuals\n",
    "influence = est.get_influence()\n",
    "res_standard = influence.resid_studentized_internal\n"
   ]
  },
  {
   "cell_type": "markdown",
   "id": "d8724979",
   "metadata": {},
   "source": [
    "\n",
    "The third kind of residuals are **_Studentised residuals_** (also called \"jackknifed residuals\") and they're even fancier than standardised residuals. Again, the idea is to take the ordinary residual and divide it by some quantity in order to estimate some standardised notion of the residual, but the formula for doing the calculations this time is subtly different:\n",
    "\n",
    "$$\n",
    "\\epsilon_{i}^* = \\frac{\\epsilon_i}{\\hat{\\sigma}_{(-i)} \\sqrt{1-h_i}}\n",
    "$$"
   ]
  },
  {
   "cell_type": "markdown",
   "id": "cb00bfc5",
   "metadata": {},
   "source": [
    "Notice that our estimate of the standard deviation here is written $\\hat{\\sigma}_{(-i)}$. What this corresponds to is the estimate of the residual standard deviation that you *would have obtained*, if you just deleted the $i$th observation from the data set. This sounds like the sort of thing that would be a nightmare to calculate, since it seems to be saying that you have to run $N$ new regression models (even a modern computer might grumble a bit at that, especially if you've got a large data set). Fortunately, some terribly clever person has shown that this standard deviation estimate is actually given by the following equation:\n",
    "\n",
    "$$\n",
    "\\hat\\sigma_{(-i)} = \\hat{\\sigma} \\ \\sqrt{\\frac{N-K-1 - {\\epsilon_{i}^\\prime}^2}{N-K-2}}\n",
    "$$\n",
    "\n",
    "Isn't that a pip?\n",
    "\n",
    "If you ever need to calculate studentised residuals yourself, this is also possible using `statsmodels`. Since we have already used `statmodels` to estimate our model above, when we calculated the standardized residuals, we can just re-use our model estimate `est` from before, and the first column of the resulting dataframe gives us our studentized residuals:"
   ]
  },
  {
   "cell_type": "code",
   "execution_count": 35,
   "id": "e1e357d9",
   "metadata": {},
   "outputs": [
    {
     "data": {
      "text/html": [
       "<div>\n",
       "<style scoped>\n",
       "    .dataframe tbody tr th:only-of-type {\n",
       "        vertical-align: middle;\n",
       "    }\n",
       "\n",
       "    .dataframe tbody tr th {\n",
       "        vertical-align: top;\n",
       "    }\n",
       "\n",
       "    .dataframe thead th {\n",
       "        text-align: right;\n",
       "    }\n",
       "</style>\n",
       "<table border=\"1\" class=\"dataframe\">\n",
       "  <thead>\n",
       "    <tr style=\"text-align: right;\">\n",
       "      <th></th>\n",
       "      <th>student_resid</th>\n",
       "      <th>unadj_p</th>\n",
       "      <th>bonf(p)</th>\n",
       "    </tr>\n",
       "  </thead>\n",
       "  <tbody>\n",
       "    <tr>\n",
       "      <th>0</th>\n",
       "      <td>-0.494821</td>\n",
       "      <td>0.621857</td>\n",
       "      <td>1.0</td>\n",
       "    </tr>\n",
       "    <tr>\n",
       "      <th>1</th>\n",
       "      <td>1.105570</td>\n",
       "      <td>0.271676</td>\n",
       "      <td>1.0</td>\n",
       "    </tr>\n",
       "    <tr>\n",
       "      <th>2</th>\n",
       "      <td>0.461729</td>\n",
       "      <td>0.645321</td>\n",
       "      <td>1.0</td>\n",
       "    </tr>\n",
       "    <tr>\n",
       "      <th>3</th>\n",
       "      <td>-0.475346</td>\n",
       "      <td>0.635620</td>\n",
       "      <td>1.0</td>\n",
       "    </tr>\n",
       "    <tr>\n",
       "      <th>4</th>\n",
       "      <td>0.166721</td>\n",
       "      <td>0.867940</td>\n",
       "      <td>1.0</td>\n",
       "    </tr>\n",
       "  </tbody>\n",
       "</table>\n",
       "</div>"
      ],
      "text/plain": [
       "   student_resid   unadj_p  bonf(p)\n",
       "0      -0.494821  0.621857      1.0\n",
       "1       1.105570  0.271676      1.0\n",
       "2       0.461729  0.645321      1.0\n",
       "3      -0.475346  0.635620      1.0\n",
       "4       0.166721  0.867940      1.0"
      ]
     },
     "execution_count": 35,
     "metadata": {},
     "output_type": "execute_result"
    }
   ],
   "source": [
    "stud_res = est.outlier_test()\n",
    "stud_res.head()"
   ]
  },
  {
   "cell_type": "markdown",
   "id": "fde761fe",
   "metadata": {},
   "source": [
    "Before moving on, I should point out that you don't often need to manually extract these residuals yourself, even though they are at the heart of almost all regression diagnostics. Most of the time the various functions that run the diagnostics will take care of these calculations for you."
   ]
  },
  {
   "cell_type": "markdown",
   "id": "183d7642",
   "metadata": {},
   "source": [
    "(regressionoutliers)=\n",
    "\n",
    "### Three kinds of anomalous data\n",
    "One danger that you can run into with linear regression models is that your analysis might be disproportionately sensitive to a smallish number of \"unusual\" or \"anomalous\" observations. In the context of linear regression, there are three conceptually distinct ways in which an observation might be called \"anomalous\". All three are interesting, but they have rather different implications for your analysis.\n",
    "\n",
    "The first kind of unusual observation is an **_outlier_**. The definition of an outlier (in this context) is an observation that is very different from what the regression model predicts. An example is shown in {numref}`fig-outlier`. In practice, we operationalise this concept by saying that an outlier is an observation that has a very large Studentised residual, $\\epsilon_i^*$. Outliers are interesting: a big outlier *might* correspond to junk data -- e.g., the variables might have been entered incorrectly, or some other defect may be detectable. Note that you shouldn't throw an observation away just because it's an outlier. But the fact that it's an outlier is often a cue to look more closely at that case, and try to find out why it's so different."
   ]
  },
  {
   "cell_type": "code",
   "execution_count": 36,
   "id": "dcc141dc",
   "metadata": {
    "tags": [
     "hide-input"
    ]
   },
   "outputs": [
    {
     "data": {
      "image/png": "[encoded data removed]",
      "text/plain": [
       "<Figure size 432x288 with 1 Axes>"
      ]
     },
     "metadata": {},
     "output_type": "display_data"
    }
   ],
   "source": [
    "import numpy as np\n",
    "import matplotlib.pyplot as plt\n",
    "from scipy.optimize import curve_fit\n",
    "import pandas as pd\n",
    "import seaborn as sns\n",
    "\n",
    "\n",
    "df = pd.DataFrame(\n",
    "    {'x': [1, 1.3, 1.8, 1.9, 2.4, 2.3, 2.4, 2.6, 2.8, 3.6, 4],\n",
    "     'y': [1.5, 1.4, 1.9, 1.7, 2.3, 2.1, 2.6, 2.8, 2.4, 2.6, 2.8],\n",
    "     'y2': [1.5, 1.4, 1.9, 1.7, 4, 2.1, 2.6, 2.8, 2.4, 2.6, 2.8]\n",
    "    })\n",
    "\n",
    "\n",
    "\n",
    "# fit linear regression model and save parameters\n",
    "def func(x, a, b):\n",
    "    return a * x + b\n",
    "\n",
    "initialParameters = np.array([1.0, 1.0])\n",
    "\n",
    "fittedParameters, pcov = curve_fit(func, df['x'], df['y'], initialParameters)\n",
    "\n",
    "modelPredictions = func(df['x'], *fittedParameters) \n",
    "\n",
    "xModel = np.linspace(min(df['x']), max(df['x']))\n",
    "yModel = func(xModel, *fittedParameters)\n",
    "\n",
    "\n",
    "# plot data\n",
    "fig = plt.figure() \n",
    "ax = fig.add_subplot()\n",
    "\n",
    "\n",
    "sns.scatterplot(data = df, x='x', y='y')\n",
    "\n",
    "# add regression line\n",
    "ax.plot(xModel, yModel)\n",
    "\n",
    "\n",
    "initialParameters = np.array([1.0, 1.0])\n",
    "\n",
    "fittedParameters, pcov = curve_fit(func, df['x'], df['y2'], initialParameters)\n",
    "\n",
    "modelPredictions = func(df['x'], *fittedParameters) \n",
    "\n",
    "xModel = np.linspace(min(df['x']), max(df['x']))\n",
    "yModel = func(xModel, *fittedParameters)\n",
    "\n",
    "ax.plot(xModel, yModel)\n",
    "ax.plot(2.4, 4, 'ro')\n",
    "ax.plot([2.4, 2.4], [2.4 ,4], linestyle='dashed')\n",
    "ax.grid(False)\n",
    "\n",
    "sns.despine()\n",
    "plt.show()"
   ]
  },
  {
   "cell_type": "markdown",
   "id": "358631a1",
   "metadata": {},
   "source": [
    " ```{glue:figure} outlier-fig\n",
    ":figwidth: 600px\n",
    ":name: fig-outlier\n",
    "\n",
    "An illustration of outliers. The orange line plots the regression line estimated when the anomalous (red) data point is included, and the dotted line shows the residual for the outlier. The blue line shows the regression line that would have been estimated without the anomalous observation included. The outlier has an unusual value on the outcome (y axis location) but not the predictor (x axis location), and lies a long way from the regression line.\n",
    "\n",
    "```"
   ]
  },
  {
   "cell_type": "markdown",
   "id": "c72b4d9e",
   "metadata": {},
   "source": [
    "The second way in which an observation can be unusual is if it has high **_leverage_**: this happens when the observation is very different from all the other observations. This doesn't necessarily have to correspond to a large residual: if the observation happens to be unusual on all variables in precisely the same way, it can actually lie very close to the regression line. An example of this is shown in panel A of {numref}`fig-leverage-influence`. The leverage of an observation is operationalised in terms of its *hat value*, usually written $h_i$. The formula for the hat value is rather complicated[^notehatmatrix] but its interpretation is not: $h_i$ is a measure of the extent to which the $i$-th observation is \"in control\" of where the regression line ends up going. We won't bother extracting the hat values here, but if you want to do this, you can use the `get_influence` method from the `statsmodels.api` package to inspect the relative influence of data points. For now, it is enough to get an intuitive, visual idea of what leverage can mean.\n",
    "\n",
    "[^notehatmatrix]: Again, for the linear algebra fanatics: the \"hat matrix\" is defined to be that matrix $H$ that converts the vector of observed values $y$ into a vector of fitted values $\\hat{y}$, such that $\\hat{y} = H y$. The name comes from the fact that this is the matrix that \"puts a hat on $y$\". The  hat *value* of the $i$-th observation is the $i$-th diagonal element of this matrix (so technically I should be writing it as $h_{ii}$ rather than $h_{i}$). Oh, and in case you care, here's how it's calculated: $H = X(X^TX)^{-1} X^T$. Pretty, isn't it?"
   ]
  },
  {
   "cell_type": "code",
   "execution_count": 37,
   "id": "ee9dcdf5",
   "metadata": {
    "tags": [
     "hide-input"
    ]
   },
   "outputs": [
    {
     "data": {
      "image/png": "[encoded data removed]",
      "text/plain": [
       "<Figure size 720x360 with 2 Axes>"
      ]
     },
     "metadata": {},
     "output_type": "display_data"
    }
   ],
   "source": [
    "import numpy as np\n",
    "import matplotlib.pyplot as plt\n",
    "from scipy.optimize import curve_fit\n",
    "import pandas as pd\n",
    "import seaborn as sns\n",
    "import string\n",
    "\n",
    "fig, axes = plt.subplots(1, 2, figsize=(10, 5), sharey=True)\n",
    "\n",
    "df = pd.DataFrame(\n",
    "    {'x': [1, 1.3, 1.8, 1.9, 2.4, 2.3, 2.4, 2.6, 2.8, 3.6, 4, 8],\n",
    "     'y': [1.5, 1.4, 1.9, 1.7, 2.3, 2.1, 2.6, 2.8, 2.4, 2.6, 2.8, 7.8],\n",
    "     'y2': [1.5, 1.4, 1.9, 1.7, 4, 2.1, 2.6, 2.8, 2.4, 2.6, 2.8, 7.4]\n",
    "    })\n",
    "\n",
    "\n",
    "\n",
    "# fit linear regression model and save parameters\n",
    "def func(x, a, b):\n",
    "    return a * x + b\n",
    "\n",
    "initialParameters = np.array([1.0, 1.0])\n",
    "\n",
    "fittedParameters, pcov = curve_fit(func, df['x'], df['y'], initialParameters)\n",
    "\n",
    "modelPredictions = func(df['x'], *fittedParameters) \n",
    "\n",
    "xModel = np.linspace(min(df['x']), max(df['x']))\n",
    "yModel = func(xModel, *fittedParameters)\n",
    "\n",
    "\n",
    "\n",
    "sns.scatterplot(data = df, x='x', y='y', ax = axes[0])\n",
    "\n",
    "# add regression line\n",
    "axes[0].plot(xModel, yModel)\n",
    "\n",
    "\n",
    "initialParameters = np.array([1.0, 1.0])\n",
    "\n",
    "fittedParameters, pcov = curve_fit(func, df['x'], df['y2'], initialParameters)\n",
    "\n",
    "modelPredictions = func(df['x'], *fittedParameters) \n",
    "\n",
    "xModel = np.linspace(min(df['x']), max(df['x']))\n",
    "yModel = func(xModel, *fittedParameters)\n",
    "\n",
    "axes[0].plot(xModel, yModel)\n",
    "axes[0].plot(8, 7.4, 'ro')\n",
    "axes[0].plot([8, 8], [7.4 ,7.6], linestyle='dashed')\n",
    "axes[0].grid(False)\n",
    "\n",
    "# Plot 2\n",
    "\n",
    "df = pd.DataFrame(\n",
    "    {'x': [1, 1.3, 1.8, 1.9, 2.4, 2.3, 2.4, 2.6, 2.8, 3.6, 4, 8],\n",
    "     'y': [1.5, 1.4, 1.9, 1.7, 2.3, 2.1, 2.6, 2.8, 2.4, 2.6, 2.8, 7.8],\n",
    "     'y2': [1.5, 1.4, 1.9, 1.7, 4, 2.1, 2.6, 2.8, 2.4, 2.6, 2.8, 5]\n",
    "    })\n",
    "\n",
    "\n",
    "\n",
    "# fit linear regression model and save parameters\n",
    "def func(x, a, b):\n",
    "    return a * x + b\n",
    "\n",
    "initialParameters = np.array([1.0, 1.0])\n",
    "\n",
    "fittedParameters, pcov = curve_fit(func, df['x'], df['y'], initialParameters)\n",
    "\n",
    "modelPredictions = func(df['x'], *fittedParameters) \n",
    "\n",
    "xModel = np.linspace(min(df['x']), max(df['x']))\n",
    "yModel = func(xModel, *fittedParameters)\n",
    "\n",
    "\n",
    "\n",
    "\n",
    "sns.scatterplot(data = df, x='x', y='y', ax = axes[1])\n",
    "\n",
    "# add regression line\n",
    "axes[1].plot(xModel, yModel)\n",
    "\n",
    "\n",
    "initialParameters = np.array([1.0, 1.0])\n",
    "\n",
    "fittedParameters, pcov = curve_fit(func, df['x'], df['y2'], initialParameters)\n",
    "\n",
    "modelPredictions = func(df['x'], *fittedParameters) \n",
    "\n",
    "xModel = np.linspace(min(df['x']), max(df['x']))\n",
    "yModel = func(xModel, *fittedParameters)\n",
    "\n",
    "axes[1].plot(xModel, yModel)\n",
    "axes[1].plot(8, 5, 'ro')\n",
    "axes[1].plot([8, 8], [5 ,7.3], linestyle='dashed')\n",
    "axes[1].grid(False)\n",
    "\n",
    "\n",
    "for n, ax in enumerate(axes):   \n",
    "    ax.text(-0.1, 1.1, string.ascii_uppercase[n], transform=ax.transAxes, \n",
    "            size=20)\n",
    "\n",
    "\n",
    "sns.despine()\n",
    "plt.show()\n"
   ]
  },
  {
   "cell_type": "markdown",
   "id": "c279c3e6",
   "metadata": {},
   "source": [
    " ```{glue:figure} leverage-influence-fig\n",
    ":figwidth: 600px\n",
    ":name: fig-leverage-influence\n",
    "\n",
    "Outliers showing high leverage points (panel A) and high influence points (panel B).\n",
    "\n",
    "```"
   ]
  },
  {
   "cell_type": "markdown",
   "id": "f6587dc5",
   "metadata": {},
   "source": [
    "In general, if an observation lies far away from the other ones in terms of the predictor variables, it will have a large hat value (as a rough guide, high leverage is when the hat value is more than 2-3 times the average; and note that the sum of the hat values is constrained to be equal to $K+1$). High leverage points are also worth looking at in more detail, but they're much less likely to be a cause for concern unless they are also outliers.\n",
    "\n",
    "This brings us to our third measure of unusualness, the **_influence_** of an observation. A high influence observation is an outlier that has high leverage. That is, it is an observation that is very different to all the other ones in some respect, and also lies a long way from the regression line. This is illustrated in {numref}`fig-leverage-influence`, panel B. Notice the contrast to panel A, and to {numref}`fig-outlier`: outliers don't move the regression line much, and neither do high leverage points. But something that is an outlier and has high leverage... that has a big effect on the regression line."
   ]
  },
  {
   "cell_type": "markdown",
   "id": "7c53757c",
   "metadata": {},
   "source": [
    "That's why we call these points high influence; and it's why they're the biggest worry. We operationalise influence in terms of a measure known as **_Cook's distance_**, \n",
    "\n",
    "$$\n",
    "D_i = \\frac{{\\epsilon_i^*}^2 }{K+1} \\times \\frac{h_i}{1-h_i}\n",
    "$$ \n",
    "\n",
    "Notice that this is a multiplication of something that measures the outlier-ness of the observation (the bit on the \n",
    "left), and something that measures the leverage of the observation (the bit on the right). In other words, in order to have a large Cook's distance, an observation must be a fairly substantial outlier *and* have high leverage."
   ]
  },
  {
   "cell_type": "markdown",
   "id": "4b132160",
   "metadata": {},
   "source": [
    "Again, if you want to quantify Cook's distance, this can be done using using `statsmodels.api`. I won't go through this in detail, but if you are interested, you can click to show the code, and see how I got the Cook's distance values from `statmodels`."
   ]
  },
  {
   "cell_type": "code",
   "execution_count": 38,
   "id": "fbb75951",
   "metadata": {
    "tags": [
     "hide-input"
    ]
   },
   "outputs": [
    {
     "data": {
      "image/png": "[encoded data removed]",
      "text/plain": [
       "<Figure size 576x360 with 2 Axes>"
      ]
     },
     "metadata": {},
     "output_type": "display_data"
    }
   ],
   "source": [
    "import seaborn as sns\n",
    "import statsmodels.api as sm\n",
    "\n",
    "# Define a figure with two panels\n",
    "fig, axes = plt.subplots(1, 2, figsize=(8, 5))\n",
    "\n",
    "# Define our made-up data\n",
    "df = pd.DataFrame(\n",
    "    {'x': [1, 1.3, 1.8, 1.9, 2.4, 2.3, 2.4, 2.6, 2.8, 3.6, 4, 8],\n",
    "     'y': [1.5, 1.4, 1.9, 1.7, 2.3, 2.1, 2.6, 2.8, 2.4, 2.6, 2.8, 7.8],\n",
    "     'y2': [1.5, 1.4, 1.9, 1.7, 4, 2.1, 2.6, 2.8, 2.4, 2.6, 2.8, 5]\n",
    "    })\n",
    "\n",
    "# Get Cook's distance\n",
    "\n",
    "# model the data using statsmodels.api OLS (ordinary least squares)\n",
    "model = sm.OLS(df['y2'], df['x'])\n",
    "results = model.fit()\n",
    "\n",
    "# extract cook's distance\n",
    "influence = results.get_influence()\n",
    "cooks = influence.cooks_distance\n",
    "\n",
    "# for plotting, make a dataframe with the x data, and the corresponding cook's distances\n",
    "df_cooks = pd.DataFrame(\n",
    "    {'x': df['x'],\n",
    "     'y': cooks[0]\n",
    "    })\n",
    "\n",
    "# Panel A\n",
    "\n",
    "# plot Cook's distance against the x data points\n",
    "sns.scatterplot(data = df_cooks, x = 'x', y = 'y', ax = axes[0])\n",
    "axes[0].axhline(y=1, color='gray', linestyle='--')\n",
    "axes[0].axhline(y= 4/len(df['x']), color='gray', linestyle='--')\n",
    "\n",
    "\n",
    "\n",
    "# Panel B (same as before)\n",
    "\n",
    "df = pd.DataFrame(\n",
    "    {'x': [1, 1.3, 1.8, 1.9, 2.4, 2.3, 2.4, 2.6, 2.8, 3.6, 4, 8],\n",
    "     'y': [1.5, 1.4, 1.9, 1.7, 2.3, 2.1, 2.6, 2.8, 2.4, 2.6, 2.8, 7.8],\n",
    "     'y2': [1.5, 1.4, 1.9, 1.7, 4, 2.1, 2.6, 2.8, 2.4, 2.6, 2.8, 5]\n",
    "    })\n",
    "\n",
    "\n",
    "\n",
    "# fit linear regression model and save parameters\n",
    "def func(x, a, b):\n",
    "    return a * x + b\n",
    "\n",
    "\n",
    "# first regression line\n",
    "initialParameters = np.array([1.0, 1.0])\n",
    "\n",
    "fittedParameters, pcov = curve_fit(func, df['x'], df['y'], initialParameters)\n",
    "\n",
    "modelPredictions = func(df['x'], *fittedParameters) \n",
    "\n",
    "xModel = np.linspace(min(df['x']), max(df['x']))\n",
    "yModel = func(xModel, *fittedParameters)\n",
    "\n",
    "\n",
    "# plot data points\n",
    "sns.scatterplot(data = df, x='x', y='y', ax = axes[1])\n",
    "\n",
    "# plot first regression line\n",
    "axes[1].plot(xModel, yModel)\n",
    "\n",
    "\n",
    "# second regression line\n",
    "\n",
    "initialParameters = np.array([1.0, 1.0])\n",
    "\n",
    "fittedParameters, pcov = curve_fit(func, df['x'], df['y2'], initialParameters)\n",
    "\n",
    "modelPredictions = func(df['x'], *fittedParameters) \n",
    "\n",
    "xModel = np.linspace(min(df['x']), max(df['x']))\n",
    "yModel = func(xModel, *fittedParameters)\n",
    "\n",
    "axes[1].plot(xModel, yModel)\n",
    "\n",
    "# add red point to show \"outlier\"\n",
    "axes[1].plot(8, 5, 'ro')\n",
    "\n",
    "# add dashed line to show change in residual\n",
    "axes[1].plot([8, 8], [5 ,7.3], linestyle='dashed')\n",
    "axes[1].grid(False)\n",
    "\n",
    "# add letter labels\n",
    "for n, ax in enumerate(axes):   \n",
    "    ax.text(-0.1, 1.1, string.ascii_uppercase[n], transform=ax.transAxes, \n",
    "            size=20)\n",
    "\n",
    "# prettify\n",
    "sns.despine()\n",
    "for ax in axes:\n",
    "    ax.grid(False)\n",
    "plt.show()"
   ]
  },
  {
   "cell_type": "markdown",
   "id": "e2664025",
   "metadata": {},
   "source": [
    " ```{glue:figure} cooks-fig\n",
    ":figwidth: 600px\n",
    ":name: fig-cooks\n",
    "\n",
    "A visualization of Cook's distance as a means for identifying the influence of each data point. Panel B is the same as panel B in {numref}`fig-leverage-influence` above. The red dot show the effect on the entire regression line that sinking the final point from 7.4 to 5 has. Panel A shows Cook's distance for the data set in which the data point at x = 8 is 5 (the orange line). The dashed lines show two possible cutoff points for a \"large\" Cook's distance: either 1 or 4/N, in which N is the number of data points.\n",
    "\n",
    "```"
   ]
  },
  {
   "cell_type": "markdown",
   "id": "5c0c4ecb",
   "metadata": {},
   "source": [
    "As a rough guide, Cook's distance greater than 1 is often considered large (that's what I typically use as a quick and dirty rule), though a quick scan of the internet and a few papers suggests that $4/N$ has also been suggested as a possible rule of thumb. As the visualization in {numref}`fig-cooks` illustrates, the red data point at x = 8 has a large Cook's distance."
   ]
  },
  {
   "cell_type": "markdown",
   "id": "e0ecd657",
   "metadata": {},
   "source": [
    "An obvious question to ask next is, if you do have large values of Cook's distance, what should you do? As always, there's no hard and fast rules. Probably the first thing to do is to try running the regression with that point excluded and see what happens to the model performance and to the regression coefficients. If they really are substantially different, it's time to start digging into your data set and your notes that you no doubt were scribbling as your ran your study; try to figure out *why* the point is so different. If you start to become convinced that this one data point is badly distorting your results, you might consider excluding it, but that's less than ideal unless you have a solid explanation for why this particular case is qualitatively different from the others and therefore deserves to be handled separately.[^noterobust] To give an example, let's delete the observation from day 64, the observation with the largest Cook's distance for the `mod2` model, where we predicted my grumpiness on the basis of my sleep, and my baby's sleep.\n",
    "\n",
    "[^noterobust]: An alternative is to run a \"robust regression\"; I might discuss robust regression in a later version of this book, but I don't promise."
   ]
  },
  {
   "cell_type": "markdown",
   "id": "95401e5b",
   "metadata": {},
   "source": [
    "First, let's get back to the original sleep data, and remind ourselves of what our model coefficients looked like:"
   ]
  },
  {
   "cell_type": "code",
   "execution_count": 39,
   "id": "cef42308",
   "metadata": {},
   "outputs": [
    {
     "data": {
      "text/html": [
       "<div>\n",
       "<style scoped>\n",
       "    .dataframe tbody tr th:only-of-type {\n",
       "        vertical-align: middle;\n",
       "    }\n",
       "\n",
       "    .dataframe tbody tr th {\n",
       "        vertical-align: top;\n",
       "    }\n",
       "\n",
       "    .dataframe thead th {\n",
       "        text-align: right;\n",
       "    }\n",
       "</style>\n",
       "<table border=\"1\" class=\"dataframe\">\n",
       "  <thead>\n",
       "    <tr style=\"text-align: right;\">\n",
       "      <th></th>\n",
       "      <th>names</th>\n",
       "      <th>coef</th>\n",
       "      <th>se</th>\n",
       "      <th>T</th>\n",
       "      <th>pval</th>\n",
       "      <th>r2</th>\n",
       "      <th>adj_r2</th>\n",
       "      <th>CI[2.5%]</th>\n",
       "      <th>CI[97.5%]</th>\n",
       "    </tr>\n",
       "  </thead>\n",
       "  <tbody>\n",
       "    <tr>\n",
       "      <th>0</th>\n",
       "      <td>Intercept</td>\n",
       "      <td>125.97</td>\n",
       "      <td>3.04</td>\n",
       "      <td>41.42</td>\n",
       "      <td>0.00</td>\n",
       "      <td>0.82</td>\n",
       "      <td>0.81</td>\n",
       "      <td>119.93</td>\n",
       "      <td>132.00</td>\n",
       "    </tr>\n",
       "    <tr>\n",
       "      <th>1</th>\n",
       "      <td>dan_sleep</td>\n",
       "      <td>-8.95</td>\n",
       "      <td>0.55</td>\n",
       "      <td>-16.17</td>\n",
       "      <td>0.00</td>\n",
       "      <td>0.82</td>\n",
       "      <td>0.81</td>\n",
       "      <td>-10.05</td>\n",
       "      <td>-7.85</td>\n",
       "    </tr>\n",
       "    <tr>\n",
       "      <th>2</th>\n",
       "      <td>baby_sleep</td>\n",
       "      <td>0.01</td>\n",
       "      <td>0.27</td>\n",
       "      <td>0.04</td>\n",
       "      <td>0.97</td>\n",
       "      <td>0.82</td>\n",
       "      <td>0.81</td>\n",
       "      <td>-0.53</td>\n",
       "      <td>0.55</td>\n",
       "    </tr>\n",
       "  </tbody>\n",
       "</table>\n",
       "</div>"
      ],
      "text/plain": [
       "        names    coef    se      T  pval    r2  adj_r2  CI[2.5%]  CI[97.5%]\n",
       "0   Intercept  125.97  3.04  41.42  0.00  0.82    0.81    119.93     132.00\n",
       "1   dan_sleep   -8.95  0.55 -16.17  0.00  0.82    0.81    -10.05      -7.85\n",
       "2  baby_sleep    0.01  0.27   0.04  0.97  0.82    0.81     -0.53       0.55"
      ]
     },
     "execution_count": 39,
     "metadata": {},
     "output_type": "execute_result"
    }
   ],
   "source": [
    "import pandas as pd\n",
    "import pingouin as pg\n",
    "\n",
    "file = 'https://raw.githubusercontent.com/ethanweed/pythonbook/main/Data/parenthood.csv'\n",
    "df = pd.read_csv(file)\n",
    "\n",
    "predictors = df[['dan_sleep', 'baby_sleep']]\n",
    "outcome = df['dan_grump']\n",
    "\n",
    "mod2 = pg.linear_regression(predictors, outcome)\n",
    "mod2.round(2)"
   ]
  },
  {
   "cell_type": "markdown",
   "id": "84576f7f",
   "metadata": {},
   "source": [
    "Then, we can remove the data from day 64, using the `drop()` method from `pandas`. Remember, as always, it's Python, and Python is zero-indexed, so it starts counting the days at 0 and not 1, and that means that day 64 is on row 63!"
   ]
  },
  {
   "cell_type": "code",
   "execution_count": 40,
   "id": "41f92756",
   "metadata": {},
   "outputs": [],
   "source": [
    "df_2 = df.drop(63)"
   ]
  },
  {
   "cell_type": "code",
   "execution_count": 41,
   "id": "d0b77749",
   "metadata": {},
   "outputs": [
    {
     "data": {
      "text/html": [
       "<div>\n",
       "<style scoped>\n",
       "    .dataframe tbody tr th:only-of-type {\n",
       "        vertical-align: middle;\n",
       "    }\n",
       "\n",
       "    .dataframe tbody tr th {\n",
       "        vertical-align: top;\n",
       "    }\n",
       "\n",
       "    .dataframe thead th {\n",
       "        text-align: right;\n",
       "    }\n",
       "</style>\n",
       "<table border=\"1\" class=\"dataframe\">\n",
       "  <thead>\n",
       "    <tr style=\"text-align: right;\">\n",
       "      <th></th>\n",
       "      <th>names</th>\n",
       "      <th>coef</th>\n",
       "      <th>se</th>\n",
       "      <th>T</th>\n",
       "      <th>pval</th>\n",
       "      <th>r2</th>\n",
       "      <th>adj_r2</th>\n",
       "      <th>CI[2.5%]</th>\n",
       "      <th>CI[97.5%]</th>\n",
       "    </tr>\n",
       "  </thead>\n",
       "  <tbody>\n",
       "    <tr>\n",
       "      <th>0</th>\n",
       "      <td>Intercept</td>\n",
       "      <td>126.36</td>\n",
       "      <td>3.00</td>\n",
       "      <td>42.19</td>\n",
       "      <td>0.00</td>\n",
       "      <td>0.82</td>\n",
       "      <td>0.82</td>\n",
       "      <td>120.41</td>\n",
       "      <td>132.30</td>\n",
       "    </tr>\n",
       "    <tr>\n",
       "      <th>1</th>\n",
       "      <td>dan_sleep</td>\n",
       "      <td>-8.83</td>\n",
       "      <td>0.55</td>\n",
       "      <td>-16.13</td>\n",
       "      <td>0.00</td>\n",
       "      <td>0.82</td>\n",
       "      <td>0.82</td>\n",
       "      <td>-9.91</td>\n",
       "      <td>-7.74</td>\n",
       "    </tr>\n",
       "    <tr>\n",
       "      <th>2</th>\n",
       "      <td>baby_sleep</td>\n",
       "      <td>-0.13</td>\n",
       "      <td>0.28</td>\n",
       "      <td>-0.48</td>\n",
       "      <td>0.63</td>\n",
       "      <td>0.82</td>\n",
       "      <td>0.82</td>\n",
       "      <td>-0.68</td>\n",
       "      <td>0.41</td>\n",
       "    </tr>\n",
       "  </tbody>\n",
       "</table>\n",
       "</div>"
      ],
      "text/plain": [
       "        names    coef    se      T  pval    r2  adj_r2  CI[2.5%]  CI[97.5%]\n",
       "0   Intercept  126.36  3.00  42.19  0.00  0.82    0.82    120.41     132.30\n",
       "1   dan_sleep   -8.83  0.55 -16.13  0.00  0.82    0.82     -9.91      -7.74\n",
       "2  baby_sleep   -0.13  0.28  -0.48  0.63  0.82    0.82     -0.68       0.41"
      ]
     },
     "execution_count": 41,
     "metadata": {},
     "output_type": "execute_result"
    }
   ],
   "source": [
    "predictors = df_2[['dan_sleep', 'baby_sleep']]\n",
    "outcome = df_2['dan_grump']\n",
    "\n",
    "mod3 = pg.linear_regression(predictors, outcome)\n",
    "mod3.round(2)"
   ]
  },
  {
   "cell_type": "markdown",
   "id": "d8025450",
   "metadata": {},
   "source": [
    "As you can see, those regression coefficients have barely changed in comparison to the values we got earlier. In other words, we really don't have any problem as far as anomalous data are concerned."
   ]
  },
  {
   "cell_type": "markdown",
   "id": "5e354965",
   "metadata": {},
   "source": [
    "(regressionnormality)=\n",
    "### Checking the normality of the residuals\n",
    "\n",
    "Like many of the statistical tools we've discussed in this book, regression models rely on a normality assumption. In this case, we assume that the residuals are normally distributed. The tools for testing this aren't fundamentally different to those that we discussed [earlier](shapiro). First, I firmly believe that it never hurts to draw a good old-fashioned histogram:"
   ]
  },
  {
   "cell_type": "code",
   "execution_count": 42,
   "id": "09e7adf8",
   "metadata": {
    "tags": [
     "hide-input"
    ]
   },
   "outputs": [
    {
     "data": {
      "image/png": "[encoded data removed]",
      "text/plain": [
       "<Figure size 432x288 with 1 Axes>"
      ]
     },
     "metadata": {},
     "output_type": "display_data"
    }
   ],
   "source": [
    "import pandas as pd\n",
    "import pingouin as pg\n",
    "import seaborn as sns\n",
    "\n",
    "predictors = df[['dan_sleep', 'baby_sleep']]\n",
    "outcome = df['dan_grump']\n",
    "\n",
    "mod2 = pg.linear_regression(predictors, outcome)\n",
    "\n",
    "res = mod2.residuals_\n",
    "res = pd.DataFrame(res, columns = ['Residuals'])\n",
    "\n",
    "fig = plt.figure()\n",
    "\n",
    "ax = sns.histplot(data = res, x = 'Residuals')\n",
    "ax.grid(False)\n",
    "sns.despine()\n",
    "plt.show()"
   ]
  },
  {
   "cell_type": "markdown",
   "id": "2b6d8383",
   "metadata": {},
   "source": [
    " ```{glue:figure} res-hist-fig\n",
    ":figwidth: 600px\n",
    ":name: fig-res-hist\n",
    "\n",
    "A histogram of the (ordinary) residuals in the `mod2` model. These residuals look very close to being normally distributed, much moreso than is typically seen with real data. This shouldn’t surprise you... they aren’t real data, and they aren’t real residuals!\n",
    "\n",
    "```"
   ]
  },
  {
   "cell_type": "markdown",
   "id": "2f56983c",
   "metadata": {},
   "source": [
    "The resulting plot is shown in {numref}`fig-res-hist`, and as you can see the plot looks pretty damn close to normal, almost unnaturally so. I could also run a Shapiro-Wilk test to check, using the `normality` function from `pingouin`:"
   ]
  },
  {
   "cell_type": "code",
   "execution_count": 43,
   "id": "b566420f",
   "metadata": {},
   "outputs": [
    {
     "data": {
      "text/html": [
       "<div>\n",
       "<style scoped>\n",
       "    .dataframe tbody tr th:only-of-type {\n",
       "        vertical-align: middle;\n",
       "    }\n",
       "\n",
       "    .dataframe tbody tr th {\n",
       "        vertical-align: top;\n",
       "    }\n",
       "\n",
       "    .dataframe thead th {\n",
       "        text-align: right;\n",
       "    }\n",
       "</style>\n",
       "<table border=\"1\" class=\"dataframe\">\n",
       "  <thead>\n",
       "    <tr style=\"text-align: right;\">\n",
       "      <th></th>\n",
       "      <th>W</th>\n",
       "      <th>pval</th>\n",
       "      <th>normal</th>\n",
       "    </tr>\n",
       "  </thead>\n",
       "  <tbody>\n",
       "    <tr>\n",
       "      <th>Residuals</th>\n",
       "      <td>0.99</td>\n",
       "      <td>0.84</td>\n",
       "      <td>True</td>\n",
       "    </tr>\n",
       "  </tbody>\n",
       "</table>\n",
       "</div>"
      ],
      "text/plain": [
       "              W  pval  normal\n",
       "Residuals  0.99  0.84    True"
      ]
     },
     "execution_count": 43,
     "metadata": {},
     "output_type": "execute_result"
    }
   ],
   "source": [
    "sw = pg.normality(res, method = 'shapiro')\n",
    "sw.round(2)"
   ]
  },
  {
   "cell_type": "markdown",
   "id": "a9593ad0",
   "metadata": {},
   "source": [
    "The W value of .99, at this sample size, is non-significant ($p$ = .82), again suggesting that the normality assumption isn’t in any danger here. As a third measure, we might also want to draw a QQ-plot. This can be most easily done using the `qqplot` function from `statsmodels.api`:"
   ]
  },
  {
   "cell_type": "code",
   "execution_count": 44,
   "id": "a75c505c",
   "metadata": {},
   "outputs": [
    {
     "data": {
      "image/png": "[encoded data removed]",
      "text/plain": [
       "<Figure size 432x288 with 1 Axes>"
      ]
     },
     "metadata": {},
     "output_type": "display_data"
    }
   ],
   "source": [
    "import statsmodels.api as sm\n",
    "\n",
    "\n",
    "sm.qqplot(res['Residuals'], line = 's')\n",
    "sns.despine()\n"
   ]
  },
  {
   "cell_type": "markdown",
   "id": "f94bc8ba",
   "metadata": {},
   "source": [
    " ```{glue:figure} qq-fig\n",
    ":figwidth: 600px\n",
    ":name: fig-qq\n",
    "\n",
    "A Q-Q (quantile-quantile) plot, the theoretical quantiles according to the model, against the quantiles of the standardised residuals.\n",
    "\n",
    "```"
   ]
  },
  {
   "cell_type": "markdown",
   "id": "2077e62d",
   "metadata": {},
   "source": [
    "If our residuals were _perfectly_ normally distributed, then they would lie right on the red line. These residuals veer off a little at the ends, but again, pretty damn close, so the Q-Q plot further confirms our conviction based on the histogram and the Shapiro-Wilk test, that it is appropriate to model these data with a linear regression.\n",
    "\n",
    "A little note: Q-Q plots are often created by plotting the quantiles of the _standardized_ residuals against the theoretical quantiles. Since using Q-Q plots for assessing normality is basically a matter of squinting at the plot at getting a _feeling_, based on your great experience of squinting at plots, for whether the data _seem_ normal enough, it probably doesn't matter so much which way you do it. Below you can see a side-by-side comparison of a Q-Q plot of the ordinary (left) and standardized (right) residuals. Honestly, they look about the same to me, and you can get the ordinary residuals straight from `pingouin`, without needing to invoke `statsmodels`."
   ]
  },
  {
   "cell_type": "code",
   "execution_count": 45,
   "id": "20d8719d",
   "metadata": {
    "tags": [
     "hide-input"
    ]
   },
   "outputs": [
    {
     "data": {
      "image/png": "[encoded data removed]",
      "text/plain": [
       "<Figure size 1080x360 with 2 Axes>"
      ]
     },
     "metadata": {},
     "output_type": "display_data"
    }
   ],
   "source": [
    "# Define a figure with two panels\n",
    "import matplotlib.pyplot as plt\n",
    "\n",
    "fig, axes = plt.subplots(1, 2, figsize=(15, 5))\n",
    "\n",
    "res_standard = pd.DataFrame(res_standard, columns = ['Standardized_Residuals'])\n",
    "\n",
    "sm.qqplot(res['Residuals'], line = 's', ax = axes[0])\n",
    "sm.qqplot(res_standard['Standardized_Residuals'], line = 's', ax = axes[1])\n",
    "\n",
    "axes[0].set_title('Ordinary residuals')\n",
    "axes[1].set_title('Standardized residuals')\n",
    "\n",
    "for ax in axes:\n",
    "    ax.grid(False)\n",
    "\n",
    "sns.despine()"
   ]
  },
  {
   "cell_type": "markdown",
   "id": "49829d8d",
   "metadata": {},
   "source": [
    "(regressionlinearity)=\n",
    "### Checking the linearity of the relationship\n",
    "\n",
    "The third thing we might want to test is the linearity of the relationships between the predictors and\n",
    "the outcomes. There’s a few different things that you might want to do in order to check this. Firstly, it\n",
    "never hurts to just plot the relationship between the fitted values $\\hat{Y}_i$ and the observed values $Y_i$ for the\n",
    "outcome variable, as illustrated in {numref}`fig-fitted_v_observed`."
   ]
  },
  {
   "cell_type": "code",
   "execution_count": 46,
   "id": "55be1b48",
   "metadata": {
    "tags": [
     "hide-input"
    ]
   },
   "outputs": [
    {
     "data": {
      "image/png": "[encoded data removed]",
      "text/plain": [
       "<Figure size 432x288 with 1 Axes>"
      ]
     },
     "metadata": {},
     "output_type": "display_data"
    }
   ],
   "source": [
    "predictors = df[['dan_sleep', 'baby_sleep']]\n",
    "outcome = df['dan_grump']\n",
    "\n",
    "mod2 = pg.linear_regression(predictors, outcome, as_dataframe = False)\n",
    "\n",
    "df_res_pred = pd.DataFrame(\n",
    "    {'observed': outcome,\n",
    "     'fitted': mod2['pred']\n",
    "    })\n",
    "\n",
    "fig = plt.figure()\n",
    "\n",
    "ax=sns.scatterplot(data = df_res_pred, x = 'fitted', y = 'observed')\n",
    "ax.grid(False)\n",
    "sns.despine()\n",
    "plt.show()"
   ]
  },
  {
   "cell_type": "markdown",
   "id": "cd7ce4ef",
   "metadata": {},
   "source": [
    " ```{glue:figure} fitted_v_observed-fig\n",
    ":figwidth: 600px\n",
    ":name: fig-fitted_v_observed\n",
    "\n",
    "Plot of the fitted values against the observed values of the outcome variable. A straight line is what we’re hoping to see here. This looks pretty good, suggesting that there’s nothing grossly wrong, but there could be hidden subtle issues.\n",
    "\n",
    "```\n"
   ]
  },
  {
   "cell_type": "markdown",
   "id": "ab1b5312",
   "metadata": {},
   "source": [
    "\n",
    "One of the reasons I like to draw these plots is that they give you a kind of “big picture view”. If this plot looks approximately linear, then we’re probably not doing too badly (though that’s not to say that there aren’t problems). However, if you can see big departures from linearity here, then it strongly suggests that you need to make some changes.\n",
    "\n",
    "In any case, in order to get a more detailed picture it’s often more informative to look at the relationship between the fitted values and the residuals themselves. Let's take a look. Here, we use the `residplot` function from `seaborn`, and in addition to drawing a straight line through all the points, we can ask Python to compute a \"locally-weighed linear linear\" regression, by setting the argument `lowess` to `True`. This gives us a sort of moving window, as Python fits a series of little regressions as it moves through the data. With a little work, we can also use ``regplot`` to produce the same figure for the multiple linear regression model with both ``dan_sleep`` and ``baby_sleep`` as predictors (click the show button to see how). If the relationship in our data is truly linear, then we should see a straight, perfectly horizontal line. There’s some hint of curvature here, but it’s not clear whether or not we be concerned. "
   ]
  },
  {
   "cell_type": "code",
   "execution_count": 47,
   "id": "e2586aee",
   "metadata": {
    "tags": [
     "hide-input"
    ]
   },
   "outputs": [
    {
     "data": {
      "image/png": "[encoded data removed]",
      "text/plain": [
       "<Figure size 576x360 with 3 Axes>"
      ]
     },
     "metadata": {},
     "output_type": "display_data"
    }
   ],
   "source": [
    "# Define a figure with two panels\n",
    "import matplotlib.pyplot as plt\n",
    "\n",
    "fig, axes = plt.subplots(3, 1, figsize=(8, 5))\n",
    "\n",
    "# Fit linear regressions for both predictors, and plot residuals\n",
    "\n",
    "p1=sns.residplot(data=df, x='dan_sleep', y='dan_grump', lowess=True, line_kws=dict(color=\"r\"), ax=axes[0])\n",
    "p2=p3=sns.residplot(data=df, x='baby_sleep', y='dan_grump', lowess=True, line_kws=dict(color=\"r\"), ax=axes[1])\n",
    "\n",
    "\n",
    "# Add panel for multiple linear regression\n",
    "\n",
    "df_res_pred['residuals'] = mod2['residuals']\n",
    "\n",
    "\n",
    "p3=sns.regplot(data = df_res_pred, x = 'fitted', y = 'residuals', lowess = True, line_kws=dict(color=\"r\"), ax=axes[2])\n",
    "\n",
    "plt.axhline(y=0, color='b', linestyle='dotted')\n",
    "\n",
    "# Make figures look nicer\n",
    "for n, ax in enumerate(axes):\n",
    "    ax.text(-0.1, 1.1, string.ascii_uppercase[n], transform=ax.transAxes, \n",
    "            size=20)\n",
    "    ax.grid(False)\n",
    "    sns.despine()\n",
    "\n",
    "subplots=[p1,p2,p3]\n",
    "for p in subplots:\n",
    "    p.tick_params(axis='x', which='both', bottom=False, top=False, labelbottom=False)\n",
    "\n",
    "\n",
    "# Plot figure in book, with caption\n",
    "plt.show()"
   ]
  },
  {
   "cell_type": "markdown",
   "id": "dff2beef",
   "metadata": {},
   "source": [
    "\n",
    " ```{glue:figure} resid1-fig\n",
    ":figwidth: 600px\n",
    ":name: fig-resid1\n",
    "\n",
    "Scatterplots of the residuals when a linear regression is fit separately for either ``dan_sleep`` as a predictor (panel A) or ``baby_sleep`` as a predictor (panel B). Panel C plots the residuals for the overall fit of the model including both predictors. The dotted horizontal line represents the fitted regression model. If a linear model is appropriate for our data, then the points should lie evenly above and below the dotted line, the whole away along the x-axis. The red line shows a locally-weighted smoothing of the regressionn line. Too much curvature in this line would suggest that maybe a straight line is not the best model for our data. But how much curvature is too much?\n",
    "\n",
    "```\n",
    "\n",
    "\n"
   ]
  },
  {
   "cell_type": "markdown",
   "id": "f7e8e9bb",
   "metadata": {},
   "source": [
    "One method for testing the degree of curvature is known as Tukey's test for nonadditivity {cite:`tukey1949one, fox2018r`}. The test is quite simple: you just take the fitted (predicted) values from your original model, square them, and then include these squared fitted values as a predictor when you re-run the model. If the $t$-test for the new predictor comes up significant, this implies that there is some nonlinear relationship between the variable and the residuals. Let's give this a try:"
   ]
  },
  {
   "cell_type": "code",
   "execution_count": 48,
   "id": "10bf9e26",
   "metadata": {},
   "outputs": [
    {
     "data": {
      "text/html": [
       "<div>\n",
       "<style scoped>\n",
       "    .dataframe tbody tr th:only-of-type {\n",
       "        vertical-align: middle;\n",
       "    }\n",
       "\n",
       "    .dataframe tbody tr th {\n",
       "        vertical-align: top;\n",
       "    }\n",
       "\n",
       "    .dataframe thead th {\n",
       "        text-align: right;\n",
       "    }\n",
       "</style>\n",
       "<table border=\"1\" class=\"dataframe\">\n",
       "  <thead>\n",
       "    <tr style=\"text-align: right;\">\n",
       "      <th></th>\n",
       "      <th>names</th>\n",
       "      <th>coef</th>\n",
       "      <th>se</th>\n",
       "      <th>T</th>\n",
       "      <th>pval</th>\n",
       "      <th>r2</th>\n",
       "      <th>adj_r2</th>\n",
       "      <th>CI[2.5%]</th>\n",
       "      <th>CI[97.5%]</th>\n",
       "    </tr>\n",
       "  </thead>\n",
       "  <tbody>\n",
       "    <tr>\n",
       "      <th>0</th>\n",
       "      <td>Intercept</td>\n",
       "      <td>1.540</td>\n",
       "      <td>57.642</td>\n",
       "      <td>0.027</td>\n",
       "      <td>0.979</td>\n",
       "      <td>0.825</td>\n",
       "      <td>0.819</td>\n",
       "      <td>-112.878</td>\n",
       "      <td>115.958</td>\n",
       "    </tr>\n",
       "    <tr>\n",
       "      <th>1</th>\n",
       "      <td>dan_sleep</td>\n",
       "      <td>2.867</td>\n",
       "      <td>5.494</td>\n",
       "      <td>0.522</td>\n",
       "      <td>0.603</td>\n",
       "      <td>0.825</td>\n",
       "      <td>0.819</td>\n",
       "      <td>-8.039</td>\n",
       "      <td>13.773</td>\n",
       "    </tr>\n",
       "    <tr>\n",
       "      <th>2</th>\n",
       "      <td>baby_sleep</td>\n",
       "      <td>0.011</td>\n",
       "      <td>0.266</td>\n",
       "      <td>0.043</td>\n",
       "      <td>0.966</td>\n",
       "      <td>0.825</td>\n",
       "      <td>0.819</td>\n",
       "      <td>-0.517</td>\n",
       "      <td>0.540</td>\n",
       "    </tr>\n",
       "    <tr>\n",
       "      <th>3</th>\n",
       "      <td>Tukey</td>\n",
       "      <td>0.010</td>\n",
       "      <td>0.005</td>\n",
       "      <td>2.162</td>\n",
       "      <td>0.033</td>\n",
       "      <td>0.825</td>\n",
       "      <td>0.819</td>\n",
       "      <td>0.001</td>\n",
       "      <td>0.020</td>\n",
       "    </tr>\n",
       "  </tbody>\n",
       "</table>\n",
       "</div>"
      ],
      "text/plain": [
       "        names   coef      se      T   pval     r2  adj_r2  CI[2.5%]  CI[97.5%]\n",
       "0   Intercept  1.540  57.642  0.027  0.979  0.825   0.819  -112.878    115.958\n",
       "1   dan_sleep  2.867   5.494  0.522  0.603  0.825   0.819    -8.039     13.773\n",
       "2  baby_sleep  0.011   0.266  0.043  0.966  0.825   0.819    -0.517      0.540\n",
       "3       Tukey  0.010   0.005  2.162  0.033  0.825   0.819     0.001      0.020"
      ]
     },
     "execution_count": 48,
     "metadata": {},
     "output_type": "execute_result"
    }
   ],
   "source": [
    "# square the fitted values for our model, and add them to our dataframe\n",
    "df['Tukey'] = mod2['pred']**2\n",
    "\n",
    "#re-run the model, with squared fitted values added as predictor (here I have called them \"Tukey\")\n",
    "mod_curve_check = pg.linear_regression(df[['dan_sleep', 'baby_sleep', 'Tukey']], df['dan_grump'])\n",
    "mod_curve_check.round(3)"
   ]
  },
  {
   "cell_type": "markdown",
   "id": "df18df5a",
   "metadata": {},
   "source": [
    "Since the $t$-test on the coefficients for new ``Tukey`` predictor is significant ($p$ < 0.05), this suggests that the curvature we see in {numref}`fig-resid1` is genuine, although it still bears remembering that the pattern in {numref}`fig-fitted_v_observed` is pretty damn straight: in other words the deviations from linearity are fairly small, and probably not worth worrying about."
   ]
  },
  {
   "cell_type": "markdown",
   "id": "10695d53",
   "metadata": {},
   "source": [
    "In a lot of cases, the solution to this problem (and many others) is to transform one or more of the variables. We have already discussed the [basics of variable transformation](transform), but I do want to make special note of one additional possibility that I didn't mention earlier: the Box-Cox transform. The Box-Cox function is a fairly simple one, but it's very widely used \n",
    "\n",
    "$$\n",
    "f(x,\\lambda) = \\frac{x^\\lambda - 1}{\\lambda}\n",
    "$$\n",
    "\n",
    "for all values of $\\lambda$ except $\\lambda = 0$. When $\\lambda = 0$ we just take the natural logarithm (i.e., $\\ln(x)$). You can calculate it using the ``boxcox`` function from ``scipy.stats``, which will automatically calculate the optimal value of $\\lambda$. In the case of our ``dan_sleep`` data though, the data were already pretty normally distributed (panel A), so applying the transformation (panel B) really doesn't do much. Now, if only the _quality_ of my sleep could be transformed, and not just the _distribution_, ah, then we would really be on to something!"
   ]
  },
  {
   "cell_type": "code",
   "execution_count": 49,
   "id": "7e60bcee",
   "metadata": {
    "tags": [
     "hide-input"
    ]
   },
   "outputs": [
    {
     "name": "stdout",
     "output_type": "stream",
     "text": [
      "Optimal value for lambda: 1.7912772737277842\n"
     ]
    },
    {
     "data": {
      "image/png": "[encoded data removed]",
      "text/plain": [
       "<Figure size 576x360 with 2 Axes>"
      ]
     },
     "metadata": {},
     "output_type": "display_data"
    }
   ],
   "source": [
    "from scipy.stats import boxcox\n",
    "\n",
    "df['dan_sleep_transformed'], best_lambda = boxcox(df['dan_sleep'])\n",
    "\n",
    "# Define a figure with two panels\n",
    "import matplotlib.pyplot as plt\n",
    "\n",
    "fig, axes = plt.subplots(1, 2, figsize=(8, 5))\n",
    "\n",
    "# Fit linear regressions for both predictors, and plot residuals\n",
    "\n",
    "p1=sns.kdeplot(df['dan_sleep'], ax=axes[0])\n",
    "p2=sns.kdeplot(df['dan_sleep_transformed'], ax=axes[1])\n",
    "\n",
    "# Make figures look nicer\n",
    "for n, ax in enumerate(axes):\n",
    "    ax.text(-0.1, 1.1, string.ascii_uppercase[n], transform=ax.transAxes, \n",
    "            size=20)\n",
    "    ax.grid(False)\n",
    "    sns.despine()\n",
    "\n",
    "subplots=[p1,p2,p3]\n",
    "for p in subplots:\n",
    "    p.tick_params(axis='x', which='both', bottom=False, top=False, labelbottom=False)\n",
    "\n",
    "print('Optimal value for lambda:', best_lambda)\n",
    "\n",
    "\n",
    "# Plot figure in book, with caption\n",
    "plt.show()"
   ]
  },
  {
   "cell_type": "markdown",
   "id": "692b6be8",
   "metadata": {},
   "source": [
    " ```{glue:figure} boxcox-fig\n",
    ":figwidth: 600px\n",
    ":name: fig-boxcox\n",
    "\n",
    "Distribution for the raw ``dan_sleep`` data (panel A) and the distribution same data after a Box-Cox transformation (panel B). In this case, the transformation has not had much of an effect, as the data were reasonably normally-distributed to begin with.\n",
    "\n",
    "```\n"
   ]
  },
  {
   "cell_type": "markdown",
   "id": "8787af7f",
   "metadata": {},
   "source": [
    "(regressionhomogeneity)=\n",
    "### Checking the homogeneity of variance\n",
    "\n",
    "The regression models that we've talked about all make a homogeneity of variance assumption: the variance of the residuals is assumed to be constant. One way to inspect this visually is to use a \"Scale-Location Plot\", which is just a variation on the plots we made in {numref}`fig-resid1`. In a Scale-Location Plot, instead of plotting the fitted values against the raw residuals, we plot them against the square root of the absolute value of the standardized residuals, which can make it easier to visually assess the homogeneity of the variance.\n",
    "\n",
    "As far as I know (and admittedly, that's not so far), there is no ready-made package in Python that will produce a Scale-Location Plot, but if you have made it this far in the book, you already have the knowledge to build on of these yourself. It could go something like this:"
   ]
  },
  {
   "cell_type": "code",
   "execution_count": 50,
   "id": "554b5a3c",
   "metadata": {
    "tags": [
     "hide-input"
    ]
   },
   "outputs": [
    {
     "data": {
      "image/png": "[encoded data removed]",
      "text/plain": [
       "<Figure size 432x288 with 1 Axes>"
      ]
     },
     "metadata": {},
     "output_type": "display_data"
    }
   ],
   "source": [
    "\n",
    "predictors = df[['dan_sleep', 'baby_sleep']]\n",
    "outcome = df['dan_grump']\n",
    "\n",
    "mod2 = pg.linear_regression(predictors, outcome, as_dataframe = False)\n",
    "\n",
    "df_slplot = pd.DataFrame(\n",
    "    {'fitted': mod2['pred'],\n",
    "     'sqrt_abs_stand_res': np.sqrt(np.abs(mod2['residuals']))\n",
    "    })\n",
    "\n",
    "fig = plt.figure()\n",
    "\n",
    "ax=sns.regplot(data = df_slplot, x = 'fitted', y = 'sqrt_abs_stand_res', lowess = True, line_kws=dict(color=\"r\"))\n",
    "\n",
    "# Make figures look nicer\n",
    "ax.set_ylabel(r'$\\sqrt{|standardized residuals|}$')\n",
    "ax.set_xlabel('Fitted Values')\n",
    "ax.tick_params(axis='x', which='both', bottom=False, top=False, labelbottom=False)\n",
    "ax.grid(False)\n",
    "sns.despine()\n",
    "\n",
    "plt.show(fig)"
   ]
  },
  {
   "cell_type": "markdown",
   "id": "af65c95d",
   "metadata": {},
   "source": [
    " ```{glue:figure} sl-plot-fig\n",
    ":figwidth: 600px\n",
    ":name: fig_sl-plot\n",
    "\n",
    "Plot of the fitted values (model predictions) against the square root of the abs standardised residuals. This plot is used to diagnose violations of homogeneity of variance. If the variance is really constant, then the line through the middle should be horizontal and flat.\n",
    "\n",
    "```\n"
   ]
  },
  {
   "cell_type": "markdown",
   "id": "e3689558",
   "metadata": {},
   "source": [
    "A slightly more formal approach is to run a hypothesis test such as the Breusch–Pagan test {cite}`breusch1979simple`. Unfortunately, to run the test, we'll have to leave the cozy world of `pingouin` and use `statsmodels` instead, but luckily the code is not complicated. Basically, we just run our regression in `statsmodels` instead of `pinguoin`, and then run the Breusch-Pagan test on the output (see below). I won't go into how it works, other than to say that after we fit our regression model, we then fit _another_ regression model in which we use our predicted values to predict our residuals. We then use something called the \"Lagrange multiplier statistic\" (similar to a $x^2$ test) to check the significance of our new model. If the new model is not significant, this can be used to support the assumption that we are indeed dealing with a relationship that can be modelled linearly."
   ]
  },
  {
   "cell_type": "code",
   "execution_count": 51,
   "id": "1b4b0ee0",
   "metadata": {},
   "outputs": [
    {
     "name": "stdout",
     "output_type": "stream",
     "text": [
      "Lagrange multiplier statistic: 0.488683161455461\n",
      "p: 0.7832200556890268\n"
     ]
    }
   ],
   "source": [
    "import statsmodels.formula.api as smf\n",
    "import statsmodels.stats.api as sms\n",
    "\n",
    "# fit our regression model using statsmodels\n",
    "fit = smf.ols('dan_grump ~ dan_sleep+baby_sleep', data=df).fit()\n",
    "\n",
    "bptest=sms.diagnostic.het_breuschpagan(fit.resid, fit.model.exog)\n",
    "\n",
    "print('Lagrange multiplier statistic:', bptest[0])\n",
    "print('p:', bptest[1])\n",
    "\n",
    "\n"
   ]
  },
  {
   "cell_type": "markdown",
   "id": "cafb5c9d",
   "metadata": {},
   "source": [
    "We see that our original impression was right: there’s no violations of homogeneity of variance in this data.\n",
    "\n",
    "It’s a bit beyond the scope of this chapter to talk too much about how to deal with violations of homogeneity of variance, but I’ll give you a quick sense of what you need to consider. The main thing to worry about, if homogeneity of variance is violated, is that the standard error estimates associated with the regression coefficients are no longer entirely reliable, and so your $t$-tests for the coefficients aren’t quite right either. A simple fix to the problem is to make use of a “heteroscedasticity corrected covariance matrix” when estimating the standard errors. \n",
    "\n",
    "Again, this goes beyond what we can do with `pingouin`, but `statmodels` can get us there. Before I show you how, let's just re-assure ourselves that both `pingouin` and `statsmodels` are doing the same basic calculations when we fit our regression models. We'll start by re-running our mulitiple regression with `pingouin`, but I'll bump up the number of decimal places that we round our answer to, so that it is easier to compare with the `statsmodels` output:"
   ]
  },
  {
   "cell_type": "code",
   "execution_count": 52,
   "id": "7f78b86a",
   "metadata": {},
   "outputs": [
    {
     "data": {
      "text/html": [
       "<div>\n",
       "<style scoped>\n",
       "    .dataframe tbody tr th:only-of-type {\n",
       "        vertical-align: middle;\n",
       "    }\n",
       "\n",
       "    .dataframe tbody tr th {\n",
       "        vertical-align: top;\n",
       "    }\n",
       "\n",
       "    .dataframe thead th {\n",
       "        text-align: right;\n",
       "    }\n",
       "</style>\n",
       "<table border=\"1\" class=\"dataframe\">\n",
       "  <thead>\n",
       "    <tr style=\"text-align: right;\">\n",
       "      <th></th>\n",
       "      <th>names</th>\n",
       "      <th>coef</th>\n",
       "      <th>se</th>\n",
       "      <th>T</th>\n",
       "      <th>pval</th>\n",
       "      <th>r2</th>\n",
       "      <th>adj_r2</th>\n",
       "      <th>CI[2.5%]</th>\n",
       "      <th>CI[97.5%]</th>\n",
       "    </tr>\n",
       "  </thead>\n",
       "  <tbody>\n",
       "    <tr>\n",
       "      <th>0</th>\n",
       "      <td>Intercept</td>\n",
       "      <td>125.9656</td>\n",
       "      <td>3.0409</td>\n",
       "      <td>41.4231</td>\n",
       "      <td>0.0000</td>\n",
       "      <td>0.8161</td>\n",
       "      <td>0.8123</td>\n",
       "      <td>119.9301</td>\n",
       "      <td>132.0010</td>\n",
       "    </tr>\n",
       "    <tr>\n",
       "      <th>1</th>\n",
       "      <td>dan_sleep</td>\n",
       "      <td>-8.9502</td>\n",
       "      <td>0.5535</td>\n",
       "      <td>-16.1715</td>\n",
       "      <td>0.0000</td>\n",
       "      <td>0.8161</td>\n",
       "      <td>0.8123</td>\n",
       "      <td>-10.0487</td>\n",
       "      <td>-7.8518</td>\n",
       "    </tr>\n",
       "    <tr>\n",
       "      <th>2</th>\n",
       "      <td>baby_sleep</td>\n",
       "      <td>0.0105</td>\n",
       "      <td>0.2711</td>\n",
       "      <td>0.0388</td>\n",
       "      <td>0.9691</td>\n",
       "      <td>0.8161</td>\n",
       "      <td>0.8123</td>\n",
       "      <td>-0.5275</td>\n",
       "      <td>0.5485</td>\n",
       "    </tr>\n",
       "  </tbody>\n",
       "</table>\n",
       "</div>"
      ],
      "text/plain": [
       "        names      coef      se        T    pval      r2  adj_r2  CI[2.5%]  \\\n",
       "0   Intercept  125.9656  3.0409  41.4231  0.0000  0.8161  0.8123  119.9301   \n",
       "1   dan_sleep   -8.9502  0.5535 -16.1715  0.0000  0.8161  0.8123  -10.0487   \n",
       "2  baby_sleep    0.0105  0.2711   0.0388  0.9691  0.8161  0.8123   -0.5275   \n",
       "\n",
       "   CI[97.5%]  \n",
       "0   132.0010  \n",
       "1    -7.8518  \n",
       "2     0.5485  "
      ]
     },
     "execution_count": 52,
     "metadata": {},
     "output_type": "execute_result"
    }
   ],
   "source": [
    "predictors = df[['dan_sleep', 'baby_sleep']]\n",
    "outcome = df['dan_grump']\n",
    "\n",
    "mod2 = pg.linear_regression(predictors, outcome)\n",
    "mod2.round(4)"
   ]
  },
  {
   "cell_type": "markdown",
   "id": "0ad3c960",
   "metadata": {},
   "source": [
    "Next, we'll fit the same model, but using `statsmodels` instead:"
   ]
  },
  {
   "cell_type": "code",
   "execution_count": 53,
   "id": "6cf22983",
   "metadata": {},
   "outputs": [
    {
     "data": {
      "text/html": [
       "<table class=\"simpletable\">\n",
       "<caption>OLS Regression Results</caption>\n",
       "<tr>\n",
       "  <th>Dep. Variable:</th>        <td>dan_grump</td>    <th>  R-squared:         </th> <td>   0.816</td>\n",
       "</tr>\n",
       "<tr>\n",
       "  <th>Model:</th>                   <td>OLS</td>       <th>  Adj. R-squared:    </th> <td>   0.812</td>\n",
       "</tr>\n",
       "<tr>\n",
       "  <th>Method:</th>             <td>Least Squares</td>  <th>  F-statistic:       </th> <td>   215.2</td>\n",
       "</tr>\n",
       "<tr>\n",
       "  <th>Date:</th>             <td>Thu, 25 Apr 2024</td> <th>  Prob (F-statistic):</th> <td>2.15e-36</td>\n",
       "</tr>\n",
       "<tr>\n",
       "  <th>Time:</th>                 <td>22:34:36</td>     <th>  Log-Likelihood:    </th> <td> -287.48</td>\n",
       "</tr>\n",
       "<tr>\n",
       "  <th>No. Observations:</th>      <td>   100</td>      <th>  AIC:               </th> <td>   581.0</td>\n",
       "</tr>\n",
       "<tr>\n",
       "  <th>Df Residuals:</th>          <td>    97</td>      <th>  BIC:               </th> <td>   588.8</td>\n",
       "</tr>\n",
       "<tr>\n",
       "  <th>Df Model:</th>              <td>     2</td>      <th>                     </th>     <td> </td>   \n",
       "</tr>\n",
       "<tr>\n",
       "  <th>Covariance Type:</th>      <td>nonrobust</td>    <th>                     </th>     <td> </td>   \n",
       "</tr>\n",
       "</table>\n",
       "<table class=\"simpletable\">\n",
       "<tr>\n",
       "       <td></td>         <th>coef</th>     <th>std err</th>      <th>t</th>      <th>P>|t|</th>  <th>[0.025</th>    <th>0.975]</th>  \n",
       "</tr>\n",
       "<tr>\n",
       "  <th>Intercept</th>  <td>  125.9656</td> <td>    3.041</td> <td>   41.423</td> <td> 0.000</td> <td>  119.930</td> <td>  132.001</td>\n",
       "</tr>\n",
       "<tr>\n",
       "  <th>dan_sleep</th>  <td>   -8.9502</td> <td>    0.553</td> <td>  -16.172</td> <td> 0.000</td> <td>  -10.049</td> <td>   -7.852</td>\n",
       "</tr>\n",
       "<tr>\n",
       "  <th>baby_sleep</th> <td>    0.0105</td> <td>    0.271</td> <td>    0.039</td> <td> 0.969</td> <td>   -0.527</td> <td>    0.549</td>\n",
       "</tr>\n",
       "</table>\n",
       "<table class=\"simpletable\">\n",
       "<tr>\n",
       "  <th>Omnibus:</th>       <td> 0.593</td> <th>  Durbin-Watson:     </th> <td>   2.120</td>\n",
       "</tr>\n",
       "<tr>\n",
       "  <th>Prob(Omnibus):</th> <td> 0.743</td> <th>  Jarque-Bera (JB):  </th> <td>   0.218</td>\n",
       "</tr>\n",
       "<tr>\n",
       "  <th>Skew:</th>          <td>-0.053</td> <th>  Prob(JB):          </th> <td>   0.897</td>\n",
       "</tr>\n",
       "<tr>\n",
       "  <th>Kurtosis:</th>      <td> 3.203</td> <th>  Cond. No.          </th> <td>    76.9</td>\n",
       "</tr>\n",
       "</table><br/><br/>Notes:<br/>[1] Standard Errors assume that the covariance matrix of the errors is correctly specified."
      ],
      "text/plain": [
       "<class 'statsmodels.iolib.summary.Summary'>\n",
       "\"\"\"\n",
       "                            OLS Regression Results                            \n",
       "==============================================================================\n",
       "Dep. Variable:              dan_grump   R-squared:                       0.816\n",
       "Model:                            OLS   Adj. R-squared:                  0.812\n",
       "Method:                 Least Squares   F-statistic:                     215.2\n",
       "Date:                Thu, 25 Apr 2024   Prob (F-statistic):           2.15e-36\n",
       "Time:                        22:34:36   Log-Likelihood:                -287.48\n",
       "No. Observations:                 100   AIC:                             581.0\n",
       "Df Residuals:                      97   BIC:                             588.8\n",
       "Df Model:                           2                                         \n",
       "Covariance Type:            nonrobust                                         \n",
       "==============================================================================\n",
       "                 coef    std err          t      P>|t|      [0.025      0.975]\n",
       "------------------------------------------------------------------------------\n",
       "Intercept    125.9656      3.041     41.423      0.000     119.930     132.001\n",
       "dan_sleep     -8.9502      0.553    -16.172      0.000     -10.049      -7.852\n",
       "baby_sleep     0.0105      0.271      0.039      0.969      -0.527       0.549\n",
       "==============================================================================\n",
       "Omnibus:                        0.593   Durbin-Watson:                   2.120\n",
       "Prob(Omnibus):                  0.743   Jarque-Bera (JB):                0.218\n",
       "Skew:                          -0.053   Prob(JB):                        0.897\n",
       "Kurtosis:                       3.203   Cond. No.                         76.9\n",
       "==============================================================================\n",
       "\n",
       "Notes:\n",
       "[1] Standard Errors assume that the covariance matrix of the errors is correctly specified.\n",
       "\"\"\""
      ]
     },
     "execution_count": 53,
     "metadata": {},
     "output_type": "execute_result"
    }
   ],
   "source": [
    "smf.ols('dan_grump ~ dan_sleep+baby_sleep', data=df).fit().summary()"
   ]
  },
  {
   "cell_type": "markdown",
   "id": "1fb72643",
   "metadata": {},
   "source": [
    "Of course, `statsmodels` gives us way more information than `pingouin`, but if you hunt around in the output for the key things we are used to talking about (the coefficients for `dan_sleep` and `baby_sleep`, the t-values, the $R^2$ and adjusted $R^2$, etc.) it's all pretty much the same, right?\n",
    "\n",
    "Good. Now, we'll re-fit our regression model, but ask `statmodels` to take the potential non-homogeneity (aka the heteroskedasticity) of variance in our model into account by specifying a ``cov_type``, that is, the type of \"robust sandwich estimator\" we want to use. Yes. It really is called a \"robust sandwich estimator\". I'm not even kidding.[^sandwich]\n",
    "\n",
    "[^sandwich]: Again, a footnote that should be read only by the two readers of this book that love linear algebra (mmmm... I love the smell of matrix computations in the morning; smells like... nerd). In these estimators, the covariance matrix for $b$ is given by $(X^T X)^{-1}\\  X^T \\Sigma X \\ (X^T X)^{-1}$. See, it's a \"sandwich\"? Assuming you think that  $(X^T X)^{-1} = \\mbox{\"bread\"}$ and  $X^T \\Sigma X = \\mbox{\"filling\"}$, that is. Which of course everyone does, right? In any case, the usual estimator is what you get when you set $\\Sigma = \\hat\\sigma^2 I$. But there are others. For instance, the corrected version that I learned originally uses $\\Sigma = \\mbox{diag}(\\epsilon_i^2)$ {cite}`White1980`. `statsmodels` gives you a choice of four different sandwich estimators you can use, but not (at least that I can find today on June 21 2023) a lot of information on what they actually are, or references for where they come from, so if you _really_ need this information, you'll have to do your own digging. Sorry."
   ]
  },
  {
   "cell_type": "code",
   "execution_count": 54,
   "id": "3588a5e1",
   "metadata": {},
   "outputs": [
    {
     "data": {
      "text/html": [
       "<table class=\"simpletable\">\n",
       "<caption>OLS Regression Results</caption>\n",
       "<tr>\n",
       "  <th>Dep. Variable:</th>        <td>dan_grump</td>    <th>  R-squared:         </th> <td>   0.816</td>\n",
       "</tr>\n",
       "<tr>\n",
       "  <th>Model:</th>                   <td>OLS</td>       <th>  Adj. R-squared:    </th> <td>   0.812</td>\n",
       "</tr>\n",
       "<tr>\n",
       "  <th>Method:</th>             <td>Least Squares</td>  <th>  F-statistic:       </th> <td>   201.7</td>\n",
       "</tr>\n",
       "<tr>\n",
       "  <th>Date:</th>             <td>Thu, 25 Apr 2024</td> <th>  Prob (F-statistic):</th> <td>2.78e-35</td>\n",
       "</tr>\n",
       "<tr>\n",
       "  <th>Time:</th>                 <td>22:34:36</td>     <th>  Log-Likelihood:    </th> <td> -287.48</td>\n",
       "</tr>\n",
       "<tr>\n",
       "  <th>No. Observations:</th>      <td>   100</td>      <th>  AIC:               </th> <td>   581.0</td>\n",
       "</tr>\n",
       "<tr>\n",
       "  <th>Df Residuals:</th>          <td>    97</td>      <th>  BIC:               </th> <td>   588.8</td>\n",
       "</tr>\n",
       "<tr>\n",
       "  <th>Df Model:</th>              <td>     2</td>      <th>                     </th>     <td> </td>   \n",
       "</tr>\n",
       "<tr>\n",
       "  <th>Covariance Type:</th>         <td>HC1</td>       <th>                     </th>     <td> </td>   \n",
       "</tr>\n",
       "</table>\n",
       "<table class=\"simpletable\">\n",
       "<tr>\n",
       "       <td></td>         <th>coef</th>     <th>std err</th>      <th>z</th>      <th>P>|z|</th>  <th>[0.025</th>    <th>0.975]</th>  \n",
       "</tr>\n",
       "<tr>\n",
       "  <th>Intercept</th>  <td>  125.9656</td> <td>    3.149</td> <td>   39.996</td> <td> 0.000</td> <td>  119.793</td> <td>  132.138</td>\n",
       "</tr>\n",
       "<tr>\n",
       "  <th>dan_sleep</th>  <td>   -8.9502</td> <td>    0.597</td> <td>  -14.987</td> <td> 0.000</td> <td>  -10.121</td> <td>   -7.780</td>\n",
       "</tr>\n",
       "<tr>\n",
       "  <th>baby_sleep</th> <td>    0.0105</td> <td>    0.282</td> <td>    0.037</td> <td> 0.970</td> <td>   -0.541</td> <td>    0.563</td>\n",
       "</tr>\n",
       "</table>\n",
       "<table class=\"simpletable\">\n",
       "<tr>\n",
       "  <th>Omnibus:</th>       <td> 0.593</td> <th>  Durbin-Watson:     </th> <td>   2.120</td>\n",
       "</tr>\n",
       "<tr>\n",
       "  <th>Prob(Omnibus):</th> <td> 0.743</td> <th>  Jarque-Bera (JB):  </th> <td>   0.218</td>\n",
       "</tr>\n",
       "<tr>\n",
       "  <th>Skew:</th>          <td>-0.053</td> <th>  Prob(JB):          </th> <td>   0.897</td>\n",
       "</tr>\n",
       "<tr>\n",
       "  <th>Kurtosis:</th>      <td> 3.203</td> <th>  Cond. No.          </th> <td>    76.9</td>\n",
       "</tr>\n",
       "</table><br/><br/>Notes:<br/>[1] Standard Errors are heteroscedasticity robust (HC1)"
      ],
      "text/plain": [
       "<class 'statsmodels.iolib.summary.Summary'>\n",
       "\"\"\"\n",
       "                            OLS Regression Results                            \n",
       "==============================================================================\n",
       "Dep. Variable:              dan_grump   R-squared:                       0.816\n",
       "Model:                            OLS   Adj. R-squared:                  0.812\n",
       "Method:                 Least Squares   F-statistic:                     201.7\n",
       "Date:                Thu, 25 Apr 2024   Prob (F-statistic):           2.78e-35\n",
       "Time:                        22:34:36   Log-Likelihood:                -287.48\n",
       "No. Observations:                 100   AIC:                             581.0\n",
       "Df Residuals:                      97   BIC:                             588.8\n",
       "Df Model:                           2                                         \n",
       "Covariance Type:                  HC1                                         \n",
       "==============================================================================\n",
       "                 coef    std err          z      P>|z|      [0.025      0.975]\n",
       "------------------------------------------------------------------------------\n",
       "Intercept    125.9656      3.149     39.996      0.000     119.793     132.138\n",
       "dan_sleep     -8.9502      0.597    -14.987      0.000     -10.121      -7.780\n",
       "baby_sleep     0.0105      0.282      0.037      0.970      -0.541       0.563\n",
       "==============================================================================\n",
       "Omnibus:                        0.593   Durbin-Watson:                   2.120\n",
       "Prob(Omnibus):                  0.743   Jarque-Bera (JB):                0.218\n",
       "Skew:                          -0.053   Prob(JB):                        0.897\n",
       "Kurtosis:                       3.203   Cond. No.                         76.9\n",
       "==============================================================================\n",
       "\n",
       "Notes:\n",
       "[1] Standard Errors are heteroscedasticity robust (HC1)\n",
       "\"\"\""
      ]
     },
     "execution_count": 54,
     "metadata": {},
     "output_type": "execute_result"
    }
   ],
   "source": [
    "smf.ols('dan_grump ~ dan_sleep+baby_sleep', data=df).fit(cov_type='HC1').summary()"
   ]
  },
  {
   "cell_type": "markdown",
   "id": "860244c9",
   "metadata": {},
   "source": [
    "Not surprisingly, the $z$-values are pretty similar to the $t$-values that we saw when we fit our basic, non-robust regression, because the homogeneity of variance assumption wasn’t violated in our data anyway. But if it had been, we might have seen some more substantial differences."
   ]
  },
  {
   "cell_type": "markdown",
   "id": "cbb97f5f",
   "metadata": {},
   "source": [
    "(regressioncollinearity)=\n",
    "### Checking for collinearity\n",
    "\n",
    "The last kind of regression diagnostic that I'm going to discuss in this chapter is the use of **_variance inflation factors_** (VIFs), which are useful for determining whether or not the predictors in your regression model are too highly correlated with each other. There is a variance inflation factor associated with each predictor $X_k$ in the model, and the formula for the $k$-th VIF is:\n",
    "\n",
    "$$\n",
    "\\mbox{VIF}_k = \\frac{1}{1-{R^2_{(-k)}}}\n",
    "$$\n",
    "\n",
    "where $R^2_{(-k)}$ refers to $R$-squared value you would get if you ran a regression using $X_k$ as the outcome variable, and all the other $X$ variables as the predictors. The idea here is that $R^2_{(-k)}$ is a very good measure of the extent to which $X_k$ is correlated with all the other variables in the model. Better yet, the square root of the VIF is pretty interpretable: it tells you how much wider the confidence interval for the corresponding coefficient $b_k$ is, relative to what you would have expected if the predictors are all nice and uncorrelated with one another. If you've only got two predictors, the VIF values are always going to be the same, as we can see if we use the ``variance_inflation_factor`` function from ``statsmodels``.\n",
    "\n",
    "First, we need a dataframe with our predictor variables as columns, plus a column with a constant value representing the model intercept:"
   ]
  },
  {
   "cell_type": "markdown",
   "id": "a5fdf7e5",
   "metadata": {},
   "source": []
  },
  {
   "cell_type": "code",
   "execution_count": 55,
   "id": "d3ccbeda",
   "metadata": {},
   "outputs": [
    {
     "data": {
      "text/html": [
       "<div>\n",
       "<style scoped>\n",
       "    .dataframe tbody tr th:only-of-type {\n",
       "        vertical-align: middle;\n",
       "    }\n",
       "\n",
       "    .dataframe tbody tr th {\n",
       "        vertical-align: top;\n",
       "    }\n",
       "\n",
       "    .dataframe thead th {\n",
       "        text-align: right;\n",
       "    }\n",
       "</style>\n",
       "<table border=\"1\" class=\"dataframe\">\n",
       "  <thead>\n",
       "    <tr style=\"text-align: right;\">\n",
       "      <th></th>\n",
       "      <th>Intercept</th>\n",
       "      <th>dan_sleep</th>\n",
       "      <th>baby_sleep</th>\n",
       "    </tr>\n",
       "  </thead>\n",
       "  <tbody>\n",
       "    <tr>\n",
       "      <th>0</th>\n",
       "      <td>1</td>\n",
       "      <td>7.59</td>\n",
       "      <td>10.18</td>\n",
       "    </tr>\n",
       "    <tr>\n",
       "      <th>1</th>\n",
       "      <td>1</td>\n",
       "      <td>7.91</td>\n",
       "      <td>11.66</td>\n",
       "    </tr>\n",
       "    <tr>\n",
       "      <th>2</th>\n",
       "      <td>1</td>\n",
       "      <td>5.14</td>\n",
       "      <td>7.92</td>\n",
       "    </tr>\n",
       "    <tr>\n",
       "      <th>3</th>\n",
       "      <td>1</td>\n",
       "      <td>7.71</td>\n",
       "      <td>9.61</td>\n",
       "    </tr>\n",
       "    <tr>\n",
       "      <th>4</th>\n",
       "      <td>1</td>\n",
       "      <td>6.68</td>\n",
       "      <td>9.75</td>\n",
       "    </tr>\n",
       "  </tbody>\n",
       "</table>\n",
       "</div>"
      ],
      "text/plain": [
       "   Intercept  dan_sleep  baby_sleep\n",
       "0          1       7.59       10.18\n",
       "1          1       7.91       11.66\n",
       "2          1       5.14        7.92\n",
       "3          1       7.71        9.61\n",
       "4          1       6.68        9.75"
      ]
     },
     "execution_count": 55,
     "metadata": {},
     "output_type": "execute_result"
    }
   ],
   "source": [
    "matrix = pd.DataFrame({'Intercept': [1]*len(df['dan_sleep']),\n",
    "                       'dan_sleep': df['dan_sleep'], \n",
    "                       'baby_sleep': df['baby_sleep']})\n",
    "matrix.head()\n"
   ]
  },
  {
   "cell_type": "markdown",
   "id": "1857f79b",
   "metadata": {},
   "source": [
    "Then, we can calculate the VIF for each predictor and put the results in a dataframe:"
   ]
  },
  {
   "cell_type": "code",
   "execution_count": 56,
   "id": "c433a0f4",
   "metadata": {},
   "outputs": [
    {
     "data": {
      "text/html": [
       "<div>\n",
       "<style scoped>\n",
       "    .dataframe tbody tr th:only-of-type {\n",
       "        vertical-align: middle;\n",
       "    }\n",
       "\n",
       "    .dataframe tbody tr th {\n",
       "        vertical-align: top;\n",
       "    }\n",
       "\n",
       "    .dataframe thead th {\n",
       "        text-align: right;\n",
       "    }\n",
       "</style>\n",
       "<table border=\"1\" class=\"dataframe\">\n",
       "  <thead>\n",
       "    <tr style=\"text-align: right;\">\n",
       "      <th></th>\n",
       "      <th>VIF</th>\n",
       "      <th>variable</th>\n",
       "    </tr>\n",
       "  </thead>\n",
       "  <tbody>\n",
       "    <tr>\n",
       "      <th>0</th>\n",
       "      <td>48.784569</td>\n",
       "      <td>Intercept</td>\n",
       "    </tr>\n",
       "    <tr>\n",
       "      <th>1</th>\n",
       "      <td>1.651038</td>\n",
       "      <td>dan_sleep</td>\n",
       "    </tr>\n",
       "    <tr>\n",
       "      <th>2</th>\n",
       "      <td>1.651038</td>\n",
       "      <td>baby_sleep</td>\n",
       "    </tr>\n",
       "  </tbody>\n",
       "</table>\n",
       "</div>"
      ],
      "text/plain": [
       "         VIF    variable\n",
       "0  48.784569   Intercept\n",
       "1   1.651038   dan_sleep\n",
       "2   1.651038  baby_sleep"
      ]
     },
     "execution_count": 56,
     "metadata": {},
     "output_type": "execute_result"
    }
   ],
   "source": [
    "from statsmodels.stats.outliers_influence import variance_inflation_factor\n",
    "\n",
    "vif = pd.DataFrame()\n",
    "vif['VIF'] = [variance_inflation_factor(matrix.values, i) for i in range(matrix.shape[1])]\n",
    "vif['variable'] = matrix.columns\n",
    "vif\n"
   ]
  },
  {
   "cell_type": "markdown",
   "id": "8da33b9d",
   "metadata": {},
   "source": [
    "And since the square root of 1.65 is 1.28, which isn't really a huge change in the confidence intervals for our predictors, we see that the correlation between our two predictors isn’t causing much of a problem.\n",
    "\n",
    "To give a sense of how we could end up with a model that has bigger collinearity problems, suppose I were to run a much less interesting regression model, in which I tried to predict the day on which the data were collected, as a function of all the other variables in the data set. To see why this would be a bit of a problem, let’s have a look at the correlation matrix for all four variables:"
   ]
  },
  {
   "cell_type": "code",
   "execution_count": 57,
   "id": "0d9d96d6",
   "metadata": {},
   "outputs": [
    {
     "data": {
      "text/html": [
       "<div>\n",
       "<style scoped>\n",
       "    .dataframe tbody tr th:only-of-type {\n",
       "        vertical-align: middle;\n",
       "    }\n",
       "\n",
       "    .dataframe tbody tr th {\n",
       "        vertical-align: top;\n",
       "    }\n",
       "\n",
       "    .dataframe thead th {\n",
       "        text-align: right;\n",
       "    }\n",
       "</style>\n",
       "<table border=\"1\" class=\"dataframe\">\n",
       "  <thead>\n",
       "    <tr style=\"text-align: right;\">\n",
       "      <th></th>\n",
       "      <th>dan_sleep</th>\n",
       "      <th>baby_sleep</th>\n",
       "      <th>dan_grump</th>\n",
       "      <th>day</th>\n",
       "      <th>Tukey</th>\n",
       "      <th>dan_sleep_transformed</th>\n",
       "    </tr>\n",
       "  </thead>\n",
       "  <tbody>\n",
       "    <tr>\n",
       "      <th>dan_sleep</th>\n",
       "      <td>1.000000</td>\n",
       "      <td>0.627949</td>\n",
       "      <td>-0.903384</td>\n",
       "      <td>-0.098408</td>\n",
       "      <td>-0.997024</td>\n",
       "      <td>0.997866</td>\n",
       "    </tr>\n",
       "    <tr>\n",
       "      <th>baby_sleep</th>\n",
       "      <td>0.627949</td>\n",
       "      <td>1.000000</td>\n",
       "      <td>-0.565964</td>\n",
       "      <td>-0.010434</td>\n",
       "      <td>-0.626177</td>\n",
       "      <td>0.625397</td>\n",
       "    </tr>\n",
       "    <tr>\n",
       "      <th>dan_grump</th>\n",
       "      <td>-0.903384</td>\n",
       "      <td>-0.565964</td>\n",
       "      <td>1.000000</td>\n",
       "      <td>0.076479</td>\n",
       "      <td>0.907817</td>\n",
       "      <td>-0.895394</td>\n",
       "    </tr>\n",
       "    <tr>\n",
       "      <th>day</th>\n",
       "      <td>-0.098408</td>\n",
       "      <td>-0.010434</td>\n",
       "      <td>0.076479</td>\n",
       "      <td>1.000000</td>\n",
       "      <td>0.103952</td>\n",
       "      <td>-0.093393</td>\n",
       "    </tr>\n",
       "    <tr>\n",
       "      <th>Tukey</th>\n",
       "      <td>-0.997024</td>\n",
       "      <td>-0.626177</td>\n",
       "      <td>0.907817</td>\n",
       "      <td>0.103952</td>\n",
       "      <td>1.000000</td>\n",
       "      <td>-0.989864</td>\n",
       "    </tr>\n",
       "    <tr>\n",
       "      <th>dan_sleep_transformed</th>\n",
       "      <td>0.997866</td>\n",
       "      <td>0.625397</td>\n",
       "      <td>-0.895394</td>\n",
       "      <td>-0.093393</td>\n",
       "      <td>-0.989864</td>\n",
       "      <td>1.000000</td>\n",
       "    </tr>\n",
       "  </tbody>\n",
       "</table>\n",
       "</div>"
      ],
      "text/plain": [
       "                       dan_sleep  baby_sleep  dan_grump       day     Tukey  \\\n",
       "dan_sleep               1.000000    0.627949  -0.903384 -0.098408 -0.997024   \n",
       "baby_sleep              0.627949    1.000000  -0.565964 -0.010434 -0.626177   \n",
       "dan_grump              -0.903384   -0.565964   1.000000  0.076479  0.907817   \n",
       "day                    -0.098408   -0.010434   0.076479  1.000000  0.103952   \n",
       "Tukey                  -0.997024   -0.626177   0.907817  0.103952  1.000000   \n",
       "dan_sleep_transformed   0.997866    0.625397  -0.895394 -0.093393 -0.989864   \n",
       "\n",
       "                       dan_sleep_transformed  \n",
       "dan_sleep                           0.997866  \n",
       "baby_sleep                          0.625397  \n",
       "dan_grump                          -0.895394  \n",
       "day                                -0.093393  \n",
       "Tukey                              -0.989864  \n",
       "dan_sleep_transformed               1.000000  "
      ]
     },
     "execution_count": 57,
     "metadata": {},
     "output_type": "execute_result"
    }
   ],
   "source": [
    "df.corr()"
   ]
  },
  {
   "cell_type": "markdown",
   "id": "98f6a09e",
   "metadata": {},
   "source": [
    "We have some fairly large correlations between some of our predictor variables! When we run the regression model and look at the VIF values, we see that the collinearity is causing a lot of uncertainty about the coefficients. First, we'll add the ``day`` column and the ``dan_grump`` column to our ``matrix`` dataframe..."
   ]
  },
  {
   "cell_type": "code",
   "execution_count": 58,
   "id": "e0029a83",
   "metadata": {},
   "outputs": [
    {
     "data": {
      "text/html": [
       "<div>\n",
       "<style scoped>\n",
       "    .dataframe tbody tr th:only-of-type {\n",
       "        vertical-align: middle;\n",
       "    }\n",
       "\n",
       "    .dataframe tbody tr th {\n",
       "        vertical-align: top;\n",
       "    }\n",
       "\n",
       "    .dataframe thead th {\n",
       "        text-align: right;\n",
       "    }\n",
       "</style>\n",
       "<table border=\"1\" class=\"dataframe\">\n",
       "  <thead>\n",
       "    <tr style=\"text-align: right;\">\n",
       "      <th></th>\n",
       "      <th>Intercept</th>\n",
       "      <th>dan_sleep</th>\n",
       "      <th>baby_sleep</th>\n",
       "      <th>dan_grump</th>\n",
       "      <th>day</th>\n",
       "    </tr>\n",
       "  </thead>\n",
       "  <tbody>\n",
       "    <tr>\n",
       "      <th>0</th>\n",
       "      <td>1</td>\n",
       "      <td>7.59</td>\n",
       "      <td>10.18</td>\n",
       "      <td>56</td>\n",
       "      <td>1</td>\n",
       "    </tr>\n",
       "    <tr>\n",
       "      <th>1</th>\n",
       "      <td>1</td>\n",
       "      <td>7.91</td>\n",
       "      <td>11.66</td>\n",
       "      <td>60</td>\n",
       "      <td>2</td>\n",
       "    </tr>\n",
       "    <tr>\n",
       "      <th>2</th>\n",
       "      <td>1</td>\n",
       "      <td>5.14</td>\n",
       "      <td>7.92</td>\n",
       "      <td>82</td>\n",
       "      <td>3</td>\n",
       "    </tr>\n",
       "    <tr>\n",
       "      <th>3</th>\n",
       "      <td>1</td>\n",
       "      <td>7.71</td>\n",
       "      <td>9.61</td>\n",
       "      <td>55</td>\n",
       "      <td>4</td>\n",
       "    </tr>\n",
       "    <tr>\n",
       "      <th>4</th>\n",
       "      <td>1</td>\n",
       "      <td>6.68</td>\n",
       "      <td>9.75</td>\n",
       "      <td>67</td>\n",
       "      <td>5</td>\n",
       "    </tr>\n",
       "  </tbody>\n",
       "</table>\n",
       "</div>"
      ],
      "text/plain": [
       "   Intercept  dan_sleep  baby_sleep  dan_grump  day\n",
       "0          1       7.59       10.18         56    1\n",
       "1          1       7.91       11.66         60    2\n",
       "2          1       5.14        7.92         82    3\n",
       "3          1       7.71        9.61         55    4\n",
       "4          1       6.68        9.75         67    5"
      ]
     },
     "execution_count": 58,
     "metadata": {},
     "output_type": "execute_result"
    }
   ],
   "source": [
    "matrix['dan_grump'] = df['dan_grump']\n",
    "matrix['day'] = df['day']\n",
    "\n",
    "\n",
    "matrix.head()"
   ]
  },
  {
   "cell_type": "markdown",
   "id": "f92a066c",
   "metadata": {},
   "source": [
    "and then, we'll look at the VIFs..."
   ]
  },
  {
   "cell_type": "code",
   "execution_count": 59,
   "id": "af44556e",
   "metadata": {},
   "outputs": [
    {
     "data": {
      "text/html": [
       "<div>\n",
       "<style scoped>\n",
       "    .dataframe tbody tr th:only-of-type {\n",
       "        vertical-align: middle;\n",
       "    }\n",
       "\n",
       "    .dataframe tbody tr th {\n",
       "        vertical-align: top;\n",
       "    }\n",
       "\n",
       "    .dataframe thead th {\n",
       "        text-align: right;\n",
       "    }\n",
       "</style>\n",
       "<table border=\"1\" class=\"dataframe\">\n",
       "  <thead>\n",
       "    <tr style=\"text-align: right;\">\n",
       "      <th></th>\n",
       "      <th>VIF</th>\n",
       "      <th>variable</th>\n",
       "    </tr>\n",
       "  </thead>\n",
       "  <tbody>\n",
       "    <tr>\n",
       "      <th>0</th>\n",
       "      <td>922.960321</td>\n",
       "      <td>Intercept</td>\n",
       "    </tr>\n",
       "    <tr>\n",
       "      <th>1</th>\n",
       "      <td>6.148528</td>\n",
       "      <td>dan_sleep</td>\n",
       "    </tr>\n",
       "    <tr>\n",
       "      <th>2</th>\n",
       "      <td>1.658389</td>\n",
       "      <td>baby_sleep</td>\n",
       "    </tr>\n",
       "    <tr>\n",
       "      <th>3</th>\n",
       "      <td>5.442617</td>\n",
       "      <td>dan_grump</td>\n",
       "    </tr>\n",
       "    <tr>\n",
       "      <th>4</th>\n",
       "      <td>1.015119</td>\n",
       "      <td>day</td>\n",
       "    </tr>\n",
       "  </tbody>\n",
       "</table>\n",
       "</div>"
      ],
      "text/plain": [
       "          VIF    variable\n",
       "0  922.960321   Intercept\n",
       "1    6.148528   dan_sleep\n",
       "2    1.658389  baby_sleep\n",
       "3    5.442617   dan_grump\n",
       "4    1.015119         day"
      ]
     },
     "execution_count": 59,
     "metadata": {},
     "output_type": "execute_result"
    }
   ],
   "source": [
    "vif = pd.DataFrame()\n",
    "vif['VIF'] = [variance_inflation_factor(matrix.values, i) for i in range(matrix.shape[1])]\n",
    "vif['variable'] = matrix.columns\n",
    "vif"
   ]
  },
  {
   "cell_type": "markdown",
   "id": "99660940",
   "metadata": {},
   "source": [
    "Yep, that’s some mighty fine collinearity you’ve got there. Of course, if you suspect that your model might have some degree of collinearity between predictors, you are still left with some questions to which there are no concrete answers (sorry!). How much collinearity is ok? What should I do about the collinearity in my model? There are some suggestions and guidelines out there (e.g., in the ``statsmodels`` documentation, a vif of 5 is suggested to be the limit, but [elsewhere](https://en.wikipedia.org/wiki/Variance_inflation_factor) you can find other suggested values as cutoff lines), but like so many things in statistics (and in life), I'm afraid you will need to exercise your own judgment."
   ]
  },
  {
   "cell_type": "markdown",
   "id": "a33d12c5",
   "metadata": {},
   "source": [
    "(modelselreg)=\n",
    "## Model Selection \n",
    "\n",
    "One fairly major problem that remains is the problem of \"model selection\". That is, if we have a data set that contains several variables, which ones should we include as predictors, and which ones should we not include? In other words, we have a problem of **_variable selection_**. In general, model selection is a complex business, but it's made somewhat simpler if we restrict ourselves to the problem of choosing a subset of the variables that ought to be included in the model. Nevertheless, I'm not going to try covering even this reduced topic in a lot of detail. Instead, I'll talk about two broad principles that you need to think about; and then discuss one concrete tool to help you select a subset of variables to include in your model. Firstly, the two principles:\n",
    "\n",
    "- It's nice to have an actual substantive basis for your choices. That is, in a lot of situations you the researcher have good reasons to pick out a smallish number of possible regression models that are of theoretical interest; these models will have a sensible interpretation in the context of your field. Never discount the importance of this. Statistics serves the scientific process, not the other way around. \n",
    "- To the extent that your choices rely on statistical inference, there is a trade off between simplicity and goodness of fit. As you add more predictors to the model, you make it more complex; each predictor adds a new free parameter (i.e., a new regression coefficient), and each new parameter increases the model's capacity to \"absorb\" random variations. So the goodness of fit (e.g., $R^2$) continues to rise as you add more predictors no matter what. If you want your model to be able to generalise well to new observations, you need to avoid throwing in too many variables. \n",
    "\n",
    "This latter principle is often referred to as **_Ockham's razor_**, and is often summarised in terms of the following pithy saying: *do not multiply entities beyond necessity*. In this context, it means: don't chuck in a bunch of largely irrelevant predictors just to boost your $R^2$. Hm. Yeah, the original was better. \n",
    "\n",
    "In any case, what we need is an actual mathematical criterion that will implement the qualitative principle behind Ockham's razor in the context of selecting a regression model. As it turns out there are several possibilities. The one that I'll talk about is the **_Akaike information criterion_** {cite}``Akaike1974`` simply because it's a common one, and because ``statsmodels`` will calculate it for you automatically when you run a linear regression There are many others, including BIC (Bayesian Information Criterion), which ``statsmodels`` also gives you for free. In the context of a linear regression model (and ignoring terms that don't depend on the model in any way!), the AIC for a model that has $K$ predictor variables plus an intercept is:\n",
    "\n",
    "$$\n",
    "\\mbox{AIC} = \\displaystyle\\frac{\\mbox{SS}_{res}}{\\hat{\\sigma}}^2+ 2K\n",
    "$$\n",
    "\n",
    "\n",
    "The smaller the AIC value, the better the model performance is.[^AIC_calc] If we ignore the low level details, it's fairly obvious what the AIC does: on the left we have a term that increases as the model predictions get worse; on the right we have a term that increases as the model complexity increases. The best model is the one that fits the data well (low residuals; left hand side) using as few predictors as possible (low $K$; right hand side). In short, this is a simple implementation of Ockham's razor. \n",
    "\n",
    "\n",
    "\n",
    "[^AIC_calc]: Note, depending on exactly how AIC is calculated, the actual AIC value may be different. That is, if you calculate AIC using the formula above, a Python function, or an algorithm from some other statistics software. However, if you use the same method to calculate AIC for two different models, and take the differnce between them, then this should end up being the same, no matter what method was used. In practice, this is all you care about: the actual value of an AIC statistic isn't very informative, but the differences between two AIC values *are* useful, since these provide a measure of the extent to which one model outperforms another."
   ]
  },
  {
   "cell_type": "markdown",
   "id": "b9c52570",
   "metadata": {},
   "source": [
    "### Backward elimination\n",
    "\n",
    "Okay, let’s have a look at how this works in practice. In this example I’ll keep it simple and use only the basic backward elimination approach. That is, start with the complete regression model, including all possible predictors. Then, at each “step” we try all possible ways of removing one of the variables, and whichever of these is best (in terms of lowest AIC value) is accepted. This becomes our new regression model; and we then try all possible deletions from the new model, again choosing the option with lowest AIC. This process continues until we end up with a model that has a lower AIC value than any of the other possible models that you could produce by deleting one of its predictors. Let’s see this in action. First, I need to define the model from which the process starts."
   ]
  },
  {
   "cell_type": "code",
   "execution_count": 60,
   "id": "f5ac445f",
   "metadata": {},
   "outputs": [],
   "source": [
    "mod_full = smf.ols('dan_grump ~ dan_sleep + baby_sleep + day', data=df)"
   ]
  },
  {
   "cell_type": "markdown",
   "id": "8eee3272",
   "metadata": {},
   "source": [
    "We can get ``statsmodels`` to fit the model and return a summay, which will include the AIC value."
   ]
  },
  {
   "cell_type": "code",
   "execution_count": 61,
   "id": "6ad334d1",
   "metadata": {},
   "outputs": [
    {
     "data": {
      "text/html": [
       "<table class=\"simpletable\">\n",
       "<caption>OLS Regression Results</caption>\n",
       "<tr>\n",
       "  <th>Dep. Variable:</th>        <td>dan_grump</td>    <th>  R-squared:         </th> <td>   0.816</td>\n",
       "</tr>\n",
       "<tr>\n",
       "  <th>Model:</th>                   <td>OLS</td>       <th>  Adj. R-squared:    </th> <td>   0.811</td>\n",
       "</tr>\n",
       "<tr>\n",
       "  <th>Method:</th>             <td>Least Squares</td>  <th>  F-statistic:       </th> <td>   142.2</td>\n",
       "</tr>\n",
       "<tr>\n",
       "  <th>Date:</th>             <td>Thu, 25 Apr 2024</td> <th>  Prob (F-statistic):</th> <td>3.42e-35</td>\n",
       "</tr>\n",
       "<tr>\n",
       "  <th>Time:</th>                 <td>22:34:36</td>     <th>  Log-Likelihood:    </th> <td> -287.43</td>\n",
       "</tr>\n",
       "<tr>\n",
       "  <th>No. Observations:</th>      <td>   100</td>      <th>  AIC:               </th> <td>   582.9</td>\n",
       "</tr>\n",
       "<tr>\n",
       "  <th>Df Residuals:</th>          <td>    96</td>      <th>  BIC:               </th> <td>   593.3</td>\n",
       "</tr>\n",
       "<tr>\n",
       "  <th>Df Model:</th>              <td>     3</td>      <th>                     </th>     <td> </td>   \n",
       "</tr>\n",
       "<tr>\n",
       "  <th>Covariance Type:</th>      <td>nonrobust</td>    <th>                     </th>     <td> </td>   \n",
       "</tr>\n",
       "</table>\n",
       "<table class=\"simpletable\">\n",
       "<tr>\n",
       "       <td></td>         <th>coef</th>     <th>std err</th>      <th>t</th>      <th>P>|t|</th>  <th>[0.025</th>    <th>0.975]</th>  \n",
       "</tr>\n",
       "<tr>\n",
       "  <th>Intercept</th>  <td>  126.2787</td> <td>    3.242</td> <td>   38.945</td> <td> 0.000</td> <td>  119.842</td> <td>  132.715</td>\n",
       "</tr>\n",
       "<tr>\n",
       "  <th>dan_sleep</th>  <td>   -8.9693</td> <td>    0.560</td> <td>  -16.016</td> <td> 0.000</td> <td>  -10.081</td> <td>   -7.858</td>\n",
       "</tr>\n",
       "<tr>\n",
       "  <th>baby_sleep</th> <td>    0.0157</td> <td>    0.273</td> <td>    0.058</td> <td> 0.954</td> <td>   -0.526</td> <td>    0.558</td>\n",
       "</tr>\n",
       "<tr>\n",
       "  <th>day</th>        <td>   -0.0044</td> <td>    0.015</td> <td>   -0.288</td> <td> 0.774</td> <td>   -0.035</td> <td>    0.026</td>\n",
       "</tr>\n",
       "</table>\n",
       "<table class=\"simpletable\">\n",
       "<tr>\n",
       "  <th>Omnibus:</th>       <td> 0.599</td> <th>  Durbin-Watson:     </th> <td>   2.120</td>\n",
       "</tr>\n",
       "<tr>\n",
       "  <th>Prob(Omnibus):</th> <td> 0.741</td> <th>  Jarque-Bera (JB):  </th> <td>   0.215</td>\n",
       "</tr>\n",
       "<tr>\n",
       "  <th>Skew:</th>          <td>-0.037</td> <th>  Prob(JB):          </th> <td>   0.898</td>\n",
       "</tr>\n",
       "<tr>\n",
       "  <th>Kurtosis:</th>      <td> 3.215</td> <th>  Cond. No.          </th> <td>    441.</td>\n",
       "</tr>\n",
       "</table><br/><br/>Notes:<br/>[1] Standard Errors assume that the covariance matrix of the errors is correctly specified."
      ],
      "text/plain": [
       "<class 'statsmodels.iolib.summary.Summary'>\n",
       "\"\"\"\n",
       "                            OLS Regression Results                            \n",
       "==============================================================================\n",
       "Dep. Variable:              dan_grump   R-squared:                       0.816\n",
       "Model:                            OLS   Adj. R-squared:                  0.811\n",
       "Method:                 Least Squares   F-statistic:                     142.2\n",
       "Date:                Thu, 25 Apr 2024   Prob (F-statistic):           3.42e-35\n",
       "Time:                        22:34:36   Log-Likelihood:                -287.43\n",
       "No. Observations:                 100   AIC:                             582.9\n",
       "Df Residuals:                      96   BIC:                             593.3\n",
       "Df Model:                           3                                         \n",
       "Covariance Type:            nonrobust                                         \n",
       "==============================================================================\n",
       "                 coef    std err          t      P>|t|      [0.025      0.975]\n",
       "------------------------------------------------------------------------------\n",
       "Intercept    126.2787      3.242     38.945      0.000     119.842     132.715\n",
       "dan_sleep     -8.9693      0.560    -16.016      0.000     -10.081      -7.858\n",
       "baby_sleep     0.0157      0.273      0.058      0.954      -0.526       0.558\n",
       "day           -0.0044      0.015     -0.288      0.774      -0.035       0.026\n",
       "==============================================================================\n",
       "Omnibus:                        0.599   Durbin-Watson:                   2.120\n",
       "Prob(Omnibus):                  0.741   Jarque-Bera (JB):                0.215\n",
       "Skew:                          -0.037   Prob(JB):                        0.898\n",
       "Kurtosis:                       3.215   Cond. No.                         441.\n",
       "==============================================================================\n",
       "\n",
       "Notes:\n",
       "[1] Standard Errors assume that the covariance matrix of the errors is correctly specified.\n",
       "\"\"\""
      ]
     },
     "execution_count": 61,
     "metadata": {},
     "output_type": "execute_result"
    }
   ],
   "source": [
    "mod_full.fit().summary()"
   ]
  },
  {
   "cell_type": "markdown",
   "id": "a1a648f3",
   "metadata": {},
   "source": [
    " This is great, but we will be doing this several times, and this is quite a lot of information to wade through just to get AIC value. So to reduce the output, we could write a function, like the one below, to return _only_ the AIC value."
   ]
  },
  {
   "cell_type": "code",
   "execution_count": 62,
   "id": "66ce59c1",
   "metadata": {},
   "outputs": [],
   "source": [
    "# function to return only the AIC calculation for a statsmodels linear model\n",
    "def get_aic(model_name, model):\n",
    "    aic = model.fit().summary().tables[0].as_text().split('\\n')[7].split('AIC:')[1].strip()\n",
    "    output = model_name + ' AIC: ' + aic\n",
    "    return output"
   ]
  },
  {
   "cell_type": "markdown",
   "id": "ca81e771",
   "metadata": {},
   "source": [
    "The line in this function that defines the variable ``aic`` looks pretty hairly, but that is only because I have compressed it down to one line. If you break it down, and try running it bit by bit (adding the parts with a `.` in front of them and looking at the output), you will see that doesn't really involve anything new (other than maybe the ``strip()`` function, which just removes unnecessary whitespace from the output)\n",
    "\n",
    "Now we just give the function a name for the model, and the model itself, and it tells us the AIC:"
   ]
  },
  {
   "cell_type": "code",
   "execution_count": 63,
   "id": "1ed5f89e",
   "metadata": {},
   "outputs": [
    {
     "data": {
      "text/plain": [
       "'full model AIC: 582.9'"
      ]
     },
     "execution_count": 63,
     "metadata": {},
     "output_type": "execute_result"
    }
   ],
   "source": [
    "get_aic('full model', mod_full)"
   ]
  },
  {
   "cell_type": "markdown",
   "id": "b48b816f",
   "metadata": {},
   "source": [
    "Now we can use our fancy new function to loop through all the possible models, each one removing one predictor from the full model:"
   ]
  },
  {
   "cell_type": "code",
   "execution_count": 64,
   "id": "1541abd2",
   "metadata": {},
   "outputs": [
    {
     "data": {
      "text/plain": [
       "['Full Model AIC: 582.9',\n",
       " 'No Day AIC: 581.0',\n",
       " 'No Baby AIC: 580.9',\n",
       " 'No Dan AIC: 710.9']"
      ]
     },
     "execution_count": 64,
     "metadata": {},
     "output_type": "execute_result"
    }
   ],
   "source": [
    "mod_full = smf.ols('dan_grump ~ dan_sleep + baby_sleep + day', data=df)\n",
    "mod_no_day = smf.ols('dan_grump ~ dan_sleep + baby_sleep', data=df)\n",
    "mod_no_baby = smf.ols('dan_grump ~ dan_sleep + day', data=df)\n",
    "mod_no_dan = smf.ols('dan_grump ~ baby_sleep + day', data=df)\n",
    "\n",
    "models = [mod_full, mod_no_day, mod_no_baby, mod_no_dan]\n",
    "names = ['Full Model', 'No Day', 'No Baby', 'No Dan']\n",
    "\n",
    "aics = []\n",
    "for n, model in enumerate(models):\n",
    "    aics.append(get_aic(names[n], model))\n",
    "\n",
    "aics"
   ]
  },
  {
   "cell_type": "markdown",
   "id": "744f1267",
   "metadata": {},
   "source": [
    "Of these models, the one in which we removed ``baby_sleep`` as a predictor has the lowest AIC, so it seems like removing this predictor is probably a good idea. This shouldn't be surprising, really, given all the other checks we have already done on these data. But let's proceed. Now, we can do the same thing again, but comparing only models without ``baby_sleep``:"
   ]
  },
  {
   "cell_type": "code",
   "execution_count": 65,
   "id": "b06eb416",
   "metadata": {},
   "outputs": [
    {
     "data": {
      "text/plain": [
       "['Full Model AIC: 580.9', 'No Day AIC: 579.0', 'No Dan AIC: 747.7']"
      ]
     },
     "execution_count": 65,
     "metadata": {},
     "output_type": "execute_result"
    }
   ],
   "source": [
    "mod_full = smf.ols('dan_grump ~ dan_sleep + day', data=df)\n",
    "mod_no_day = smf.ols('dan_grump ~ dan_sleep', data=df)\n",
    "mod_no_dan = smf.ols('dan_grump ~ day', data=df)\n",
    "\n",
    "models = [mod_full, mod_no_day, mod_no_dan]\n",
    "names = ['Full Model', 'No Day', 'No Dan']\n",
    "\n",
    "aics = []\n",
    "for n, model in enumerate(models):\n",
    "    aics.append(get_aic(names[n], model))\n",
    "\n",
    "aics"
   ]
  },
  {
   "cell_type": "markdown",
   "id": "3e88ec56",
   "metadata": {},
   "source": [
    "Now, the model in which we removed ``day`` as a predictor performs best (has the lowest AIC), so the next step would be to remove ``day`` from our model. In this case, that only leaves us with one predictor: ``dan_sleep``. Which is (perhaps not all that surprisingly) the mod1 that we started with at the [beginning of the chapter](pingouinregression): \n",
    "\n",
    "    mod1 = pg.linear_regression(df['dan_sleep'], df['dan_grump'])\n"
   ]
  },
  {
   "cell_type": "markdown",
   "id": "2ac2fece",
   "metadata": {},
   "source": [
    "This process, as I have described it, is fairly straightforward, especially once you a function to just grab the AIC from the ``statsmodels`` output. But if you find yourself doing this sort of thing often, you might want to automate it even further. It wouldn't take _that_ much work to expand on the code I have given you, and build a function that takes as input your full model, and then _automatically_ considers all possible variations, and continues eliminating predictors until it finds the optimal model. But this I leave as a programming exercise for you, if you feel so inclined."
   ]
  },
  {
   "cell_type": "markdown",
   "id": "a2d73567",
   "metadata": {},
   "source": [
    "### A caveat\n",
    "\n",
    "Automated variable selection methods are seductive things. They provide an element of objectivity to your model selection, and that’s kind of nice. Unfortunately, they’re sometimes used as an excuse for thoughtlessness. No longer do you have to think carefully about which predictors to add to the model and what the theoretical basis for their inclusion might be... everything is solved by the magic of AIC. And if we start throwing around phrases like Ockham’s razor, well, it sounds like everything is wrapped up in a nice neat little package that no-one can argue with.\n",
    "\n",
    "Or, perhaps not. Firstly, there’s very little agreement on what counts as an appropriate model selection criterion. When I was taught backward elimination as an undergraduate, we used F-tests to do it, because that was the default method used by the software. Here we are using AIC, and since this is an introductory text that’s the only method I’ve described, but the AIC is hardly the Word of the Gods of Statistics. It’s an approximation, derived under certain assumptions, and it’s guaranteed to work only for large samples when those assumptions are met. Alter those assumptions and you get a different criterion, like the BIC for instance. Take a different approach again and you get the NML criterion. Decide that you’re a Bayesian and you get model selection based on posterior odds ratios. Then there are a bunch of regression specific tools that I haven’t mentioned. And so on. All of these different methods have strengths and weaknesses, and some are easier to calculate than others (AIC is probably the easiest of the lot, which might account for its popularity). Almost all of them produce the same answers when the answer is “obvious” but there’s a fair amount of disagreement when the model selection problem becomes hard.\n",
    "\n",
    "What does this mean in practice? Well, you could go and spend several years teaching yourself the theory of model selection, learning all the ins and outs of it; so that you could finally decide on what you personally think the right thing to do is. Speaking as someone who actually did that, I wouldn’t recommend it: you’ll probably come out the other side even more confused than when you started. A better strategy is to show a bit of common sense... if you’re staring at the results of a stepwise AIC model comparison procedure, and the model that makes sense is close to having the smallest AIC, but is narrowly defeated by a model that doesn’t make any sense... trust your instincts. Statistical model selection is an inexact tool, and as I said at the beginning, interpretability matters."
   ]
  },
  {
   "cell_type": "markdown",
   "id": "173a3198",
   "metadata": {},
   "source": [
    "### Comparing two regression models\n",
    "\n",
    "An alternative to using automated model selection procedures is for the researcher to explicitly select two or more regression models to compare to each other. You can do this in a few different ways, depending on what research question you're trying to answer. Suppose we want to know whether or not the amount of sleep that my son got has any relationship to my grumpiness, over and above what we might expect from the amount of sleep that I got. We also want to make sure that the day on which we took the measurement has no influence on the relationship. That is, we're interested in the relationship between `baby_sleep` and `dan_grump`, and from that perspective `dan_sleep` and `day` are nuisance variable or **_covariates_** that we want to control for. In this situation, what we would like to know is whether `dan_grump ~ dan_sleep + day + baby_sleep` (which I'll call Model 1, or `M1`) is a better regression model for these data than `dan_grump ~ dan_sleep + day` (which I'll call Model 0, or `M0`). There are two different ways we can compare these two models, one based on a model selection criterion like AIC, and the other based on an explicit hypothesis test. I'll show you the AIC based approach first because it's simpler, and follows naturally from the method we used in the last section. The first thing I need to do is actually run the regressions. Since we want to calculate AIC, it will be easier to use `statsmodels` than `pigouin`. First we'll define the two models, then use our handy-dandy AIC function to get the AIC for each of them."
   ]
  },
  {
   "cell_type": "code",
   "execution_count": 66,
   "id": "6ebd37cd",
   "metadata": {},
   "outputs": [
    {
     "data": {
      "text/plain": [
       "['M0 AIC: 580.9', 'M1 AIC: 582.9']"
      ]
     },
     "execution_count": 66,
     "metadata": {},
     "output_type": "execute_result"
    }
   ],
   "source": [
    "M0 = smf.ols('dan_grump ~ dan_sleep + day', data=df)\n",
    "M1 = smf.ols('dan_grump ~ dan_sleep + day + baby_sleep', data=df)\n",
    "\n",
    "models = [M0, M1]\n",
    "names = ['M0', 'M1']\n",
    "\n",
    "aics = []\n",
    "for n, model in enumerate(models):\n",
    "    aics.append(get_aic(names[n], model))\n",
    "\n",
    "aics"
   ]
  },
  {
   "cell_type": "markdown",
   "id": "506f854d",
   "metadata": {},
   "source": [
    "Since Model 0 has the smaller AIC value, it is judged to be the better model for these data. \n",
    "\n",
    "By the way, I mentioned before that ``statsmodels`` gives us both AIC and BIC automatically. In fact, while I'm not particularly impressed with either AIC or BIC as model selection methods, if you do find yourself using one of these two, the empirical evidence suggests that BIC is the better criterion of the two. In most simulation studies that I've seen, BIC does a much better job of selecting the correct model. And indeed, it wouldn't be hard to modify our function ``get_aic`` from above to get both the AIC and BIC values from the ``statsmodels`` output, so why not just do that, like so [^exercise]:\n",
    "\n",
    "[^exercise]: I leave it as a \"fun\" programming exercise to you to adapt this function even further, so that it present the results in a nice table format, e.g. in a dataframe. Not necessary, but it would make it easier to compare models if the results were nicely lined up in columns, don't you think?"
   ]
  },
  {
   "cell_type": "code",
   "execution_count": 67,
   "id": "e4b439ff",
   "metadata": {},
   "outputs": [],
   "source": [
    "def get_aic_bic(model_name, model):\n",
    "    aic = model.fit().summary().tables[0].as_text().split('\\n')[7].split('AIC:')[1].strip()\n",
    "    bic = model.fit().summary().tables[0].as_text().split('\\n')[8].split('BIC:')[1].strip()\n",
    "    output = model_name + ' AIC: ' + aic + ' BIC: ' + bic\n",
    "    return output"
   ]
  },
  {
   "cell_type": "code",
   "execution_count": 68,
   "id": "8d456f8d",
   "metadata": {},
   "outputs": [
    {
     "data": {
      "text/plain": [
       "['M0 AIC: 580.9 BIC: 588.7', 'M1 AIC: 582.9 BIC: 593.3']"
      ]
     },
     "execution_count": 68,
     "metadata": {},
     "output_type": "execute_result"
    }
   ],
   "source": [
    "models = [M0, M1]\n",
    "names = ['M0', 'M1']\n",
    "\n",
    "ics = []\n",
    "for n, model in enumerate(models):\n",
    "    ics.append(get_aic_bic(names[n], model))\n",
    "\n",
    "ics"
   ]
  },
  {
   "cell_type": "markdown",
   "id": "6f8efb5a",
   "metadata": {},
   "source": [
    "BIC is also smaller for `MO` than for `M1`, so based on both AIC and BIC, it looks like Model 0 is the better choice.\n",
    "\n",
    "A somewhat different approach to the problem comes out of the hypothesis testing framework. Suppose you have two regression models, where one of them (Model 0) contains a *subset* of the predictors from the other one (Model 1). That is, Model 1 contains all of the predictors included in Model 0, plus one or more additional predictors. When this happens we say that Model 0 is **_nested_** within Model 1, or possibly that Model 0 is a **_submodel_** of Model 1. Regardless of the terminology what this means is that we can think of Model 0 as a null hypothesis and Model 1 as an alternative hypothesis. And in fact we can construct an $F$ test for this in a fairly straightforward fashion. We can fit both models to the data and obtain a residual sum of squares for both models. I'll denote these as SS$_{res}^{(0)}$ and SS$_{res}^{(1)}$ respectively. The superscripting here just indicates which model we're talking about.  Then our $F$ statistic is\n",
    "\n",
    "$$\n",
    "F = \\frac{(\\mbox{SS}_{res}^{(0)} - \\mbox{SS}_{res}^{(1)})/k}{(\\mbox{SS}_{res}^{(1)})/(N-p-1)}\n",
    "$$\n",
    "\n",
    "where $N$ is the number of observations, $p$ is the number of predictors in the full model (not including the intercept), and $k$ is the difference in the number of parameters between the two models.^[It's worth noting in passing that this same $F$ statistic can be used to test a much broader range of hypotheses than those that I'm mentioning here. Very briefly: notice that the nested model M0 corresponds to the full model M1 when we constrain some of the regression coefficients to zero. It is sometimes useful to construct submodels by placing other kinds of constraints on the regression coefficients. For instance, maybe two different coefficients might have to sum to zero, or something like that. You can construct hypothesis tests for those kind of constraints too, but it is somewhat more complicated and the sampling distribution for $F$ can end up being something known as the non-central $F$ distribution, which is waaaaay beyond the scope of this book! All I want to do is alert you to this possibility.] The degrees of freedom here are $k$ and $N-p-1$. Note that it's often more convenient to think about the difference between those two SS values as a sum of squares in its own right. That is: \n",
    "\n",
    "$$\n",
    "\\mbox{SS}_\\Delta = \\mbox{SS}_{res}^{(0)} - \\mbox{SS}_{res}^{(1)}\n",
    "$$\n",
    "\n",
    "The reason why this his helpful is that we can express $\\mbox{SS}_\\Delta$ a measure of the extent to which the two models make different predictions about the the outcome variable. Specifically:\n",
    "$$\n",
    "\\mbox{SS}_\\Delta  = \\sum_{i} \\left( \\hat{y}_i^{(1)} - \\hat{y}_i^{(0)} \\right)^2\n",
    "$$\n",
    "where $\\hat{y}_i^{(0)}$ is the fitted value for $y_i$ according to model $M_0$ and  $\\hat{y}_i^{(1)}$ is the is the fitted value for $y_i$ according to model $M_1$. \n",
    "\n",
    "Okay, so that's the hypothesis test that we use to compare two regression models to one another. Now, how do we do it in Python? As it turns out, `statsmodels` has a function called `anova_lm` that will do just this. All we have to do is fit the two models that we want to compare, and then plug them in the function (null model first):\n"
   ]
  },
  {
   "cell_type": "code",
   "execution_count": 69,
   "id": "b52f0730",
   "metadata": {},
   "outputs": [
    {
     "data": {
      "text/html": [
       "<div>\n",
       "<style scoped>\n",
       "    .dataframe tbody tr th:only-of-type {\n",
       "        vertical-align: middle;\n",
       "    }\n",
       "\n",
       "    .dataframe tbody tr th {\n",
       "        vertical-align: top;\n",
       "    }\n",
       "\n",
       "    .dataframe thead th {\n",
       "        text-align: right;\n",
       "    }\n",
       "</style>\n",
       "<table border=\"1\" class=\"dataframe\">\n",
       "  <thead>\n",
       "    <tr style=\"text-align: right;\">\n",
       "      <th></th>\n",
       "      <th>df_resid</th>\n",
       "      <th>ssr</th>\n",
       "      <th>df_diff</th>\n",
       "      <th>ss_diff</th>\n",
       "      <th>F</th>\n",
       "      <th>Pr(&gt;F)</th>\n",
       "    </tr>\n",
       "  </thead>\n",
       "  <tbody>\n",
       "    <tr>\n",
       "      <th>0</th>\n",
       "      <td>97.0</td>\n",
       "      <td>1837.155916</td>\n",
       "      <td>0.0</td>\n",
       "      <td>NaN</td>\n",
       "      <td>NaN</td>\n",
       "      <td>NaN</td>\n",
       "    </tr>\n",
       "    <tr>\n",
       "      <th>1</th>\n",
       "      <td>96.0</td>\n",
       "      <td>1837.092228</td>\n",
       "      <td>1.0</td>\n",
       "      <td>0.063688</td>\n",
       "      <td>0.003328</td>\n",
       "      <td>0.954116</td>\n",
       "    </tr>\n",
       "  </tbody>\n",
       "</table>\n",
       "</div>"
      ],
      "text/plain": [
       "   df_resid          ssr  df_diff   ss_diff         F    Pr(>F)\n",
       "0      97.0  1837.155916      0.0       NaN       NaN       NaN\n",
       "1      96.0  1837.092228      1.0  0.063688  0.003328  0.954116"
      ]
     },
     "execution_count": 69,
     "metadata": {},
     "output_type": "execute_result"
    }
   ],
   "source": [
    "from statsmodels.stats.anova import anova_lm\n",
    "\n",
    "M0 = M0.fit()\n",
    "M1 = M1.fit()\n",
    "\n",
    "anova_lm(M0,M1)"
   ]
  },
  {
   "cell_type": "markdown",
   "id": "a66de911",
   "metadata": {},
   "source": [
    "Since we have $p>.05$ we retain the null hypothesis (`M0`).  This approach to regression, in which we add all of our covariates into a null model, and then *add* the variables of interest into an alternative model, and then compare the two models in hypothesis testing framework, is often referred to as **_hierarchical regression_**."
   ]
  },
  {
   "cell_type": "markdown",
   "id": "2ee5fadd",
   "metadata": {},
   "source": [
    "## Summary\n",
    "\n",
    "\n",
    "- Basic ideas in [linear regression](regression) and how regression models are [estimated](regressionestimation).\n",
    "- [Multiple linear regression](multipleregression). \n",
    "- Measuring the [overall performance](r2) of a regression model using $R^2$\n",
    "- [Hypothesis tests for regression models](regressiontests)\n",
    "- [Calculating confidence intervals ](regressioncoefs) for regression coefficients, and standardised coefficients \n",
    "- The [assumptions of regression](regressionassumptions) and [how to check them](regressiondiagnostics)\n",
    "- [Selecting a regression model](modelselreg)"
   ]
  }
 ],
 "metadata": {
  "celltoolbar": "Tags",
  "kernelspec": {
   "display_name": "Python386",
   "language": "python",
   "name": "python386"
  },
  "language_info": {
   "codemirror_mode": {
    "name": "ipython",
    "version": 3
   },
   "file_extension": ".py",
   "mimetype": "text/x-python",
   "name": "python",
   "nbconvert_exporter": "python",
   "pygments_lexer": "ipython3",
   "version": "3.8.6"
  }
 },
 "nbformat": 4,
 "nbformat_minor": 5
}
