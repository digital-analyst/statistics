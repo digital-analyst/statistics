{
 "cells": [
  {
   "cell_type": "markdown",
   "id": "thousand-temperature",
   "metadata": {},
   "source": [
    "# Comparing Two Means"
   ]
  },
  {
   "cell_type": "markdown",
   "id": "distant-trunk",
   "metadata": {},
   "source": [
    "\n",
    "In the previous chapter we covered the situation when your outcome variable is nominal scale and your predictor variable[^note1] is also nominal scale. Lots of real world situations have that character, and so you'll find that chi-square tests in particular are quite widely used. However, you're much more likely to find yourself in a situation where your outcome variable is interval scale or higher, and what you're interested in is whether the average value of the outcome variable is higher in one group or another. For instance, a psychologist might want to know if anxiety levels are higher among parents than non-parents, or if working memory capacity is reduced by listening to music (relative to not listening to music). In a medical context, we might want to know if a new drug increases or decreases blood pressure. An agricultural scientist might want to know whether adding phosphorus to Australian native plants will kill them.[^note2] In all these situations, our outcome variable is a fairly continuous, interval or ratio scale variable; and our predictor is a binary \"grouping\" variable. In other words, we want to compare the means of the two groups. \n",
    "\n",
    "The standard answer to the problem of comparing means is to use a $t$-test, of which there are several varieties depending on exactly what question you want to solve. As a consequence, the majority of this chapter focuses on different types of $t$-test: [one sample $t$-tests](onesamplettest), [student's](studentttest) and [welch's](welchttest), and [paired samples $t$-tests](pairedsamplesttest). After that, we'll talk a bit about [Cohen's $d$](cohensd), which is the standard measure of effect size for a $t$-test. The later sections of the chapter focus on the assumptions of the $t$-tests, and possible remedies if they are violated. However, before discussing any of these useful things, we'll start with a discussion of the $z$-test. \n",
    "\n"
   ]
  },
  {
   "cell_type": "markdown",
   "id": "subjective-damages",
   "metadata": {},
   "source": [
    "\n",
    "## The one-sample $z$-test\n",
    "\n",
    "In this section I'll describe one of the most useless tests in all of statistics: the **_$z$-test_**. Seriously -- this test is almost never used in real life. Its only real purpose is that, when teaching statistics, it's a very convenient stepping stone along the way towards the $t$-test, which is probably the most (over)used tool in all statistics.\n",
    "\n",
    "### The inference problem that the test addresses\n",
    "\n",
    "To introduce the idea behind the $z$-test, let's use a simple example. A friend of mine, Dr Zeppo, grades his introductory statistics class on a curve. Let's suppose that the average grade in his class is 67.5, and the standard deviation is 9.5. Of his many hundreds of students, it turns out that 20 of them also take psychology classes. Out of curiosity, I find myself wondering: do the psychology students tend to get the same grades as everyone else (i.e., mean 67.5) or do they tend to score higher or lower? He emails me the `zeppo.csv` file, which I use to pull up the `grades` of those students, "
   ]
  },
  {
   "cell_type": "code",
   "execution_count": 1,
   "id": "widespread-crisis",
   "metadata": {},
   "outputs": [
    {
     "data": {
      "text/html": [
       "<div>\n",
       "<style scoped>\n",
       "    .dataframe tbody tr th:only-of-type {\n",
       "        vertical-align: middle;\n",
       "    }\n",
       "\n",
       "    .dataframe tbody tr th {\n",
       "        vertical-align: top;\n",
       "    }\n",
       "\n",
       "    .dataframe thead th {\n",
       "        text-align: right;\n",
       "    }\n",
       "</style>\n",
       "<table border=\"1\" class=\"dataframe\">\n",
       "  <thead>\n",
       "    <tr style=\"text-align: right;\">\n",
       "      <th></th>\n",
       "      <th>grades</th>\n",
       "    </tr>\n",
       "  </thead>\n",
       "  <tbody>\n",
       "    <tr>\n",
       "      <th>0</th>\n",
       "      <td>50</td>\n",
       "    </tr>\n",
       "    <tr>\n",
       "      <th>1</th>\n",
       "      <td>60</td>\n",
       "    </tr>\n",
       "    <tr>\n",
       "      <th>2</th>\n",
       "      <td>60</td>\n",
       "    </tr>\n",
       "    <tr>\n",
       "      <th>3</th>\n",
       "      <td>64</td>\n",
       "    </tr>\n",
       "    <tr>\n",
       "      <th>4</th>\n",
       "      <td>66</td>\n",
       "    </tr>\n",
       "  </tbody>\n",
       "</table>\n",
       "</div>"
      ],
      "text/plain": [
       "   grades\n",
       "0      50\n",
       "1      60\n",
       "2      60\n",
       "3      64\n",
       "4      66"
      ]
     },
     "execution_count": 1,
     "metadata": {},
     "output_type": "execute_result"
    }
   ],
   "source": [
    "import pandas as pd\n",
    "df = pd.read_csv(\"https://raw.githubusercontent.com/ethanweed/pythonbook/main/Data/zeppo.csv\")\n",
    "df.head()"
   ]
  },
  {
   "cell_type": "markdown",
   "id": "indonesian-entrance",
   "metadata": {},
   "source": [
    "and calculate the mean:"
   ]
  },
  {
   "cell_type": "code",
   "execution_count": 2,
   "id": "0a014792",
   "metadata": {},
   "outputs": [
    {
     "data": {
      "text/plain": [
       "72.3"
      ]
     },
     "execution_count": 2,
     "metadata": {},
     "output_type": "execute_result"
    }
   ],
   "source": [
    "df['grades'].mean()"
   ]
  },
  {
   "cell_type": "markdown",
   "id": "43557fb9",
   "metadata": {},
   "source": [
    "Hm. It *might* be that the psychology students are scoring a bit higher than normal: that sample mean of $\\bar{X} = 72.3$ is a fair bit higher than the hypothesised population mean of $\\mu = 67.5$, but on the other hand, a sample size of $N = 20$ isn't all that big. Maybe it's pure chance. \n",
    "\n",
    "To answer the question, it helps to be able to write down what it is that I think I know. Firstly, I know that the sample mean is $\\bar{X} = 72.3$. If I'm willing to assume that the psychology students have the same standard deviation as the rest of the class, then I can say that the population standard deviation is $\\sigma = 9.5$. I'll also assume that since Dr Zeppo is grading to a curve, the psychology student grades are normally distributed. \n",
    "\n",
    "Next, it helps to be clear about what I want to learn from the data. In this case, my research hypothesis relates to the *population* mean $\\mu$ for the psychology student grades, which is unknown. Specifically, I want to know if $\\mu = 67.5$ or not. Given that this is what I know, can we devise a hypothesis test to solve our problem? The data, along with the hypothesised distribution from which they are thought to arise, are shown in {numref}`fig-zeppo`. Not entirely obvious what the right answer is, is it? For this, we are going to need some statistics."
   ]
  },
  {
   "cell_type": "code",
   "execution_count": 3,
   "id": "3c76df7a",
   "metadata": {
    "tags": [
     "hide-input"
    ]
   },
   "outputs": [
    {
     "data": {
      "application/papermill.record/image/png": "iVBORw0KGgoAAAANSUhEUgAAAV0AAAEGCAYAAADGwUaDAAAAOXRFWHRTb2Z0d2FyZQBNYXRwbG90bGliIHZlcnNpb24zLjMuMywgaHR0cHM6Ly9tYXRwbG90bGliLm9yZy/Il7ecAAAACXBIWXMAAAsTAAALEwEAmpwYAAAay0lEQVR4nO3deXiU5bnH8e+dhZCwZGENOy7ggoBoKQgqasVdT6lURa21dWmtrd3cLrXVLudoa09r7TlqW2ttPSruW627iBaLyKIgCMoma8ISCAkkZLnPH++LTREVhHnemcnvc11zJbNA7idv5jfvPPMs5u6IiEgYOUkXICLSmih0RUQCUuiKiASk0BURCUihKyISkEJXRCQgha6ISEAKXRGRgBS6IiIBKXRFRAJS6IqIBKTQFREJSKErIhKQQldEJCCFrohIQHlJFyDSmlhe/kqaGsuTrgOA3LxV3tjQI+kyWhvTIuYi4ZiZ973yqUlJ1wGw9KaTx7i7JV1Ha6PuBRGRgBS6IiIBKXRFRAJS6IqIBKTQFREJSKErIhKQQldEJCCFrohIQApdEZGAFLoiIgEpdEVEAlLoiogEpNAVEQlIoSsiEpBCV0QkIIWuiEhACl0RkYAUuiIiASl0RUQCUuiKiASk0BURCUihKyISkEJXRCQgha6ISEAKXRGRgBS6IiIBKXRFRAJS6IqIBKTQFREJSKErIhKQQldEJCCFrohIQApdEZGAFLoiIgEpdEVEAlLoiogEpNAVEQlIoSsiEpBCV0QkIIWuiEhACl0RkYAUuiIiASl0RUQCUuiKiASk0BURCUihKyISkEJXRCQgha6ISEAKXRGRgBS6IiIBKXRFRAJS6IqIBKTQFREJSKErIhKQQldEJCCFrohIQApdEZGAFLoiIgEpdEVEAlLoiogEpNAVEQlIoSsiEpBCV0QkIIWuiEhACl0RkYAUuiIiASl0RUQCUuiKiASk0BURCUihKyISkEJXRCQgha6ISEAKXRGRgBS6IiIBKXRFRAJS6IqIBKTQFREJSKErIhKQQldEJCCFrohIQApdEZGA8pIuQLKX5eWvpKmxPOk6yM1b5Y0NPZIuQwQUupJKTY3lfa98alLSZSy96eQxSdcgso26F0REAlLoiogEpNAVEQlIoSsiEpBCV0QkIIWuiEhACl0RkYAUuiIiASl0RUQCUuiKiASk0BURCUihKyISkEJXRCQgrTImGaW5ria3ua42d9t1yy9ozikqbjSzJMsS2WkKXUlLTZs35tUtfatj/cp3O2ytWNSxcWNlYfOWjQXeUJ/7kQfn5jfnFnasz+3Qqa5N1/6b2pQP2NS275CN+SXdtyZQusgnUuhK2mhYt6ygdu4rXbYsmt55a8XCYrzZwMjt2GVzfml5bW6vA6py23eqz2lb1AjRmW1zQ11OU836gqaaqoLGjRVFNbNf6M1bzxpAXlnPmsL+w9Ym2iiR7Sh0JVHe1Gi1cyd1qnnr2R71K94tAyevuHtt+yFjlxX2P2R9Qe9Bm3ILOzTt7P/X3FCXU7/i3XZ1S2aWbFk0vcum6U/1AzCzacAdwH3uXpui5oh8KoWuJKK5od42TXusvHrGk32bazcU5BR23Nph2ElL2g85rqJN1/5bPuv/m5Pftrmw39BNhf2Gbiodc/6yxurK/BW3fW0UUAj8AbjZzH4L/Nrdq/ZUe0R2lkJXgvKmRqt+4+Hy6jef6Nu8eWNBfpd+1aVHnPdeuwOPWme5eb6nf15ex64N8bcHAaOA7wHXAZeZ2S3Aze5evad/rsjHUehKMJsXTCmpevlP+zZuWN0uv0u/6rJjv/lu0cBRVSFGHri7A68Br5nZYOBHROF7oZldCdzj7s0pL0RaPYWupFzjhoo26569dd+6JbO65LYrret0wmVz2h30hbVJDfNy97eB081sOPBb4G7gm2Z2cXyfSMoodCWlqqc/2W3D5L/s600NOR0OPXVxyeHnLstpU5gWZ5Tu/oaZHQacC/wCeNPMfgrc6O4Nn/yvRT4bzUiTlDCzLgBVL9yxf15xt83dz/nVtLJjLlqaLoG7jbs3u/vdwIHAw8BPgKlmdkCylUm2UujKHmdmRwKzADqOGL+w/Ku3zCjovvdnHpEQgruvdfezgC8BvYjOes83TXWTPUyhK3uMmeWa2Y+Al4AagNIjz1tmOR+dRJau3P0RYAjwOvAn4C9m1j7ZqiSbKHRljzCzEuAJ4AbgXuCQRAvaDe6+ChhLNMJhAvBPM9s72aokWyh0ZbeZ2X7AVKKg+ibwFXevSbaq3ePuTe7+U6I2lQPTzOzYhMuSLKDQld1iZscTBW4pcLS73x6Pic0K7v4i8DlgBfCMmV2WcEmS4RS68pmZ2YXAU8Bi4FB3fzXhklLC3RcBI4m6T35jZreYWeZ0VEtaUejKLjOzHDP7T+D3wPPA4e7+QcJlpVTcXXI68GvgO8BDZlaUbFWSiRS6skvMLB/4M3A1Ueie4u6bEi0qkLif9/tEoXsq8KKZlSVclmQYha7stPjM7lGiGVzXAd9w98ZkqwrP3W8lGs97MDDZzHomXJJkEIWu7JR4SNhzwIlEYfuzbPrAbFe5+2PA8UAfYIqZDUi2IskUCl35VPGU3peJPsX/srvfkXBJacHdJwFjiNbqfdXMDkq0IMkICl35RGZWDkwC9gNOdfeHkq0ovbj7DOBwoAGYZGYZOylEwlDoyscysz7AZKAvcLy7P5twSWnJ3ecDRwDVwEvxymUiO6TQlR0ys77AK0AX4Fh3fyXhktJaPJb3CKACeM7MRidckqQpha58hJn1I+pSKAG+4O6vJ1lPpnD3ZcCRwHKi2WuHJ1ySpCGFrvybHQTum0nWk2nixXKOApYBfzezIxIuSdKMQlc+FPfhvgx0JArc6QmXlJG2C96n1dUgLSl0BQAz60UUuKVEfbgK3N3g7quJgnc50RnvyIRLkjSh0BXMrAdR4HYGxipw94w4eI8GVhP18Q5PuCRJAwrdVs7MugIvAt2JhoW9kXBJWcXdVxIF7zpAQ+5EoduamVkn4AWiqawnapRCasSjGo4iGsdL/cp32yVbkSRJodtKtVhLYQDRTLOsXAs3Xbj7UuAYgMoHrx+ytWJhYcIlSUIUuq1QvNHi08BBwLh4dwRJMXd/P/7GKib+aOjWtR+0TbgkSYBCt5Uxs0LgSWA4cKa7P51wSa1Ol9Ovn+VNW3MrJ147tKFqZUHS9UhYCt1WxMwKgEeIZk19Jd5uXAJr22v/2q7jrnurub42v+L+a4Y2VlfmJ12ThKPQbSXMLA+4j2gN2Avd/d6ES2rV2vYdvKnLaVe/1Vy7oaDivmuGNtasz0u6JglDodsKxJso3g18EfiOu9+ZcEkCFO59aHXnUy6f3Vi9prDy/muGNG2u1maXrYBCN8uZWQ5wOzABuDreakbSRNHAw6o6nXjZOw3rV7SvmHjN4Ob6Wj0ns5wOcBYzMwN+A1wA/Mzdb0y2ItmR9gceta5s7CVzG9YsKa6YeN1BzVu36HmZxXRws1QcuDcC3ybaNvxHyVYkn6TD0OPXlB59wbytq94rrXzwxwd641ZLuiZJDYVu9voxcAVwG/CD1ryJZKboeOhpFSVHfmV+/fK5nSofvP5Ab2xQ8GYhhW4WMrMriUL3LuBSBW7mKB4xflXxqLPeq/vg7c6Vj/x0f29uSrok2cMUulnGzL5H1K1wH9HQsOaES5JdVDL67BUdP/+lhXWLZ3Rd88jPFbxZRqGbRczsUuC/gYeIJj/o2ZqhSsecv6zDoacu3rLwjW5rH79poDfrtTNbKHSzhJldDNwKPA5McPfGhEuS3VR2zEVLOxx80tLNC6aUr33ylwPUS5QdNAsmC5jZBURjcf8GnOHuDQmXJHtI6bHfWOzNjVbz1rN91pp551Mufy8amCKZSqGb4eLA/QPwd+B0d69PuCTZg8yMsuMuXeTNzVY7+/neazE6n/JDBW8GU+hmsO0Cd5y711le/kqaGssTLi295ORhZhn73tzM6HTCdxYCRMGLgjeDKXQzVNyHezstAheApsbyvlc+NSnB0j609KaTxyRdAwDNjWT67+SjwevW+eQfLrAcfSyTaRS6GcjMvg38lqgP9/QPA1ey2rbgNTOvefu5PmubGq3zaVfNV/BmFh2tDGNmPyAK3MdoeYYrrYKZUXb8txe1P/jEpZsXTClf8+jP99M43syi0M0QFrkWuBl4EPiyu29NuCxJgJnRaewlizsceuriLe9P7R5NGdZaDZlCoZsB4sVrfgH8FPgr0ThcDQtr5cqOuWhpxxHjF9Ytmdml4v5rtDpZhtBBSnPxAuS3AT8E/hf4qiY+yDalR563rOTI8+bXr3i3rOLeqwY3bdmkhdDTnEI3jcV7mt0LXEy0nsKlWktBtlc8YvyqsmMvnru1cnHx6nsuP7ixeo32XEtjCt00ZWYdiEYnfBm4wt2v1mph8nE6DDu5stNJ35vTuLGiaPU9lw/T9u7pS6GbhsysK/AyMAY4z91/mWxFkgnaH3jUuq7jrp3VXF+bX/F/Vw6rWz63XdI1yUcpdNOMme0H/BM4ADjN3f+ScEmSQQr3OqS62xk/m4HleOXE64bVzptclnRN8u8UumnEzI4ApgDtgCPd/W8JlyQZqKDHwM3dz/3ljNwOZXVrn7z5oI1TH9a08DSi0E0TZnYO8DxQAYxw92kJlyQZLL+0R333c/97RkH5gKoNk+4auO6Z3+2lNXnTg0I3YWaWY2Y3Eo2/nQIc5u6LEy5LskBuYYembmf91+yigaNX1rz1TJ+KidcMaqrTkLKkKXQTFI9QeAy4ErgDGOvuVYkWJVnF8vK982lXLigeNeG9+mVzOq+++/vDGtYu08iGBCl0E2JmA4GpwInApcA3NctMUsHMKBk9YUXnU694q6m2qmDVPT84pHb+P0qTrqu1UugmwMzGAdOAzkRnt/+jMbiSau32O7yq+zm/mJ5b2HHr2sdvHAIfTjGXgBS6AZlZvpn9AngYmAcc4u4vJVyWtCJtuu61pfyrt0xv229YZXzTo2amYWUBKXQDMbP+wKvA5URrKRzh7suSrUpao5yCds1dx18/N756IjDTzA5LsqbWRKEbgJmNB2YC+wPj3f0S7WUmSWrRqzAKaAImm9nV8QJLkkIK3RQysxIz+yvwADAfGOruDyVclsiH4vHgBxN1ef0nMMnM9kq2quym7Xr2gJ3cDHI4sEifW0ja2PGGnaOBhUH/TnPzVnljQ49wPzBZCt09ocVmkE2bN+atf/Z/9t68YEp5bscuWzqdcNncwn5DN4UqJW02g5T0t4MNOxvWLy9Y++Sv9t+6+r2SNuUDqjqdcNn8Nl36pnRLqNb2N6vQ3UPcnZq3n++84ZU/D2iuq8lvP3jsB6XHXLgkp02h5l5Kxsgv61Xf/dxfzaqe+mCPjVMe2Hv13d8d3mH4FxeVjJqwwnLzNKxxD1Do7iEV/3fF4PoV88rySnvUdPmPq95u22dwTdI1iXwWlpND8cgzVhYNHL1u3d9/O6D69Qf22fzuq+WlR1+4oGif4RuTri/TKXR3QzyN9yqArZWLiosPO/P94sPO1BmBZIX8sp713SbcOLt29gudqybfve+ah39ycOHewytKj7lgUX5pD42++YwUup+BmeUBFwA3AF0Benz9tql5xV21O69kFTOj/eBj1xYNHLW+atJdfWvefq7Pljtndmk/+NhlJUec+0Fu2w7a/30XacjYLohXBDsDmE00wWE+8HkABa5ks5yCouZOx31rcY/zfze1bd/Ba2tmPt135e0XjNgw+a+9tAvxrtEvayfEYTsOeAu4H2gGxhEtNP5GosWJBJTfuXddt/E3zO16xs+m55X2qN34+sR9Vtz+9REb/nFvz+aGOuXJTlD3wicwszbA2cAVwH7AAmAC8IC7622VtFqF/YZuKuw3dNbm9/5ZsuG1e/tvfO3efTe9+UTf9oOPXd7x86evzC0qbky6xnSl0N2BeGPIC4BLgJ5EZ7gTgAfdXX9MIrGifUdsKNzn8zO3vPfPkuqpD/epfuPRvTbNeLpv0cBRqzp+7rQVbbrtvSXpGtONQjcWL3E3CrgIOANoQ7R9zteB57T0osiOmRlFA0ZuKBowckPdsjntq6c+3Lt23is9a995qVdBz/3Xtx88dmW7A8ass7x8PYdQ6GJmvYnOYr8GDABqgD8Av3P3d5OsTSTTtO09qKZt70HzGjdWLqye9lh57dxJPdf9/ZZBVS/f2VC478jVHYaMXV3Qc//apOtMUqsMXTPrDnwROAs4PL75NeC/iLoQWvUfhcjuyivuurXsCxctLT3qax/UzptcVjP7hfLaOS/2qp39fO+84u61hQNGVLY/8KjK1tj90CpCN+46OAA4CfgPYARgRAuJ/wi4z93fT6xAkSxluXneftDR69oPOnpdY/Wa/JrZL3TdvGBK103THuu/adpj/fOKu20GMLORwBut4QPqrA1dMysHjgSOAY4HesV3zQB+TLQh5Bz11YqEkdexS0PJqLNWlIw6a0XD+uUFtXMnd96ycFoXNlYUEe2EXWVmLxB9ljIJeD8bn59ZEbpmlkO0QPgIYCTR8nQD47s3Ai8APwGedfcPEilSRD6UX9arvmT0hBUloyesiFcZOxM4Lr6Mjx+20sxeBV6PL7PcPeMnIWVc6JpZO6KugkHAUGBY/LV9/JD1RAfoj0SvlrM0zEskvbn7RGBi3BU4ABgDHEU0ouiM+GENZjab6N3qTKKZoe+4+/rwFX92aRm6ZlYE9AP6A3sB+xIdiIFAX6L+WIDNwCzgz8B0orBdkI1vSURag/i5Oz++3AFgZr2I3sV+jugkaxzROHri+1fHj18QXxbFl8XunnarogUL3bgLoAToBHQhWiimK1De4tIb6BM/pqUaol/m68BdRK9wc4BFraHjXaQ1c/flwEPxZdsH472AA4ne8R5IdFI2ju2yw8yqgWXxZSWwKr5UtrisA9aHekecktA1szHAdUQhWwyUxpeP2wNkLdEvYhnwRvx1CfGrFVChs1cRgQ/PhrcF6TMt7zOzUv71Drk/0YnctpO5IUA3PmbNmTigq4AN8eUed//jnq4/VWe6BhQQBek8og+z1hH1t64D1hC9wqwhCtSM7xwXkeS5exVRcM7Y0f3xbsfb3mlv+9oJKIu/lrS45KeiRtMJ5O7byY0pw8jNa6apMT1We0qXWtKlDlAtO66jVW1MqdAVEQko+Vc5EZFWRKErIhKQQldEJCCFrohIQApdEZGAFLoiIgEpdEVEAlLoiogEpNAVEQlIoSsiEpBCV0QkIIWuiEhACl0RkYAUuiIiASl0RUQCUuiKiASk0BURCUihKyISkEJXRCSg4KFrZheF/pmplo1tguxsl9qUObK1XUmc6WbjLzIb2wTZ2S61KXNkZbvUvSAiEpBCV0QkoCRC9/cJ/MxUy8Y2QXa2S23KHFnZLnP3pGsQEWk11L0gIhKQQldEJKCUh66Z5ZrZTDN7Kr7e38ymmtn7ZjbRzNqkuoY9zcyWmNlsM5tlZm/Gt5WZ2fNm9l78tTTpOneFmZWY2UNm9q6ZzTOzkZncJjMbGB+fbZdqM/tuJrdpGzP7npm9Y2ZzzOw+M2ub6c8rM7ssbs87Zvbd+LaMP1Y7EuJM9zJgXovrNwG/dvd9gCrg6wFqSIWj3H2oux8aX78KeNHd9wVejK9nkluAZ9x9P2AI0THL2Da5+/z4+AwFDgE2A4+SwW0CMLOewHeAQ919EJALnEkGP6/MbBBwITCc6G/vZDPbhww/Vh/L3VN2AXoR/bKOBp4CDFgL5MX3jwSeTWUNKWrXEqDzdrfNB8rj78uB+UnXuQvtKQYWE3+wmg1t2q4dY4F/ZEObgJ7AMqAMyIufV8dl8vMKGA/c2eL6dcAVmX6sPu6S6jPd38S/vOb4eidgg7s3xteXE/0RZRoHnjOz6S2mKnZz91Xx96uBbsmU9pn0B9YAd8VdQX80s3ZkdptaOhO4L/4+o9vk7iuAm4EPgFXARmA6mf28mgMcbmadzKwIOBHoTYYfq4+TstA1s5OBSnefnqqfkaDR7j4MOAH4lpkd0fJOj16aM2ksXh4wDLjN3Q8GatnurVwGtgmAuG/zVODB7e/LxDbF/ZqnEb1Q9gDaAccnWtRucvd5RN0jzwHPALOApu0ek3HH6uOk8kx3FHCqmS0B7ifqYrgFKDGzvPgxvYAVKawhJeKzDdy9kqifcDhQYWblAPHXyuQq3GXLgeXuPjW+/hBRCGdym7Y5AZjh7hXx9Uxv0xeAxe6+xt0bgEeInmsZ/bxy9zvd/RB3P4KoT3oBmX+sdihloevuV7t7L3fvR/T27iV3Pxt4GTg9fth5wOOpqiEVzKydmXXY9j1Rf+Ec4Ami9kCGtcvdVwPLzGxgfNMxwFwyuE0tnMW/uhYg89v0ATDCzIrMzPjXscr051XX+GsfYBxwL5l/rHYoyIw0MxsD/NDdTzazvYjOfMuAmcA57l6f8iL2kLj+R+OrecC97v5zM+sEPAD0AZYCX3b39QmVucvMbCjwR6ANsAg4n+hFOZPb1I4opPZy943xbRl9nADM7AbgDKCR6Dl0AVEfbiY/r14l+synAfi+u7+YDcdqRzQNWEQkIM1IExEJSKErIhKQQldEJCCFrohIQApdEZGAFLqSFeKV3zonXYfIp1HoStpqMcNKJGvoj1oSY2bXAecQLbazjGjhlpOJ5t6PBu4zswXAtUSTNtYBZ7t7RTxw/j6iSQGvE61gt+3/PYdo+cM2wFTgkviuO4FDiebw/8ndf53iJop8hEJXEmFmnwO+RLR+aj4wgyh0Adp4vE5xvMDLCHd3M7uAaNW6HwA/Bl5z95+Y2UnE68ea2f5Es7VGuXuDmf0vcDbwDtDTozVoMbOSMC0V+XcKXUnKKOBxd68D6szsyRb3TWzxfS9gYrzgSRuidX8BjiCao4+7/83MquLbjyFatHxatDQBhUQLpTwJ7GVmtwJ/I1rRSiQ49elKOqpt8f2twO/c/SDgYqDtp/xbA+72eNcIdx/o7te7exXRWfUk4BtE60yIBKfQlaT8Azgl3t+rPVFf7o4U869lCs9rcftkYAKAmZ0AbNs/60Xg9BarVpWZWd94ZEOOuz9M1Ec8bI+2RmQnqXtBEuHu08zsCeBtoAKYTbQLwvauBx6Muw9eIlq8G+AGog/a3gGmEK0mhrvPNbNriXb2yCFatepbwBainTG2nWhcnZKGiXwKrTImiTGz9u5eE2/RMhm4yN1nJF2XSCrpTFeS9HszO4Con/ZuBa60BjrTFREJSB+kiYgEpNAVEQlIoSsiEpBCV0QkIIWuiEhA/w8eky++Xe06KQAAAABJRU5ErkJggg==\n",
      "application/papermill.record/text/plain": "<Figure size 432x288 with 1 Axes>"
     },
     "metadata": {
      "scrapbook": {
       "mime_prefix": "application/papermill.record/",
       "name": "zeppo-fig"
      }
     },
     "output_type": "display_data"
    }
   ],
   "source": [
    "import matplotlib.pyplot as plt\n",
    "import numpy as np\n",
    "import seaborn as sns\n",
    "import scipy.stats as stats\n",
    "\n",
    "mu = 67.5\n",
    "sigma = 9.5\n",
    "x = np.linspace(mu - 3*sigma, mu + 3*sigma, 100)\n",
    "y = 100* stats.norm.pdf(x, mu, sigma)\n",
    "\n",
    "fig, ax = plt.subplots()\n",
    "ax1 = sns.histplot(df['grades'])\n",
    "\n",
    "ax2 = sns.lineplot(x=x,y=y, color='black')\n",
    "\n",
    "plt.ylim(bottom=-1)\n",
    "\n",
    "ax1.set_frame_on(False)\n",
    "ax1.axes.get_yaxis().set_visible(False)\n",
    "\n",
    "plt.close()\n",
    "from myst_nb import glue\n",
    "glue(\"zeppo-fig\", fig, display=False)"
   ]
  },
  {
   "cell_type": "markdown",
   "id": "37263680",
   "metadata": {},
   "source": [
    "```{glue:figure} zeppo-fig\n",
    ":figwidth: 600px\n",
    ":name: fig-zeppo\n",
    "\n",
    "\n",
    "The theoretical distribution (solid line) from which the psychology student grades (blue bars) are supposed to have been generated.\n",
    "\n",
    "```"
   ]
  },
  {
   "cell_type": "markdown",
   "id": "typical-finder",
   "metadata": {},
   "source": [
    "### Constructing the hypothesis test\n",
    "\n",
    "The first step in constructing a hypothesis test is to be clear about what the null and alternative hypotheses are. This isn't too hard to do. Our null hypothesis, $H_0$, is that the true population mean $\\mu$ for psychology student grades is 67.5\\%; and our alternative hypothesis is that the population mean *isn't* 67.5\\%. If we write this in mathematical notation, these hypotheses become,\n",
    "\n",
    "$$\n",
    "\\begin{array}{ll}\n",
    "H_0: & \\mu = 67.5 \\\\\n",
    "H_1: & \\mu \\neq 67.5\n",
    "\\end{array}\n",
    "$$\n",
    "\n",
    "though to be honest this notation doesn't add much to our understanding of the problem, it's just a compact way of writing down what we're trying to learn from the data. The null hypotheses $H_0$ and the alternative hypothesis $H_1$ for our test are both illustrated in {numref}`fig-ztesthyp`. In addition to providing us with these hypotheses, the scenario outlined above provides us with a fair amount of background knowledge that might be useful. Specifically, there are two special pieces of information that we can add:\n",
    "\n",
    "1. The psychology grades are normally distributed.\n",
    "1. The true standard deviation of these scores $\\sigma$ is known to be 9.5.\n",
    "\n",
    "For the moment, we'll act as if these are absolutely trustworthy facts. In real life, this kind of absolutely trustworthy background knowledge doesn't exist, and so if we want to rely on these facts we'll just have make the *assumption* that these things are true. However, since these assumptions may or may not be warranted, we might need to check them. For now though, we'll keep things simple."
   ]
  },
  {
   "cell_type": "code",
   "execution_count": 4,
   "id": "fifty-grenada",
   "metadata": {
    "tags": [
     "hide-input"
    ]
   },
   "outputs": [
    {
     "data": {
      "application/papermill.record/image/png": "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\n",
      "application/papermill.record/text/plain": "<Figure size 1080x360 with 2 Axes>"
     },
     "metadata": {
      "scrapbook": {
       "mime_prefix": "application/papermill.record/",
       "name": "ztesthyp-fig"
      }
     },
     "output_type": "display_data"
    }
   ],
   "source": [
    "import numpy as np\n",
    "import seaborn as sns\n",
    "from scipy import stats\n",
    "from matplotlib import pyplot as plt\n",
    "\n",
    "mu = 0\n",
    "sigma = 1\n",
    "x = np.linspace(mu - 3*sigma, mu + 3*sigma, 100)\n",
    "y = 100* stats.norm.pdf(x, mu, sigma)\n",
    "\n",
    "fig, axes = plt.subplots(1, 2, figsize=(15, 5))\n",
    "\n",
    "sns.lineplot(x=x,y=y, color='black', ax=axes[0])\n",
    "sns.lineplot(x=x,y=y, color='black', ax=axes[1])\n",
    "\n",
    "axes[0].set_frame_on(False)\n",
    "axes[1].set_frame_on(False)\n",
    "axes[0].get_yaxis().set_visible(False)\n",
    "axes[1].get_yaxis().set_visible(False)\n",
    "axes[0].get_xaxis().set_visible(False)\n",
    "axes[1].get_xaxis().set_visible(False)\n",
    "\n",
    "axes[0].axhline(y=0, color='black')\n",
    "axes[0].axvline(x=mu, color='black', linestyle='--')\n",
    "\n",
    "axes[1].axhline(y=0, color='black')\n",
    "axes[1].axvline(x=mu + sigma, color='black', linestyle='--')\n",
    "\n",
    "axes[0].hlines(y=23.6, xmin = mu-sigma, xmax = mu, color='black')\n",
    "axes[1].hlines(y=23.6, xmin = mu-sigma, xmax = mu, color='black')\n",
    "\n",
    "\n",
    "axes[0].text(mu,42, r'$\\mu = \\mu_0$', size=20, ha=\"center\")\n",
    "axes[1].text(mu + sigma, 42, r'$\\mu \\neq \\mu_0$', size=20, ha=\"center\")\n",
    "\n",
    "axes[0].text(mu-sigma - 0.2, 23.6, r'$\\sigma = \\sigma_0$', size=20, ha=\"right\")\n",
    "axes[1].text(mu-sigma - 0.2, 23.6, r'$\\sigma = \\sigma_0$', size=20, ha=\"right\")\n",
    "\n",
    "\n",
    "# show the figure in the book with caption\n",
    "plt.close()\n",
    "from myst_nb import glue\n",
    "glue(\"ztesthyp-fig\", fig, display=False)"
   ]
  },
  {
   "cell_type": "markdown",
   "id": "horizontal-scientist",
   "metadata": {},
   "source": [
    "```{glue:figure} ztesthyp-fig\n",
    ":figwidth: 600px\n",
    ":name: fig-ztesthyp\n",
    "\n",
    "\n",
    "Graphical illustration of the null and alternative hypotheses assumed by the one sample $z$-test (the two sided version, that is). The null and alternative hypotheses both assume that the population distribution is normal, and additionally assumes that the population standard deviation is known (fixed at some value $\\sigma_0$). The null hypothesis (left) is that the population mean $\\mu$ is equal to some specified value $\\mu_0$. The alternative hypothesis is that the population mean differs from this value, $\\mu \\neq \\mu_0$.\n",
    "\n",
    "```\n",
    "\n",
    "\n"
   ]
  },
  {
   "cell_type": "markdown",
   "id": "loving-christopher",
   "metadata": {},
   "source": [
    "The next step is to figure out what we would be a good choice for a diagnostic test statistic; something that would help us discriminate between $H_0$ and $H_1$. Given that the hypotheses all refer to the population mean $\\mu$, you'd feel pretty confident that the sample mean $\\bar{X}$ would be a pretty useful place to start. What we could do, is look at the difference between the sample mean $\\bar{X}$ and the value that the null hypothesis predicts for the population mean. In our example, that would mean we calculate $\\bar{X} - 67.5$. More generally, if we let $\\mu_0$ refer to the value that the null hypothesis claims is our population mean, then we'd want to calculate\n",
    "\n",
    "$$\n",
    "\\bar{X} - \\mu_0\n",
    "$$\n",
    "\n",
    "If this quantity equals or is very close to 0, things are looking good for the null hypothesis. If this quantity is a long way away from 0, then it's looking less likely that the null hypothesis is worth retaining. But how far away from zero should it be for us to reject $H_0$? \n",
    "\n",
    "To figure that out, we need to be a bit more sneaky, and we'll need to rely on those two pieces of background knowledge that I wrote down previously, namely that the raw data are normally distributed, and we know the value of the population standard deviation $\\sigma$. If the null hypothesis is actually true, and the true mean is $\\mu_0$, then these facts together mean that we know the complete population distribution of the data: a normal distribution with mean $\\mu_0$ and standard deviation $\\sigma$. Adopting the notation from Section \\@ref(normal), a statistician might write this as:\n",
    "\n",
    "$$\n",
    "X \\sim \\mbox{Normal}(\\mu_0,\\sigma^2)\n",
    "$$\n",
    "\n",
    "\n",
    "\n",
    "Okay, if that's true, then what can we say about the distribution of $\\bar{X}$? Well, as we discussed earlier, the sampling distribution of the mean $\\bar{X}$ is also normal, and has mean $\\mu$. But the standard deviation of this sampling distribution $\\mbox{SE}({\\bar{X}})$, which is called the *standard error of the mean*, is\n",
    "\n",
    "$$\n",
    "\\mbox{SE}({\\bar{X}}) = \\frac{\\sigma}{\\sqrt{N}}\n",
    "$$\n",
    "\n",
    "In other words, if the null hypothesis is true then the sampling distribution of the mean can be written as follows:\n",
    "\n",
    "$$\n",
    "\\bar{X} \\sim \\mbox{Normal}(\\mu_0,\\mbox{SE}({\\bar{X}}))\n",
    "$$\n",
    "\n",
    "Now comes the trick. What we can do is convert the sample mean $\\bar{X}$ into a [standard score](zcores). This is conventionally written as $z$, but for now I'm going to refer to it as $z_{\\bar{X}}$. (The reason for using this expanded notation is to help you remember that we're calculating standardised version of a sample mean, *not* a standardised version of a single observation, which is what a $z$-score usually refers to). When we do so, the $z$-score for our sample mean is \n",
    "\n",
    "$$\n",
    "z_{\\bar{X}} = \\frac{\\bar{X} - \\mu_0}{\\mbox{SE}({\\bar{X}})}\n",
    "$$\n",
    "\n",
    "or, equivalently\n",
    "\n",
    "$$\n",
    "z_{\\bar{X}} =  \\frac{\\bar{X} - \\mu_0}{\\sigma / \\sqrt{N}}\n",
    "$$\n",
    "\n",
    "This $z$-score is our test statistic. The nice thing about using this as our test statistic is that like all $z$-scores, it has a standard normal distribution:\n",
    "\n",
    "$$\n",
    "z_{\\bar{X}} \\sim \\mbox{Normal}(0,1)\n",
    "$$\n",
    "\n",
    "(again, see the section on [z-scores](zcores)) if you've forgotten why this is true). In other words, regardless of what scale the original data are on, the $z$-statistic iteself always has the same interpretation: it's equal to the number of standard errors that separate the observed sample mean $\\bar{X}$ from the population mean $\\mu_0$ predicted by the null hypothesis. Better yet, regardless of what the population parameters for the raw scores actually are, the 5\\% critical regions for $z$-test are always the same, as illustrated in Figures \\@ref(fig:ztest1) and \\@ref(fig:ztest2). "
   ]
  },
  {
   "cell_type": "code",
   "execution_count": 5,
   "id": "standard-shoulder",
   "metadata": {
    "tags": [
     "hide-input"
    ]
   },
   "outputs": [
    {
     "data": {
      "application/papermill.record/image/png": "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\n",
      "application/papermill.record/text/plain": "<Figure size 1080x360 with 2 Axes>"
     },
     "metadata": {
      "scrapbook": {
       "mime_prefix": "application/papermill.record/",
       "name": "ztest-fig"
      }
     },
     "output_type": "display_data"
    }
   ],
   "source": [
    "mu = 0\n",
    "sigma = 1\n",
    "\n",
    "x = np.arange(-3,3,0.001)\n",
    "y = stats.norm.pdf(x, mu, sigma)\n",
    "\n",
    "\n",
    "fig, (ax0, ax1) = plt.subplots(1, 2, sharey = True, figsize=(15, 5))\n",
    "\n",
    "\n",
    "# Two-sided test\n",
    "crit = 1.96\n",
    "p_lower = x[x<crit*-1]\n",
    "p_upper = x[x>crit]\n",
    "\n",
    "ax0.plot(x, y)\n",
    "\n",
    "ax0.fill_between(p_lower, 0, stats.norm.pdf(p_lower, mu, sigma),color=\"none\",hatch=\"///\",edgecolor=\"b\")\n",
    "ax0.fill_between(p_upper, 0, stats.norm.pdf(p_upper, mu, sigma), color=\"none\",hatch=\"///\",edgecolor=\"b\")\n",
    "ax0.set_title(\"Two sided test\", size = 20)\n",
    "ax0.text(-1.96,-.03, '-1.96', size=18, ha=\"right\")\n",
    "ax0.text(1.96,-.03, '1.96', size=18, ha=\"left\")\n",
    "\n",
    "# One-sided test\n",
    "crit = 1.64\n",
    "p_upper = x[x>crit]\n",
    "\n",
    "ax1.plot(x, y)\n",
    "ax1.set_title(\"One sided test\", size = 20)\n",
    "ax1.text(1.64,-.03, '1.64', size=18, ha=\"left\")\n",
    "ax1.fill_between(p_upper, 0, stats.norm.pdf(p_upper, mu, sigma), color=\"none\",hatch=\"///\",edgecolor=\"b\")\n",
    "\n",
    "ax0.set_frame_on(False)\n",
    "ax1.set_frame_on(False)\n",
    "\n",
    "ax0.get_yaxis().set_visible(False)\n",
    "ax1.get_yaxis().set_visible(False)\n",
    "ax0.get_xaxis().set_visible(False)\n",
    "ax1.get_xaxis().set_visible(False)\n",
    "\n",
    "# show the figure in the book with caption\n",
    "plt.close()\n",
    "from myst_nb import glue\n",
    "glue(\"ztest-fig\", fig, display=False)"
   ]
  },
  {
   "cell_type": "markdown",
   "id": "vital-coach",
   "metadata": {},
   "source": [
    "```{glue:figure} ztest-fig\n",
    ":figwidth: 600px\n",
    ":name: fig-ztest\n",
    "\n",
    "\n",
    "Rejection regions for the two-sided z-test (left) and the one-sided z-test (right).\n",
    "\n",
    "```\n",
    "\n",
    "\n"
   ]
  },
  {
   "cell_type": "markdown",
   "id": "governmental-organic",
   "metadata": {},
   "source": [
    "And what this meant, way back in the days where people did all their statistics by hand, is that someone could publish a table like this:"
   ]
  },
  {
   "cell_type": "markdown",
   "id": "numerical-childhood",
   "metadata": {},
   "source": [
    "|                   || critical z value             |\n",
    "| :-------------: | :------------: | :------------: |\n",
    "| desired a level | two-sided test | one-sided test |\n",
    "|       .1        |    1.644854    |    1.281552    |\n",
    "|       .05       |    1.959964    |    1.644854    |\n",
    "|       .01       |    2.575829    |    2.326348    |\n",
    "|      .001       |    3.290527    |    3.090232    |\n"
   ]
  },
  {
   "cell_type": "markdown",
   "id": "metropolitan-principal",
   "metadata": {},
   "source": [
    "which in turn meant that researchers could calculate their $z$-statistic by hand, and then look up the critical value in a text book.  That was an incredibly handy thing to be able to do back then, but it's kind of unnecessary these days, since it's trivially easy to do it with software like Python."
   ]
  },
  {
   "cell_type": "markdown",
   "id": "valuable-authority",
   "metadata": {},
   "source": [
    "### A worked example using Python\n",
    "\n",
    "Now, as I mentioned earlier, the $z$-test is almost never used in practice. However, the test is so incredibly simple that it's really easy to do one manually. Let's go back to the data from Dr Zeppo's class. Having loaded the `grades` data, the first thing I need to do is calculate the sample mean:"
   ]
  },
  {
   "cell_type": "code",
   "execution_count": 6,
   "id": "recovered-tuition",
   "metadata": {},
   "outputs": [
    {
     "data": {
      "text/plain": [
       "72.3"
      ]
     },
     "execution_count": 6,
     "metadata": {},
     "output_type": "execute_result"
    }
   ],
   "source": [
    "\n",
    "sample_mean = df['grades'].mean()\n",
    "sample_mean"
   ]
  },
  {
   "cell_type": "markdown",
   "id": "annual-calendar",
   "metadata": {},
   "source": [
    "Then, I create variables corresponding to known population standard deviation ($\\sigma = 9.5$), and the value of the population mean that the null hypothesis specifies ($\\mu_0 = 67.5$):"
   ]
  },
  {
   "cell_type": "code",
   "execution_count": 7,
   "id": "decimal-painting",
   "metadata": {},
   "outputs": [],
   "source": [
    "sd_true = 9.5\n",
    "mu_null = 67.5"
   ]
  },
  {
   "cell_type": "markdown",
   "id": "sexual-debate",
   "metadata": {},
   "source": [
    "Let's also create a variable for the sample size. We could count up the number of observations ourselves, and type `N = 20` at the command prompt, but counting is tedious and repetitive. Let's get Python to do the tedious repetitive bit by using the `len()` function, which tells us how many elements there are in a vector:"
   ]
  },
  {
   "cell_type": "code",
   "execution_count": 8,
   "id": "remarkable-convert",
   "metadata": {},
   "outputs": [
    {
     "data": {
      "text/plain": [
       "20"
      ]
     },
     "execution_count": 8,
     "metadata": {},
     "output_type": "execute_result"
    }
   ],
   "source": [
    "N = len(df['grades'])\n",
    "N"
   ]
  },
  {
   "cell_type": "markdown",
   "id": "literary-sandwich",
   "metadata": {},
   "source": [
    "Next, let's calculate the (true) standard error of the mean:"
   ]
  },
  {
   "cell_type": "code",
   "execution_count": 9,
   "id": "universal-poland",
   "metadata": {},
   "outputs": [
    {
     "data": {
      "text/plain": [
       "2.1242645786248002"
      ]
     },
     "execution_count": 9,
     "metadata": {},
     "output_type": "execute_result"
    }
   ],
   "source": [
    "import math\n",
    "sem_true = sd_true / math.sqrt(N)\n",
    "sem_true"
   ]
  },
  {
   "cell_type": "markdown",
   "id": "included-terrain",
   "metadata": {},
   "source": [
    "And finally, we calculate our $z$-score:"
   ]
  },
  {
   "cell_type": "code",
   "execution_count": 10,
   "id": "changed-drilling",
   "metadata": {},
   "outputs": [
    {
     "data": {
      "text/plain": [
       "2.259605535157681"
      ]
     },
     "execution_count": 10,
     "metadata": {},
     "output_type": "execute_result"
    }
   ],
   "source": [
    "z_score = (sample_mean - mu_null) / sem_true\n",
    "z_score"
   ]
  },
  {
   "cell_type": "markdown",
   "id": "electric-ticket",
   "metadata": {},
   "source": [
    "At this point, we would traditionally look up the value 2.26 in our table of critical values. Our original hypothesis was two-sided (we didn't really have any theory about whether psych students would be better or worse at statistics than other students) so our hypothesis test is two-sided (or two-tailed) also. Looking at the little table that I showed earlier, we can see that 2.26 is bigger than the critical value of 1.96 that would be required to be significant at $\\alpha = .05$, but smaller than the value of 2.58 that would be required to be significant at a level of $\\alpha = .01$. Therefore, we can conclude that we have a significant effect, which we might write up by saying something like this:\n",
    "\n",
    "> With a mean grade of 73.2 in the sample of psychology students, and assuming a true population standard deviation of 9.5, we can conclude that the psychology students have significantly different statistics scores to the class average ($z = 2.26$, $N=20$, $p<.05$). \n",
    "\n",
    "However, what if want an exact $p$-value? Well, back in the day, the tables of critical values were huge, and so you could look up your actual $z$-value, and find the smallest value of $\\alpha$ for which your data would be significant (which, as discussed earlier, is the very definition of a $p$-value). However, looking things up in books is tedious, and typing things into computers is awesome. So let's do it using Python instead. Now, notice that the $\\alpha$ level of a $z$-test (or any other test, for that matter) defines the total area \"under the curve\" for the critical region, right? That is, if we set $\\alpha = .05$ for a two-sided test, then the critical region is set up such that the area under the curve for the critical region is $.05$. And, for the $z$-test, the critical value of 1.96 is chosen that way because the area in the lower tail (i.e., below $-1.96$) is exactly $.025$ and the area under the upper tail (i.e., above $1.96$) is exactly $.025$. So, since our observed $z$-statistic is $2.26$, why not calculate the area under the curve below $-2.26$ or above $2.26$? In Python we can calculate this using the `NormalDist().cdf()` method. For the lower tail:"
   ]
  },
  {
   "cell_type": "code",
   "execution_count": 11,
   "id": "responsible-count",
   "metadata": {},
   "outputs": [
    {
     "data": {
      "text/plain": [
       "0.011922871882469877"
      ]
     },
     "execution_count": 11,
     "metadata": {},
     "output_type": "execute_result"
    }
   ],
   "source": [
    "from statistics import NormalDist\n",
    "lower_area = NormalDist().cdf(-z_score)\n",
    "lower_area"
   ]
  },
  {
   "cell_type": "markdown",
   "id": "amino-linux",
   "metadata": {},
   "source": [
    "`NormalDist().cdf()` calculates the \"cumulative density function\" for a normal distribution. Translated to something slightly less opaque, this means that  `NormalDist().cdf()` gives us the probability that a random variable X will be less than or equal to a given value. In our case, the given value for the lower tail of the distribution was our z-score, $2.259$. So `NormalDist().cdf(-z_score)` gives us the probability that a random value draw from a normal distribution would be less than or equal to $-2.259$.\n",
    "\n",
    "Of course, becauwe we didn't have any particular theory about whether psychology students would do better worse than other students, our test should be two-tailed, that is, we are interested not only in the probability that a random value would be less than or equal to $-2.259$, but also whether it might fall in the upper tail, that is be greater than or equal to $-2.259$.\n",
    "\n",
    "Since the normal distribution is symmetrical, the upper area under the curve is identical to the lower area, and we can simply add them together to find our exact $p$-value:"
   ]
  },
  {
   "cell_type": "code",
   "execution_count": 12,
   "id": "spatial-interpretation",
   "metadata": {},
   "outputs": [
    {
     "data": {
      "text/plain": [
       "0.023845743764939753"
      ]
     },
     "execution_count": 12,
     "metadata": {},
     "output_type": "execute_result"
    }
   ],
   "source": [
    "lower_area = NormalDist().cdf(-z_score)\n",
    "upper_area = lower_area\n",
    "p_value = lower_area + upper_area\n",
    "p_value"
   ]
  },
  {
   "cell_type": "markdown",
   "id": "social-tuesday",
   "metadata": {},
   "source": [
    "\n",
    "### Assumptions of the $z$-test\n",
    "\n",
    "As I've said before, all statistical tests make assumptions. Some tests make reasonable assumptions, while other tests do not. The test I've just described -- the one sample $z$-test -- makes three basic assumptions.  These are:\n",
    "\n",
    "- *Normality*. As usually described, the $z$-test assumes that the true population distribution is normal.[^note3] is often pretty reasonable, and not only that, it's an assumption that [we can check](shapiro-wilk) if we feel worried about it. \n",
    "- *Independence*. The second assumption of the test is that the observations in your data set are not correlated with each other, or related to each other in some funny way. This isn't as easy to check statistically: it relies a bit on good experimetal design. An obvious (and stupid) example of something that violates this assumption is a data set where you \"copy\" the same observation over and over again in your data file: so you end up with a massive \"sample size\", consisting of only one genuine observation. More realistically, you have to ask yourself if it's really plausible to imagine that each observation is a completely random sample from the population that you're interested in. In practice, this assumption is never met; but we try our best to design studies that minimise the problems of correlated data. \n",
    "- *Known standard deviation*. The third assumption of the $z$-test is that the true standard deviation of the population is known to the researcher. This is just stupid. In no real world data analysis problem do you know the standard deviation $\\sigma$ of some population, but are completely ignorant about the mean $\\mu$. In other words, this assumption is *always* wrong. \n",
    "\n",
    "In view of the stupidity of assuming that $\\sigma$ is known, let's see if we can live without it. This takes us out of the dreary domain of the $z$-test, and into the magical kingdom of the $t$-test, with unicorns and fairies and leprechauns, and um..."
   ]
  },
  {
   "cell_type": "markdown",
   "id": "loving-thunder",
   "metadata": {},
   "source": [
    "\n",
    "\n",
    "## The one-sample $t$-test\n",
    "\n",
    "After some thought, I decided that it might not be safe to assume that the psychology student grades necessarily have the same standard deviation as the other students in Dr Zeppo's class. After all, if I'm entertaining the hypothesis that they don't have the same mean, then why should I believe that they absolutely have the same standard deviation? In view of this, I should really stop assuming that I know the true value of $\\sigma$. This violates the assumptions of my $z$-test, so in one sense I'm back to square one. However, it's not like I'm completely bereft of options. After all, I've still got my raw data, and those raw data give me an *estimate* of the population standard deviation: "
   ]
  },
  {
   "cell_type": "code",
   "execution_count": 13,
   "id": "daily-artwork",
   "metadata": {},
   "outputs": [
    {
     "data": {
      "text/plain": [
       "9.520614752375915"
      ]
     },
     "execution_count": 13,
     "metadata": {},
     "output_type": "execute_result"
    }
   ],
   "source": [
    "df['grades'].std()"
   ]
  },
  {
   "cell_type": "markdown",
   "id": "fifth-allergy",
   "metadata": {},
   "source": [
    "In other words, while I can't say that I know that $\\sigma = 9.5$, I *can* say that $\\hat\\sigma = 9.52$. \n",
    "\n",
    "Okay, cool. The obvious thing that you might think to do is run a $z$-test, but using the estimated standard deviation of 9.52 instead of relying on my assumption that the true standard deviation is 9.5. So, we could just type this new number into Python and out would come the answer. And you probably wouldn't be surprised to hear that this would still give us a significant result. This approach is close, but it's not *quite* correct. Because we are now relying on an *estimate* of the population standard deviation, we need to make some adjustment for the fact that we have some uncertainty about what the true population standard deviation actually is. Maybe our data are just a fluke ... maybe the true population standard deviation is 11, for instance. But if that were actually true, and we ran the $z$-test assuming $\\sigma=11$, then the result would end up being *non-significant*. That's a problem, and it's one we're going to have to address."
   ]
  },
  {
   "cell_type": "code",
   "execution_count": 14,
   "id": "trained-costume",
   "metadata": {
    "tags": [
     "hide-input"
    ]
   },
   "outputs": [
    {
     "data": {
      "application/papermill.record/image/png": "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\n",
      "application/papermill.record/text/plain": "<Figure size 1080x360 with 2 Axes>"
     },
     "metadata": {
      "scrapbook": {
       "mime_prefix": "application/papermill.record/",
       "name": "ttesthyp_onesample-fig"
      }
     },
     "output_type": "display_data"
    }
   ],
   "source": [
    "mu = 0\n",
    "sigma = 1\n",
    "x = np.linspace(mu - 3*sigma, mu + 3*sigma, 100)\n",
    "y = 100* stats.norm.pdf(x, mu, sigma)\n",
    "\n",
    "fig, axes = plt.subplots(1, 2, figsize=(15, 5))\n",
    "\n",
    "sns.lineplot(x=x,y=y, color='black', ax=axes[0])\n",
    "sns.lineplot(x=x,y=y, color='black', ax=axes[1])\n",
    "\n",
    "axes[0].set_frame_on(False)\n",
    "axes[1].set_frame_on(False)\n",
    "axes[0].get_yaxis().set_visible(False)\n",
    "axes[1].get_yaxis().set_visible(False)\n",
    "axes[0].get_xaxis().set_visible(False)\n",
    "axes[1].get_xaxis().set_visible(False)\n",
    "\n",
    "\n",
    "axes[0].axhline(y=0, color='black')\n",
    "axes[0].axvline(x=mu, color='black', linestyle='--')\n",
    "\n",
    "axes[1].axhline(y=0, color='black')\n",
    "axes[1].axvline(x=mu + sigma, color='black', linestyle='--')\n",
    "\n",
    "axes[0].hlines(y=23.6, xmin = mu-sigma, xmax = mu, color='black')\n",
    "axes[1].hlines(y=23.6, xmin = mu-sigma, xmax = mu, color='black')\n",
    "\n",
    "\n",
    "axes[0].text(mu,42, r'$\\mu = \\mu_0$', size=20, ha=\"center\")\n",
    "axes[1].text(mu + sigma, 42, r'$\\mu \\neq \\mu_0$', size=20, ha=\"center\")\n",
    "\n",
    "axes[0].text(mu-sigma - 0.2, 23.6, r'$\\sigma = ??$', size=20, ha=\"right\")\n",
    "axes[1].text(mu-sigma - 0.2, 23.6, r'$\\sigma = ??$', size=20, ha=\"right\")\n",
    "\n",
    "# show the figure in the book with caption\n",
    "plt.close()\n",
    "from myst_nb import glue\n",
    "glue(\"ttesthyp_onesample-fig\", fig, display=False)"
   ]
  },
  {
   "cell_type": "markdown",
   "id": "norwegian-programming",
   "metadata": {},
   "source": [
    "\n",
    "```{glue:figure} ttesthyp_onesample-fig\n",
    ":figwidth: 600px\n",
    ":name: fig-ttesthyp_onesample\n",
    "\n",
    "\n",
    "Graphical illustration of the null and alternative hypotheses assumed by the (two sided) one sample $t$-test. Note the similarity to the $z$-test. The null hypothesis is that the population mean $\\mu$ is equal to some specified value $\\mu_0$, and the alternative hypothesis is that it is not. Like the $z$-test, we assume that the data are normally distributed; but we do not assume that the population standard deviation $\\sigma$ is known in advance.\n",
    "\n",
    "```\n",
    "\n",
    "\n",
    "\n",
    "\n"
   ]
  },
  {
   "cell_type": "markdown",
   "id": "cooperative-agent",
   "metadata": {},
   "source": [
    "\n",
    "### Introducing the $t$-test\n",
    "\n",
    "This ambiguity is annoying, and it was resolved in 1908 by a guy called William Sealy Gosset {cite}`Student1908`, who was working as a chemist for the Guinness brewery at the time. Because Guinness took a dim view of its employees publishing statistical analysis (apparently they felt it was a trade secret), he published the work under the pseudonym \"A Student\", and to this day, the full name of the $t$-test is actually **_Student's $t$-test_**. The key thing that Gosset figured out is how we should accommodate the fact that we aren't completely sure what the true standard deviation is.[^note4] The answer is that it subtly changes the sampling distribution. In the $t$-test, our test statistic (now called a $t$-statistic) is calculated in exactly the same way I mentioned above. If our null hypothesis is that the true mean is $\\mu$, but our sample has mean $\\bar{X}$ and our estimate of the population standard deviation is $\\hat{\\sigma}$, then our $t$ statistic is:\n",
    "\n",
    "$$\n",
    "t = \\frac{\\bar{X} - \\mu}{\\hat{\\sigma}/\\sqrt{N} }\n",
    "$$\n",
    "\n",
    "The only thing that has changed in the equation is that instead of using the known true value $\\sigma$, we use the estimate $\\hat{\\sigma}$. And if this estimate has been constructed from $N$ observations, then the sampling distribution turns into a $t$-distribution with $N-1$ **_degrees of freedom_** (df). The $t$ distribution is very similar to the normal distribution, but has \"heavier\" tails, as [discussed earlier](otherdists)  and illustrated in {numref}`fig-ttestdist`. Notice, though, that as df gets larger, the $t$-distribution starts to look identical to the standard normal distribution. This is as it should be: if you have a sample size of $N = 70,000,000$ then your \"estimate\" of the standard deviation would be pretty much perfect, right? So, you should expect that for large $N$, the $t$-test would behave exactly the same way as a $z$-test. And that's exactly what happens!  "
   ]
  },
  {
   "cell_type": "code",
   "execution_count": 15,
   "id": "virgin-standing",
   "metadata": {
    "tags": [
     "hide-input"
    ]
   },
   "outputs": [
    {
     "data": {
      "application/papermill.record/image/png": "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\n",
      "application/papermill.record/text/plain": "<Figure size 1080x360 with 2 Axes>"
     },
     "metadata": {
      "scrapbook": {
       "mime_prefix": "application/papermill.record/",
       "name": "ttestdist-fig"
      }
     },
     "output_type": "display_data"
    }
   ],
   "source": [
    "mu = 0\n",
    "variance = 1\n",
    "sigma = np.sqrt(variance)\n",
    "\n",
    "\n",
    "x = np.linspace(-4, 4, 100)\n",
    "y_norm = stats.norm.pdf(x, mu, sigma)\n",
    "\n",
    "\n",
    "fig, axes = plt.subplots(1, 2, figsize=(15, 5))\n",
    "\n",
    "\n",
    "# t-distribution with 2 degrees of freedom\n",
    "y_t = stats.t.pdf(x, 2)\n",
    "sns.lineplot(x = x, y = y_norm, color = 'black', linestyle='--', ax = axes[0])\n",
    "sns.lineplot(x = x, y = y_t, color = 'black', ax = axes[0])\n",
    "\n",
    "# t-distribution with 10 degrees of freedom\n",
    "y_t = stats.t.pdf(x, 10)\n",
    "sns.lineplot(x = x, y = y_norm, color = 'black', linestyle='--', ax = axes[1])\n",
    "sns.lineplot(x = x, y = y_t, color = 'black', ax = axes[1])\n",
    "\n",
    "axes[0].text(0, 0.42, r'$df = 2$', size=20, ha=\"center\")\n",
    "axes[1].text(0, 0.42, r'$df = 10$', size=20, ha=\"center\")\n",
    "\n",
    "\n",
    "#sns.despine()\n",
    "axes[0].get_yaxis().set_visible(False)\n",
    "axes[1].get_yaxis().set_visible(False)\n",
    "axes[0].set_frame_on(False)\n",
    "axes[1].set_frame_on(False)\n",
    "\n",
    "plt.close()\n",
    "\n",
    "# show the figure in the book with caption\n",
    "plt.close()\n",
    "from myst_nb import glue\n",
    "glue(\"ttestdist-fig\", fig, display=False)"
   ]
  },
  {
   "cell_type": "markdown",
   "id": "involved-disclaimer",
   "metadata": {},
   "source": [
    "\n",
    "```{glue:figure} ttestdist-fig\n",
    ":figwidth: 600px\n",
    ":name: fig-ttestdist\n",
    "\n",
    "The $t$ distribution with 2 degrees of freedom (left) and 10 degrees of freedom (right), with a standard normal distribution (i.e., mean 0 and std dev 1) plotted as dotted lines for comparison purposes. Notice that the $t$ distribution has heavier tails (higher kurtosis) than the normal distribution; this effect is quite exaggerated when the degrees of freedom are very small, but negligible for larger values. In other words, for large $df$ the $t$ distribution is essentially identical to a normal distribution.\n",
    "\n",
    "\n",
    "```\n"
   ]
  },
  {
   "cell_type": "markdown",
   "id": "federal-teddy",
   "metadata": {},
   "source": [
    "### Doing the test in Python\n",
    "\n",
    "As you might expect, the mechanics of the $t$-test are almost identical to the mechanics of the $z$-test. So there's not much point in going through the tedious exercise of showing you how to do the calculations using low level commands: it's pretty much identical to the calculations that we did earlier, except that we use the estimated standard deviation (i.e., something like `se_est = statistics.stdev(grades)`), and then we test our hypothesis using the $t$ distribution rather than the normal distribution. And so instead of going through the calculations in tedious detail for a second time, I'll jump straight to showing you how $t$-tests are actually done in practice. \n",
    "\n",
    "The situation with $t$-tests is very similar to the one we encountered with [chi-squared tests](chisquare). `scipy.stats` includes a variety of methods for running different kinds of  $t$-tests, but the `pingouin` package makes wraps these up and makes them easier (to my mind) to deal with. We'll start with the `scipy` version for the one-sample $t$-test, so you can get a flavor for how `scipy` deals with $t$-tests, and then use the `pingouin` alternatives for the rest.\n",
    "\n",
    "To run a one-sample $t$-test with `scipy`, use the `ttest_1samp` method. It's pretty straightforward to use: all you need to do is specify `a`, the variable containing the data, and `popmean`, the true population mean according to the null hypothesis. All you need to type is this:"
   ]
  },
  {
   "cell_type": "code",
   "execution_count": 16,
   "id": "focused-connection",
   "metadata": {},
   "outputs": [
    {
     "data": {
      "text/plain": [
       "(2.25471286700693, 0.03614521878144544)"
      ]
     },
     "execution_count": 16,
     "metadata": {},
     "output_type": "execute_result"
    }
   ],
   "source": [
    "from scipy.stats import ttest_1samp\n",
    "t, p = ttest_1samp(a = df['grades'], popmean = 67.5)\n",
    "t, p"
   ]
  },
  {
   "cell_type": "markdown",
   "id": "amazing-destiny",
   "metadata": {},
   "source": [
    "So that seems straightforward enough. Our calculation resulted in a $t$-statistic of 2.54, and a $p$-value of 0.36. Now what do we *do* with this output? Well, since we're pretending that we actually care about my toy example, we're overjoyed to discover that the result is statistically significant (i.e. $p$ value below .05), and we will probably want to report our result. We could report the result by saying something like this:\n",
    "\n",
    "> With a mean grade of 72.3, the psychology students scored slightly higher than the average grade of 67.5 ($t(19) = 2.25$, $p<.05$); the 95\\% confidence interval is [67.8, 76.8].\n",
    "\n",
    "where $t(19)$ is shorthand notation for a $t$-statistic that has 19 degrees of freedom.\n",
    "\n",
    "As you will have already noticed, `ttest_1samp()` does not give us all the information included in the report above. A $t$-statistic, yes, and a $p$-value as well. But what about 95% confidence intervals? Where can we find those, and what about the degrees of freedom? In a better, simpler, kinder world, `ttest_1samp()` would provide all this information for us, and it's honestly a bit shocking that it doesn't. But sadly that is not the world we live in, and we have a bit more work to do.\n",
    "\n",
    "First, off: degrees of freedom. In this case, that is not so difficult, because the degrees of freedom for a one-sample t-test is just $N-1$, so we can easily find that ourselves. We also already know how to find the sample mean of our data:"
   ]
  },
  {
   "cell_type": "code",
   "execution_count": 17,
   "id": "confident-content",
   "metadata": {},
   "outputs": [
    {
     "name": "stdout",
     "output_type": "stream",
     "text": [
      "Sample mean: 72.3\n",
      "Degrees of freedom: 19\n"
     ]
    }
   ],
   "source": [
    "N = len(df['grades'])\n",
    "degfree = N-1\n",
    "sample_mean = df['grades'].mean()\n",
    "print('Sample mean:', sample_mean)\n",
    "print('Degrees of freedom:', degfree)"
   ]
  },
  {
   "cell_type": "markdown",
   "id": "amino-youth",
   "metadata": {},
   "source": [
    "Now at least we have the bare minimum of what is necessary to report our results. Still, it would be sweet if we could get those confidence intervals as well. `scipy` actually has all the tools we need, and why these are not just built into the `ttest_1samp()` method is beyond me. To find the confidence interval, we need to:\n",
    "\n",
    "1. To set a confidence level\n",
    "1. To know the sample mean\n",
    "1. To know the degrees of freedom for the test\n",
    "1. To know the standard error of the sample\n",
    "\n",
    "We discussed confidence intervals [earlier](ci), and now is not the time to go into detail on this, so for now I'm just going to give you some code that you can use to find 95% confidence intervals for a one-sample t-test, so that we can get on with reporting our data:"
   ]
  },
  {
   "cell_type": "code",
   "execution_count": 18,
   "id": "related-marijuana",
   "metadata": {},
   "outputs": [
    {
     "data": {
      "text/plain": [
       "(67.84421513791415, 76.75578486208585)"
      ]
     },
     "execution_count": 18,
     "metadata": {},
     "output_type": "execute_result"
    }
   ],
   "source": [
    "from scipy import stats\n",
    "\n",
    "confidence_level = 0.95\n",
    "degrees_freedom = len(df['grades'])-1\n",
    "sample_mean = df['grades'].mean()\n",
    "sample_standard_error = df['grades'].sem()\n",
    "\n",
    "confidence_interval = stats.t.interval(confidence_level, degrees_freedom, sample_mean, sample_standard_error)\n",
    "confidence_interval"
   ]
  },
  {
   "cell_type": "markdown",
   "id": "actual-county",
   "metadata": {},
   "source": [
    "Whew. Now at least we have everything we need for a full report of our results.\n",
    "\n",
    "That said, it's often the case that people don't report the confidence interval, or do so using a much more compressed form than I've done here. For instance, it's not uncommon to see the confidence interval included as part of the stat block, like this:\n",
    "\n",
    "> $t(19) = 2.25$, $p<.05$, CI$_{95} = [67.8, 76.8]$\n",
    "\n",
    "With that much jargon crammed into half a line, you know it must be really smart. [^note5]"
   ]
  },
  {
   "cell_type": "markdown",
   "id": "c1014d22",
   "metadata": {},
   "source": [
    "Having gone through all that, let's take a look at the `pingouin` command to achieve the same thing."
   ]
  },
  {
   "cell_type": "code",
   "execution_count": 19,
   "id": "126b3305",
   "metadata": {
    "tags": [
     "remove-cell"
    ]
   },
   "outputs": [
    {
     "data": {
      "text/plain": [
       "{'divide': 'warn', 'over': 'warn', 'under': 'ignore', 'invalid': 'warn'}"
      ]
     },
     "execution_count": 19,
     "metadata": {},
     "output_type": "execute_result"
    }
   ],
   "source": [
    "# hopefully temporary code to silence pointless numpy warnings on macOS\n",
    "np.seterr(all=\"ignore\")\n"
   ]
  },
  {
   "cell_type": "code",
   "execution_count": 20,
   "id": "85e0ebb3",
   "metadata": {},
   "outputs": [
    {
     "data": {
      "text/html": [
       "<div>\n",
       "<style scoped>\n",
       "    .dataframe tbody tr th:only-of-type {\n",
       "        vertical-align: middle;\n",
       "    }\n",
       "\n",
       "    .dataframe tbody tr th {\n",
       "        vertical-align: top;\n",
       "    }\n",
       "\n",
       "    .dataframe thead th {\n",
       "        text-align: right;\n",
       "    }\n",
       "</style>\n",
       "<table border=\"1\" class=\"dataframe\">\n",
       "  <thead>\n",
       "    <tr style=\"text-align: right;\">\n",
       "      <th></th>\n",
       "      <th>T</th>\n",
       "      <th>dof</th>\n",
       "      <th>alternative</th>\n",
       "      <th>p-val</th>\n",
       "      <th>CI95%</th>\n",
       "      <th>cohen-d</th>\n",
       "      <th>BF10</th>\n",
       "      <th>power</th>\n",
       "    </tr>\n",
       "  </thead>\n",
       "  <tbody>\n",
       "    <tr>\n",
       "      <th>T-test</th>\n",
       "      <td>2.25</td>\n",
       "      <td>19</td>\n",
       "      <td>two-sided</td>\n",
       "      <td>0.04</td>\n",
       "      <td>[67.84, 76.76]</td>\n",
       "      <td>0.5</td>\n",
       "      <td>1.795</td>\n",
       "      <td>0.57</td>\n",
       "    </tr>\n",
       "  </tbody>\n",
       "</table>\n",
       "</div>"
      ],
      "text/plain": [
       "           T  dof alternative  p-val           CI95%  cohen-d   BF10  power\n",
       "T-test  2.25   19   two-sided   0.04  [67.84, 76.76]      0.5  1.795   0.57"
      ]
     },
     "execution_count": 20,
     "metadata": {},
     "output_type": "execute_result"
    }
   ],
   "source": [
    "\n",
    "from pingouin import ttest\n",
    "ttest(df['grades'], 67.5).round(2)"
   ]
  },
  {
   "cell_type": "markdown",
   "id": "d36be179",
   "metadata": {},
   "source": [
    "Well. That was easy! All we need to do is feed the `ttest()` function from `pingouin` with the data and the population mean under the null hypothesis, and `pinguoin` does the rest. We get a nice table with the $t$-value, the degrees of freedom, the $p$-value, 95% confidence interval, effect size (Cohen's $d$), and a power estimate. BF10 refers to the \"bayes factor\", which we will meet (briefly) in the section on [Bayesian statistics](bayes)."
   ]
  },
  {
   "cell_type": "markdown",
   "id": "protecting-better",
   "metadata": {},
   "source": [
    "\n",
    "### Assumptions of the one sample $t$-test\n",
    "\n",
    "Okay, so what assumptions does the one-sample $t$-test make? Well, since the $t$-test is basically a $z$-test with the assumption of known standard deviation removed, you shouldn't be surprised to see that it makes the same assumptions as the $z$-test, minus the one about the known standard deviation. That is\n",
    "\n",
    "- *Normality*. We're still assuming that the the population distribution is normal[^note_normality].\n",
    "- *Independence*. Once again, we have to assume that the observations in our sample are generated independently of one another. See the [earlier discussion](zassumptions) about the $z$-test for specifics.\n",
    "\n",
    "Overall, these two assumptions aren't terribly unreasonable, and as a consequence the one-sample $t$-test is pretty widely used in practice as a way of comparing a sample mean against a hypothesised population mean.\n",
    "\n",
    "[^note_normality]: A technical comment... in the same way that we can weaken the assumptions of the $z$-test so that we're only talking about the sampling distribution, we *can* weaken the $t$ test assumptions so that we don't have to assume normality of the population. However, for the $t$-test, it's trickier to do this. As before, we can replace the assumption of population normality with an assumption that the sampling distribution of $\\bar{X}$ is normal. However, remember that we're also relying on a sample estimate of the standard deviation; and so we also require the sampling distribution of $\\hat{\\sigma}$ to be chi-square. That makes things nastier, and this version is rarely used in practice: fortunately, if the population is normal, then both of these two assumptions are met., and as noted earlier, there are [standard tools](shapiro) that you can use to check to see if this assumption is met, and [other tests](wilcox) you can do in it's place if this assumption is violated."
   ]
  },
  {
   "cell_type": "markdown",
   "id": "stuffed-retail",
   "metadata": {},
   "source": [
    "\n",
    "## The independent samples $t$-test (Student test)\n",
    "\n",
    "Although the one sample $t$-test has its uses, it's not the most typical example of a $t$-test[^note6]. A much more common situation arises when you've got two different groups of observations. In psychology, this tends to correspond to two different groups of participants, where each group corresponds to a different condition in your study. For each person in the study, you measure some outcome variable of interest, and the research question that you're asking is whether or not the two groups have the same population mean. This is the situation that the independent samples $t$-test is designed for. "
   ]
  },
  {
   "cell_type": "markdown",
   "id": "corrected-victim",
   "metadata": {},
   "source": [
    "### The data\n",
    "\n",
    "Suppose we have 33 students taking Dr Harpo's statistics lectures, and Dr Harpo doesn't grade to a curve. Actually, Dr Harpo's grading is a bit of a mystery, so we don't really know anything about what the average grade is for the class as a whole. There are two tutors for the class, Anastasia and Bernadette. There are $N_1 = 15$ students in Anastasia's tutorials, and $N_2 = 18$ in Bernadette's tutorials. The research question I'm interested in is whether Anastasia or Bernadette is a better tutor, or if it doesn't make much of a difference. Dr Harpo emails me the course grades, in the `harpo.csv` file. As usual, I'll load the file and have a look at what variables it contains:"
   ]
  },
  {
   "cell_type": "code",
   "execution_count": 21,
   "id": "specific-direction",
   "metadata": {},
   "outputs": [
    {
     "data": {
      "text/html": [
       "<div>\n",
       "<style scoped>\n",
       "    .dataframe tbody tr th:only-of-type {\n",
       "        vertical-align: middle;\n",
       "    }\n",
       "\n",
       "    .dataframe tbody tr th {\n",
       "        vertical-align: top;\n",
       "    }\n",
       "\n",
       "    .dataframe thead th {\n",
       "        text-align: right;\n",
       "    }\n",
       "</style>\n",
       "<table border=\"1\" class=\"dataframe\">\n",
       "  <thead>\n",
       "    <tr style=\"text-align: right;\">\n",
       "      <th></th>\n",
       "      <th>grade</th>\n",
       "      <th>tutor</th>\n",
       "    </tr>\n",
       "  </thead>\n",
       "  <tbody>\n",
       "    <tr>\n",
       "      <th>0</th>\n",
       "      <td>65</td>\n",
       "      <td>Anastasia</td>\n",
       "    </tr>\n",
       "    <tr>\n",
       "      <th>1</th>\n",
       "      <td>72</td>\n",
       "      <td>Bernadette</td>\n",
       "    </tr>\n",
       "    <tr>\n",
       "      <th>2</th>\n",
       "      <td>66</td>\n",
       "      <td>Bernadette</td>\n",
       "    </tr>\n",
       "    <tr>\n",
       "      <th>3</th>\n",
       "      <td>74</td>\n",
       "      <td>Anastasia</td>\n",
       "    </tr>\n",
       "    <tr>\n",
       "      <th>4</th>\n",
       "      <td>73</td>\n",
       "      <td>Anastasia</td>\n",
       "    </tr>\n",
       "  </tbody>\n",
       "</table>\n",
       "</div>"
      ],
      "text/plain": [
       "   grade       tutor\n",
       "0     65   Anastasia\n",
       "1     72  Bernadette\n",
       "2     66  Bernadette\n",
       "3     74   Anastasia\n",
       "4     73   Anastasia"
      ]
     },
     "execution_count": 21,
     "metadata": {},
     "output_type": "execute_result"
    }
   ],
   "source": [
    "import pandas as pd\n",
    "\n",
    "df = pd.read_csv(\"https://raw.githubusercontent.com/ethanweed/pythonbook/main/Data/harpo.csv\")\n",
    "df.head()"
   ]
  },
  {
   "cell_type": "markdown",
   "id": "annual-correction",
   "metadata": {},
   "source": [
    "As we can see, there's a single data frame with two variables, `grade` and `tutor`. The `grade` variable is a numeric vector, containing the grades for all $N = 33$ students taking Dr Harpo's class; the `tutor` variable is a factor that indicates who each student's tutor was. The first five observations in this data set are shown above, and below is a nice little table with some summary statistics:"
   ]
  },
  {
   "cell_type": "code",
   "execution_count": 22,
   "id": "2306c570",
   "metadata": {},
   "outputs": [
    {
     "data": {
      "text/html": [
       "<div>\n",
       "<style scoped>\n",
       "    .dataframe tbody tr th:only-of-type {\n",
       "        vertical-align: middle;\n",
       "    }\n",
       "\n",
       "    .dataframe tbody tr th {\n",
       "        vertical-align: top;\n",
       "    }\n",
       "\n",
       "    .dataframe thead th {\n",
       "        text-align: right;\n",
       "    }\n",
       "</style>\n",
       "<table border=\"1\" class=\"dataframe\">\n",
       "  <thead>\n",
       "    <tr style=\"text-align: right;\">\n",
       "      <th></th>\n",
       "      <th>students</th>\n",
       "      <th>mean</th>\n",
       "      <th>std dev</th>\n",
       "      <th>N</th>\n",
       "    </tr>\n",
       "  </thead>\n",
       "  <tbody>\n",
       "    <tr>\n",
       "      <th>0</th>\n",
       "      <td>Anastasia's students</td>\n",
       "      <td>74.53</td>\n",
       "      <td>8.998942</td>\n",
       "      <td>15</td>\n",
       "    </tr>\n",
       "    <tr>\n",
       "      <th>1</th>\n",
       "      <td>Bernadette's students</td>\n",
       "      <td>69.06</td>\n",
       "      <td>5.774918</td>\n",
       "      <td>18</td>\n",
       "    </tr>\n",
       "  </tbody>\n",
       "</table>\n",
       "</div>"
      ],
      "text/plain": [
       "                students   mean   std dev   N\n",
       "0   Anastasia's students  74.53  8.998942  15\n",
       "1  Bernadette's students  69.06  5.774918  18"
      ]
     },
     "execution_count": 22,
     "metadata": {},
     "output_type": "execute_result"
    }
   ],
   "source": [
    "harpo_summary = pd.DataFrame(\n",
    "    {'students': ['Anastasia\\'s students','Bernadette\\'s students'],\n",
    "     'mean': [df.loc[df['tutor'] == 'Anastasia']['grade'].mean().round(2), \n",
    "             df.loc[df['tutor'] == 'Bernadette']['grade'].mean().round(2)],\n",
    "     'std dev': [df.loc[df['tutor'] == 'Anastasia']['grade'].std(), \n",
    "                df.loc[df['tutor'] == 'Bernadette']['grade'].std()],\n",
    "     'N': [len(df.loc[df['tutor'] == 'Anastasia']),\n",
    "           len(df.loc[df['tutor'] == 'Bernadette'])]\n",
    "    })\n",
    "harpo_summary"
   ]
  },
  {
   "cell_type": "markdown",
   "id": "pediatric-island",
   "metadata": {},
   "source": [
    "To give you a more detailed sense of what's going on here, I've plotted histograms showing the distribution of grades for both tutors {numref}`fig-harpohist`. Inspection of these histograms suggests that the students in Anastasia's class may be getting slightly better grades on average, though they also seem a little more variable."
   ]
  },
  {
   "cell_type": "code",
   "execution_count": 23,
   "id": "narrow-expansion",
   "metadata": {
    "tags": [
     "hide-input"
    ]
   },
   "outputs": [
    {
     "data": {
      "application/papermill.record/image/png": "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\n",
      "application/papermill.record/text/plain": "<Figure size 1080x360 with 2 Axes>"
     },
     "metadata": {
      "scrapbook": {
       "mime_prefix": "application/papermill.record/",
       "name": "harpohist_fig"
      }
     },
     "output_type": "display_data"
    }
   ],
   "source": [
    "fig, axes = plt.subplots(1, 2, figsize=(15, 5))\n",
    "Anastasia = pd.DataFrame(df.loc[df['tutor'] == 'Anastasia']['grade'])\n",
    "Bernadette = pd.DataFrame(df.loc[df['tutor'] == 'Bernadette']['grade'])\n",
    "\n",
    "sns.histplot(Anastasia['grade'], ax = axes[0], binwidth = 5)\n",
    "sns.histplot(Bernadette['grade'], ax = axes[1], binwidth = 5)\n",
    "\n",
    "axes[0].set_xlim(50,100)\n",
    "axes[1].set_xlim(50,100)\n",
    "\n",
    "axes[0].set_ylim(0,7)\n",
    "axes[1].set_ylim(0,7)\n",
    "\n",
    "axes[0].set_title('Anastasia')\n",
    "axes[1].set_title('Bernadette')\n",
    "\n",
    "sns.despine()\n",
    "\n",
    "# show the figure in the book with caption\n",
    "plt.close()\n",
    "from myst_nb import glue\n",
    "glue(\"harpohist_fig\", fig, display=False)\n"
   ]
  },
  {
   "cell_type": "markdown",
   "id": "subject-withdrawal",
   "metadata": {},
   "source": [
    " ```{glue:figure} harpohist_fig\n",
    ":figwidth: 600px\n",
    ":name: fig-harpohist\n",
    "\n",
    "Histogram showing the overall distribution of grades for students in Anastasia and Bernadette's classes\n",
    "```"
   ]
  },
  {
   "cell_type": "markdown",
   "id": "fabulous-community",
   "metadata": {},
   "source": [
    "{numref}`fig-ttestci` is a simpler plot showing the means and corresponding confidence intervals for both groups of students."
   ]
  },
  {
   "cell_type": "code",
   "execution_count": 24,
   "id": "expensive-session",
   "metadata": {
    "tags": [
     "hide-input"
    ]
   },
   "outputs": [
    {
     "data": {
      "application/papermill.record/image/png": "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\n",
      "application/papermill.record/text/plain": "<Figure size 432x288 with 1 Axes>"
     },
     "metadata": {
      "scrapbook": {
       "mime_prefix": "application/papermill.record/",
       "name": "ttestci-fig"
      }
     },
     "output_type": "display_data"
    }
   ],
   "source": [
    "fig, axes = plt.subplots(1, 1)\n",
    "sns.pointplot(x = 'tutor', y = 'grade', data = df)\n",
    "sns.despine()\n",
    "\n",
    "# show the figure in the book with caption\n",
    "plt.close()\n",
    "from myst_nb import glue\n",
    "glue(\"ttestci-fig\", fig, display=False)\n"
   ]
  },
  {
   "cell_type": "markdown",
   "id": "painted-running",
   "metadata": {},
   "source": [
    " ```{glue:figure} ttestci-fig\n",
    ":figwidth: 600px\n",
    ":name: fig-ttestci\n",
    "\n",
    "Plot showing the mean grade for the students in Anastasia's and Bernadette's tutorials. Error bars depict 95% confidence intervals around the mean. On the basis of visual inspection, it does look like there's a real difference between the groups, though it's hard to say for sure.\n",
    "\n",
    "```"
   ]
  },
  {
   "cell_type": "markdown",
   "id": "outer-victim",
   "metadata": {},
   "source": [
    "### Introducing the test\n",
    "\n",
    "The **_independent samples $t$-test_** comes in two different forms, Student's and Welch's. The original Student $t$-test -- which is the one I'll describe in this section -- is the simpler of the two, but relies on much more restrictive assumptions than the Welch $t$-test. Assuming for the moment that you want to run a two-sided test, the goal is to determine whether two \"independent samples\" of data are drawn from populations with the same mean (the null hypothesis) or different means (the alternative hypothesis). When we say \"independent\" samples, what we really mean here is that there's no special relationship between observations in the two samples. This probably doesn't make a lot of sense right now, but it will be clearer when we come to talk about the paired samples $t$-test later on. For now, let's just point out that if we have an experimental design where participants are randomly allocated to one of two groups, and we want to compare the two groups' mean performance on some outcome measure, then an independent samples $t$-test (rather than a paired samples $t$-test) is what we're after.\n",
    "\n",
    "Okay, so let's let $\\mu_1$ denote the true population mean for group 1 (e.g., Anastasia's students), and $\\mu_2$ will be the true population mean for group 2 (e.g., Bernadette's students),[^note7] and as usual we'll let $\\bar{X}_1$ and $\\bar{X}_2$ denote the observed sample means for both of these groups. Our null hypothesis states that the two population means are identical ($\\mu_1 = \\mu_2$) and the alternative to this is that they are not ($\\mu_1 \\neq \\mu_2$). Written in mathematical-ese, this is...\n",
    "\n",
    "$$\n",
    "\\begin{array}{ll}\n",
    "H_0: & \\mu_1 = \\mu_2  \\\\\n",
    "H_1: & \\mu_1 \\neq \\mu_2\n",
    "\\end{array}\n",
    "$$"
   ]
  },
  {
   "cell_type": "code",
   "execution_count": 25,
   "id": "turkish-olive",
   "metadata": {
    "tags": [
     "hide-input"
    ]
   },
   "outputs": [
    {
     "data": {
      "application/papermill.record/image/png": "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\n",
      "application/papermill.record/text/plain": "<Figure size 1080x360 with 2 Axes>"
     },
     "metadata": {
      "scrapbook": {
       "mime_prefix": "application/papermill.record/",
       "name": "ttesthyp_fig"
      }
     },
     "output_type": "display_data"
    }
   ],
   "source": [
    "mu1 = 0\n",
    "sigma1 = 1\n",
    "mu2 = 2\n",
    "\n",
    "x1 = np.linspace(mu1 - 4*sigma, mu1 + 4*sigma, 100)\n",
    "y1 = 100* stats.norm.pdf(x1, mu1, sigma)\n",
    "x2 = np.linspace(mu2 - 4*sigma, mu2 + 4*sigma, 100)\n",
    "y2 = 100* stats.norm.pdf(x2, mu2, sigma)\n",
    "\n",
    "\n",
    "fig, (ax1, ax2) = plt.subplots(1, 2, figsize=(15, 5))\n",
    "\n",
    "\n",
    "sns.lineplot(x=x1,y=y, color='black', ax = ax1)\n",
    "\n",
    "sns.lineplot(x=x1,y=y, color='black', ax = ax2)\n",
    "sns.lineplot(x=x2,y=y2, color='black', ax = ax2)\n",
    "\n",
    "ax1.text(0, 43, 'null hypothesis', size=20, ha=\"center\")\n",
    "ax2.text(0, 43, 'alternative hypothesis', size=20, ha=\"center\")\n",
    "\n",
    "ax1.set_frame_on(False)\n",
    "ax2.set_frame_on(False)\n",
    "ax1.get_yaxis().set_visible(False)\n",
    "ax2.get_yaxis().set_visible(False)\n",
    "ax1.get_xaxis().set_visible(False)\n",
    "ax2.get_xaxis().set_visible(False)\n",
    "ax1.axhline(y=0, color='black')\n",
    "ax2.axhline(y=0, color='black')\n",
    "\n",
    "# show the figure in the book with caption\n",
    "plt.close()\n",
    "from myst_nb import glue\n",
    "glue(\"ttesthyp_fig\", fig, display=False)"
   ]
  },
  {
   "cell_type": "markdown",
   "id": "complete-backup",
   "metadata": {},
   "source": [
    " ```{glue:figure} ttesthyp_fig\n",
    ":figwidth: 600px\n",
    ":name: fig-ttesthyp\n",
    "\n",
    "Graphical illustration of the null and alternative hypotheses assumed by the Student $t$-test. The null hypothesis assumes that both groups have the same mean $\\\\mu$, whereas the alternative assumes that they have different means $\\mu_1$ and $\\mu_2$. Notice that it is assumed that the population distributions are normal, and that, although the alternative hypothesis allows the group to have different means, it assumes they have the same standard deviation\n",
    "```\n"
   ]
  },
  {
   "cell_type": "markdown",
   "id": "chubby-allen",
   "metadata": {},
   "source": [
    "To construct a hypothesis test that handles this scenario, we start by noting that if the null hypothesis is true, then the difference between the population means is *exactly* zero, \n",
    "$\\mu_1 - \\mu_2 = 0$\n",
    "As a consequence, a diagnostic test statistic will be based on the difference between the two sample means. Because if the null hypothesis is true, then we'd expect \n",
    "\n",
    "$$\n",
    "\\bar{X}_1 - \\bar{X}_2\n",
    "$$\n",
    "\n",
    "to be *pretty close* to zero. However, just like we saw with our one-sample tests (i.e., the one-sample $z$-test and the one-sample $t$-test) we have to be precise about exactly *how close* to zero this difference should be. And the solution to the problem is more or less the same one: we calculate a standard error estimate (SE), just like last time, and then divide the difference between means by this estimate. So our **_$t$-statistic_** will be of the form\n",
    "\n",
    "$$\n",
    "t = \\frac{\\bar{X}_1 - \\bar{X}_2}{\\mbox{SE}}\n",
    "$$\n",
    "\n",
    "We just need to figure out what this standard error estimate actually is. This is a bit trickier than was the case for either of the two tests we've looked at so far, so we need to go through it a lot more carefully to understand how it works."
   ]
  },
  {
   "cell_type": "markdown",
   "id": "opponent-yugoslavia",
   "metadata": {},
   "source": [
    "### A \"pooled estimate\" of the standard deviation\n",
    "\n",
    "In the original \"Student $t$-test\", we make the assumption that the two groups have the same population standard deviation: that is, regardless of whether the population means are the same, we assume that the population standard deviations are identical, $\\sigma_1 = \\sigma_2$. Since we're assuming that the two standard deviations are the same, we drop the subscripts and refer to both of them as $\\sigma$. How should we estimate this? How should we construct a single estimate of a standard deviation when we have two samples? The answer is, basically, we average them. Well, sort of. Actually, what we do is take a *weighed* average of the *variance* estimates, which we use as our **_pooled estimate of the variance_**. The weight assigned to each sample is equal to the number of observations in that sample, minus 1. Mathematically, we can write this as\n",
    "\n",
    "$$\n",
    "\\begin{array}{rcl}\n",
    "w_1 &=& N_1 - 1\\\\\n",
    "w_2 &=& N_2 - 1\n",
    "\\end{array}\n",
    "$$\n",
    "\n",
    "Now that we've assigned weights to each sample, we calculate the pooled estimate of the variance by taking the weighted average of the two variance estimates, ${\\hat\\sigma_1}^2$ and ${\\hat\\sigma_2}^2$ \n",
    "\n",
    "$$\n",
    "\\hat\\sigma^2_p = \\frac{w_1 {\\hat\\sigma_1}^2 + w_2 {\\hat\\sigma_2}^2}{w_1 + w_2}\n",
    "$$\n",
    "\n",
    "Finally, we convert the pooled variance estimate to a pooled standard deviation estimate, by taking the square root. This gives us the following formula for $\\hat\\sigma_p$,\n",
    "\n",
    "$$\n",
    "\\hat\\sigma_p = \\sqrt{\\frac{w_1 {\\hat\\sigma_1}^2 + w_2 {\\hat\\sigma_2}^2}{w_1 + w_2}}\n",
    "$$\n",
    "\n",
    "And if you mentally substitute $w_1 = N_1 -1$ and $w_2 = N_2 -1$ into this equation you get a very ugly looking formula; a very ugly formula that actually seems to be the \"standard\" way of describing the pooled standard deviation estimate. It's not my favourite way of thinking about pooled standard deviations, however.[^note8]"
   ]
  },
  {
   "cell_type": "markdown",
   "id": "excited-soccer",
   "metadata": {},
   "source": [
    "### The same pooled estimate, described differently\n",
    "\n",
    "I prefer to think about it like this. Our data set actually corresponds to a set of $N$ observations, which are sorted into two groups. So let's use the notation $X_{ik}$ to refer to the grade received by the $i$-th student in the $k$-th tutorial group: that is, $X_{11}$ is the grade received by the first student in Anastasia's class, $X_{21}$ is her second student, and so on. And we have two separate group means $\\bar{X}_1$ and $\\bar{X}_2$, which we could \"generically\" refer to using the notation $\\bar{X}_k$, i.e., the mean grade for the $k$-th tutorial group. So far, so good. Now, since every single student falls into one of the two tutorials, then we can describe their deviation from the group mean as the difference\n",
    "\n",
    "$$\n",
    "X_{ik} - \\bar{X}_k\n",
    "$$\n",
    "\n",
    "So why not just use these deviations (i.e., the extent to which each student's grade differs from the mean grade in their tutorial?) Remember, a variance is just the average of a bunch of squared deviations, so let's do that. Mathematically, we could write it like this:\n",
    "\n",
    "$$\n",
    "\\frac{\\sum_{ik} \\left( X_{ik} - \\bar{X}_k \\right)^2}{N}\n",
    "$$\n",
    "\n",
    "where the notation \"$\\sum_{ik}$\" is a lazy way of saying \"calculate a sum by looking at all students in all tutorials\", since each \"$ik$\" corresponds to one student.^[A more correct notation will be introduced in chapter on ANOVA(anova).] But, as we saw in the chapter on [estimation](estimation), calculating the variance by dividing by $N$ produces a biased estimate of the population variance. And previously, we needed to divide by $N-1$ to fix this. However, as I mentioned at the time, the reason why this bias exists is because the variance estimate relies on the sample mean; and to the extent that the sample mean isn't equal to the population mean, it can systematically bias our estimate of the variance. But this time we're relying on *two* sample means! Does this mean that we've got more bias? Yes, yes it does. And does this mean we now need to divide by $N-2$ instead of $N-1$, in order to calculate our pooled variance estimate? Why, yes...\n",
    "\n",
    "$$\n",
    "\\hat\\sigma^2_p = \\frac{\\sum_{ik} \\left( X_{ik} - \\bar{X}_k \\right)^2}{N -2}\n",
    "$$\n",
    "\n",
    "Oh, and if you take the square root of this then you get $\\hat{\\sigma}_p$, the pooled standard deviation estimate. In other words, the pooled standard deviation calculation is nothing special: it's not terribly different to the regular standard deviation calculation. "
   ]
  },
  {
   "cell_type": "markdown",
   "id": "rocky-funds",
   "metadata": {},
   "source": [
    "(indsamplesttest_formula)=\n",
    "### Completing the test\n",
    "\n",
    "Regardless of which way you want to think about it, we now have our pooled estimate of the standard deviation. From now on, I'll drop the silly $p$ subscript, and just refer to this estimate as $\\hat\\sigma$. Great. Let's now go back to thinking about the bloody hypothesis test, shall we? Our whole reason for calculating this pooled estimate was that we knew it would be helpful when calculating our *standard error* estimate. But, standard error of *what*? In the one-sample $t$-test, it was the standard error of the sample mean, $\\mbox{SE}({\\bar{X}})$, and since $\\mbox{SE}({\\bar{X}}) = \\sigma / \\sqrt{N}$ that's what the denominator of our $t$-statistic looked like. This time around, however, we have *two* sample means. And what we're interested in, specifically, is the the difference between the two $\\bar{X}_1 - \\bar{X}_2$. As a consequence, the standard error that we need to divide by is in fact the **_standard error of the difference_** between means. As long as the two variables really do have the same standard deviation, then our estimate for the standard error is\n",
    "\n",
    "$$\n",
    "\\mbox{SE}({\\bar{X}_1 - \\bar{X}_2}) = \\hat\\sigma \\sqrt{\\frac{1}{N_1} + \\frac{1}{N_2}}\n",
    "$$\n",
    "\n",
    "and our $t$-statistic is therefore \n",
    "\n",
    "$$\n",
    "t = \\frac{\\bar{X}_1 - \\bar{X}_2}{\\mbox{SE}({\\bar{X}_1 - \\bar{X}_2})}\n",
    "$$\n",
    "\n",
    "Just as we saw with our one-sample test, the sampling distribution of this $t$-statistic is a $t$-distribution (shocking, isn't it?) as long as the null hypothesis is true, and all of the assumptions of the test are met. The degrees of freedom, however, is slightly different. As usual, we can think of the degrees of freedom to be equal to the number of data points minus the number of constraints. In this case, we have $N$ observations ($N_1$ in sample 1, and $N_2$ in sample 2), and 2 constraints (the sample means). So the total degrees of freedom for this test are $N-2$. "
   ]
  },
  {
   "cell_type": "markdown",
   "id": "competent-eating",
   "metadata": {},
   "source": [
    "### Doing the test in Python\n",
    "\n",
    "Now, you can run an independent samples $t$-test with a method from `scipy`, and since the method for a one-sample $t$-test was `ttest_1samp`, it may come as no big surprise to you that the method for an independent-samples $t$-test is called `ttest_ind`. But from here on out, I think it will be easier for everyone (certainly easier for me!) if we use `pingouin` to ease the process of running these tests. How will it make it easier, you ask? Well, for one thing, remember how we just used the `ttest()` function from `pingouin` to run a one-sample $t$-test? Well we can use _the exact same function_ to run _all_ of the $t$-tests in this chapter. How's that for making things easier? Also, `pingouin` unifies the output format, so we get the same familiar table for each one of the tests.\n",
    "\n",
    "So let's give it a try. An important point here, and one that can cause a lot of frustration if you don't realize what is going on, is that `ttest()` wants the data from the two groups served up as two separate variables (this is true of the `scipy` version as well, by the way). Since Dr Harpo sent the data to us in _long format_, that is, with all the grades in one column, and a second column telling us who the tutor was for each student, we will need to do something to break the grade data into two. So step one will be creating a new dataframe, with one column per tutor (\"wide\" format):"
   ]
  },
  {
   "cell_type": "code",
   "execution_count": 26,
   "id": "graphic-settlement",
   "metadata": {},
   "outputs": [
    {
     "data": {
      "text/html": [
       "<div>\n",
       "<style scoped>\n",
       "    .dataframe tbody tr th:only-of-type {\n",
       "        vertical-align: middle;\n",
       "    }\n",
       "\n",
       "    .dataframe tbody tr th {\n",
       "        vertical-align: top;\n",
       "    }\n",
       "\n",
       "    .dataframe thead th {\n",
       "        text-align: right;\n",
       "    }\n",
       "</style>\n",
       "<table border=\"1\" class=\"dataframe\">\n",
       "  <thead>\n",
       "    <tr style=\"text-align: right;\">\n",
       "      <th></th>\n",
       "      <th>Anastasia</th>\n",
       "      <th>Bernadette</th>\n",
       "    </tr>\n",
       "  </thead>\n",
       "  <tbody>\n",
       "    <tr>\n",
       "      <th>0</th>\n",
       "      <td>65.0</td>\n",
       "      <td>NaN</td>\n",
       "    </tr>\n",
       "    <tr>\n",
       "      <th>1</th>\n",
       "      <td>NaN</td>\n",
       "      <td>72.0</td>\n",
       "    </tr>\n",
       "    <tr>\n",
       "      <th>2</th>\n",
       "      <td>NaN</td>\n",
       "      <td>66.0</td>\n",
       "    </tr>\n",
       "    <tr>\n",
       "      <th>3</th>\n",
       "      <td>74.0</td>\n",
       "      <td>NaN</td>\n",
       "    </tr>\n",
       "    <tr>\n",
       "      <th>4</th>\n",
       "      <td>73.0</td>\n",
       "      <td>NaN</td>\n",
       "    </tr>\n",
       "  </tbody>\n",
       "</table>\n",
       "</div>"
      ],
      "text/plain": [
       "   Anastasia  Bernadette\n",
       "0       65.0         NaN\n",
       "1        NaN        72.0\n",
       "2        NaN        66.0\n",
       "3       74.0         NaN\n",
       "4       73.0         NaN"
      ]
     },
     "execution_count": 26,
     "metadata": {},
     "output_type": "execute_result"
    }
   ],
   "source": [
    "\n",
    "Harpo_wide = pd.DataFrame(\n",
    "                {'Anastasia': df.loc[df['tutor'] == 'Anastasia']['grade'],\n",
    "                 'Bernadette': df.loc[df['tutor'] == 'Bernadette']['grade']})\n",
    "\n",
    "Harpo_wide.head()\n"
   ]
  },
  {
   "cell_type": "markdown",
   "id": "5d490fe6",
   "metadata": {},
   "source": [
    "Now, you will have noticed right away that this new dataframe has a bunch of things that aren't numbers in it. In fact, \"NaN\" stands for \"Not a Number\". But after a moment's reflection, this makes perfect sense: the students were divided up between Anastasia and Bernadette, and so of course now that we have a row for each student, if a student has Anastasia as a tutor, they can't _also_ have Bernadette as a tutor. Luckily, `ttest()` is smart enough to see what is going on, and deal with it appropriately. So, now that we have all of our ducks in order, let's do the test:"
   ]
  },
  {
   "cell_type": "code",
   "execution_count": 27,
   "id": "short-wages",
   "metadata": {},
   "outputs": [
    {
     "data": {
      "text/html": [
       "<div>\n",
       "<style scoped>\n",
       "    .dataframe tbody tr th:only-of-type {\n",
       "        vertical-align: middle;\n",
       "    }\n",
       "\n",
       "    .dataframe tbody tr th {\n",
       "        vertical-align: top;\n",
       "    }\n",
       "\n",
       "    .dataframe thead th {\n",
       "        text-align: right;\n",
       "    }\n",
       "</style>\n",
       "<table border=\"1\" class=\"dataframe\">\n",
       "  <thead>\n",
       "    <tr style=\"text-align: right;\">\n",
       "      <th></th>\n",
       "      <th>T</th>\n",
       "      <th>dof</th>\n",
       "      <th>alternative</th>\n",
       "      <th>p-val</th>\n",
       "      <th>CI95%</th>\n",
       "      <th>cohen-d</th>\n",
       "      <th>BF10</th>\n",
       "      <th>power</th>\n",
       "    </tr>\n",
       "  </thead>\n",
       "  <tbody>\n",
       "    <tr>\n",
       "      <th>T-test</th>\n",
       "      <td>2.115432</td>\n",
       "      <td>31</td>\n",
       "      <td>two-sided</td>\n",
       "      <td>0.042529</td>\n",
       "      <td>[0.2, 10.76]</td>\n",
       "      <td>0.739561</td>\n",
       "      <td>1.755</td>\n",
       "      <td>0.53577</td>\n",
       "    </tr>\n",
       "  </tbody>\n",
       "</table>\n",
       "</div>"
      ],
      "text/plain": [
       "               T  dof alternative     p-val         CI95%   cohen-d   BF10  \\\n",
       "T-test  2.115432   31   two-sided  0.042529  [0.2, 10.76]  0.739561  1.755   \n",
       "\n",
       "          power  \n",
       "T-test  0.53577  "
      ]
     },
     "execution_count": 27,
     "metadata": {},
     "output_type": "execute_result"
    }
   ],
   "source": [
    "from pingouin import ttest\n",
    "\n",
    "ttest(Harpo_wide['Anastasia'], Harpo_wide['Bernadette'], correction = False)\n"
   ]
  },
  {
   "cell_type": "markdown",
   "id": "operational-packaging",
   "metadata": {},
   "source": [
    "You probably noticed that in addition to telling `ttest()` which means I wanted to compare, I also added the argument `correction = False` to the command. This wasn't strictly necessary in this case, because by default this argument is set to `True`. By saying `correction = False`, what we're really doing is telling Python to use the *Student* independent samples $t$-test, and not the *Welch* independent samples $t$-test. More on this later, when we get to [Welch](welchttest). For now, let's just get the descriptive statistics for Anastasia and Bernadette's students so we can report our results:"
   ]
  },
  {
   "cell_type": "code",
   "execution_count": 28,
   "id": "6f6a0f60",
   "metadata": {},
   "outputs": [
    {
     "data": {
      "text/html": [
       "<div>\n",
       "<style scoped>\n",
       "    .dataframe tbody tr th:only-of-type {\n",
       "        vertical-align: middle;\n",
       "    }\n",
       "\n",
       "    .dataframe tbody tr th {\n",
       "        vertical-align: top;\n",
       "    }\n",
       "\n",
       "    .dataframe thead th {\n",
       "        text-align: right;\n",
       "    }\n",
       "</style>\n",
       "<table border=\"1\" class=\"dataframe\">\n",
       "  <thead>\n",
       "    <tr style=\"text-align: right;\">\n",
       "      <th></th>\n",
       "      <th>Anastasia</th>\n",
       "      <th>Bernadette</th>\n",
       "    </tr>\n",
       "  </thead>\n",
       "  <tbody>\n",
       "    <tr>\n",
       "      <th>count</th>\n",
       "      <td>15.000000</td>\n",
       "      <td>18.000000</td>\n",
       "    </tr>\n",
       "    <tr>\n",
       "      <th>mean</th>\n",
       "      <td>74.533333</td>\n",
       "      <td>69.055556</td>\n",
       "    </tr>\n",
       "    <tr>\n",
       "      <th>std</th>\n",
       "      <td>8.998942</td>\n",
       "      <td>5.774918</td>\n",
       "    </tr>\n",
       "    <tr>\n",
       "      <th>min</th>\n",
       "      <td>55.000000</td>\n",
       "      <td>56.000000</td>\n",
       "    </tr>\n",
       "    <tr>\n",
       "      <th>25%</th>\n",
       "      <td>69.000000</td>\n",
       "      <td>66.250000</td>\n",
       "    </tr>\n",
       "    <tr>\n",
       "      <th>50%</th>\n",
       "      <td>76.000000</td>\n",
       "      <td>69.000000</td>\n",
       "    </tr>\n",
       "    <tr>\n",
       "      <th>75%</th>\n",
       "      <td>79.000000</td>\n",
       "      <td>73.000000</td>\n",
       "    </tr>\n",
       "    <tr>\n",
       "      <th>max</th>\n",
       "      <td>90.000000</td>\n",
       "      <td>79.000000</td>\n",
       "    </tr>\n",
       "  </tbody>\n",
       "</table>\n",
       "</div>"
      ],
      "text/plain": [
       "       Anastasia  Bernadette\n",
       "count  15.000000   18.000000\n",
       "mean   74.533333   69.055556\n",
       "std     8.998942    5.774918\n",
       "min    55.000000   56.000000\n",
       "25%    69.000000   66.250000\n",
       "50%    76.000000   69.000000\n",
       "75%    79.000000   73.000000\n",
       "max    90.000000   79.000000"
      ]
     },
     "execution_count": 28,
     "metadata": {},
     "output_type": "execute_result"
    }
   ],
   "source": [
    "\n",
    "Harpo_wide.describe()"
   ]
  },
  {
   "cell_type": "markdown",
   "id": "amino-overhead",
   "metadata": {},
   "source": [
    "The difference between the two groups is significant (just barely), so we might write up the result using text like this:\n",
    "\n",
    "> The mean grade in Anastasia's class was 74.5\\% (std dev = 9.0), whereas the mean in Bernadette's class was 69.1\\% (std dev = 5.8). A Student's independent samples $t$-test showed that this 5.4\\% difference was significant ($t(31) = 2.1$, $p<.05$), suggesting that a genuine difference in learning outcomes has occurred.\n"
   ]
  },
  {
   "cell_type": "markdown",
   "id": "unable-providence",
   "metadata": {},
   "source": [
    " \n",
    "### Positive and negative $t$ values\n",
    "\n",
    "Before moving on to talk about the assumptions of the $t$-test, there's one additional point I want to make about the use of $t$-tests in practice. The first one relates to the sign of the $t$-statistic (that is, whether it is a positive number or a negative one).  One very common worry that students have when they start running their first $t$-test is that they often end up with negative values for the $t$-statistic, and don't know how to interpret it. In fact, it's not at all uncommon for two  people working independently to end up with Python outputs that are almost identical, except that one person has a negative $t$ values and the other one has a positive $t$ value. Assuming that  you're running a two-sided test, then the $p$-values will be identical. On closer inspection, the students will notice that the confidence intervals also have the opposite signs. This is perfectly okay: whenever this happens, what you'll find is that the two versions of the Python output arise from slightly different ways of running the $t$-test. What's happening here is very simple. The $t$-statistic that Python is calculating here is always of the form \n",
    "\n",
    "$$\n",
    "t = \\frac{\\mbox{(mean 1)} -\\mbox{(mean 2)}}{ \\mbox{(SE)}}\n",
    "$$\n",
    "\n",
    "If \"mean 1\" is larger than \"mean 2\" the $t$ statistic will be positive, whereas if \"mean 2\" is larger then the $t$ statistic will be negative. Similarly, the confidence interval that R reports is the confidence interval for the difference \"(mean 1) minus (mean 2)\", which will be the reverse of what you'd get if you were calculating the confidence interval for the difference \"(mean 2) minus (mean 1)\".\n",
    "\n",
    "Okay, that's pretty straightforward when you think about it, but now consider our $t$-test comparing Anastasia's class to Bernadette's class. Which one should we call \"mean 1\" and which one should we call \"mean 2\". It's arbitrary. However, you really do need to designate one of them as \"mean 1\" and the other one as \"mean 2\". Not surprisingly, the way that Python handles this is also pretty arbitrary. In earlier versions of the book I used to try to explain it, but after a while I gave up, because it's not really all that important, and to be honest I can never remember myself. Whenever I get a significant $t$-test result, and I want to figure out which mean is the larger one, I don't try to figure it out by looking at the $t$-statistic. Why would I bother doing that? It's foolish. It's easier just look at the actual group means!\n",
    "\n",
    "\n",
    "Here's the important thing. Because it really doesn't matter what Python printed out, I usually try to *report* the $t$-statistic in such a way that the numbers match up with the text. Here's what I mean... suppose that what I want to write in my report is \"Anastasia's class had higher  grades than Bernadette's class\". The phrasing here implies that Anastasia's group comes first, so it makes sense to report the $t$-statistic as if Anastasia's class corresponded to group 1. If so, I would write \n",
    "\n",
    ">Anastasia's class had *higher* grades than Bernadette's class ($t(31)= 2.1, p=.04$). \n",
    "\n",
    "(I wouldn't actually emphasise the word \"higher\" in real life, I'm just doing it to emphasise the point that \"higher\" corresponds to positive $t$ values). On the other hand, suppose the phrasing I wanted to use has Bernadette's class listed first. If so, it makes more sense to treat her class as group 1, and if so, the write up looks like this:\n",
    "\n",
    "> Bernadette's class had *lower* grades than Anastasia's class ($t(31)= -2.1, p=.04$). \n",
    "\n",
    "Because I'm talking about one group having \"lower\" scores this time around, it is more sensible to use the negative form of the $t$-statistic. It just makes it read more cleanly.\n",
    "\n",
    "One last thing: please note that you *can't* do this for other types of test statistics. It works for $t$-tests, but it wouldn't be meaningful for  chi-square testsm $F$-tests or indeed for most of the tests I talk about in this book. So don't overgeneralise this advice! I'm really just talking about $t$-tests here and nothing else!"
   ]
  },
  {
   "cell_type": "markdown",
   "id": "younger-monitor",
   "metadata": {},
   "source": [
    "(studentassumptions)= \n",
    "### Assumptions of the test\n",
    "\n",
    "As always, our hypothesis test relies on some assumptions. So what are they? For the Student t-test there are three assumptions, some of which we saw previously in the context of the one sample $t$-test (see Section \\@ref(ttestoneassumptions)):\n",
    "\n",
    "\n",
    "- *Normality*. Like the one-sample $t$-test, it is assumed that the data are normally distributed. Specifically, we assume that both groups are normally distributed. In Section \\@ref(shapiro) we'll discuss how to test for normality, and in Section \\@ref(wilcox) we'll discuss possible solutions.\n",
    "- *Independence*. Once again, it is assumed that the observations are independently sampled. In the context of the Student test this has two aspects to it. Firstly, we assume that the observations within each sample are independent of one another (exactly the same as for the one-sample test). However, we also assume that there are no cross-sample dependencies. If, for instance, it turns out that you included some participants in both experimental conditions of your study (e.g., by accidentally allowing the same person to sign up to different conditions), then there are some cross sample dependencies that you'd need to take into account.\n",
    "- *Homogeneity of variance* (also called \"homoscedasticity\"). The third assumption is that the population standard deviation is the same in both groups. You can test this assumption using the Levene test, which I'll talk about later on in the book (Section \\@ref(levene)). However, there's a very simple remedy for this assumption, which I'll talk about in the next section."
   ]
  },
  {
   "cell_type": "markdown",
   "id": "demographic-roommate",
   "metadata": {},
   "source": [
    "\n",
    "## The independent samples $t$-test (Welch test)\n",
    "\n",
    "The biggest problem with using the Student test in practice is the third assumption listed in the previous section: it assumes that both groups have the same standard deviation. This is rarely true in real life: if two samples don't have the same means, why should we expect them to have the same standard deviation? There's really no reason to expect this assumption to be true. We'll talk a little bit about how you can check this assumption later on because it does crop up in a few different places, not just the $t$-test. But right now I'll talk about a different form of the $t$-test {cite}`Welch1947` that does not rely on this assumption. A graphical illustration of what the **_Welch $t$ test_** assumes about the data is shown in Figure {numref}`fig-ttesthyp2`, to provide a contrast with the Student test version in {numref}`fig-ttesthyp`. I'll admit it's a bit odd to talk about the cure before talking about the diagnosis, but as it happens the Welch test is often the default $t$-test, so this is probably the best place to discuss it. \n",
    "\n",
    "The Welch test is very similar to the Student test. For example, the $t$-statistic that we use in the Welch test is calculated in much the same way as it is for the Student test. That is, we take the difference between the sample means, and then divide it by some estimate of the standard error of that difference:\n",
    "\n",
    "$$\n",
    "t = \\frac{\\bar{X}_1 - \\bar{X}_2}{\\mbox{SE}({\\bar{X}_1 - \\bar{X}_2})}\n",
    "$$\n",
    "\n",
    "The main difference is that the standard error calculations are different. If the two populations have different standard deviations, then it's a complete nonsense to try to calculate a pooled standard deviation estimate, because you're averaging apples and oranges.[^note9] But you can still estimate the standard error of the difference between sample means; it just ends up looking different:\n",
    "\n",
    "$$\n",
    "\\mbox{SE}({\\bar{X}_1 - \\bar{X}_2}) = \\sqrt{ \\frac{{\\hat{\\sigma}_1}^2}{N_1} + \\frac{{\\hat{\\sigma}_2}^2}{N_2} }\n",
    "$$\n",
    "\n",
    "The reason why it's calculated this way is beyond the scope of this book. What matters for our purposes is that the $t$-statistic that comes out of the Welch test is actually somewhat different to the one that comes from the Student test. \n",
    "\n",
    "The second difference between Welch and Student is that the degrees of freedom are calculated in a very different way. In the Welch test, the \"degrees of freedom \" doesn't have to be a whole number any more, and it doesn't correspond all that closely to the \"number of data points minus the number of constraints\" heuristic that I've been using up to this point. The degrees of freedom are, in fact...\n",
    "\n",
    "$$\n",
    "\\mbox{df} = \\frac{ ({\\hat{\\sigma}_1}^2 / N_1 + {\\hat{\\sigma}_2}^2 / N_2)^2 }{  ({\\hat{\\sigma}_1}^2 / N_1)^2 / (N_1 -1 )  + ({\\hat{\\sigma}_2}^2 / N_2)^2 / (N_2 -1 ) } \n",
    "$$\n",
    "\n",
    "... which is all pretty straightforward and obvious, right? Well, perhaps not. It doesn't really matter for our purposes. What matters is that you'll see that the \"df\" value that pops out of a Welch test tends to be a little bit smaller than the one used for the Student test, and it doesn't have to be a whole number. "
   ]
  },
  {
   "cell_type": "code",
   "execution_count": 29,
   "id": "suspected-defendant",
   "metadata": {
    "tags": [
     "hide-input"
    ]
   },
   "outputs": [
    {
     "data": {
      "application/papermill.record/image/png": "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\n",
      "application/papermill.record/text/plain": "<Figure size 1080x360 with 2 Axes>"
     },
     "metadata": {
      "scrapbook": {
       "mime_prefix": "application/papermill.record/",
       "name": "ttesthyp2_fig"
      }
     },
     "output_type": "display_data"
    }
   ],
   "source": [
    "\n",
    "\n",
    "mu1 = 0\n",
    "sigma1 = 1\n",
    "mu2 = 2\n",
    "sigma2 = 1.45\n",
    "\n",
    "x1 = np.linspace(mu1 - 4*sigma, mu1 + 4*sigma1, 100)\n",
    "y1 = 100* stats.norm.pdf(x1, mu1, sigma1)\n",
    "x2 = np.linspace(mu2 - 4*sigma, mu2 + 4*sigma2, 100)\n",
    "y2 = 100* stats.norm.pdf(x2, mu2, sigma2)\n",
    "\n",
    "\n",
    "fig, (ax1, ax2) = plt.subplots(1, 2, figsize=(15, 5))\n",
    "\n",
    "\n",
    "sns.lineplot(x=x,y=y, color='black', ax = ax1)\n",
    "\n",
    "sns.lineplot(x=x,y=y, color='black', ax = ax2)\n",
    "sns.lineplot(x=x2,y=y2, color='black', ax = ax2)\n",
    "\n",
    "ax1.text(0, 47, 'null hypothesis', size=20, ha=\"center\")\n",
    "ax2.text(0, 47, 'alternative hypothesis', size=20, ha=\"center\")\n",
    "\n",
    "ax1.text(0, 41, r'$\\mu$', size=20, ha=\"center\")\n",
    "ax2.text(0, 41, r'$\\mu_1$', size=20, ha=\"center\")\n",
    "ax2.text(1.50, 30, r'$\\mu_2$', size=20, ha=\"left\")\n",
    "\n",
    "ax1.set_frame_on(False)\n",
    "ax2.set_frame_on(False)\n",
    "ax1.get_yaxis().set_visible(False)\n",
    "ax2.get_yaxis().set_visible(False)\n",
    "ax1.get_xaxis().set_visible(False)\n",
    "ax2.get_xaxis().set_visible(False)\n",
    "ax1.axhline(y=0, color='black')\n",
    "ax2.axhline(y=0, color='black')\n",
    "\n",
    "# show the figure in the book with caption\n",
    "plt.close()\n",
    "from myst_nb import glue\n",
    "glue(\"ttesthyp2_fig\", fig, display=False)\n"
   ]
  },
  {
   "cell_type": "markdown",
   "id": "streaming-logan",
   "metadata": {},
   "source": [
    " ```{glue:figure} ttesthyp2_fig\n",
    ":figwidth: 600px\n",
    ":name: fig-ttesthyp2\n",
    "\n",
    "Graphical illustration of the null and alternative hypotheses assumed by the Welch $t$-test. Like the Student test we assume that both samples are drawn from a normal population; but the alternative hypothesis no longer requires the two populations to have equal variance.\n",
    "```"
   ]
  },
  {
   "cell_type": "markdown",
   "id": "phantom-purchase",
   "metadata": {},
   "source": [
    "### Doing the test in Python\n",
    "\n",
    "To run a Welch test in Python is pretty easy. All you have to do is not bother telling Python to assume equal variances. That is, the command is exactly the same as for the Student test, but where `correction = True`. In fact, in this case, you could just leave the `correction` argument off entirely, because Anasatasia and Bernadette had different numbers of students, and in cases where the $t$-test is comparing two unequal-sized samples, `pingouin` assumes unequal variance and does a Welch test by default, which is why we had to force it to do a Student test above by setting `correction` to `False`."
   ]
  },
  {
   "cell_type": "code",
   "execution_count": 30,
   "id": "homeless-insight",
   "metadata": {},
   "outputs": [
    {
     "data": {
      "text/html": [
       "<div>\n",
       "<style scoped>\n",
       "    .dataframe tbody tr th:only-of-type {\n",
       "        vertical-align: middle;\n",
       "    }\n",
       "\n",
       "    .dataframe tbody tr th {\n",
       "        vertical-align: top;\n",
       "    }\n",
       "\n",
       "    .dataframe thead th {\n",
       "        text-align: right;\n",
       "    }\n",
       "</style>\n",
       "<table border=\"1\" class=\"dataframe\">\n",
       "  <thead>\n",
       "    <tr style=\"text-align: right;\">\n",
       "      <th></th>\n",
       "      <th>T</th>\n",
       "      <th>dof</th>\n",
       "      <th>alternative</th>\n",
       "      <th>p-val</th>\n",
       "      <th>CI95%</th>\n",
       "      <th>cohen-d</th>\n",
       "      <th>BF10</th>\n",
       "      <th>power</th>\n",
       "    </tr>\n",
       "  </thead>\n",
       "  <tbody>\n",
       "    <tr>\n",
       "      <th>T-test</th>\n",
       "      <td>2.034187</td>\n",
       "      <td>23.024806</td>\n",
       "      <td>two-sided</td>\n",
       "      <td>0.05361</td>\n",
       "      <td>[-0.09, 11.05]</td>\n",
       "      <td>0.739561</td>\n",
       "      <td>1.556</td>\n",
       "      <td>0.53577</td>\n",
       "    </tr>\n",
       "  </tbody>\n",
       "</table>\n",
       "</div>"
      ],
      "text/plain": [
       "               T        dof alternative    p-val           CI95%   cohen-d  \\\n",
       "T-test  2.034187  23.024806   two-sided  0.05361  [-0.09, 11.05]  0.739561   \n",
       "\n",
       "         BF10    power  \n",
       "T-test  1.556  0.53577  "
      ]
     },
     "execution_count": 30,
     "metadata": {},
     "output_type": "execute_result"
    }
   ],
   "source": [
    "from pingouin import ttest\n",
    "\n",
    "ttest(Harpo_wide['Anastasia'], Harpo_wide['Bernadette'], correction = True)"
   ]
  },
  {
   "cell_type": "markdown",
   "id": "precious-essex",
   "metadata": {},
   "source": [
    "Not too difficult, right? Not surprisingly, the output has exactly the same format as it did last time too: a test statistic $t$, and a $p$-value. So that's all pretty easy. \n",
    "\n",
    "Except, except... our result isn't significant anymore. When we ran the Student test, we did get a significant effect; but the Welch test on the same data set is not ($t(23.03) = 2.03$, $p = .054$). What does this mean? Should we panic? Is the sky burning? Probably not. The fact that one test is significant and the other isn't doesn't itself mean very much, especially since I kind of rigged the data so that this would happen. As a general rule, it's not a good idea to go out of your way to try to interpret or explain the difference between a $p$-value of .049 and a $p$-value of .051. If this sort of thing happens in real life, the *difference* in these $p$-values is almost certainly due to chance. What does matter is that you take a little bit of care in thinking about what test you use. The Student test and the Welch test have different strengths and weaknesses. If the two populations really do have equal variances, then the Student test is slightly more powerful (lower Type II error rate) than the Welch test. However, if they *don't* have the same variances, then the assumptions of the Student test are violated and you may not be able to trust it: you might end up with a higher Type I error rate. So it's a trade off. However, in real life, I tend to prefer the Welch test; because almost no-one *actually* believes that the population variances are identical.\n",
    "\n",
    "\n",
    "### Assumptions of the test\n",
    "\n",
    "The assumptions of the Welch test are very similar to those made by the [Student $t$-test](studentassumptions), except that the Welch test does not assume homogeneity of variance. This leaves only the assumption of normality, and the assumption of independence. The specifics of these assumptions are the same for the Welch test as for the Student test. "
   ]
  },
  {
   "cell_type": "markdown",
   "id": "liable-execution",
   "metadata": {},
   "source": [
    "(pairedsamplesttest)=\n",
    "## The paired-samples $t$-test\n",
    "\n",
    "Regardless of whether we're talking about the Student test or the Welch test, an independent samples $t$-test is intended to be used in a situation where you have two samples that are, well, independent of one another. This situation arises naturally when participants are assigned randomly to one of two experimental conditions, but it provides a very poor approximation to other sorts of research designs. In particular, a repeated measures design -- in which each participant is measured (with respect to the same outcome variable) in both experimental conditions -- is not suited for analysis using independent samples $t$-tests. For example, we might be interested in whether listening to music reduces people's working memory capacity. To that end, we could measure each person's working memory capacity in two conditions: with music, and without music. In an experimental design such as this one,[^note10] each participant appears in *both* groups. This requires us to approach the problem in a different way; by using the **_paired samples $t$-test_**. "
   ]
  },
  {
   "cell_type": "markdown",
   "id": "pharmaceutical-creator",
   "metadata": {},
   "source": [
    "### The data\n",
    "\n",
    "The data set that we'll use this time comes from Dr Chico's class.[^note11] In her class, students take two major tests, one early in the semester and one later in the semester. To hear her tell it, she runs a very hard class, one that most students find very challenging; but she argues that by setting hard assessments, students are encouraged to work harder. Her theory is that the first test is a bit of a \"wake up call\" for students: when they realise how hard her class really is, they'll work harder for the second test and get a better mark. Is she right? To test this, let's have a look at the `chico.csv` file: "
   ]
  },
  {
   "cell_type": "code",
   "execution_count": 31,
   "id": "correct-hospital",
   "metadata": {},
   "outputs": [],
   "source": [
    "import pandas as pd\n",
    "df = pd.read_csv(\"https://raw.githubusercontent.com/ethanweed/pythonbook/main/Data/chico.csv\")"
   ]
  },
  {
   "cell_type": "markdown",
   "id": "romantic-laptop",
   "metadata": {},
   "source": [
    "The data frame `chico` contains three variables: an `id` variable that identifies each student in the class, the `grade_test1` variable that records the student grade for the first test, and the `grade_test2` variable that has the grades for the second test. Here's the first five students:"
   ]
  },
  {
   "cell_type": "code",
   "execution_count": 32,
   "id": "bulgarian-botswana",
   "metadata": {},
   "outputs": [
    {
     "data": {
      "text/html": [
       "<div>\n",
       "<style scoped>\n",
       "    .dataframe tbody tr th:only-of-type {\n",
       "        vertical-align: middle;\n",
       "    }\n",
       "\n",
       "    .dataframe tbody tr th {\n",
       "        vertical-align: top;\n",
       "    }\n",
       "\n",
       "    .dataframe thead th {\n",
       "        text-align: right;\n",
       "    }\n",
       "</style>\n",
       "<table border=\"1\" class=\"dataframe\">\n",
       "  <thead>\n",
       "    <tr style=\"text-align: right;\">\n",
       "      <th></th>\n",
       "      <th>id</th>\n",
       "      <th>grade_test1</th>\n",
       "      <th>grade_test2</th>\n",
       "    </tr>\n",
       "  </thead>\n",
       "  <tbody>\n",
       "    <tr>\n",
       "      <th>0</th>\n",
       "      <td>student1</td>\n",
       "      <td>42.9</td>\n",
       "      <td>44.6</td>\n",
       "    </tr>\n",
       "    <tr>\n",
       "      <th>1</th>\n",
       "      <td>student2</td>\n",
       "      <td>51.8</td>\n",
       "      <td>54.0</td>\n",
       "    </tr>\n",
       "    <tr>\n",
       "      <th>2</th>\n",
       "      <td>student3</td>\n",
       "      <td>71.7</td>\n",
       "      <td>72.3</td>\n",
       "    </tr>\n",
       "    <tr>\n",
       "      <th>3</th>\n",
       "      <td>student4</td>\n",
       "      <td>51.6</td>\n",
       "      <td>53.4</td>\n",
       "    </tr>\n",
       "    <tr>\n",
       "      <th>4</th>\n",
       "      <td>student5</td>\n",
       "      <td>63.5</td>\n",
       "      <td>63.8</td>\n",
       "    </tr>\n",
       "  </tbody>\n",
       "</table>\n",
       "</div>"
      ],
      "text/plain": [
       "         id  grade_test1  grade_test2\n",
       "0  student1         42.9         44.6\n",
       "1  student2         51.8         54.0\n",
       "2  student3         71.7         72.3\n",
       "3  student4         51.6         53.4\n",
       "4  student5         63.5         63.8"
      ]
     },
     "execution_count": 32,
     "metadata": {},
     "output_type": "execute_result"
    }
   ],
   "source": [
    "df.head()"
   ]
  },
  {
   "cell_type": "markdown",
   "id": "neutral-maine",
   "metadata": {},
   "source": [
    "At a glance, it does seem like the class is a hard one (most grades are between 50\\% and 60\\%), but it does look like there's an improvement from the first test to the second one. If we take a quick look at the descriptive statistics"
   ]
  },
  {
   "cell_type": "code",
   "execution_count": 33,
   "id": "residential-criterion",
   "metadata": {},
   "outputs": [
    {
     "data": {
      "text/html": [
       "<div>\n",
       "<style scoped>\n",
       "    .dataframe tbody tr th:only-of-type {\n",
       "        vertical-align: middle;\n",
       "    }\n",
       "\n",
       "    .dataframe tbody tr th {\n",
       "        vertical-align: top;\n",
       "    }\n",
       "\n",
       "    .dataframe thead th {\n",
       "        text-align: right;\n",
       "    }\n",
       "</style>\n",
       "<table border=\"1\" class=\"dataframe\">\n",
       "  <thead>\n",
       "    <tr style=\"text-align: right;\">\n",
       "      <th></th>\n",
       "      <th>grade_test1</th>\n",
       "      <th>grade_test2</th>\n",
       "    </tr>\n",
       "  </thead>\n",
       "  <tbody>\n",
       "    <tr>\n",
       "      <th>count</th>\n",
       "      <td>20.000000</td>\n",
       "      <td>20.000000</td>\n",
       "    </tr>\n",
       "    <tr>\n",
       "      <th>mean</th>\n",
       "      <td>56.980000</td>\n",
       "      <td>58.385000</td>\n",
       "    </tr>\n",
       "    <tr>\n",
       "      <th>std</th>\n",
       "      <td>6.616137</td>\n",
       "      <td>6.405612</td>\n",
       "    </tr>\n",
       "    <tr>\n",
       "      <th>min</th>\n",
       "      <td>42.900000</td>\n",
       "      <td>44.600000</td>\n",
       "    </tr>\n",
       "    <tr>\n",
       "      <th>25%</th>\n",
       "      <td>51.750000</td>\n",
       "      <td>53.100000</td>\n",
       "    </tr>\n",
       "    <tr>\n",
       "      <th>50%</th>\n",
       "      <td>57.700000</td>\n",
       "      <td>59.700000</td>\n",
       "    </tr>\n",
       "    <tr>\n",
       "      <th>75%</th>\n",
       "      <td>62.050000</td>\n",
       "      <td>63.050000</td>\n",
       "    </tr>\n",
       "    <tr>\n",
       "      <th>max</th>\n",
       "      <td>71.700000</td>\n",
       "      <td>72.300000</td>\n",
       "    </tr>\n",
       "  </tbody>\n",
       "</table>\n",
       "</div>"
      ],
      "text/plain": [
       "       grade_test1  grade_test2\n",
       "count    20.000000    20.000000\n",
       "mean     56.980000    58.385000\n",
       "std       6.616137     6.405612\n",
       "min      42.900000    44.600000\n",
       "25%      51.750000    53.100000\n",
       "50%      57.700000    59.700000\n",
       "75%      62.050000    63.050000\n",
       "max      71.700000    72.300000"
      ]
     },
     "execution_count": 33,
     "metadata": {},
     "output_type": "execute_result"
    }
   ],
   "source": [
    "df.describe()"
   ]
  },
  {
   "cell_type": "markdown",
   "id": "placed-feeding",
   "metadata": {},
   "source": [
    "we see that this impression seems to be supported. Across all 20 students[^note12] the mean grade for the first test is 57\\%, but this rises to 58\\% for the second test. Although, given that the standard deviations are 6.6\\% and 6.4\\% respectively, it's starting to feel like maybe the improvement is just illusory; maybe just random variation. This impression is reinforced when you see the means and confidence intervals plotted in {numref}`pairedta` panel A. If we were to rely on this plot alone, we'd come to the same conclusion that we got from looking at the descriptive statistics that the `describe()` method produced. Looking at how wide those confidence intervals are, we'd be tempted to think that the apparent improvement in student performance is pure chance."
   ]
  },
  {
   "cell_type": "code",
   "execution_count": 34,
   "id": "casual-valve",
   "metadata": {
    "tags": [
     "hide-input"
    ]
   },
   "outputs": [
    {
     "name": "stderr",
     "output_type": "stream",
     "text": [
      "E:\\virtualenvs\\venv_dfa_ahm\\lib\\site-packages\\seaborn\\categorical.py:82: FutureWarning: iteritems is deprecated and will be removed in a future version. Use .items instead.\n",
      "  plot_data = [np.asarray(s, float) for k, s in iter_data]\n"
     ]
    },
    {
     "data": {
      "application/papermill.record/image/png": "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\n",
      "application/papermill.record/text/plain": "<Figure size 1080x360 with 3 Axes>"
     },
     "metadata": {
      "scrapbook": {
       "mime_prefix": "application/papermill.record/",
       "name": "pairedta_fig"
      }
     },
     "output_type": "display_data"
    }
   ],
   "source": [
    "fig, (ax1, ax2, ax3) = plt.subplots(1, 3, figsize=(15, 5))\n",
    "\n",
    "df = pd.read_csv(\"https://raw.githubusercontent.com/ethanweed/pythonbook/main/Data/chico.csv\")\n",
    "\n",
    "sns.pointplot(data=df, ax = ax1)\n",
    "sns.scatterplot(data = df, x='grade_test1', y='grade_test2', ax = ax2)\n",
    "\n",
    "ax2.plot(ax2.get_xlim(), ax2.get_ylim(), ls=\"--\", c=\".3\")\n",
    "\n",
    "#ax1.set_ylim(40,80)\n",
    "#ax1.set_xlim(40,80)\n",
    "#ax1.set_ylim(40,80)\n",
    "\n",
    "\n",
    "df2 = df\n",
    "df2['improvement'] = df2['grade_test2']-df2['grade_test1']\n",
    "\n",
    "sns.histplot(data = df2, x='improvement')\n",
    "\n",
    "ax1.title.set_text('A')\n",
    "ax2.title.set_text('B')\n",
    "ax3.title.set_text('C')\n",
    "\n",
    "sns.despine()\n",
    "\n",
    "# show the figure in the book with caption\n",
    "plt.close()\n",
    "from myst_nb import glue\n",
    "glue(\"pairedta_fig\", fig, display=False)"
   ]
  },
  {
   "cell_type": "markdown",
   "id": "legislative-accessory",
   "metadata": {},
   "source": [
    "```{glue:figure} pairedta_fig\n",
    ":figwidth: 600px\n",
    ":name: fig-pairedta\n",
    "\n",
    "Mean grade for test 1 and test 2, with associated 95% confidence intervals (panel a). Scat- terplot showing the individual grades for test 1 and test 2 (panel b). Histogram showing the improvement made by each student in Dr Chico’s class (panel c). In panel c, notice that almost the entire distribution is above zero: the vast majority of students did improve their performance from the first test to the second one\n",
    "\n",
    "```"
   ]
  },
  {
   "cell_type": "markdown",
   "id": "inner-pathology",
   "metadata": {},
   "source": [
    "Nevertheless, this impression is wrong. To see why, take a look at the scatterplot of the grades for test 1 against the grades for test 2.  shown in {numref}`fig-pairedta` panel B. \n",
    "\n",
    "\n",
    "\n",
    "In this plot, each dot corresponds to the two grades for a given student: if their grade for test 1 ($x$ co-ordinate) equals their grade for test 2 ($y$ co-ordinate), then the dot falls on the line. Points falling above the line are the students that performed better on the second test. Critically, almost all of the data points fall above the diagonal line: almost all of the students *do* seem to have improved their grade, if only by a small amount. This suggests that we should be looking at the *improvement* made by each student from one test to the next, and treating that as our raw data. To do this, we'll need to create a new variable for the `improvement` that each student makes, and add it to the data frame containing the `chico.csv` data. The easiest way to do this is as follows: "
   ]
  },
  {
   "cell_type": "code",
   "execution_count": 35,
   "id": "silver-occasions",
   "metadata": {},
   "outputs": [],
   "source": [
    "df['improvement'] = df['grade_test2']-df['grade_test1']"
   ]
  },
  {
   "cell_type": "markdown",
   "id": "orange-filter",
   "metadata": {},
   "source": [
    "Notice that I assigned the output to a variable called `df['improvement]`. That has the effect of creating a new column called `improvement` inside the `chico` data frame. Now that we've created and stored this `improvement` variable, we can draw a histogram showing the distribution of these improvement scores, shown in {numref}`fig-pairedta` panel C. \n",
    "\n",
    "\n",
    "When we look at histogram, it's very clear that there *is* a real improvement here. The vast majority of the students scored higher on the test 2 than on test 1, reflected in the fact that almost the entire histogram is above zero. In fact, if we use `scipy.stats.t.interval()` to compute a confidence interval for the population mean of this new variable, "
   ]
  },
  {
   "cell_type": "code",
   "execution_count": 36,
   "id": "accessible-words",
   "metadata": {},
   "outputs": [
    {
     "data": {
      "text/plain": [
       "(0.9508686092602991, 1.8591313907397005)"
      ]
     },
     "execution_count": 36,
     "metadata": {},
     "output_type": "execute_result"
    }
   ],
   "source": [
    "import numpy as np\n",
    "from scipy import stats\n",
    "\n",
    "data = df['improvement']\n",
    "\n",
    "stats.t.interval(confidence=0.95, df=len(data)-1, loc=np.mean(data), scale=stats.sem(data))\n"
   ]
  },
  {
   "cell_type": "markdown",
   "id": "interstate-bermuda",
   "metadata": {},
   "source": [
    "we see that it is 95\\% certain that the true (population-wide) average improvement would lie between 0.95\\% and 1.86\\%. So you can see, qualitatively, what's going on: there is a real \"within student\" improvement (everyone improves by about 1\\%), but it is very small when set against the quite large \"between student\" differences (student grades vary by about 20\\% or so). "
   ]
  },
  {
   "cell_type": "markdown",
   "id": "selective-jungle",
   "metadata": {},
   "source": [
    "### What is the paired samples $t$-test?\n",
    "\n",
    "In light of the previous exploration, let's think about how to construct an appropriate $t$ test. One possibility would be to try to run an independent samples $t$-test using `grade_test1` and `grade_test2` as the variables of interest. However, this is clearly the wrong thing to do: the independent samples $t$-test assumes that there is no particular relationship between the two samples. Yet clearly that's not true in this case, because of the repeated measures structure to the data. To use the language that I introduced in the last section, if we were to try to do an independent samples $t$-test, we would be conflating the **_within subject_** differences (which is what we're interested in testing) with the **_between subject_** variability (which we are not). \n",
    "\n",
    "The solution to the problem is obvious, I hope, since we already did all the hard work in the previous section. Instead of running an independent samples $t$-test on `grade_test1` and `grade_test2`, we run a *one-sample* $t$-test on the within-subject difference variable, `improvement`. To formalise this slightly, if $X_{i1}$ is the score that the $i$-th participant obtained on the first variable, and $X_{i2}$ is the score that the same person obtained on the second one, then the difference score is:\n",
    "\n",
    "$$\n",
    "D_{i} = X_{i1} - X_{i2} \n",
    "$$\n",
    "\n",
    "Notice that the difference scores is *variable 1 minus variable 2* and not the other way around, so if we want improvement to correspond to a positive valued difference, we actually want \"test 2\" to be our \"variable 1\". Equally, we would say that $\\mu_D = \\mu_1 - \\mu_2$ is the population mean for this difference variable. So, to convert this to a hypothesis test, our null hypothesis is that this mean difference is zero; the alternative hypothesis is that it is not:\n",
    "\n",
    "$$\n",
    "\\begin{array}{ll}\n",
    "H_0: & \\mu_D = 0  \\\\\n",
    "H_1: & \\mu_D \\neq 0\n",
    "\\end{array}\n",
    "$$\n",
    "\n",
    "(this is assuming we're talking about a two-sided test here). This is more or less identical to the way we described the hypotheses for the one-sample $t$-test: the only difference is that the specific value that the null hypothesis predicts is 0. And so our $t$-statistic is defined in more or less the same way too. If we let $\\bar{D}$ denote the mean of the difference scores, then \n",
    "\n",
    "$$\n",
    "t = \\frac{\\bar{D}}{\\mbox{SE}({\\bar{D}})}\n",
    "$$\n",
    "\n",
    "which is \n",
    "\n",
    "$$\n",
    "t = \\frac{\\bar{D}}{\\hat\\sigma_D / \\sqrt{N}}\n",
    "$$\n",
    "\n",
    "where $\\hat\\sigma_D$ is the standard deviation of the difference scores. Since this is just an ordinary, one-sample $t$-test, with nothing special about it, the degrees of freedom are still $N-1$. And that's it: the paired samples $t$-test really isn't a new test at all: it's a one-sample $t$-test, but applied to the difference between two variables. It's actually very simple; the only reason it merits a discussion as long as the one we've just gone through is that you need to be able to recognise *when* a paired samples test is appropriate, and to understand *why* it's better than an independent samples $t$ test. "
   ]
  },
  {
   "cell_type": "markdown",
   "id": "cross-married",
   "metadata": {},
   "source": [
    "### Doing the test in Python \n",
    "\n",
    "How do you do a paired samples $t$-test in Python? One possibility is to follow the process I outlined above: create a \"difference\" variable and then run a one sample $t$-test on that, setting the population mean argument `popmean` to zero. Since we've already created a variable called `improvement`, let's do that:"
   ]
  },
  {
   "cell_type": "code",
   "execution_count": 37,
   "id": "brazilian-raising",
   "metadata": {},
   "outputs": [
    {
     "data": {
      "text/html": [
       "<div>\n",
       "<style scoped>\n",
       "    .dataframe tbody tr th:only-of-type {\n",
       "        vertical-align: middle;\n",
       "    }\n",
       "\n",
       "    .dataframe tbody tr th {\n",
       "        vertical-align: top;\n",
       "    }\n",
       "\n",
       "    .dataframe thead th {\n",
       "        text-align: right;\n",
       "    }\n",
       "</style>\n",
       "<table border=\"1\" class=\"dataframe\">\n",
       "  <thead>\n",
       "    <tr style=\"text-align: right;\">\n",
       "      <th></th>\n",
       "      <th>T</th>\n",
       "      <th>dof</th>\n",
       "      <th>alternative</th>\n",
       "      <th>p-val</th>\n",
       "      <th>CI95%</th>\n",
       "      <th>cohen-d</th>\n",
       "      <th>BF10</th>\n",
       "      <th>power</th>\n",
       "    </tr>\n",
       "  </thead>\n",
       "  <tbody>\n",
       "    <tr>\n",
       "      <th>T-test</th>\n",
       "      <td>6.475436</td>\n",
       "      <td>19</td>\n",
       "      <td>two-sided</td>\n",
       "      <td>0.000003</td>\n",
       "      <td>[0.95, 1.86]</td>\n",
       "      <td>1.447952</td>\n",
       "      <td>5991.577</td>\n",
       "      <td>0.999984</td>\n",
       "    </tr>\n",
       "  </tbody>\n",
       "</table>\n",
       "</div>"
      ],
      "text/plain": [
       "               T  dof alternative     p-val         CI95%   cohen-d      BF10  \\\n",
       "T-test  6.475436   19   two-sided  0.000003  [0.95, 1.86]  1.447952  5991.577   \n",
       "\n",
       "           power  \n",
       "T-test  0.999984  "
      ]
     },
     "execution_count": 37,
     "metadata": {},
     "output_type": "execute_result"
    }
   ],
   "source": [
    "from pingouin import ttest\n",
    "\n",
    "ttest(df['improvement'], 0)"
   ]
  },
  {
   "cell_type": "markdown",
   "id": "literary-parish",
   "metadata": {},
   "source": [
    "However, suppose you're lazy and you don't want to go to all the effort of creating a new variable. Or perhaps you just want to keep the difference between one-sample and paired-samples tests clear in your head. In that case, you can do:"
   ]
  },
  {
   "cell_type": "code",
   "execution_count": 38,
   "id": "basic-cheat",
   "metadata": {},
   "outputs": [
    {
     "data": {
      "text/html": [
       "<div>\n",
       "<style scoped>\n",
       "    .dataframe tbody tr th:only-of-type {\n",
       "        vertical-align: middle;\n",
       "    }\n",
       "\n",
       "    .dataframe tbody tr th {\n",
       "        vertical-align: top;\n",
       "    }\n",
       "\n",
       "    .dataframe thead th {\n",
       "        text-align: right;\n",
       "    }\n",
       "</style>\n",
       "<table border=\"1\" class=\"dataframe\">\n",
       "  <thead>\n",
       "    <tr style=\"text-align: right;\">\n",
       "      <th></th>\n",
       "      <th>T</th>\n",
       "      <th>dof</th>\n",
       "      <th>alternative</th>\n",
       "      <th>p-val</th>\n",
       "      <th>CI95%</th>\n",
       "      <th>cohen-d</th>\n",
       "      <th>BF10</th>\n",
       "      <th>power</th>\n",
       "    </tr>\n",
       "  </thead>\n",
       "  <tbody>\n",
       "    <tr>\n",
       "      <th>T-test</th>\n",
       "      <td>6.475436</td>\n",
       "      <td>19</td>\n",
       "      <td>two-sided</td>\n",
       "      <td>0.000003</td>\n",
       "      <td>[0.95, 1.86]</td>\n",
       "      <td>0.215765</td>\n",
       "      <td>5991.577</td>\n",
       "      <td>0.150446</td>\n",
       "    </tr>\n",
       "  </tbody>\n",
       "</table>\n",
       "</div>"
      ],
      "text/plain": [
       "               T  dof alternative     p-val         CI95%   cohen-d      BF10  \\\n",
       "T-test  6.475436   19   two-sided  0.000003  [0.95, 1.86]  0.215765  5991.577   \n",
       "\n",
       "           power  \n",
       "T-test  0.150446  "
      ]
     },
     "execution_count": 38,
     "metadata": {},
     "output_type": "execute_result"
    }
   ],
   "source": [
    "from pingouin import ttest\n",
    "\n",
    "ttest(df['grade_test2'], df['grade_test1'], paired=True)\n"
   ]
  },
  {
   "cell_type": "markdown",
   "id": "decreased-circumstances",
   "metadata": {},
   "source": [
    "Either way, you'll get the same $t$-value, and the same $p$-value, which is strangely comforting, actually.  Not only that, but the result confirms our intuition. There’s an average improvement of 1.4% from test 1 to test 2, and this is significantly different from 0 ($t$(19) = 6.48, $p$ < .001). In fact, $p$ is quite a bit less than one, since the $p$-value has been given in scientific notation. The exact $p$-value is $3.32^{-06}$, that is, $p$ = 0.0000032."
   ]
  },
  {
   "cell_type": "markdown",
   "id": "alive-variance",
   "metadata": {},
   "source": [
    "## One sided tests\n",
    "\n",
    "When introducing the theory of null hypothesis tests, I mentioned that there are some situations [when it's appropriate to specify a *one-sided* test](one-two-sided). So far, all of the $t$-tests have been two-sided tests. For instance, when we specified a one sample $t$-test for the grades in Dr Zeppo's class, the null hypothesis was that the true mean was 67.5\\%. The alternative hypothesis was that the true mean was greater than *or* less than 67.5\\%. Suppose we were only interested in finding out if the true mean is greater than 67.5\\%, and have no interest whatsoever in testing to find out if the true mean is lower than 67.5\\%. If so, our null hypothesis would be that the true mean is 67.5\\% or less, and the alternative hypothesis would be that the true mean is greater than 67.5\\%. The `ttest()` function lets you do this, by specifying the `alternative` argument. If you set `alternative = 'greater'`, it means that you're testing to see if the true mean is larger than `mu`. If you set `alternative = 'less'`, then you're testing to see if the true mean is smaller than `mu`. To see how it would work for Dr Zeppo's class, let's compare the results of the two-sided test we did before with the results of a one-sided test, where the alternative hypothesis is set to \"greater\":"
   ]
  },
  {
   "cell_type": "code",
   "execution_count": 39,
   "id": "038d891c",
   "metadata": {},
   "outputs": [
    {
     "data": {
      "text/html": [
       "<div>\n",
       "<style scoped>\n",
       "    .dataframe tbody tr th:only-of-type {\n",
       "        vertical-align: middle;\n",
       "    }\n",
       "\n",
       "    .dataframe tbody tr th {\n",
       "        vertical-align: top;\n",
       "    }\n",
       "\n",
       "    .dataframe thead th {\n",
       "        text-align: right;\n",
       "    }\n",
       "</style>\n",
       "<table border=\"1\" class=\"dataframe\">\n",
       "  <thead>\n",
       "    <tr style=\"text-align: right;\">\n",
       "      <th></th>\n",
       "      <th>T</th>\n",
       "      <th>dof</th>\n",
       "      <th>alternative</th>\n",
       "      <th>p-val</th>\n",
       "      <th>CI95%</th>\n",
       "      <th>cohen-d</th>\n",
       "      <th>BF10</th>\n",
       "      <th>power</th>\n",
       "    </tr>\n",
       "  </thead>\n",
       "  <tbody>\n",
       "    <tr>\n",
       "      <th>T-test</th>\n",
       "      <td>2.254713</td>\n",
       "      <td>19</td>\n",
       "      <td>two-sided</td>\n",
       "      <td>0.036145</td>\n",
       "      <td>[67.84, 76.76]</td>\n",
       "      <td>0.504169</td>\n",
       "      <td>1.795</td>\n",
       "      <td>0.571446</td>\n",
       "    </tr>\n",
       "  </tbody>\n",
       "</table>\n",
       "</div>"
      ],
      "text/plain": [
       "               T  dof alternative     p-val           CI95%   cohen-d   BF10  \\\n",
       "T-test  2.254713   19   two-sided  0.036145  [67.84, 76.76]  0.504169  1.795   \n",
       "\n",
       "           power  \n",
       "T-test  0.571446  "
      ]
     },
     "execution_count": 39,
     "metadata": {},
     "output_type": "execute_result"
    }
   ],
   "source": [
    "from pingouin import ttest\n",
    "\n",
    "df = pd.read_csv(\"https://raw.githubusercontent.com/ethanweed/pythonbook/main/Data/zeppo.csv\")\n",
    "\n",
    "# two-sided test\n",
    "ttest(df['grades'], 67.5, alternative = 'two-sided')\n"
   ]
  },
  {
   "cell_type": "code",
   "execution_count": 40,
   "id": "e71ad881",
   "metadata": {},
   "outputs": [
    {
     "data": {
      "text/html": [
       "<div>\n",
       "<style scoped>\n",
       "    .dataframe tbody tr th:only-of-type {\n",
       "        vertical-align: middle;\n",
       "    }\n",
       "\n",
       "    .dataframe tbody tr th {\n",
       "        vertical-align: top;\n",
       "    }\n",
       "\n",
       "    .dataframe thead th {\n",
       "        text-align: right;\n",
       "    }\n",
       "</style>\n",
       "<table border=\"1\" class=\"dataframe\">\n",
       "  <thead>\n",
       "    <tr style=\"text-align: right;\">\n",
       "      <th></th>\n",
       "      <th>T</th>\n",
       "      <th>dof</th>\n",
       "      <th>alternative</th>\n",
       "      <th>p-val</th>\n",
       "      <th>CI95%</th>\n",
       "      <th>cohen-d</th>\n",
       "      <th>BF10</th>\n",
       "      <th>power</th>\n",
       "    </tr>\n",
       "  </thead>\n",
       "  <tbody>\n",
       "    <tr>\n",
       "      <th>T-test</th>\n",
       "      <td>2.254713</td>\n",
       "      <td>19</td>\n",
       "      <td>greater</td>\n",
       "      <td>0.018073</td>\n",
       "      <td>[68.62, inf]</td>\n",
       "      <td>0.504169</td>\n",
       "      <td>3.59</td>\n",
       "      <td>0.701407</td>\n",
       "    </tr>\n",
       "  </tbody>\n",
       "</table>\n",
       "</div>"
      ],
      "text/plain": [
       "               T  dof alternative     p-val         CI95%   cohen-d  BF10  \\\n",
       "T-test  2.254713   19     greater  0.018073  [68.62, inf]  0.504169  3.59   \n",
       "\n",
       "           power  \n",
       "T-test  0.701407  "
      ]
     },
     "execution_count": 40,
     "metadata": {},
     "output_type": "execute_result"
    }
   ],
   "source": [
    "# one-sided test\n",
    "ttest(df['grades'], 67.5, alternative = 'greater')"
   ]
  },
  {
   "cell_type": "markdown",
   "id": "aware-tomato",
   "metadata": {},
   "source": [
    "The $t$-statistics are exactly the same, which makes sense, if you think about it, because the calculation of the $t$ is based on the mean and standard deviation, and these do not change. The $p$-value, on the other hand, is lower for the one-sided test. The only thing that changes between the two tests is the _expectation_ that we bring to data. The way that the $p$-value is calculated depends on those expectations, and they are the reason for choosing one test over the other. It should go without saying, but maybe is worth saying anyway, that our reasons for choosing one test over the other should be theoretical, and not based on which test is more likely to give us the $p$-value we want!\n",
    "\n",
    "\n",
    "So that's how to do a one-sided one sample $t$-test. However, all versions of the $t$-test can be one-sided. For an independent samples $t$ test, you could have a one-sided test if you're only interestd in testing to see if group A has *higher* scores than group B, but have no interest in finding out if group B has higher scores than group A. Let's suppose that, for Dr Harpo's class, you wanted to see if Anastasia's students had higher grades than Bernadette's. The `ttest_ind` function lets you do this, again by specifying the `alternative` argument. However, this time around the order that we enter the variables in the test makes a difference. If we expect that Anastasia's students have higher grades, and we want to conduct a one-sided test, we need to the data for Anastasia's students _first_. Otherwise, we end up testing the hypothesis that _Bernadette's_ students had the higher grade, which is the opposite of what we intended:"
   ]
  },
  {
   "cell_type": "code",
   "execution_count": 41,
   "id": "stretch-disclosure",
   "metadata": {},
   "outputs": [
    {
     "name": "stdout",
     "output_type": "stream",
     "text": [
      "Two-sided: Ttest_indResult(statistic=array([2.11543239]), pvalue=array([0.04252949]))\n",
      "\n",
      "One-sided, Anastasia first: Ttest_indResult(statistic=array([2.11543239]), pvalue=array([0.02126474]))\n",
      "\n",
      "One-sided, Bernadette first: Ttest_indResult(statistic=array([-2.11543239]), pvalue=array([0.97873526]))\n"
     ]
    }
   ],
   "source": [
    "df = pd.read_csv(\"https://raw.githubusercontent.com/ethanweed/pythonbook/main/Data/harpo.csv\")\n",
    "\n",
    "# create two new variables for the grades from each tutor's students\n",
    "Anastasia = pd.DataFrame(df.loc[df['tutor'] == 'Anastasia']['grade'])\n",
    "Bernadette = pd.DataFrame(df.loc[df['tutor'] == 'Bernadette']['grade'])\n",
    "\n",
    "# run an independent samples t-test\n",
    "from scipy import stats\n",
    "\n",
    "print('Two-sided:', stats.ttest_ind(Anastasia, Bernadette, equal_var = True))\n",
    "print('')\n",
    "print('One-sided, Anastasia first:', stats.ttest_ind(Anastasia, Bernadette, equal_var = True, alternative = 'greater'))\n",
    "print('')\n",
    "print('One-sided, Bernadette first:', stats.ttest_ind(Bernadette, Anastasia, equal_var = True, alternative = 'greater'))"
   ]
  },
  {
   "cell_type": "markdown",
   "id": "timely-suite",
   "metadata": {},
   "source": [
    "What about the paired samples $t$-test? Suppose we wanted to test the hypothesis that grades go *up* from test 1 to test 2 in Dr. Chico's class, and are not prepared to consider the idea that the grades go down. Again, we can use the `alternative` argument to specify the one-sided test, and it works the same way it does for the independent samples $t$-test. Since we are comparing test 1 to test 2 by substracting one from the other, it makes a difference whether we subract test 1 from test 2, or test 2 from test 1. So, to test the hypothesis that grades for test 2 are higher than test 2, we will need to enter the grades from test 2 first; otherwise we are testing the opposite hypothesis: "
   ]
  },
  {
   "cell_type": "code",
   "execution_count": 42,
   "id": "understood-arabic",
   "metadata": {},
   "outputs": [
    {
     "name": "stdout",
     "output_type": "stream",
     "text": [
      "test 2 - test 1: TtestResult(statistic=6.475436088339379, pvalue=1.660335028063474e-06, df=19)\n",
      "\n",
      "test 1 - test 2: TtestResult(statistic=-6.475436088339379, pvalue=0.9999983396649719, df=19)\n"
     ]
    }
   ],
   "source": [
    "import pandas as pd\n",
    "from scipy.stats import ttest_rel\n",
    "\n",
    "df = pd.read_csv(\"https://raw.githubusercontent.com/ethanweed/pythonbook/main/Data/chico.csv\")\n",
    "\n",
    "print('test 2 - test 1:', ttest_rel(df['grade_test2'], df['grade_test1'], alternative = 'greater'))\n",
    "print('')\n",
    "print('test 1 - test 2:', ttest_rel(df['grade_test1'], df['grade_test2'], alternative = 'greater'))      "
   ]
  },
  {
   "cell_type": "markdown",
   "id": "driven-basketball",
   "metadata": {},
   "source": [
    "(cohensd)=\n",
    "## Effect size\n",
    "\n",
    "The most commonly used measure of effect size for a $t$-test is **_Cohen's $d$_** {cite}`Cohen1988`. It's a very simple measure in principle, with quite a few wrinkles when you start digging into the details. Cohen himself defined it primarily in the context of an independent samples $t$-test, specifically the Student test. In that context, a natural way of defining the effect size is to divide the difference between the means by an estimate of the standard deviation. In other words, we're looking to calculate *something* along the lines of this:\n",
    "\n",
    "$$\n",
    "d = \\frac{\\mbox{(mean 1)} - \\mbox{(mean 2)}}{\\mbox{std dev}}\n",
    "$$\n",
    "\n",
    "and he suggested a rough guide for interpreting $d$ in the table below. You'd think that this would be pretty unambiguous, but it's not; largely because Cohen wasn't too specific on what he thought should be used as the measure of the standard deviation (in his defence, he was trying to make a broader point in his book, not nitpick about tiny details). As discussed by {cite}`McGrath2006`, there are several different version in common usage, and each author tends to adopt slightly different notation. For the sake of simplicity (as opposed to accuracy) I'll use $d$ to refer to any statistic that you calculate from the sample, and  use $\\delta$ to refer to a theoretical population effect. Obviously, that does mean that there are several different things all called $d$.\n",
    "\n",
    "Although Cohen's $d$ is a very commonly-reported measure of effect size, there are not currently any modules that provide built-in tools to calculate it. At least, not any that I am aware of. Luckily, it isn't too hard to calculate \"by hand\"."
   ]
  },
  {
   "cell_type": "markdown",
   "id": "instructional-climb",
   "metadata": {},
   "source": [
    "(dinterpretation)=\n",
    "\n",
    "The table below gives a (very) rough guide to interpreting Cohen's $d$. My personal recommendation is to not use these blindly. The $d$ statistic has a natural interpretation in and of itself: it redescribes the different in means as the number of standard deviations that separates those means. So it's generally a good idea to think about what that means in practical terms. In some contexts a \\\"small\\\" effect could be of big practical importance. In other situations a \\\"large\\\" effect may not be all that interesting."
   ]
  },
  {
   "cell_type": "markdown",
   "id": "experimental-bailey",
   "metadata": {},
   "source": [
    "| d-value   | rough interpretation |\n",
    "| :-------- | :------------------- |\n",
    "| about 0.2 | \"small\" effect       |\n",
    "| about 0.5 | \"moderate\" effect    |\n",
    "| about 0.8 | \"large\" effect       |"
   ]
  },
  {
   "cell_type": "markdown",
   "id": "proof-xerox",
   "metadata": {},
   "source": [
    "### Cohen's $d$ from one sample\n",
    "\n",
    "The simplest situation to consider is the one corresponding to a one-sample $t$-test. In this case, the one sample mean $\\bar{X}$ and one (hypothesised) population mean $\\mu_o$ to compare it to. Not only that, there's really only one sensible way to estimate the population standard deviation: we just use our usual estimate $\\hat{\\sigma}$. Therefore, we end up with the following as the only way to calculate $d$, \n",
    "\n",
    "$$\n",
    "d = \\frac{\\bar{X} - \\mu_0}{\\hat{\\sigma}}\n",
    "$$"
   ]
  },
  {
   "cell_type": "code",
   "execution_count": 43,
   "id": "78e1558a",
   "metadata": {},
   "outputs": [
    {
     "name": "stdout",
     "output_type": "stream",
     "text": [
      "Cohen's d: 0.5041691240370938\n"
     ]
    }
   ],
   "source": [
    "import pandas as pd\n",
    "import statistics\n",
    "\n",
    "# load Zeppo data\n",
    "df = pd.read_csv(\"https://raw.githubusercontent.com/ethanweed/pythonbook/main/Data/zeppo.csv\")\n",
    "\n",
    "d = (df['grades'].mean() - 67.5) / df['grades'].std()\n",
    "print('Cohen\\'s d:', d)"
   ]
  },
  {
   "cell_type": "markdown",
   "id": "normal-import",
   "metadata": {},
   "source": [
    "What does this effect size mean? Overall, then, the psychology students in Dr Zeppo's class are achieving grades (mean = 72.3\\%) that are about .5 standard deviations higher than the level that you'd expect (67.5\\%) if they were performing at the same level as other students. Judged against Cohen's rough guide, this is a moderate effect size."
   ]
  },
  {
   "cell_type": "markdown",
   "id": "intense-lithuania",
   "metadata": {},
   "source": [
    "### Cohen's $d$ from a Student $t$ test\n",
    "\n",
    "The majority of discussions of Cohen's $d$ focus on a situation that is analogous to Student's independent samples $t$ test, and it's in this context that the story becomes messier, since there are several different versions of $d$ that you might want to use in this situation. To understand why there are multiple versions of $d$, it helps to take the time to write down a formula that corresponds to the true population effect size $\\delta$. It's pretty straightforward, \n",
    "\n",
    "$$\n",
    "\\delta = \\frac{\\mu_1 - \\mu_2}{\\sigma}\n",
    "$$\n",
    "\n",
    "where, as usual, $\\mu_1$ and $\\mu_2$ are the population means corresponding to group 1 and group 2 respectively, and $\\sigma$ is the standard deviation (the same for both populations). The obvious way to estimate $\\delta$ is to do exactly the same thing that we did in the $t$-test itself: use the sample means as the top line, and a pooled standard deviation estimate for the bottom line:\n",
    "\n",
    "$$\n",
    "d = \\frac{\\bar{X}_1 - \\bar{X}_2}{\\hat{\\sigma}_p}\n",
    "$$\n",
    "\n",
    "where $\\hat\\sigma_p$ is the exact same pooled standard deviation measure that appears in the $t$-test. This is the most commonly used version of Cohen's $d$ when applied to the outcome of a Student $t$-test ,and is sometimes referred to as Hedges' $g$ statistic {cite}`Hedges1981`."
   ]
  },
  {
   "cell_type": "markdown",
   "id": "greek-quantum",
   "metadata": {},
   "source": [
    "However, there are other possibilities, which I'll briefly describe. Firstly, you may have reason to want to use only one of the two groups as the basis for calculating the standard deviation. This approach (often called Glass' $\\Delta$) only makes most sense when you have good reason to treat one of the two groups as a purer reflection of \"natural variation\" than the other. This can happen if, for instance, one of the two groups is a control group. Secondly, recall that in the usual calculation of the pooled standard deviation we divide by $N-2$ to correct for the bias in the sample variance; in one version of Cohen's $d$ this correction is omitted. Instead, we divide by $N$. This version makes sense primarily when you're trying to calculate the effect size in the sample; rather than estimating an effect size in the population. Finally, there is a version based on {cite}`Hedges1985`, who point out there is a small bias in the usual (pooled) estimation for Cohen's $d$. Thus they introduce a small correction, by multiplying the usual value of $d$ by $(N-3)/(N-2.25)$. \n",
    "\n",
    "In any case, ignoring all those variations that you could make use of if you wanted, let's have a look at how to calculate the default version. In particular, suppose we look at the data from Dr Harpo's class."
   ]
  },
  {
   "cell_type": "code",
   "execution_count": 44,
   "id": "9ac2aff1",
   "metadata": {},
   "outputs": [
    {
     "name": "stdout",
     "output_type": "stream",
     "text": [
      "Cohen's d: 0.74\n"
     ]
    }
   ],
   "source": [
    "import pandas as pd\n",
    "from numpy import sqrt, mean, std\n",
    "\n",
    "df = pd.read_csv(\"https://raw.githubusercontent.com/ethanweed/pythonbook/main/Data/harpo.csv\")\n",
    "\n",
    "# create two new variables for the grades from each tutor's students\n",
    "tutor1 = pd.DataFrame(df.loc[df['tutor'] == 'Anastasia']['grade'])\n",
    "tutor2 = pd.DataFrame(df.loc[df['tutor'] == 'Bernadette']['grade'])\n",
    "\n",
    "# find number of student grades for each tutor\n",
    "n1 = len(tutor1)\n",
    "n2 = len(tutor2)\n",
    "\n",
    "# find mean student grade for each tutor\n",
    "u1 = tutor1['grade'].mean()\n",
    "u2 = tutor2['grade'].mean()\n",
    "\n",
    "# find variance in students' grades for each tutor\n",
    "v1 = tutor1['grade'].var()\n",
    "v2 = tutor2['grade'].var()\n",
    "\n",
    "\n",
    "# find pooled standard deviation (square root of weighted variation, \n",
    "# divided by total N, with a correction for bias of -2)\n",
    "\n",
    "sp = sqrt(((n1 - 1)*v1 + (n2-1)*v2) / (n1 + n2-2))\n",
    "\n",
    "# calculate Cohen's d\n",
    "d = (u1 - u2) / sp\n",
    "print('Cohen\\'s d:',  round(d, 2))"
   ]
  },
  {
   "cell_type": "markdown",
   "id": "a56b01d6",
   "metadata": {},
   "source": [
    "But still, it's nice to know that there is nothing mysterious going on here. ``pinguoin`` isn't using any witchcraft to calculate Cohen's d, but it does save us a lot of time."
   ]
  },
  {
   "cell_type": "markdown",
   "id": "breathing-version",
   "metadata": {},
   "source": [
    "### Cohen's $d$ from a Welch test\n",
    "\n",
    "Suppose the situation you're in is more like the Welch test: you still have two independent samples, but you no longer believe that the corresponding populations have equal variances. When this happens, we have to redefine what we mean by the population effect size. I'll refer to this new measure as $\\delta^\\prime$, so as to keep it distinct from the measure $\\delta$ which we defined previously. What {cite}`Cohen1988` suggests is that we could define our new population effect size by averaging the two population variances. What this means is that we get:\n",
    "\n",
    "$$\n",
    "\\delta^\\prime = \\frac{\\mu_1 - \\mu_2}{\\sigma^\\prime}\n",
    "$$\n",
    "\n",
    "where\n",
    "\n",
    "$$\n",
    "\\sigma^\\prime = \\sqrt{\\displaystyle{\\frac{ {\\sigma_1}^2 + {\\sigma_2}^2}{2}}}\n",
    "$$\n",
    "\n",
    "This seems quite reasonable, but notice that none of the measures that we've discussed so far are attempting to estimate this new quantity. It might just be my own ignorance of the topic, but I'm only aware of one version of Cohen's $d$ that actually estimates the unequal-variance effect size $\\delta^\\prime$ rather than the equal-variance effect size $\\delta$.\n",
    "All we do to calculate $d$ for this version is substitute the sample means $\\bar{X}_1$ and $\\bar{X}_2$ and the corrected sample standard deviations $\\hat{\\sigma}_1$ and $\\hat{\\sigma}_2$ into the equation for $\\delta^\\prime$. This gives us the following equation for $d$, \n",
    "\n",
    "$$\n",
    "d = \\frac{\\bar{X}_1 - \\bar{X}_2}{\\sqrt{\\displaystyle{\\frac{ {\\hat\\sigma_1}^2 + {\\hat\\sigma_2}^2}{2}}}}\n",
    "$$\n",
    "\n",
    "as our estimate of the effect size. "
   ]
  },
  {
   "cell_type": "code",
   "execution_count": 45,
   "id": "96980d01",
   "metadata": {},
   "outputs": [
    {
     "name": "stdout",
     "output_type": "stream",
     "text": [
      "Cohen's d: 0.72\n"
     ]
    }
   ],
   "source": [
    "# find mean student grade for each tutor\n",
    "u1 = tutor1['grade'].mean()\n",
    "u2 = tutor2['grade'].mean()\n",
    "\n",
    "# find variance in students' grades for each tutor\n",
    "v1 = tutor1['grade'].var()\n",
    "v2 = tutor2['grade'].var()\n",
    "\n",
    "\n",
    "# find the mean variance of the two samples\n",
    "s = sqrt((v1 + v2)/2)\n",
    "\n",
    "# calculate Cohen's d\n",
    "d = (u1 - u2) / s\n",
    "print('Cohen\\'s d:',  round(d, 2))"
   ]
  },
  {
   "cell_type": "markdown",
   "id": "entire-pressure",
   "metadata": {},
   "source": [
    "### Cohen's $d$ from a paired-samples test\n",
    "\n",
    "\n",
    "Finally, what should we do for a paired samples $t$-test? In this case, the answer depends on what it is you're trying to do. *If* you want to measure your effect sizes relative to the distribution of difference scores, the measure of $d$ that you calculate is just \n",
    "\n",
    "$$\n",
    "d = \\frac{\\bar{D}}{\\hat{\\sigma}_D}\n",
    "$$\n",
    "\n",
    "where $\\hat{\\sigma}_D$ is the estimate of the standard deviation of the differences. The calculation here is pretty straightforward"
   ]
  },
  {
   "cell_type": "code",
   "execution_count": 46,
   "id": "hispanic-level",
   "metadata": {},
   "outputs": [
    {
     "name": "stdout",
     "output_type": "stream",
     "text": [
      "Cohen's d: 1.49\n"
     ]
    }
   ],
   "source": [
    "from numpy import mean, std\n",
    "\n",
    "df = pd.read_csv(\"https://raw.githubusercontent.com/ethanweed/pythonbook/main/Data/chico.csv\")\n",
    "\n",
    "difference = df['grade_test2'] - df['grade_test1']\n",
    "\n",
    "mean_diff = mean(difference)\n",
    "sd_diff = std(difference)\n",
    "\n",
    "d = mean_diff/sd_diff\n",
    "print('Cohen\\'s d:',  round(d, 2))\n",
    "\n",
    "# translator's note: this version of Cohen's d is slightly different than one produced by the R function cohensD with \"method\" set to \"paired\".\n",
    "# the R function returns a value of 1.447952, and I have not yet figured out where this discrepancy comes from. Not a huge difference, but still.."
   ]
  },
  {
   "cell_type": "markdown",
   "id": "fewer-complex",
   "metadata": {},
   "source": [
    "The only wrinkle is figuring out whether this is the measure you want or not. To the extent that you care about the practical consequences of your research, you often want to measure the effect size relative to the *original* variables, not the *difference* scores (e.g., the 1\\% improvement in Dr Chico's class is pretty small when measured against the amount of between-student variation in grades), in which case you use the same versions of Cohen's $d$ that you would use for a Student or Welch test. For instance, when we do that for Dr Chico's class, "
   ]
  },
  {
   "cell_type": "code",
   "execution_count": 47,
   "id": "complex-antenna",
   "metadata": {},
   "outputs": [
    {
     "name": "stdout",
     "output_type": "stream",
     "text": [
      "Cohen's d: 0.22\n"
     ]
    }
   ],
   "source": [
    "# find mean student grade for each tutor\n",
    "u1 = df['grade_test1'].mean()\n",
    "u2 = df['grade_test2'].mean()\n",
    "\n",
    "# find variance in students' grades for each tutor\n",
    "v1 = df['grade_test1'].var()\n",
    "v2 = df['grade_test2'].var()\n",
    "\n",
    "\n",
    "# find the mean variance of the two samples\n",
    "s = sqrt((v1 + v2)/2)\n",
    "\n",
    "# calculate Cohen's d\n",
    "d = (u2 - u1) / s\n",
    "print('Cohen\\'s d:',  round(d, 2))"
   ]
  },
  {
   "cell_type": "markdown",
   "id": "dietary-illustration",
   "metadata": {},
   "source": [
    "what we see is that the overall effect size is quite small, when assessed on the scale of the original variables."
   ]
  },
  {
   "cell_type": "markdown",
   "id": "painted-blend",
   "metadata": {},
   "source": [
    "\n",
    "## Checking the normality of a sample\n",
    "\n",
    "All of the tests that we have discussed so far in this chapter have assumed that the data are normally distributed. This assumption is often quite reasonable, because the [central limit theorem](clt) does tend to ensure that many real world quantities are normally distributed: any time that you suspect that your variable is *actually* an average of lots of different things, there's a pretty good chance that it will be normally distributed; or at least close enough to normal that you can get away with using $t$-tests. However, life doesn't come with guarantees; and besides, there are lots of ways in which you can end up with variables that are highly non-normal. For example, any time you think that your variable is actually the minimum of lots of different things, there's a very good chance it will end up quite skewed. In psychology, response time (RT) data is a good example of this. If you suppose that there are lots of things that could trigger a response from a human participant, then the actual response will occur the first time one of these trigger events occurs.[^note13] This means that RT data are systematically non-normal.  Okay, so if normality is assumed by all the tests, and is mostly but not always satisfied (at least approximately) by real world data, how can we check the normality of a sample? In this section I discuss two methods: QQ plots, and the Shapiro-Wilk test."
   ]
  },
  {
   "cell_type": "markdown",
   "id": "light-speed",
   "metadata": {},
   "source": [
    "\n",
    "### QQ plots\n",
    "\n",
    "One way to check whether a sample violates the normality assumption is to draw a **_\"quantile-quantile\" plot_** (QQ plot). This allows you to visually check whether you're seeing any systematic violations. In a QQ plot, each observation is plotted as a single dot. The x co-ordinate is the theoretical quantile that the observation should fall in, if the data were normally distributed (with mean and variance estimated from the sample) and on the y co-ordinate is the actual quantile of the data within the sample. If the data are normal, the dots should form a straight line. For instance, lets see what happens if we generate data by sampling from a normal distribution, and then drawing a QQ plot, using `probplot` from `scipy`. We can compare this with a histogram of the data as well:"
   ]
  },
  {
   "cell_type": "code",
   "execution_count": 48,
   "id": "opposite-bachelor",
   "metadata": {
    "tags": [
     "hide-input"
    ]
   },
   "outputs": [
    {
     "data": {
      "application/papermill.record/text/plain": "<AxesSubplot:title={'center':'Histogram'}, ylabel='Count'>"
     },
     "metadata": {
      "scrapbook": {
       "mime_prefix": "application/papermill.record/",
       "name": "qq_fig"
      }
     },
     "output_type": "display_data"
    },
    {
     "data": {
      "image/png": "[encoded data removed]",
      "text/plain": [
       "<Figure size 1080x360 with 2 Axes>"
      ]
     },
     "metadata": {
      "needs_background": "light"
     },
     "output_type": "display_data"
    }
   ],
   "source": [
    "import numpy as np\n",
    "import seaborn as sns\n",
    "from matplotlib import pyplot as plt\n",
    "from scipy.stats import probplot\n",
    "\n",
    "np.random.seed(42)\n",
    "normal_data = np.random.normal(size=100)\n",
    "\n",
    "fig, axes = plt.subplots(1, 2, figsize=(15, 5))\n",
    "\n",
    "probplot(normal_data, dist=\"norm\", plot = axes[0]);\n",
    "sns.histplot(normal_data, axes=axes[1]);\n",
    "\n",
    "# format the figures\n",
    "titles = ['QQ plot', 'Histogram']\n",
    "for i, ax in enumerate(axes):\n",
    "    ax.spines['right'].set_visible(False)\n",
    "    ax.spines['top'].set_visible(False)\n",
    "    ax.set_title(titles[i])\n",
    "\n",
    "\n",
    "# show the figure in the book with caption\n",
    "\n",
    "from myst_nb import glue\n",
    "glue(\"qq_fig\", ax, display=False)\n"
   ]
  },
  {
   "cell_type": "markdown",
   "id": "helpful-positive",
   "metadata": {},
   "source": [
    " ```{glue:figure} qq_fig\n",
    ":figwidth: 600px\n",
    ":name: fig-qq\n",
    "\n",
    "QQ plot (left) and histogram (right) of `normal_data`, a normally distributed sample with 100 observations. The Shapiro-Wilk statistic associated with these data is $W = .99$, indicating that no significant departures from normality were detected ($p = .73$).\n",
    "```"
   ]
  },
  {
   "cell_type": "markdown",
   "id": "muslim-adoption",
   "metadata": {},
   "source": [
    "And the results are shown in {numref}`fig-qq`, above.\n",
    "\n",
    "As you can see, these data form a pretty straight line; which is no surprise given that we sampled them from a normal distribution! In contrast, have a look at the data shown in {numref}`fig-qqskew` and {numref}`fig-qqheavy`, which show the histogram and a QQ plot for a data sets that are highly skewed and have a heavy tail (i.e., high kurtosis), respectively."
   ]
  },
  {
   "cell_type": "code",
   "execution_count": 49,
   "id": "limited-renaissance",
   "metadata": {
    "tags": [
     "hide-input"
    ]
   },
   "outputs": [
    {
     "data": {
      "application/papermill.record/text/plain": "<AxesSubplot:title={'center':'Histogram'}, xlabel='data', ylabel='Count'>"
     },
     "metadata": {
      "scrapbook": {
       "mime_prefix": "application/papermill.record/",
       "name": "qqskew_fig"
      }
     },
     "output_type": "display_data"
    },
    {
     "data": {
      "image/png": "[encoded data removed]",
      "text/plain": [
       "<Figure size 1080x360 with 2 Axes>"
      ]
     },
     "metadata": {
      "needs_background": "light"
     },
     "output_type": "display_data"
    }
   ],
   "source": [
    "df = pd.read_csv(\"https://raw.githubusercontent.com/ethanweed/pythonbook/main/Data/skewed_data.csv\")\n",
    "\n",
    "fig, axes = plt.subplots(1, 2, figsize=(15, 5))\n",
    "\n",
    "probplot(df['data'], dist=\"norm\", plot = axes[0])\n",
    "sns.histplot(df['data'], axes=axes[1])\n",
    "\n",
    "# format the figures\n",
    "titles = ['QQ plot', 'Histogram']\n",
    "for i, ax in enumerate(axes):\n",
    "    ax.spines['right'].set_visible(False)\n",
    "    ax.spines['top'].set_visible(False)\n",
    "    ax.set_title(titles[i])\n",
    "\n",
    "glue(\"qqskew_fig\", ax, display=False)"
   ]
  },
  {
   "cell_type": "markdown",
   "id": "addressed-residence",
   "metadata": {},
   "source": [
    " ```{glue:figure} qqskew_fig\n",
    ":figwidth: 600px\n",
    ":name: fig-qqskew\n",
    "\n",
    "The skewness of these data of 100 observations is 1.94, and is reflected in a QQ plot that curves upwards. As a consequence, the Shapiro-Wilk statistic is $W=.80$, reflecting a significant departure from normality ($p<.001$). \n",
    "\n",
    "```"
   ]
  },
  {
   "cell_type": "code",
   "execution_count": 50,
   "id": "hundred-pharmaceutical",
   "metadata": {
    "tags": [
     "hide-input"
    ]
   },
   "outputs": [
    {
     "data": {
      "application/papermill.record/text/plain": "<AxesSubplot:title={'center':'Histogram'}, xlabel='data', ylabel='Count'>"
     },
     "metadata": {
      "scrapbook": {
       "mime_prefix": "application/papermill.record/",
       "name": "qqheavy_fig"
      }
     },
     "output_type": "display_data"
    },
    {
     "data": {
      "image/png": "[encoded data removed]",
      "text/plain": [
       "<Figure size 1080x360 with 2 Axes>"
      ]
     },
     "metadata": {
      "needs_background": "light"
     },
     "output_type": "display_data"
    }
   ],
   "source": [
    "df = pd.read_csv(\"https://raw.githubusercontent.com/ethanweed/pythonbook/main/Data/heavy_tailed_data.csv\")\n",
    "\n",
    "fig, axes = plt.subplots(1, 2, figsize=(15, 5))\n",
    "\n",
    "qq = probplot(df['data'], dist=\"norm\", plot = axes[0])\n",
    "hist = sns.histplot(df['data'], axes=axes[1])\n",
    "\n",
    "# format the figures\n",
    "titles = ['QQ plot', 'Histogram']\n",
    "for i, ax in enumerate(axes):\n",
    "    ax.spines['right'].set_visible(False)\n",
    "    ax.spines['top'].set_visible(False)\n",
    "    ax.set_title(titles[i])\n",
    "\n",
    "glue(\"qqheavy_fig\", ax, display=False)"
   ]
  },
  {
   "cell_type": "markdown",
   "id": "complete-bacon",
   "metadata": {},
   "source": [
    " ```{glue:figure} qqheavy_fig\n",
    ":figwidth: 600px\n",
    ":name: fig-qqheavy\n",
    "\n",
    "Plots for a heavy tailed data set, again consisting of 100 observations. In this case, the heavy tails in the data produce a high kurtosis (2.80), and cause the QQ plot to flatten in the middle, and curve away sharply on either side. The resulting Shapiro-Wilk statistic is $W = .93$, again reflecting significant non-normality ($p < .001$).\n",
    "\n",
    "```"
   ]
  },
  {
   "cell_type": "markdown",
   "id": "tribal-diary",
   "metadata": {},
   "source": [
    "\n",
    "\n",
    "### Shapiro-Wilk tests\n",
    "\n",
    "Although QQ plots provide a nice way to informally check the normality of your data, sometimes you'll want to do something a bit more formal. And when that moment comes, the **_Shapiro-Wilk test_** {cite}`Shapiro1965` is probably what you're looking for.[^note14] As you'd expect, the null hypothesis being tested is that a set of $N$ observations is normally distributed. The test statistic that it calculates is conventionally denoted as $W$, and it's calculated as follows. First, we sort the observations in order of increasing size, and let $X_1$ be the smallest value in the sample, $X_2$ be the second smallest and so on. Then the value of $W$ is given by\n",
    "\n",
    "$$\n",
    "W = \\frac{ \\left( \\sum_{i = 1}^N a_i X_i \\right)^2 }{ \\sum_{i = 1}^N (X_i - \\bar{X})^2}\n",
    "$$\n",
    "\n",
    "where $\\bar{X}$ is the mean of the observations, and the $a_i$ values are ... mumble, mumble ... something complicated that is a bit beyond the scope of an introductory text. \n",
    "\n",
    "Because it's a little hard to explain the maths behind the $W$ statistic, a better idea is to give a broad brush description of how it behaves. Unlike most of the test statistics that we'll encounter in this book, it's actually *small* values of $W$ that indicated departure from normality. The $W$ statistic has a maximum value of 1, which arises when the data look \"perfectly normal\". The smaller the value of $W$, the less normal the data are. However, the sampling distribution for $W$  -- which is not one of the standard ones that I discussed in chapter on [probability](probability) and is in fact a complete pain in the arse to work with -- does depend on the sample size $N$. To give you a feel for what these sampling distributions look like, I've plotted three of them in {numref}`fig-swdist`. Notice that, as the sample size starts to get large, the sampling distribution becomes very tightly clumped up near $W=1$, and as a consequence, for larger samples $W$ doesn't have to be very much smaller than 1 in order for the test to be significant. "
   ]
  },
  {
   "cell_type": "markdown",
   "id": "sought-highlight",
   "metadata": {},
   "source": [
    "```{figure} ../img/ttest2/shapirowilkdist.png\n",
    ":name: fig-swdist\n",
    ":width: 600px\n",
    ":align: center\n",
    "\n",
    "Sampling distribution of the Shapiro-Wilk $W$ statistic, under the null hypothesis that the data are normally distributed, for samples of size 10, 20 and 50. Note that *small* values of $W$ indicate departure from normality.\n",
    "\n",
    "```"
   ]
  },
  {
   "cell_type": "markdown",
   "id": "demonstrated-wholesale",
   "metadata": {},
   "source": [
    "To run the test in Python, we use the `scipy.stats.shapiro` method. It has only a single argument `x`, which is a numeric vector containing the data whose normality needs to be tested. For example, when we apply this function to  our `normal_data`, we get the following:"
   ]
  },
  {
   "cell_type": "code",
   "execution_count": 51,
   "id": "raised-suspect",
   "metadata": {},
   "outputs": [
    {
     "data": {
      "text/plain": [
       "ShapiroResult(statistic=0.9898831844329834, pvalue=0.6551515460014343)"
      ]
     },
     "execution_count": 51,
     "metadata": {},
     "output_type": "execute_result"
    }
   ],
   "source": [
    "from scipy.stats import shapiro\n",
    "\n",
    "shapiro(normal_data)"
   ]
  },
  {
   "cell_type": "markdown",
   "id": "liquid-departure",
   "metadata": {},
   "source": [
    "So, not surprisingly, we have no evidence that these data depart from normality. When reporting the results for a Shapiro-Wilk test, you should (as usual) make sure to include the test statistic $W$ and the $p$ value, though given that the sampling distribution depends so heavily on $N$ it would probably be a politeness to include $N$ as well."
   ]
  },
  {
   "cell_type": "markdown",
   "id": "direct-theorem",
   "metadata": {},
   "source": [
    "\n",
    "## Testing non-normal data with Wilcoxon tests\n",
    "\n",
    "Okay, suppose your data turn out to be pretty substantially non-normal, but you still want to run something like a $t$-test? This situation occurs a lot in real life: for the AFL winning margins data, for instance, the Shapiro-Wilk test made it very clear that the normality assumption is violated. This is the situation where you want to use Wilcoxon tests. \n",
    "\n",
    "Like the $t$-test, the Wilcoxon test comes in two forms, one-sample and two-sample, and they're used in more or less the exact same situations as the corresponding $t$-tests. Unlike the $t$-test, the Wilcoxon test doesn't assume normality, which is nice. In fact, they don't make any assumptions about what kind of distribution is involved: in statistical jargon, this makes them **_nonparametric tests_**. While avoiding the normality assumption is nice, there's a drawback: the Wilcoxon test is usually less powerful than the $t$-test (i.e., higher Type II error rate). I won't discuss the Wilcoxon tests in as much detail as the $t$-tests, but I'll give you a brief overview."
   ]
  },
  {
   "cell_type": "markdown",
   "id": "conservative-freeze",
   "metadata": {},
   "source": [
    "### Two sample Wilcoxon test\n",
    "\n",
    "I'll start by describing the **_two sample Wilcoxon test_** (also known as the Mann-Whitney test), since it's actually simpler than the one sample version. Suppose we're looking at the scores of 10 people on some test. Since my imagination has now failed me completely, let's pretend it's a \"test of awesomeness\", and there are two groups of people, \"A\" and \"B\". I'm curious to know which group is more awesome. The data are included in the file `awesome.Rdata`, and like many of the data sets I've been using, it contains only a single data frame, in this case called `awesome`. Here's the data:"
   ]
  },
  {
   "cell_type": "code",
   "execution_count": 52,
   "id": "broken-picking",
   "metadata": {},
   "outputs": [
    {
     "data": {
      "text/html": [
       "<div>\n",
       "<style scoped>\n",
       "    .dataframe tbody tr th:only-of-type {\n",
       "        vertical-align: middle;\n",
       "    }\n",
       "\n",
       "    .dataframe tbody tr th {\n",
       "        vertical-align: top;\n",
       "    }\n",
       "\n",
       "    .dataframe thead th {\n",
       "        text-align: right;\n",
       "    }\n",
       "</style>\n",
       "<table border=\"1\" class=\"dataframe\">\n",
       "  <thead>\n",
       "    <tr style=\"text-align: right;\">\n",
       "      <th></th>\n",
       "      <th>score_A</th>\n",
       "      <th>score_B</th>\n",
       "    </tr>\n",
       "  </thead>\n",
       "  <tbody>\n",
       "    <tr>\n",
       "      <th>0</th>\n",
       "      <td>6.4</td>\n",
       "      <td>14.5</td>\n",
       "    </tr>\n",
       "    <tr>\n",
       "      <th>1</th>\n",
       "      <td>10.7</td>\n",
       "      <td>10.4</td>\n",
       "    </tr>\n",
       "    <tr>\n",
       "      <th>2</th>\n",
       "      <td>11.9</td>\n",
       "      <td>12.9</td>\n",
       "    </tr>\n",
       "    <tr>\n",
       "      <th>3</th>\n",
       "      <td>7.3</td>\n",
       "      <td>11.7</td>\n",
       "    </tr>\n",
       "    <tr>\n",
       "      <th>4</th>\n",
       "      <td>10.0</td>\n",
       "      <td>13.0</td>\n",
       "    </tr>\n",
       "  </tbody>\n",
       "</table>\n",
       "</div>"
      ],
      "text/plain": [
       "   score_A  score_B\n",
       "0      6.4     14.5\n",
       "1     10.7     10.4\n",
       "2     11.9     12.9\n",
       "3      7.3     11.7\n",
       "4     10.0     13.0"
      ]
     },
     "execution_count": 52,
     "metadata": {},
     "output_type": "execute_result"
    }
   ],
   "source": [
    "df = pd.read_csv(\"https://raw.githubusercontent.com/ethanweed/pythonbook/main/Data/awesome2.csv\")\n",
    "df"
   ]
  },
  {
   "cell_type": "markdown",
   "id": "healthy-lancaster",
   "metadata": {},
   "source": [
    "As long as there are no ties (i.e., people with the exact same awesomeness score), then the test that we want to do is surprisingly simple. All we have to do is construct a table that compares every observation in group $A$ against every observation in group $B$. Whenever the group $A$ datum is larger, we place a check mark in the table:"
   ]
  },
  {
   "cell_type": "markdown",
   "id": "likely-jaguar",
   "metadata": {},
   "source": [
    "\n",
    "|         |      |      | group B |      |      |    |\n",
    "|---------|------|------|---------|------|------|----|\n",
    "|         |      | 14.5 | 10.4    | 12.4 | 11.7 | 13 |\n",
    "|         | 6.4  | .    | .       | .    | .    | .  |\n",
    "| group A | 10.7 | .    | ✓       | .    | .    | .  |\n",
    "|         | 11.9 | .    | ✓       | .    | ✓    | .  |\n",
    "|         | 7.3  | .    | .       | .    | .    | .  |\n",
    "|         | 10   | .    | .       | .    | .    | .  |"
   ]
  },
  {
   "cell_type": "markdown",
   "id": "perceived-cross",
   "metadata": {},
   "source": [
    "We then count up the number of checkmarks. This is our test statistic, $W$.[^note15] The actual sampling distribution for $W$ is somewhat complicated, and I'll skip the details. For our purposes, it's sufficient to note that the interpretation of $W$ is qualitatively the same as the interpretation of $t$ or $z$. That is, if we want a two-sided test, then we reject the null hypothesis when $W$ is very large or very small; but if we have a directional (i.e., one-sided) hypothesis, then we only use one or the other. "
   ]
  },
  {
   "cell_type": "code",
   "execution_count": 53,
   "id": "romantic-algebra",
   "metadata": {},
   "outputs": [
    {
     "data": {
      "text/plain": [
       "(1.0, 0.125)"
      ]
     },
     "execution_count": 53,
     "metadata": {},
     "output_type": "execute_result"
    }
   ],
   "source": [
    "from scipy.stats import wilcoxon\n",
    " \n",
    "w,p = wilcoxon(df['score_A'], df['score_B'] )\n",
    "w,p"
   ]
  },
  {
   "cell_type": "markdown",
   "id": "soviet-alloy",
   "metadata": {},
   "source": [
    "### One sample Wilcoxon test\n",
    "\n",
    "\n",
    "What about the **_one sample Wilcoxon test_** (or equivalently, the paired samples Wilcoxon test)? Suppose I'm interested in finding out whether taking a statistics class has any effect on the happiness of students. Here's my data:"
   ]
  },
  {
   "cell_type": "code",
   "execution_count": 54,
   "id": "closing-conspiracy",
   "metadata": {},
   "outputs": [
    {
     "data": {
      "text/html": [
       "<div>\n",
       "<style scoped>\n",
       "    .dataframe tbody tr th:only-of-type {\n",
       "        vertical-align: middle;\n",
       "    }\n",
       "\n",
       "    .dataframe tbody tr th {\n",
       "        vertical-align: top;\n",
       "    }\n",
       "\n",
       "    .dataframe thead th {\n",
       "        text-align: right;\n",
       "    }\n",
       "</style>\n",
       "<table border=\"1\" class=\"dataframe\">\n",
       "  <thead>\n",
       "    <tr style=\"text-align: right;\">\n",
       "      <th></th>\n",
       "      <th>before</th>\n",
       "      <th>after</th>\n",
       "      <th>change</th>\n",
       "    </tr>\n",
       "  </thead>\n",
       "  <tbody>\n",
       "    <tr>\n",
       "      <th>0</th>\n",
       "      <td>30</td>\n",
       "      <td>6</td>\n",
       "      <td>-24</td>\n",
       "    </tr>\n",
       "    <tr>\n",
       "      <th>1</th>\n",
       "      <td>43</td>\n",
       "      <td>29</td>\n",
       "      <td>-14</td>\n",
       "    </tr>\n",
       "    <tr>\n",
       "      <th>2</th>\n",
       "      <td>21</td>\n",
       "      <td>11</td>\n",
       "      <td>-10</td>\n",
       "    </tr>\n",
       "    <tr>\n",
       "      <th>3</th>\n",
       "      <td>24</td>\n",
       "      <td>31</td>\n",
       "      <td>7</td>\n",
       "    </tr>\n",
       "    <tr>\n",
       "      <th>4</th>\n",
       "      <td>23</td>\n",
       "      <td>17</td>\n",
       "      <td>-6</td>\n",
       "    </tr>\n",
       "    <tr>\n",
       "      <th>5</th>\n",
       "      <td>40</td>\n",
       "      <td>2</td>\n",
       "      <td>-38</td>\n",
       "    </tr>\n",
       "    <tr>\n",
       "      <th>6</th>\n",
       "      <td>29</td>\n",
       "      <td>31</td>\n",
       "      <td>2</td>\n",
       "    </tr>\n",
       "    <tr>\n",
       "      <th>7</th>\n",
       "      <td>56</td>\n",
       "      <td>21</td>\n",
       "      <td>-35</td>\n",
       "    </tr>\n",
       "    <tr>\n",
       "      <th>8</th>\n",
       "      <td>38</td>\n",
       "      <td>8</td>\n",
       "      <td>-30</td>\n",
       "    </tr>\n",
       "    <tr>\n",
       "      <th>9</th>\n",
       "      <td>16</td>\n",
       "      <td>21</td>\n",
       "      <td>5</td>\n",
       "    </tr>\n",
       "  </tbody>\n",
       "</table>\n",
       "</div>"
      ],
      "text/plain": [
       "   before  after  change\n",
       "0      30      6     -24\n",
       "1      43     29     -14\n",
       "2      21     11     -10\n",
       "3      24     31       7\n",
       "4      23     17      -6\n",
       "5      40      2     -38\n",
       "6      29     31       2\n",
       "7      56     21     -35\n",
       "8      38      8     -30\n",
       "9      16     21       5"
      ]
     },
     "execution_count": 54,
     "metadata": {},
     "output_type": "execute_result"
    }
   ],
   "source": [
    "df = pd.read_csv(\"https://raw.githubusercontent.com/ethanweed/pythonbook/main/Data/happiness.csv\")\n",
    "df"
   ]
  },
  {
   "cell_type": "markdown",
   "id": "interpreted-remove",
   "metadata": {},
   "source": [
    "What I've measured here is the happiness of each student `before` taking the class and `after` taking the class; the `change` score is the difference between the two. Just like we saw with the $t$-test, there's no fundamental difference between doing a paired-samples test using `before` and `after`, versus doing a one-sample test using the `change` scores. As before, the simplest way to think about the test is to construct a tabulation. The way to do it this time is to take those change scores that are positive valued, and tabulate them against all the complete sample. What you end up with is a table that looks like this:"
   ]
  },
  {
   "cell_type": "markdown",
   "id": "athletic-obligation",
   "metadata": {},
   "source": [
    "|                      | all differences  |     |     |     |   |  |     |   |     |     |   |\n",
    "|----------------------|---|-----|-----|-----|---|-----------------|-----|---|-----|-----|---|\n",
    "|                      |   | -24 | -14 | -10 | 7 | -6              | -38 | 2 | -35 | -30 | 5 |\n",
    "| positive differences | 7 | .   | .   | .   | ✓ | ✓               | .   | ✓ | .   |     | ✓ |\n",
    "|                      | 2 | .   | .   | .   | . | .               | .   | ✓ | .   | .   |   |\n",
    "|                      | 5 | .   | .   | .   | . | .               | .   | ✓ | .   | .   | ✓ |"
   ]
  },
  {
   "cell_type": "markdown",
   "id": "loaded-foundation",
   "metadata": {},
   "source": [
    "Counting up the tick marks this time, we get a test statistic of $V = 7$. As before, if our test is two sided, then we reject the null hypothesis when $V$ is very large or very small. As far of running it with Python goes, it's pretty much what you'd expect. For the one-sample version, the command you would use is"
   ]
  },
  {
   "cell_type": "code",
   "execution_count": 55,
   "id": "streaming-tuition",
   "metadata": {},
   "outputs": [
    {
     "data": {
      "text/plain": [
       "(7.0, 0.037109375)"
      ]
     },
     "execution_count": 55,
     "metadata": {},
     "output_type": "execute_result"
    }
   ],
   "source": [
    "w,p = wilcoxon(df['change'])\n",
    "w,p"
   ]
  },
  {
   "cell_type": "markdown",
   "id": "indoor-governor",
   "metadata": {},
   "source": [
    "As this shows, we have a significant effect. Evidently, taking a statistics class does have an effect on your happiness.\n",
    "\n",
    "## Summary\n",
    "\n",
    "- A [one sample $t$-test](ttest_onesample) is used to compare a single sample mean against a hypothesised value for the population mean.\n",
    "- An independent samples $t$-test is used to compare the means of two groups, and tests the null hypothesis that they have the same mean. It comes in two forms: the [Student test](studentttest) assumes that the groups have the same standard deviation, the [Welch test](welchttest) does not.\n",
    "- A [paired samples $t$-test](pairedsamplesttest) is used when you have two scores from each person, and you want to test the null hypothesis that the two scores have the same mean. It is equivalent to taking the difference between the two scores for each person, and then running a one sample $t$-test on the difference scores.\n",
    "- [Effect size calculations](cohensd) for the difference between means can be calculated via the Cohen's $d$ statistic..\n",
    "- You can check the normality of a sample using [QQ plots](qq) and the [Shapiro-Wilk test](shapiro-wilk).\n",
    "- If your data are non-normal, you can use [Wilcoxon tests](wilcox) instead of $t$-tests."
   ]
  },
  {
   "cell_type": "markdown",
   "id": "former-token",
   "metadata": {},
   "source": [
    "[^note1]: We won't cover multiple predictors until the chapter on [regression](regression).\n",
    "\n",
    "[^note2]: Informal experimentation in my garden suggests that yes, it does. Australian natives are adapted to low phosphorus levels relative to everywhere else on Earth, apparently, so if you've bought a house with a bunch of exotics and you want to plant natives, don't follow my example: keep them separate. Nutrients to European plants are poison to Australian ones. There's probably a joke in that, but I can't figure out what it is.\n",
    "\n",
    "[^note3]: Actually this is too strong. Strictly speaking the $z$ test only requires that the sampling distribution of the mean be normally distributed; if the population is normal then it necessarily follows that the sampling distribution of the mean is also normal. However, as we saw when talking about the central limit theorem, it's quite possible (even commonplace) for the sampling distribution to be normal even if the population distribution itself is non-normal. However, in light of the sheer ridiculousness of the assumption that the true standard deviation is known, there really isn't much point in going into details on this front!\n",
    "\n",
    "[^note4]: Well, sort of. As I understand the history, Gosset only provided a partial solution: the general solution to the problem was provided by Sir Ronald Fisher.\n",
    "\n",
    "[^note5]: More seriously, I tend to think the reverse is true: I get very suspicious of technical reports that fill their results sections with nothing except the numbers. It might just be that I'm an arrogant jerk, but I often feel like an author that makes no attempt to explain and interpret their analysis to the reader either doesn't understand it themselves, or is being a bit lazy. Your readers are smart, but not infinitely patient. Don't annoy them if you can help it.\n",
    "\n",
    "[^note6]: Although it is the simplest, which is why I started with it.\n",
    "\n",
    "[^note7]: A funny question almost always pops up at this point: what the heck *is* the population being referred to in this case? Is it the set of students actually taking Dr Harpo's class (all 33 of them)? The set of people who might take the class (an unknown number) of them? Or something else? Does it matter which of these we pick? It's traditional in an introductory behavioural stats class to mumble a lot at this point, but since I get asked this question every year by my students, I'll give a brief answer. Technically yes, it does matter: if you change your definition of what the \"real world\" population actually is, then the sampling distribution of your observed mean $\\bar{X}$ changes too. The $t$-test relies on an assumption that the observations are sampled at random from an infinitely large population; and to the extent that real life isn't like that, then the $t$-test can be wrong. In practice, however, this isn't usually a big deal: even though the assumption is almost always wrong, it doesn't lead to a lot of pathological behaviour from the test, so we tend to just ignore it.\n",
    "\n",
    "[^note8]: Yes, I  have a \"favourite\" way of thinking about pooled standard deviation estimates. So what?\n",
    "\n",
    "[^note9]: Well, I guess you can average apples and oranges, and what you end up with is a delicious fruit smoothie. But no one really thinks that a fruit smoothie is a very good way to describe the original fruits, do they?\n",
    "\n",
    "[^note10]: This design is very similar to the one in [](chisquare) that motivated the McNemar test. This should be no surprise. Both are standard repeated measures designs involving two measurements. The only difference is that this time our outcome variable is interval scale (working memory capacity) rather than a binary, nominal scale variable (a yes-or-no question).\n",
    "\n",
    "[^note11]: At this point we have Drs Harpo, Chico and Zeppo. No prizes for guessing who Dr Groucho is.\n",
    "\n",
    "[^note12]: This is obviously a class being taught at a very small or very expensive university, or else is a postgraduate class. *I've* never taught an intro stats class with less than 350 students.\n",
    "\n",
    "[^note13]: This is a massive oversimplification.\n",
    "\n",
    "[^note14]: Either that, or the Kolmogorov-Smirnov test, which is probably more traditional than the Shapiro-Wilk, though most things I've read seem to suggest Shapiro-Wilk is the better test of normality, although Kolomogorov-Smirnov is a general purpose test of distributional equivalence, so it can be adapted to handle other kinds of distribution tests.\n",
    "\n",
    "[^note15]: Actually, there are two different versions of the test statistic; they differ from each other by a constant value. I'll just describe one of them here."
   ]
  }
 ],
 "metadata": {
  "celltoolbar": "Tags",
  "kernelspec": {
   "display_name": "Python 3",
   "language": "python",
   "name": "python3"
  },
  "language_info": {
   "codemirror_mode": {
    "name": "ipython",
    "version": 3
   },
   "file_extension": ".py",
   "mimetype": "text/x-python",
   "name": "python",
   "nbconvert_exporter": "python",
   "pygments_lexer": "ipython3",
   "version": "3.8.6"
  }
 },
 "nbformat": 4,
 "nbformat_minor": 5
}
